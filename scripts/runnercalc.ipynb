{
 "cells": [
  {
   "attachments": {},
   "cell_type": "markdown",
   "metadata": {},
   "source": [
    "# Putting it all together\n",
    "\n",
    "Having completed both the symmetry functions and the forward pass, we can use the modules and see how it fits together."
   ]
  },
  {
   "cell_type": "code",
   "execution_count": 3,
   "metadata": {},
   "outputs": [
    {
     "name": "stderr",
     "output_type": "stream",
     "text": [
      "\u001b[91m\u001b[1mERROR: \u001b[22m\u001b[39mLoadError: "
     ]
    },
    {
     "name": "stderr",
     "output_type": "stream",
     "text": [
      "syntax: ccall function name and library expression cannot reference local variables\n",
      "Stacktrace:\n",
      " [1] top-level scope\n",
      "\u001b[90m   @ \u001b[39m\u001b[90m~/.julia/dev/MachineLearningPotential/src/\u001b[39m\u001b[90m\u001b[4mForwardPass.jl:24\u001b[24m\u001b[39m\n",
      " [2] \u001b[0m\u001b[1minclude\u001b[22m\u001b[0m\u001b[1m(\u001b[22m\u001b[90mmod\u001b[39m::\u001b[0mModule, \u001b[90m_path\u001b[39m::\u001b[0mString\u001b[0m\u001b[1m)\u001b[22m\n",
      "\u001b[90m   @ \u001b[39m\u001b[90mBase\u001b[39m \u001b[90m./\u001b[39m\u001b[90m\u001b[4mBase.jl:419\u001b[24m\u001b[39m\n",
      " [3] \u001b[0m\u001b[1minclude\u001b[22m\u001b[0m\u001b[1m(\u001b[22m\u001b[90mx\u001b[39m::\u001b[0mString\u001b[0m\u001b[1m)\u001b[22m\n",
      "\u001b[90m   @ \u001b[39m\u001b[35mMachineLearningPotential\u001b[39m \u001b[90m~/.julia/dev/MachineLearningPotential/src/\u001b[39m\u001b[90m\u001b[4mMachineLearningPotential.jl:1\u001b[24m\u001b[39m\n",
      " [4] top-level scope\n",
      "\u001b[90m   @ \u001b[39m\u001b[90m~/.julia/dev/MachineLearningPotential/src/\u001b[39m\u001b[90m\u001b[4mMachineLearningPotential.jl:8\u001b[24m\u001b[39m\n",
      " [5] \u001b[0m\u001b[1minclude\u001b[22m\n",
      "\u001b[90m   @ \u001b[39m\u001b[90m./\u001b[39m\u001b[90m\u001b[4mBase.jl:419\u001b[24m\u001b[39m\u001b[90m [inlined]\u001b[39m\n",
      " [6] \u001b[0m\u001b[1minclude_package_for_output\u001b[22m\u001b[0m\u001b[1m(\u001b[22m\u001b[90mpkg\u001b[39m::\u001b[0mBase.PkgId, \u001b[90minput\u001b[39m::\u001b[0mString, \u001b[90mdepot_path\u001b[39m::\u001b[0mVector\u001b[90m{String}\u001b[39m, \u001b[90mdl_load_path\u001b[39m::\u001b[0mVector\u001b[90m{String}\u001b[39m, \u001b[90mload_path\u001b[39m::\u001b[0mVector\u001b[90m{String}\u001b[39m, \u001b[90mconcrete_deps\u001b[39m::\u001b[0mVector\u001b[90m{Pair{Base.PkgId, UInt64}}\u001b[39m, \u001b[90msource\u001b[39m::\u001b[0mString\u001b[0m\u001b[1m)\u001b[22m\n",
      "\u001b[90m   @ \u001b[39m\u001b[90mBase\u001b[39m \u001b[90m./\u001b[39m\u001b[90m\u001b[4mloading.jl:1554\u001b[24m\u001b[39m\n",
      " [7] top-level scope\n",
      "\u001b[90m   @ \u001b[39m\u001b[90m\u001b[4mstdin:1\u001b[24m\u001b[39m\n",
      "in expression starting at /home/ghunter/.julia/dev/MachineLearningPotential/src/ForwardPass.jl:1\n",
      "in expression starting at /home/ghunter/.julia/dev/MachineLearningPotential/src/MachineLearningPotential.jl:1\n",
      "in expression starting at stdin:1\n"
     ]
    },
    {
     "ename": "ErrorException",
     "evalue": "Failed to precompile MachineLearningPotential [3c6de921-4f95-4537-8999-82f6d8a5f170] to /home/ghunter/.julia/compiled/v1.8/MachineLearningPotential/jl_N5JzAb.",
     "output_type": "error",
     "traceback": [
      "Failed to precompile MachineLearningPotential [3c6de921-4f95-4537-8999-82f6d8a5f170] to /home/ghunter/.julia/compiled/v1.8/MachineLearningPotential/jl_N5JzAb.\n",
      "\n",
      "Stacktrace:\n",
      " [1] error(s::String)\n",
      "   @ Base ./error.jl:35\n",
      " [2] compilecache(pkg::Base.PkgId, path::String, internal_stderr::IO, internal_stdout::IO, keep_loaded_modules::Bool)\n",
      "   @ Base ./loading.jl:1707\n",
      " [3] compilecache\n",
      "   @ ./loading.jl:1651 [inlined]\n",
      " [4] _require(pkg::Base.PkgId)\n",
      "   @ Base ./loading.jl:1337\n",
      " [5] _require_prelocked(uuidkey::Base.PkgId)\n",
      "   @ Base ./loading.jl:1200\n",
      " [6] macro expansion\n",
      "   @ ./loading.jl:1180 [inlined]\n",
      " [7] macro expansion\n",
      "   @ ./lock.jl:223 [inlined]\n",
      " [8] require(into::Module, mod::Symbol)\n",
      "   @ Base ./loading.jl:1144\n",
      " [9] top-level scope\n",
      "   @ /opt/software/julia/julia-1.8.5/share/julia/stdlib/v1.8/Distributed/src/macros.jl:200"
     ]
    }
   ],
   "source": [
    "using Distributed\n",
    "@everywhere using BenchmarkTools\n",
    "@everywhere using MachineLearningPotential"
   ]
  }
 ],
 "metadata": {
  "kernelspec": {
   "display_name": "Julia 1.8.5",
   "language": "julia",
   "name": "julia-1.8"
  },
  "language_info": {
   "file_extension": ".jl",
   "mimetype": "application/julia",
   "name": "julia",
   "version": "1.8.5"
  },
  "orig_nbformat": 4
 },
 "nbformat": 4,
 "nbformat_minor": 2
}
