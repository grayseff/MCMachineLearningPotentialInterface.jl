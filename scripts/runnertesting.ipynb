{
 "cells": [
  {
   "attachments": {},
   "cell_type": "markdown",
   "metadata": {},
   "source": [
    "# Statement\n",
    "\n",
    "After some discussion with Jörg about the best implementation of the symmetry functions it may pay to take a top-down view, and calculate the symmetry funcitons on a per-triple basis. Firstly, constructing the $r^2$ matrix implies that an $f_c(r^2)$ matrix can be computed and stored only once, reducing the frequency of computation drastically"
   ]
  },
  {
   "cell_type": "code",
   "execution_count": 1,
   "metadata": {},
   "outputs": [],
   "source": [
    "using Distributed\n",
    "using MachineLearningPotential\n",
    "using BenchmarkTools\n",
    "using StaticArrays"
   ]
  },
  {
   "attachments": {},
   "cell_type": "markdown",
   "metadata": {},
   "source": [
    "Loading the atomic parameters and symmetry functions"
   ]
  },
  {
   "cell_type": "code",
   "execution_count": 2,
   "metadata": {},
   "outputs": [
    {
     "data": {
      "text/plain": [
       "88-element Vector{Any}:\n",
       " RadialType2{Float64}(0.001, 11.338, [1.0, 1.0])\n",
       " RadialType2{Float64}(0.001, 11.338, [1.0, 0.0])\n",
       " RadialType2{Float64}(0.02, 11.338, [1.0, 1.0])\n",
       " RadialType2{Float64}(0.02, 11.338, [1.0, 0.0])\n",
       " RadialType2{Float64}(0.035, 11.338, [1.0, 1.0])\n",
       " RadialType2{Float64}(0.035, 11.338, [1.0, 0.0])\n",
       " RadialType2{Float64}(0.1, 11.338, [1.0, 1.0])\n",
       " RadialType2{Float64}(0.1, 11.338, [1.0, 0.0])\n",
       " RadialType2{Float64}(0.4, 11.338, [1.0, 1.0])\n",
       " RadialType2{Float64}(0.4, 11.338, [1.0, 0.0])\n",
       " ⋮\n",
       " AngularType3{Float64}(0.08, -1.0, 2.0, 11.338, [1.0, 1.0, 1.0])\n",
       " AngularType3{Float64}(0.08, -1.0, 2.0, 11.338, [1.0, 1.0, 0.0])\n",
       " AngularType3{Float64}(0.08, -1.0, 2.0, 11.338, [1.0, 0.0, 0.0])\n",
       " AngularType3{Float64}(0.08, -1.0, 4.0, 11.338, [1.0, 1.0, 1.0])\n",
       " AngularType3{Float64}(0.08, -1.0, 4.0, 11.338, [1.0, 1.0, 0.0])\n",
       " AngularType3{Float64}(0.08, -1.0, 4.0, 11.338, [1.0, 0.0, 0.0])\n",
       " AngularType3{Float64}(0.08, 1.0, 4.0, 11.338, [1.0, 1.0, 1.0])\n",
       " AngularType3{Float64}(0.08, 1.0, 4.0, 11.338, [1.0, 1.0, 0.0])\n",
       " AngularType3{Float64}(0.08, 1.0, 4.0, 11.338, [1.0, 0.0, 0.0])"
      ]
     },
     "metadata": {},
     "output_type": "display_data"
    }
   ],
   "source": [
    "atoms = [[0.0000006584,       -0.0000019175,        0.0000000505],\n",
    "[-0.0000005810,       -0.0000004871,        0.6678432175],\n",
    "[0.1845874248,       -0.5681026047,        0.2986701538],\n",
    "[-0.4832557457,       -0.3511072166,        0.2986684497],\n",
    "[-0.4832557570,        0.3511046452,        0.2986669456],\n",
    "[0.1845874064,        0.5681000550,        0.2986677202],\n",
    "[0.5973371920,       -0.0000012681,        0.2986697030],\n",
    "[-0.1845860897,       -0.5681038901,       -0.2986676192],\n",
    "[-0.5973358752,       -0.0000025669,       -0.2986696020],\n",
    "[-0.1845861081,        0.5680987696,       -0.2986700528],\n",
    "[0.4832570624,        0.3511033815,       -0.2986683486],\n",
    "[0.4832570738,       -0.3511084803,       -0.2986668445],\n",
    "[0.0000018978,       -0.0000033480,       -0.6678431165],\n",
    "[-0.0000017969,        0.0000009162,        1.3230014650],\n",
    "[0.1871182835,       -0.5758942175,        0.9797717078],\n",
    "[-0.4898861924,       -0.3559221410,       0.9797699802],\n",
    "[-0.4898862039,        0.3559224872,        0.9797684555],\n",
    "[0.1871182648,        0.5758945856,        0.9797692407],\n",
    "[0.6055300485,        0.0000001908,        0.9797712507],\n",
    "[0.7926501864,       -0.5758950093,        0.6055339635],\n",
    "[0.3656681761,       -1.1254128670,        0.5916673591],\n",
    "[-0.3027660545,       -0.9318173412,        0.6055326929],\n",
    "[-0.9573332453,       -0.6955436707,        0.5916639831],\n",
    "[-0.9797705418,       -0.0000006364,        0.6055294407],\n",
    "[-0.9573332679,        0.6955423392,        0.5916610035],\n",
    "[-0.3027660847,        0.9318160902,        0.6055287012],\n",
    "[0.3656681396,        1.1254115783,        0.5916625380],\n",
    "[0.7926501677,        0.5758937939,        0.6055314964],\n",
    "[1.1833279992,       -0.0000006311,        0.5916664660],\n",
    "[0.6770051458,       -0.9318186223,        0.0000033028],\n",
    "[0.0000006771,       -1.1517907207,        0.0000025175],\n",
    "[-0.6770037988,       -0.9318186442,        0.0000007900],\n",
    "[-1.0954155825,       -0.3559242494,       -0.0000012200],\n",
    "[-1.0954155940,        0.3559203788,       -0.0000027447],\n",
    "[-0.6770038290,        0.9318147872,       -0.0000032017],\n",
    "[0.0000006397,        1.1517868856,       -0.0000024165],\n",
    "[0.6770051155,        0.9318148091,       -0.0000006889],\n",
    "[1.0954168993,        0.3559204143,        0.0000013211],\n",
    "[1.0954169108,       -0.3559242139,        0.0000028458],\n",
    "[0.3027674014,       -0.9318199253,       -0.6055286002],\n",
    "[-0.3656668229,       -1.1254154134,       -0.5916624370],\n",
    "[-0.7926488510,       -0.5758976290,       -0.6055313954],\n",
    "[-1.1833266824,       -0.0000032040,       -0.5916663649],\n",
    "[-0.7926488697,        0.5758911742,       -0.6055338624],\n",
    "[-0.3656668594,        1.1254090319,       -0.5916672580],\n",
    "[0.3027673712,        0.9318135061,       -0.6055325919],\n",
    "[0.9573345621,        0.6955398357,       -0.5916638820],\n",
    "[0.9797718586,       -0.0000031986,       -0.6055293396],\n",
    "[0.9573345846,       -0.6955461743,       -0.5916609025],\n",
    "[-0.1871169480,       -0.5758984207,       -0.9797691397],\n",
    "[-0.6055287318,       -0.0000040259,       -0.9797711497],\n",
    "[-0.1871169667,        0.5758903824,       -0.9797716067],\n",
    "[0.4898875091,        0.3559183059,       -0.9797698792],\n",
    "[0.4898875207,       -0.3559263223,       -0.9797683545],\n",
    "[0.0000031136,       -0.0000047513,       -1.3230013639]]*18.8973*0.36258\n",
    "\n",
    "positions = [SVector{3}(p[i] for i in 1:3) for p in atoms]\n",
    "dis2mat = get_distance2_mat(positions)\n",
    "X = [ 1    1              0.001   0.000  11.338\n",
    " 1    0              0.001   0.000  11.338\n",
    " 1    1              0.020   0.000  11.338\n",
    " 1    0              0.020   0.000  11.338\n",
    " 1    1              0.035   0.000  11.338\n",
    " 1    0              0.035   0.000  11.338\n",
    " 1    1              0.100   0.000  11.338\n",
    " 1    0              0.100   0.000  11.338\n",
    " 1    1              0.400   0.000  11.338\n",
    " 1    0              0.400   0.000  11.338]\n",
    "\n",
    "radsymmvec = []\n",
    "\n",
    "for row in eachrow(X)\n",
    "    symmfunc = RadialType2{Float64}(row[3],row[5],[row[1],row[2]])\n",
    "    push!(radsymmvec,symmfunc)\n",
    "end\n",
    "\n",
    "V = [[0.0001,1,1,11.338],[0.0001,-1,2,11.338],[0.003,-1,1,11.338],[0.003,-1,2,11.338],[0.008,-1,1,11.338],[0.008,-1,2,11.228],[0.008,1,2,11.338],[0.015,1,1,11.338],[0.015,-1,2,11.338],[0.015,-1,4,11.338],[0.015,-1,16,11.338],[0.025,-1,1,11.338],[0.025,1,1,11.338],[0.025,1,2,11.338],[0.025,-1,4,11.338],[0.025,-1,16,11.338],[0.025,1,16,11.338],[0.045,1,1,11.338],[0.045,-1,2,11.338],[0.045,-1,4,11.338],[0.045,1,4,11.338],[0.045,1,16,11.338],[0.08,1,1,11.338],[0.08,-1,2,11.338],[0.08,-1,4,11.338],[0.08,1,4,11.338]]\n",
    "\n",
    "T = [[1.,1.,1.],[1.,1.,0.],[1.,0.,0.]]\n",
    "\n",
    "angularsymmvec = []\n",
    "\n",
    "for element in V \n",
    "    for types in T\n",
    "        symmfunc = AngularType3{Float64}(element[1],element[2],element[3],11.338,types)\n",
    "        push!(angularsymmvec,symmfunc)\n",
    "    end\n",
    "end\n",
    "\n",
    "total_symm_vec = vcat(radsymmvec,angularsymmvec)"
   ]
  },
  {
   "attachments": {},
   "cell_type": "markdown",
   "metadata": {},
   "source": [
    "Ready to start workshopping:\n",
    "\n",
    "Considering the cutoff radius of every symmetry function is identical, we can calculate an f_cut matrix. "
   ]
  },
  {
   "cell_type": "code",
   "execution_count": 3,
   "metadata": {},
   "outputs": [
    {
     "data": {
      "text/plain": [
       "55×55 Matrix{Float64}:\n",
       " 1.0        0.649134    0.649134    …  0.21115     0.21115     0.0959383\n",
       " 0.649134   1.0         0.617699       0.0         0.0         0.0\n",
       " 0.649134   0.617699    1.0            0.00208061  0.0912928   0.0\n",
       " 0.649134   0.617699    0.617699       0.0         0.00208061  0.0\n",
       " 0.649134   0.617699    0.223352       0.00208061  0.0         0.0\n",
       " 0.649134   0.617699    0.223352    …  0.0912928   0.00208061  0.0\n",
       " 0.649134   0.617699    0.617699       0.0912928   0.0912928   0.0\n",
       " 0.649134   0.223352    0.617699       0.0912928   0.355548    0.185434\n",
       " 0.649134   0.223352    0.223352       0.0912928   0.0912928   0.185434\n",
       " 0.649134   0.223352    0.0889637      0.355548    0.0912928   0.185434\n",
       " ⋮                                  ⋱                          \n",
       " 0.0959383  0.0         0.0            0.623382    0.164805    0.0613471\n",
       " 0.21115    0.00208061  0.0912928      0.608792    0.608792    0.164805\n",
       " 0.0959383  0.0         0.185434       0.164805    0.623382    0.0613471\n",
       " 0.21115    0.0         0.0912928      0.21115     0.608792    0.623382\n",
       " 0.21115    0.0         0.00208061  …  0.21115     0.21115     0.623382\n",
       " 0.21115    0.0         0.0            0.608792    0.21115     0.623382\n",
       " 0.21115    0.0         0.00208061     1.0         0.608792    0.623382\n",
       " 0.21115    0.0         0.0912928      0.608792    1.0         0.623382\n",
       " 0.0959383  0.0         0.0            0.623382    0.623382    1.0"
      ]
     },
     "metadata": {},
     "output_type": "display_data"
    }
   ],
   "source": [
    "f_mat = cutoff_function.(sqrt.(dis2mat),Ref(total_symm_vec[1].r_cut))"
   ]
  },
  {
   "cell_type": "code",
   "execution_count": 4,
   "metadata": {},
   "outputs": [
    {
     "data": {
      "text/plain": [
       "calc_symm_function (generic function with 1 method)"
      ]
     },
     "metadata": {},
     "output_type": "display_data"
    }
   ],
   "source": [
    "calc_one_symm_val(r2_ij,fc_ij,eta) = ifelse(fc_ij!=0. && fc_ij!=1., fc_ij*exp(-eta*r2_ij), 0.)\n",
    "\n",
    "function calc_symm_function(positions,dist2_matrix,fc_matrix,index,symmfunc::RadialType2)\n",
    "    \n",
    "    eta=symmfunc.eta\n",
    "    g_vec = calc_one_symm_val.(dist2_matrix[:,index],fc_matrix[:,index],eta)\n",
    "    return sum(g_vec)\n",
    "end\n"
   ]
  },
  {
   "cell_type": "code",
   "execution_count": 5,
   "metadata": {},
   "outputs": [
    {
     "data": {
      "text/plain": [
       "calc_symm_function (generic function with 2 methods)"
      ]
     },
     "metadata": {},
     "output_type": "display_data"
    }
   ],
   "source": [
    "function calc_one_symm_val(position1,position2,position3,r2_ij,r2_ik,r2_jk,f_ij,f_ik,f_jk,η,λ,ζ)\n",
    "        θ = angular_measure(position1,position2,position3,r2_ij,r2_ik)\n",
    "    \n",
    "        g= (1+λ*θ)^ζ * exp(-η*(r2_ij+r2_ik+r2_jk)) * f_ij * f_ik * f_jk\n",
    "        \n",
    "    return g\n",
    "end\n",
    "\n",
    "function calc_symm_function(positions,dis2_mat,fc_mat,index,symmfunc::AngularType3)\n",
    "    N = length(positions)\n",
    "    g = 0.\n",
    "    η,λ,ζ = symmfunc.eta,symmfunc.lambda,symmfunc.zeta\n",
    "    if symmfunc.type_vec == [1.,1.,1.]\n",
    "        for j=(1:N)\n",
    "            if j != index\n",
    "                for k  = (1:j-1)\n",
    "                    if k!= index\n",
    "                    #ind = Int((j^2 - 3j)/2 + 1 + k)\n",
    "                        g+= calc_one_symm_val(\n",
    "                            positions[index],positions[j],positions[k],dis2_mat[index,j],dis2_mat[index,k],dis2_mat[j,k],fc_mat[index,j],fc_mat[index,k],fc_mat[j,k] ,η,λ,ζ\n",
    "                            ) \n",
    "                    end            \n",
    "                end\n",
    "            end\n",
    "        end\n",
    "    end\n",
    "   \n",
    "    return 2^(1-ζ)*g\n",
    "end"
   ]
  },
  {
   "cell_type": "code",
   "execution_count": 6,
   "metadata": {},
   "outputs": [
    {
     "data": {
      "text/plain": [
       "BenchmarkTools.Trial: 5421 samples with 1 evaluation.\n",
       " Range \u001b[90m(\u001b[39m\u001b[36m\u001b[1mmin\u001b[22m\u001b[39m … \u001b[35mmax\u001b[39m\u001b[90m):  \u001b[39m\u001b[36m\u001b[1m885.960 μs\u001b[22m\u001b[39m … \u001b[35m 2.600 ms\u001b[39m  \u001b[90m┊\u001b[39m GC \u001b[90m(\u001b[39mmin … max\u001b[90m): \u001b[39m0.00% … 64.60%\n",
       " Time  \u001b[90m(\u001b[39m\u001b[34m\u001b[1mmedian\u001b[22m\u001b[39m\u001b[90m):     \u001b[39m\u001b[34m\u001b[1m924.177 μs              \u001b[22m\u001b[39m\u001b[90m┊\u001b[39m GC \u001b[90m(\u001b[39mmedian\u001b[90m):    \u001b[39m0.00%\n",
       " Time  \u001b[90m(\u001b[39m\u001b[32m\u001b[1mmean\u001b[22m\u001b[39m ± \u001b[32mσ\u001b[39m\u001b[90m):   \u001b[39m\u001b[32m\u001b[1m921.476 μs\u001b[22m\u001b[39m ± \u001b[32m36.271 μs\u001b[39m  \u001b[90m┊\u001b[39m GC \u001b[90m(\u001b[39mmean ± σ\u001b[90m):  \u001b[39m0.07% ±  1.24%\n",
       "\n",
       "  \u001b[39m \u001b[39m \u001b[39m \u001b[39m \u001b[39m \u001b[39m \u001b[39m \u001b[39m \u001b[39m \u001b[39m \u001b[39m \u001b[39m \u001b[39m \u001b[39m \u001b[39m \u001b[39m \u001b[39m▂\u001b[39m \u001b[39m▃\u001b[39m▁\u001b[39m▁\u001b[39m \u001b[39m \u001b[39m \u001b[39m \u001b[39m \u001b[39m \u001b[39m \u001b[32m \u001b[39m\u001b[39m \u001b[34m▃\u001b[39m\u001b[39m▇\u001b[39m▆\u001b[39m█\u001b[39m▃\u001b[39m▁\u001b[39m \u001b[39m \u001b[39m \u001b[39m \u001b[39m \u001b[39m \u001b[39m \u001b[39m \u001b[39m \u001b[39m \u001b[39m \u001b[39m \u001b[39m \u001b[39m \u001b[39m \u001b[39m \u001b[39m \u001b[39m \u001b[39m \u001b[39m \u001b[39m \u001b[39m \u001b[39m \u001b[39m \u001b[39m \u001b[39m \n",
       "  \u001b[39m▂\u001b[39m▅\u001b[39m▄\u001b[39m█\u001b[39m▆\u001b[39m▄\u001b[39m▄\u001b[39m▄\u001b[39m▃\u001b[39m▃\u001b[39m▃\u001b[39m▃\u001b[39m▃\u001b[39m▃\u001b[39m▄\u001b[39m▇\u001b[39m█\u001b[39m█\u001b[39m█\u001b[39m█\u001b[39m█\u001b[39m▇\u001b[39m▆\u001b[39m▅\u001b[39m▅\u001b[39m▄\u001b[39m▅\u001b[39m▅\u001b[32m▅\u001b[39m\u001b[39m▆\u001b[34m█\u001b[39m\u001b[39m█\u001b[39m█\u001b[39m█\u001b[39m█\u001b[39m█\u001b[39m▆\u001b[39m▆\u001b[39m▅\u001b[39m▄\u001b[39m▄\u001b[39m▄\u001b[39m▄\u001b[39m▃\u001b[39m▄\u001b[39m▃\u001b[39m▆\u001b[39m▄\u001b[39m▄\u001b[39m▃\u001b[39m▂\u001b[39m▃\u001b[39m▂\u001b[39m▂\u001b[39m▂\u001b[39m▂\u001b[39m▂\u001b[39m▁\u001b[39m▁\u001b[39m▁\u001b[39m \u001b[39m▄\n",
       "  886 μs\u001b[90m          Histogram: frequency by time\u001b[39m          963 μs \u001b[0m\u001b[1m<\u001b[22m\n",
       "\n",
       " Memory estimate\u001b[90m: \u001b[39m\u001b[33m23.25 KiB\u001b[39m, allocs estimate\u001b[90m: \u001b[39m\u001b[33m209\u001b[39m."
      ]
     },
     "metadata": {},
     "output_type": "display_data"
    }
   ],
   "source": [
    "function symm_functions(positions,dis2_mat,fc_mat,index,symm_func_vec)\n",
    "    G_vec = calc_symm_function.(Ref(positions),Ref(dis2_mat),Ref(fc_mat),Ref(index),symm_func_vec)\n",
    "    return G_vec\n",
    "end\n",
    "@benchmark symm_functions($positions,$dis2mat,$f_mat,rand(1:55),$total_symm_vec)"
   ]
  },
  {
   "cell_type": "code",
   "execution_count": 7,
   "metadata": {},
   "outputs": [
    {
     "data": {
      "text/plain": [
       "BenchmarkTools.Trial: 10000 samples with 1 evaluation.\n",
       " Range \u001b[90m(\u001b[39m\u001b[36m\u001b[1mmin\u001b[22m\u001b[39m … \u001b[35mmax\u001b[39m\u001b[90m):  \u001b[39m\u001b[36m\u001b[1m31.211 μs\u001b[22m\u001b[39m … \u001b[35m 57.567 μs\u001b[39m  \u001b[90m┊\u001b[39m GC \u001b[90m(\u001b[39mmin … max\u001b[90m): \u001b[39m0.00% … 0.00%\n",
       " Time  \u001b[90m(\u001b[39m\u001b[34m\u001b[1mmedian\u001b[22m\u001b[39m\u001b[90m):     \u001b[39m\u001b[34m\u001b[1m32.026 μs               \u001b[22m\u001b[39m\u001b[90m┊\u001b[39m GC \u001b[90m(\u001b[39mmedian\u001b[90m):    \u001b[39m0.00%\n",
       " Time  \u001b[90m(\u001b[39m\u001b[32m\u001b[1mmean\u001b[22m\u001b[39m ± \u001b[32mσ\u001b[39m\u001b[90m):   \u001b[39m\u001b[32m\u001b[1m32.169 μs\u001b[22m\u001b[39m ± \u001b[32m767.241 ns\u001b[39m  \u001b[90m┊\u001b[39m GC \u001b[90m(\u001b[39mmean ± σ\u001b[90m):  \u001b[39m0.00% ± 0.00%\n",
       "\n",
       "  \u001b[39m \u001b[39m▆\u001b[39m▅\u001b[39m▅\u001b[39m▄\u001b[39m▂\u001b[39m \u001b[39m \u001b[39m \u001b[39m \u001b[39m \u001b[39m \u001b[39m \u001b[39m \u001b[39m▁\u001b[39m▇\u001b[39m█\u001b[34m█\u001b[39m\u001b[39m▇\u001b[39m▅\u001b[32m▃\u001b[39m\u001b[39m \u001b[39m \u001b[39m \u001b[39m \u001b[39m \u001b[39m \u001b[39m \u001b[39m \u001b[39m▁\u001b[39m▅\u001b[39m▅\u001b[39m▅\u001b[39m▅\u001b[39m▄\u001b[39m \u001b[39m \u001b[39m \u001b[39m \u001b[39m \u001b[39m \u001b[39m \u001b[39m \u001b[39m \u001b[39m \u001b[39m▁\u001b[39m▂\u001b[39m▂\u001b[39m▂\u001b[39m▁\u001b[39m \u001b[39m \u001b[39m \u001b[39m \u001b[39m \u001b[39m \u001b[39m \u001b[39m \u001b[39m \u001b[39m \u001b[39m \u001b[39m▂\n",
       "  \u001b[39m█\u001b[39m█\u001b[39m█\u001b[39m█\u001b[39m█\u001b[39m█\u001b[39m▇\u001b[39m▅\u001b[39m▄\u001b[39m▂\u001b[39m▅\u001b[39m▄\u001b[39m▅\u001b[39m▅\u001b[39m█\u001b[39m█\u001b[39m█\u001b[34m█\u001b[39m\u001b[39m█\u001b[39m█\u001b[32m█\u001b[39m\u001b[39m█\u001b[39m█\u001b[39m▇\u001b[39m▇\u001b[39m▇\u001b[39m▇\u001b[39m▇\u001b[39m▇\u001b[39m█\u001b[39m█\u001b[39m█\u001b[39m█\u001b[39m█\u001b[39m█\u001b[39m█\u001b[39m█\u001b[39m█\u001b[39m▆\u001b[39m█\u001b[39m█\u001b[39m█\u001b[39m█\u001b[39m█\u001b[39m█\u001b[39m█\u001b[39m█\u001b[39m█\u001b[39m█\u001b[39m█\u001b[39m█\u001b[39m█\u001b[39m▇\u001b[39m▇\u001b[39m▆\u001b[39m▇\u001b[39m▅\u001b[39m▇\u001b[39m▅\u001b[39m▆\u001b[39m \u001b[39m█\n",
       "  31.2 μs\u001b[90m       \u001b[39m\u001b[90mHistogram: \u001b[39m\u001b[90m\u001b[1mlog(\u001b[22m\u001b[39m\u001b[90mfrequency\u001b[39m\u001b[90m\u001b[1m)\u001b[22m\u001b[39m\u001b[90m by time\u001b[39m        34 μs \u001b[0m\u001b[1m<\u001b[22m\n",
       "\n",
       " Memory estimate\u001b[90m: \u001b[39m\u001b[33m96 bytes\u001b[39m, allocs estimate\u001b[90m: \u001b[39m\u001b[33m2\u001b[39m."
      ]
     },
     "metadata": {},
     "output_type": "display_data"
    }
   ],
   "source": [
    "@benchmark calc_symm_function($positions,$dis2mat,$f_mat,rand(1:55),$total_symm_vec[11])"
   ]
  },
  {
   "cell_type": "code",
   "execution_count": 8,
   "metadata": {},
   "outputs": [
    {
     "data": {
      "text/plain": [
       "BenchmarkTools.Trial: 10000 samples with 1 evaluation.\n",
       " Range \u001b[90m(\u001b[39m\u001b[36m\u001b[1mmin\u001b[22m\u001b[39m … \u001b[35mmax\u001b[39m\u001b[90m):  \u001b[39m\u001b[36m\u001b[1m21.512 μs\u001b[22m\u001b[39m … \u001b[35m953.937 μs\u001b[39m  \u001b[90m┊\u001b[39m GC \u001b[90m(\u001b[39mmin … max\u001b[90m): \u001b[39m0.00% … 92.81%\n",
       " Time  \u001b[90m(\u001b[39m\u001b[34m\u001b[1mmedian\u001b[22m\u001b[39m\u001b[90m):     \u001b[39m\u001b[34m\u001b[1m27.488 μs               \u001b[22m\u001b[39m\u001b[90m┊\u001b[39m GC \u001b[90m(\u001b[39mmedian\u001b[90m):    \u001b[39m0.00%\n",
       " Time  \u001b[90m(\u001b[39m\u001b[32m\u001b[1mmean\u001b[22m\u001b[39m ± \u001b[32mσ\u001b[39m\u001b[90m):   \u001b[39m\u001b[32m\u001b[1m28.964 μs\u001b[22m\u001b[39m ± \u001b[32m 19.413 μs\u001b[39m  \u001b[90m┊\u001b[39m GC \u001b[90m(\u001b[39mmean ± σ\u001b[90m):  \u001b[39m1.43% ±  2.12%\n",
       "\n",
       "  \u001b[39m \u001b[39m \u001b[39m \u001b[39m \u001b[39m \u001b[39m \u001b[39m \u001b[39m \u001b[39m \u001b[39m \u001b[39m \u001b[39m \u001b[39m \u001b[39m▄\u001b[39m▇\u001b[39m█\u001b[39m█\u001b[39m█\u001b[34m▆\u001b[39m\u001b[39m▃\u001b[39m \u001b[39m \u001b[39m \u001b[32m \u001b[39m\u001b[39m \u001b[39m \u001b[39m \u001b[39m \u001b[39m \u001b[39m▁\u001b[39m▁\u001b[39m \u001b[39m \u001b[39m \u001b[39m \u001b[39m \u001b[39m \u001b[39m \u001b[39m \u001b[39m \u001b[39m \u001b[39m \u001b[39m \u001b[39m \u001b[39m \u001b[39m \u001b[39m \u001b[39m \u001b[39m \u001b[39m \u001b[39m \u001b[39m \u001b[39m \u001b[39m \u001b[39m \u001b[39m \u001b[39m \u001b[39m \u001b[39m \u001b[39m \u001b[39m \u001b[39m \n",
       "  \u001b[39m▂\u001b[39m▇\u001b[39m▇\u001b[39m▇\u001b[39m█\u001b[39m▆\u001b[39m▅\u001b[39m▃\u001b[39m▂\u001b[39m▁\u001b[39m▂\u001b[39m▃\u001b[39m▆\u001b[39m█\u001b[39m█\u001b[39m█\u001b[39m█\u001b[39m█\u001b[34m█\u001b[39m\u001b[39m█\u001b[39m▇\u001b[39m▄\u001b[39m▃\u001b[32m▂\u001b[39m\u001b[39m▂\u001b[39m▃\u001b[39m▄\u001b[39m▅\u001b[39m█\u001b[39m█\u001b[39m█\u001b[39m█\u001b[39m█\u001b[39m▇\u001b[39m▆\u001b[39m▅\u001b[39m▃\u001b[39m▃\u001b[39m▂\u001b[39m▂\u001b[39m▂\u001b[39m▂\u001b[39m▂\u001b[39m▃\u001b[39m▂\u001b[39m▂\u001b[39m▃\u001b[39m▂\u001b[39m▂\u001b[39m▂\u001b[39m▂\u001b[39m▁\u001b[39m▁\u001b[39m▁\u001b[39m▁\u001b[39m▁\u001b[39m▁\u001b[39m▁\u001b[39m▁\u001b[39m▁\u001b[39m \u001b[39m▃\n",
       "  21.5 μs\u001b[90m         Histogram: frequency by time\u001b[39m         41.4 μs \u001b[0m\u001b[1m<\u001b[22m\n",
       "\n",
       " Memory estimate\u001b[90m: \u001b[39m\u001b[33m23.39 KiB\u001b[39m, allocs estimate\u001b[90m: \u001b[39m\u001b[33m4\u001b[39m."
      ]
     },
     "metadata": {},
     "output_type": "display_data"
    }
   ],
   "source": [
    "@benchmark calc_symmetry_function($positions,$dis2mat,rand(1:55),$total_symm_vec[11])"
   ]
  },
  {
   "attachments": {},
   "cell_type": "markdown",
   "metadata": {},
   "source": [
    "More important here is to gauge how slow it is to calculate the total symmetry vector for each atom"
   ]
  },
  {
   "cell_type": "code",
   "execution_count": 9,
   "metadata": {},
   "outputs": [
    {
     "data": {
      "text/plain": [
       "BenchmarkTools.Trial: 98 samples with 1 evaluation.\n",
       " Range \u001b[90m(\u001b[39m\u001b[36m\u001b[1mmin\u001b[22m\u001b[39m … \u001b[35mmax\u001b[39m\u001b[90m):  \u001b[39m\u001b[36m\u001b[1m49.724 ms\u001b[22m\u001b[39m … \u001b[35m 54.046 ms\u001b[39m  \u001b[90m┊\u001b[39m GC \u001b[90m(\u001b[39mmin … max\u001b[90m): \u001b[39m0.00% … 3.50%\n",
       " Time  \u001b[90m(\u001b[39m\u001b[34m\u001b[1mmedian\u001b[22m\u001b[39m\u001b[90m):     \u001b[39m\u001b[34m\u001b[1m51.230 ms               \u001b[22m\u001b[39m\u001b[90m┊\u001b[39m GC \u001b[90m(\u001b[39mmedian\u001b[90m):    \u001b[39m0.00%\n",
       " Time  \u001b[90m(\u001b[39m\u001b[32m\u001b[1mmean\u001b[22m\u001b[39m ± \u001b[32mσ\u001b[39m\u001b[90m):   \u001b[39m\u001b[32m\u001b[1m51.188 ms\u001b[22m\u001b[39m ± \u001b[32m658.175 μs\u001b[39m  \u001b[90m┊\u001b[39m GC \u001b[90m(\u001b[39mmean ± σ\u001b[90m):  \u001b[39m0.08% ± 0.50%\n",
       "\n",
       "  \u001b[39m \u001b[39m \u001b[39m \u001b[39m \u001b[39m \u001b[39m \u001b[39m \u001b[39m \u001b[39m \u001b[39m \u001b[39m \u001b[39m \u001b[39m \u001b[39m \u001b[39m \u001b[39m▁\u001b[39m \u001b[39m▁\u001b[39m▃\u001b[39m \u001b[39m \u001b[39m \u001b[39m \u001b[39m▄\u001b[34m▁\u001b[39m\u001b[39m \u001b[39m█\u001b[39m▃\u001b[39m▆\u001b[39m▆\u001b[39m \u001b[39m \u001b[39m \u001b[39m▁\u001b[39m \u001b[39m \u001b[39m \u001b[39m \u001b[39m \u001b[39m \u001b[39m \u001b[39m \u001b[39m \u001b[39m \u001b[39m \u001b[39m \u001b[39m \u001b[39m \u001b[39m \u001b[39m \u001b[39m \u001b[39m \u001b[39m \u001b[39m \u001b[39m \u001b[39m \u001b[39m \u001b[39m \u001b[39m \u001b[39m \u001b[39m \u001b[39m \n",
       "  \u001b[39m▄\u001b[39m▁\u001b[39m▄\u001b[39m▄\u001b[39m▄\u001b[39m▆\u001b[39m▄\u001b[39m▁\u001b[39m▁\u001b[39m▆\u001b[39m▁\u001b[39m▆\u001b[39m▆\u001b[39m▇\u001b[39m▆\u001b[39m█\u001b[39m▆\u001b[39m█\u001b[39m█\u001b[39m▄\u001b[39m▆\u001b[39m▆\u001b[39m▆\u001b[39m█\u001b[34m█\u001b[39m\u001b[39m▄\u001b[39m█\u001b[39m█\u001b[39m█\u001b[39m█\u001b[39m▇\u001b[39m▇\u001b[39m▆\u001b[39m█\u001b[39m▁\u001b[39m▁\u001b[39m▇\u001b[39m▄\u001b[39m▄\u001b[39m▁\u001b[39m▁\u001b[39m▁\u001b[39m▁\u001b[39m▁\u001b[39m▁\u001b[39m▄\u001b[39m▁\u001b[39m▁\u001b[39m▁\u001b[39m▁\u001b[39m▁\u001b[39m▁\u001b[39m▁\u001b[39m▁\u001b[39m▁\u001b[39m▁\u001b[39m▁\u001b[39m▁\u001b[39m▁\u001b[39m▄\u001b[39m \u001b[39m▁\n",
       "  49.7 ms\u001b[90m         Histogram: frequency by time\u001b[39m         53.4 ms \u001b[0m\u001b[1m<\u001b[22m\n",
       "\n",
       " Memory estimate\u001b[90m: \u001b[39m\u001b[33m1.25 MiB\u001b[39m, allocs estimate\u001b[90m: \u001b[39m\u001b[33m11499\u001b[39m."
      ]
     },
     "metadata": {},
     "output_type": "display_data"
    }
   ],
   "source": [
    "function total_total_symm(positions,dis2_mat,fc_mat,symm_func_vec)\n",
    "    g_tot=[]\n",
    "    for index in eachindex(positions)\n",
    "        G_vec = symm_functions(positions,dis2mat,f_mat,rand(1:55),total_symm_vec)\n",
    "        push!(g_tot,G_vec)\n",
    "    end\n",
    "    return g_tot\n",
    "end\n",
    "@benchmark total_total_symm($positions,$dis2mat,$f_mat,$total_symm_vec)"
   ]
  },
  {
   "cell_type": "code",
   "execution_count": 10,
   "metadata": {},
   "outputs": [
    {
     "data": {
      "text/plain": [
       "55-element Vector{Any}:\n",
       " [11.966607067163583, 11.966607067163583, 6.362235446694212, 6.362235446694212, 4.143106864339767, 4.143106864339767, 0.8571680646436799, 0.8571680646436799, 0.0011760266338472004, 0.0011760266338472004  …  0.0, 0.005002047517575896, 0.0, 0.0, 0.0005983507129227555, 0.0, 0.0, 0.021924952304756905, 0.0, 0.0]\n",
       " [5.699536975224264, 5.699536975224264, 2.9415593759647933, 2.9415593759647933, 1.9155542688220328, 1.9155542688220328, 0.41077108438095306, 0.41077108438095306, 0.0005573982223337895, 0.0005573982223337895  …  0.0, 0.0016597483689902927, 0.0, 0.0, 0.00013714023992727955, 0.0, 0.0, 0.007651868031824278, 0.0, 0.0]\n",
       " [7.455371452215095, 7.455371452215095, 3.928878421937883, 3.928878421937883, 2.545960542068822, 2.545960542068822, 0.5083986414795432, 0.5083986414795432, 0.0005285363551481289, 0.0005285363551481289  …  0.0, 0.0019216479933303451, 0.0, 0.0, 0.0001820362393914674, 0.0, 0.0, 0.010500880315042017, 0.0, 0.0]\n",
       " [7.455371452720861, 7.455371452720861, 3.92887842223659, 3.92887842223659, 2.545960542283743, 2.545960542283743, 0.5083986415579125, 0.5083986415579125, 0.0005285363555496456, 0.0005285363555496456  …  0.0, 0.001921647994236909, 0.0, 0.0, 0.00018203623949201457, 0.0, 0.0, 0.010500880318705181, 0.0, 0.0]\n",
       " [11.966607067743627, 11.966607067743627, 6.362235446808003, 6.362235446808003, 4.1431068642976, 4.1431068642976, 0.8571680645357527, 0.8571680645357527, 0.0011760266329334274, 0.0011760266329334274  …  0.0, 0.005002047515338278, 0.0, 0.0, 0.00059835071258903, 0.0, 0.0, 0.021924952301023426, 0.0, 0.0]\n",
       " [5.6995369746290425, 5.6995369746290425, 2.9415593755405625, 2.9415593755405625, 1.9155542684758227, 1.9155542684758227, 0.41077108422985736, 0.41077108422985736, 0.0005573982215812123, 0.0005573982215812123  …  0.0, 0.0016597483674261014, 0.0, 0.0, 0.00013714023977313253, 0.0, 0.0, 0.007651868026743657, 0.0, 0.0]\n",
       " [7.4553714527289126, 7.4553714527289126, 3.928878422229679, 3.928878422229679, 2.545960542267384, 2.545960542267384, 0.5083986415386309, 0.5083986415386309, 0.0005285363554569728, 0.0005285363554569728  …  0.0, 0.0019216479940009643, 0.0, 0.0, 0.0001820362394675385, 0.0, 0.0, 0.010500880317832225, 0.0, 0.0]\n",
       " [5.699536974937834, 5.699536974937834, 2.941559375839682, 2.941559375839682, 1.9155542687482323, 1.9155542687482323, 0.4107710843590243, 0.4107710843590243, 0.0005573982221636714, 0.0005573982221636714  …  0.0, 0.0016597483687654205, 0.0, 0.0, 0.00013714023990103413, 0.0, 0.0, 0.007651868032498305, 0.0, 0.0]\n",
       " [11.966607067730298, 11.966607067730298, 6.362235446953944, 6.362235446953944, 4.143106864471905, 4.143106864471905, 0.8571680646367917, 0.8571680646367917, 0.0011760266334776297, 0.0011760266334776297  …  0.0, 0.0050020475170252515, 0.0, 0.0, 0.0005983507128527163, 0.0, 0.0, 0.021924952306754925, 0.0, 0.0]\n",
       " [7.455371452446419, 7.455371452446419, 3.928878422004562, 3.928878422004562, 2.545960542086662, 2.545960542086662, 0.508398641475132, 0.508398641475132, 0.000528536355296015, 0.000528536355296015  …  0.0, 0.0019216479934275085, 0.0, 0.0, 0.0001820362393945461, 0.0, 0.0, 0.010500880315460728, 0.0, 0.0]\n",
       " ⋮\n",
       " [11.966607068035858, 11.966607068035858, 6.362235447320308, 6.362235447320308, 4.143106864843472, 4.143106864843472, 0.8571680648473241, 0.8571680648473241, 0.0011760266346499328, 0.0011760266346499328  …  0.0, 0.0050020475206395435, 0.0, 0.0, 0.0005983507133783634, 0.0, 0.0, 0.021924952318636424, 0.0, 0.0]\n",
       " [7.455371451996673, 7.455371451996673, 3.9288784217025423, 3.9288784217025423, 2.5459605418561657, 2.5459605418561657, 0.5083986413906475, 0.5083986413906475, 0.0005285363548768623, 0.0005285363548768623  …  0.0, 0.0019216479925619192, 0.0, 0.0, 0.00018203623930335898, 0.0, 0.0, 0.010500880310362342, 0.0, 0.0]\n",
       " [11.966607067396247, 11.966607067396247, 6.362235446888239, 6.362235446888239, 4.143106864504932, 4.143106864504932, 0.8571680647151637, 0.8571680647151637, 0.0011760266341857173, 0.0011760266341857173  …  0.0, 0.005002047518624393, 0.0, 0.0, 0.000598350713073031, 0.0, 0.0, 0.021924952310258213, 0.0, 0.0]\n",
       " [7.455371452446419, 7.455371452446419, 3.928878422004562, 3.928878422004562, 2.545960542086662, 2.545960542086662, 0.508398641475132, 0.508398641475132, 0.000528536355296015, 0.000528536355296015  …  0.0, 0.0019216479934275085, 0.0, 0.0, 0.0001820362393945461, 0.0, 0.0, 0.010500880315460728, 0.0, 0.0]\n",
       " [7.455371452776931, 7.455371452776931, 3.9288784222495803, 3.9288784222495803, 2.5459605422731846, 2.5459605422731846, 0.5083986415285263, 0.5083986415285263, 0.0005285363553457275, 0.0005285363553457275  …  0.0, 0.0019216479937275187, 0.0, 0.0, 0.00018203623944885606, 0.0, 0.0, 0.010500880314663797, 0.0, 0.0]\n",
       " [7.455371452562956, 7.455371452562956, 3.9288784221460307, 3.9288784221460307, 2.5459605422162777, 2.5459605422162777, 0.5083986415249713, 0.5083986415249713, 0.0005285363553554292, 0.0005285363553554292  …  0.0, 0.0019216479938806788, 0.0, 0.0, 0.0001820362394550276, 0.0, 0.0, 0.010500880316514789, 0.0, 0.0]\n",
       " [7.455371452931854, 7.455371452931854, 3.928878422315644, 3.928878422315644, 2.5459605423079315, 2.5459605423079315, 0.5083986415352486, 0.5083986415352486, 0.0005285363553890223, 0.0005285363553890223  …  0.0, 0.0019216479938148668, 0.0, 0.0, 0.00018203623944946495, 0.0, 0.0, 0.010500880317359504, 0.0, 0.0]\n",
       " [11.96660706776792, 11.96660706776792, 6.362235447048884, 6.362235447048884, 4.143106864582058, 4.143106864582058, 0.8571680647068806, 0.8571680647068806, 0.0011760266339584625, 0.0011760266339584625  …  0.0, 0.0050020475182880044, 0.0, 0.0, 0.0005983507130285268, 0.0, 0.0, 0.021924952310809664, 0.0, 0.0]\n",
       " [7.455371452215095, 7.455371452215095, 3.928878421937883, 3.928878421937883, 2.545960542068822, 2.545960542068822, 0.5083986414795432, 0.5083986414795432, 0.0005285363551481289, 0.0005285363551481289  …  0.0, 0.0019216479933303451, 0.0, 0.0, 0.0001820362393914674, 0.0, 0.0, 0.010500880315042017, 0.0, 0.0]"
      ]
     },
     "metadata": {},
     "output_type": "display_data"
    }
   ],
   "source": [
    "total_total_symm(positions,dis2mat,f_mat,total_symm_vec)"
   ]
  },
  {
   "attachments": {},
   "cell_type": "markdown",
   "metadata": {},
   "source": [
    "# Stating the obvious\n",
    "\n",
    "There are two components to this: firstly, it may be faster to implicitly remove the double calculation of triples by assigning them immediately. That is, go over symmetry functions rather than atoms and assign as we go, reducing the calculation from $55\\times \\sum_{j=1}^{54} j $ to $\\sum_{i=1}^{55} \\sum_{j=i+1}^{55}j $ This reduces the time of total calculation, but not by enough. We can further speed this up by working on the calculation of the symmetry function itself: this may require more thought. "
   ]
  },
  {
   "cell_type": "code",
   "execution_count": 11,
   "metadata": {},
   "outputs": [
    {
     "data": {
      "text/plain": [
       "55"
      ]
     },
     "metadata": {},
     "output_type": "display_data"
    }
   ],
   "source": [
    "function init_symm_vecs(dist2_mat,total_symm_vec)\n",
    "    g_mat=zeros(length(total_symm_vec),size(dist2_mat)[1])\n",
    "    return g_mat \n",
    "end\n",
    "g_mat = init_symm_vecs(dis2mat,total_symm_vec)\n",
    "length(g_mat[2,:])"
   ]
  },
  {
   "cell_type": "code",
   "execution_count": 12,
   "metadata": {},
   "outputs": [
    {
     "data": {
      "text/plain": [
       "55"
      ]
     },
     "metadata": {},
     "output_type": "display_data"
    }
   ],
   "source": [
    "length(eachcol(g_mat))"
   ]
  },
  {
   "cell_type": "code",
   "execution_count": 13,
   "metadata": {},
   "outputs": [
    {
     "data": {
      "text/plain": [
       "calc_symm_vals! (generic function with 2 methods)"
      ]
     },
     "metadata": {},
     "output_type": "display_data"
    }
   ],
   "source": [
    "function calc_symm_vals!(positions,dist2_mat,f_mat,g_vec,symm_func::RadialType2)\n",
    "    N=length(g_vec)\n",
    "    if symm_func.type_vec == [1.,1.]\n",
    "        \n",
    "        for atomindex in eachindex(g_vec)\n",
    "            for index2 in (atomindex+1):N\n",
    "                g_val =  calc_one_symm_val(dist2_mat[atomindex,index2],f_mat[atomindex,index2],symm_func.eta)\n",
    "                g_vec[atomindex] +=g_val \n",
    "                g_vec[index2] += g_val\n",
    "            end\n",
    "        end\n",
    "    else\n",
    "        g_vec = zeros(N)\n",
    "    end\n",
    "\n",
    "    return g_vec\n",
    "end\n",
    "\n",
    "function calc_symm_vals!(positions,dist2_mat,f_mat,g_vec,symm_func::AngularType3)\n",
    "    N = length(g_vec)\n",
    "    η,λ,ζ = symm_func.eta,symm_func.lambda,symm_func.zeta\n",
    "    if symm_func.type_vec == [1.,1.,1.]\n",
    "        for atomindex in eachindex(g_vec)\n",
    "            for index2 in (atomindex+1):N\n",
    "                for index3 in (index2+1):N\n",
    "\n",
    "                    g_val=calc_one_symm_val(positions[atomindex],positions[index2],positions[index3],dist2_mat[atomindex,index2],dist2_mat[atomindex,index3],dist2_mat[index2,index3],f_mat[atomindex,index2],f_mat[atomindex,index3],f_mat[index2,index3],η,λ,ζ)\n",
    "\n",
    "                    g_vec[atomindex] += g_val\n",
    "                    g_vec[index2] += g_val\n",
    "                    g_vec[index3] += g_val\n",
    "                end\n",
    "            end\n",
    "        end\n",
    "    else\n",
    "        g_vec = zeros(N)\n",
    "    end\n",
    "\n",
    "\n",
    "    return 2.0^(1-ζ)*g_vec\n",
    "end"
   ]
  },
  {
   "cell_type": "code",
   "execution_count": 14,
   "metadata": {},
   "outputs": [
    {
     "data": {
      "text/plain": [
       "total_symm_calc (generic function with 1 method)"
      ]
     },
     "metadata": {},
     "output_type": "display_data"
    }
   ],
   "source": [
    "function total_symm_calc(positions,dist2_mat,f_mat,total_symm_vec)\n",
    "    g_mat = init_symm_vecs(dist2_mat,total_symm_vec)\n",
    "     for g_index in eachindex(total_symm_vec)\n",
    "        g_mat[g_index,:] = calc_symm_vals!(positions,dist2_mat,f_mat,g_mat[g_index,:],total_symm_vec[g_index])\n",
    "    end\n",
    "\n",
    "    return g_mat\n",
    "end"
   ]
  },
  {
   "cell_type": "code",
   "execution_count": 15,
   "metadata": {},
   "outputs": [
    {
     "name": "stdout",
     "output_type": "stream",
     "text": [
      "[14.640666117305631, 0.0, 7.169783183727494, 0.0, 4.524213051903175, 0.0, 0.9725333082013506, 0.0, 0.0017948851872611987, 0.0, 35.92620108172102, 0.0, 0.0, 5.982413095508248, 0.0, 0.0, 10.0970998508329, 0.0, 0.0, 4.365675475640729, 0.0, 0.0, 6.09854579227037, 0.0, 0.0, 2.589615260424904, 0.0, 0.0, 12.270318492668707, 0.0, 0.0, 8.120072111423502, 0.0, 0.0, 1.296182793299763, 0.0, 0.0, 0.4555203136216524, 0.0, 0.0, 0.07521609278063308, 0.0, 0.0, 1.3389609524097035, 0.0, 0.0, 3.4140223846552784, 0.0, 0.0, 2.5901077848191956, 0.0, 0.0, 0.1607864821335121, 0.0, 0.0, 0.02191855766980976, 0.0, 0.0, 0.30798801672233045, 0.0, 0.0, 0.7308446089952683, 0.0, 0.0, 0.09696288396523911, 0.0, 0.0, 0.022012975865658216, 0.0, 0.0, 0.31164757413688454, 0.0, 0.0, 0.03673259165919136, 0.0, 0.0, 0.0650435502826457, 0.0, 0.0, 0.007425477011199372, 0.0, 0.0, 0.0009478536451217326, 0.0, 0.0, 0.02544139990466739, 0.0, 0.0]\n"
     ]
    }
   ],
   "source": [
    "println(total_symm_calc(positions,dis2mat,f_mat,total_symm_vec)[:,1])"
   ]
  },
  {
   "cell_type": "code",
   "execution_count": 16,
   "metadata": {},
   "outputs": [
    {
     "data": {
      "text/plain": [
       "BenchmarkTools.Trial: 290 samples with 1 evaluation.\n",
       " Range \u001b[90m(\u001b[39m\u001b[36m\u001b[1mmin\u001b[22m\u001b[39m … \u001b[35mmax\u001b[39m\u001b[90m):  \u001b[39m\u001b[36m\u001b[1m16.981 ms\u001b[22m\u001b[39m … \u001b[35m 18.380 ms\u001b[39m  \u001b[90m┊\u001b[39m GC \u001b[90m(\u001b[39mmin … max\u001b[90m): \u001b[39m0.00% … 5.14%\n",
       " Time  \u001b[90m(\u001b[39m\u001b[34m\u001b[1mmedian\u001b[22m\u001b[39m\u001b[90m):     \u001b[39m\u001b[34m\u001b[1m17.311 ms               \u001b[22m\u001b[39m\u001b[90m┊\u001b[39m GC \u001b[90m(\u001b[39mmedian\u001b[90m):    \u001b[39m0.00%\n",
       " Time  \u001b[90m(\u001b[39m\u001b[32m\u001b[1mmean\u001b[22m\u001b[39m ± \u001b[32mσ\u001b[39m\u001b[90m):   \u001b[39m\u001b[32m\u001b[1m17.301 ms\u001b[22m\u001b[39m ± \u001b[32m173.894 μs\u001b[39m  \u001b[90m┊\u001b[39m GC \u001b[90m(\u001b[39mmean ± σ\u001b[90m):  \u001b[39m0.02% ± 0.30%\n",
       "\n",
       "  \u001b[39m \u001b[39m \u001b[39m \u001b[39m \u001b[39m \u001b[39m \u001b[39m \u001b[39m \u001b[39m \u001b[39m \u001b[39m█\u001b[39m \u001b[39m▂\u001b[39m \u001b[39m▂\u001b[39m \u001b[39m \u001b[39m▁\u001b[39m \u001b[39m \u001b[39m \u001b[39m \u001b[39m▃\u001b[39m \u001b[39m \u001b[39m \u001b[39m \u001b[39m \u001b[32m▄\u001b[39m\u001b[34m \u001b[39m\u001b[39m \u001b[39m \u001b[39m \u001b[39m▁\u001b[39m▁\u001b[39m \u001b[39m \u001b[39m▄\u001b[39m▂\u001b[39m▁\u001b[39m \u001b[39m \u001b[39m \u001b[39m \u001b[39m \u001b[39m \u001b[39m \u001b[39m \u001b[39m \u001b[39m \u001b[39m \u001b[39m \u001b[39m \u001b[39m \u001b[39m \u001b[39m \u001b[39m \u001b[39m \u001b[39m \u001b[39m \u001b[39m \u001b[39m \n",
       "  \u001b[39m▃\u001b[39m▁\u001b[39m▃\u001b[39m▄\u001b[39m▄\u001b[39m▄\u001b[39m▆\u001b[39m▆\u001b[39m▆\u001b[39m█\u001b[39m█\u001b[39m█\u001b[39m█\u001b[39m█\u001b[39m█\u001b[39m▅\u001b[39m▃\u001b[39m█\u001b[39m▄\u001b[39m▇\u001b[39m▄\u001b[39m▄\u001b[39m█\u001b[39m▅\u001b[39m▄\u001b[39m▄\u001b[39m▅\u001b[39m▆\u001b[32m█\u001b[39m\u001b[34m█\u001b[39m\u001b[39m█\u001b[39m█\u001b[39m▇\u001b[39m█\u001b[39m█\u001b[39m█\u001b[39m▇\u001b[39m█\u001b[39m█\u001b[39m█\u001b[39m▄\u001b[39m▆\u001b[39m▄\u001b[39m▆\u001b[39m▇\u001b[39m▄\u001b[39m▄\u001b[39m▅\u001b[39m▅\u001b[39m▅\u001b[39m▄\u001b[39m▃\u001b[39m▃\u001b[39m▁\u001b[39m▄\u001b[39m▄\u001b[39m▃\u001b[39m▁\u001b[39m▁\u001b[39m▄\u001b[39m \u001b[39m▄\n",
       "  17 ms\u001b[90m           Histogram: frequency by time\u001b[39m         17.7 ms \u001b[0m\u001b[1m<\u001b[22m\n",
       "\n",
       " Memory estimate\u001b[90m: \u001b[39m\u001b[33m154.12 KiB\u001b[39m, allocs estimate\u001b[90m: \u001b[39m\u001b[33m401\u001b[39m."
      ]
     },
     "metadata": {},
     "output_type": "display_data"
    }
   ],
   "source": [
    "@benchmark total_symm_calc($positions,$dis2mat,$f_mat,$total_symm_vec)"
   ]
  },
  {
   "cell_type": "code",
   "execution_count": 17,
   "metadata": {},
   "outputs": [],
   "source": []
  }
 ],
 "metadata": {
  "kernelspec": {
   "display_name": "Julia 1.8.5",
   "language": "julia",
   "name": "julia-1.8"
  },
  "language_info": {
   "file_extension": ".jl",
   "mimetype": "application/julia",
   "name": "julia",
   "version": "1.8.5"
  },
  "orig_nbformat": 4
 },
 "nbformat": 4,
 "nbformat_minor": 2
}
