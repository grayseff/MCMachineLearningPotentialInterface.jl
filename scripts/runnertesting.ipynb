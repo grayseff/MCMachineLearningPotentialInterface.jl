{
 "cells": [
  {
   "attachments": {},
   "cell_type": "markdown",
   "metadata": {},
   "source": [
    "# Statement\n",
    "\n",
    "After some discussion with Jörg about the best implementation of the symmetry functions it may pay to take a top-down view, and calculate the symmetry funcitons on a per-triple basis. Firstly, constructing the $r^2$ matrix implies that an $f_c(r^2)$ matrix can be computed and stored only once, reducing the frequency of computation drastically"
   ]
  },
  {
   "cell_type": "code",
   "execution_count": 1,
   "metadata": {},
   "outputs": [],
   "source": [
    "using Distributed\n",
    "@everywhere using SharedArrays\n",
    "@everywhere using MachineLearningPotential\n",
    "@everywhere using BenchmarkTools\n",
    "@everywhere using StaticArrays"
   ]
  },
  {
   "attachments": {},
   "cell_type": "markdown",
   "metadata": {},
   "source": [
    "Loading the atomic parameters and symmetry functions"
   ]
  },
  {
   "cell_type": "code",
   "execution_count": 2,
   "metadata": {},
   "outputs": [
    {
     "data": {
      "text/plain": [
       "88-element Vector{Any}:\n",
       " RadialType2{Float64}(0.001, 11.338, [1.0, 1.0])\n",
       " RadialType2{Float64}(0.001, 11.338, [1.0, 0.0])\n",
       " RadialType2{Float64}(0.02, 11.338, [1.0, 1.0])\n",
       " RadialType2{Float64}(0.02, 11.338, [1.0, 0.0])\n",
       " RadialType2{Float64}(0.035, 11.338, [1.0, 1.0])\n",
       " RadialType2{Float64}(0.035, 11.338, [1.0, 0.0])\n",
       " RadialType2{Float64}(0.1, 11.338, [1.0, 1.0])\n",
       " RadialType2{Float64}(0.1, 11.338, [1.0, 0.0])\n",
       " RadialType2{Float64}(0.4, 11.338, [1.0, 1.0])\n",
       " RadialType2{Float64}(0.4, 11.338, [1.0, 0.0])\n",
       " ⋮\n",
       " AngularType3{Float64}(0.08, -1.0, 2.0, 11.338, [1.0, 1.0, 1.0], 0.5)\n",
       " AngularType3{Float64}(0.08, -1.0, 2.0, 11.338, [1.0, 1.0, 0.0], 0.5)\n",
       " AngularType3{Float64}(0.08, -1.0, 2.0, 11.338, [1.0, 0.0, 0.0], 0.5)\n",
       " AngularType3{Float64}(0.08, -1.0, 4.0, 11.338, [1.0, 1.0, 1.0], 0.125)\n",
       " AngularType3{Float64}(0.08, -1.0, 4.0, 11.338, [1.0, 1.0, 0.0], 0.125)\n",
       " AngularType3{Float64}(0.08, -1.0, 4.0, 11.338, [1.0, 0.0, 0.0], 0.125)\n",
       " AngularType3{Float64}(0.08, 1.0, 4.0, 11.338, [1.0, 1.0, 1.0], 0.125)\n",
       " AngularType3{Float64}(0.08, 1.0, 4.0, 11.338, [1.0, 1.0, 0.0], 0.125)\n",
       " AngularType3{Float64}(0.08, 1.0, 4.0, 11.338, [1.0, 0.0, 0.0], 0.125)"
      ]
     },
     "metadata": {},
     "output_type": "display_data"
    }
   ],
   "source": [
    "atoms = [[0.0000006584,       -0.0000019175,        0.0000000505],\n",
    "[-0.0000005810,       -0.0000004871,        0.6678432175],\n",
    "[0.1845874248,       -0.5681026047,        0.2986701538],\n",
    "[-0.4832557457,       -0.3511072166,        0.2986684497],\n",
    "[-0.4832557570,        0.3511046452,        0.2986669456],\n",
    "[0.1845874064,        0.5681000550,        0.2986677202],\n",
    "[0.5973371920,       -0.0000012681,        0.2986697030],\n",
    "[-0.1845860897,       -0.5681038901,       -0.2986676192],\n",
    "[-0.5973358752,       -0.0000025669,       -0.2986696020],\n",
    "[-0.1845861081,        0.5680987696,       -0.2986700528],\n",
    "[0.4832570624,        0.3511033815,       -0.2986683486],\n",
    "[0.4832570738,       -0.3511084803,       -0.2986668445],\n",
    "[0.0000018978,       -0.0000033480,       -0.6678431165],\n",
    "[-0.0000017969,        0.0000009162,        1.3230014650],\n",
    "[0.1871182835,       -0.5758942175,        0.9797717078],\n",
    "[-0.4898861924,       -0.3559221410,       0.9797699802],\n",
    "[-0.4898862039,        0.3559224872,        0.9797684555],\n",
    "[0.1871182648,        0.5758945856,        0.9797692407],\n",
    "[0.6055300485,        0.0000001908,        0.9797712507],\n",
    "[0.7926501864,       -0.5758950093,        0.6055339635],\n",
    "[0.3656681761,       -1.1254128670,        0.5916673591],\n",
    "[-0.3027660545,       -0.9318173412,        0.6055326929],\n",
    "[-0.9573332453,       -0.6955436707,        0.5916639831],\n",
    "[-0.9797705418,       -0.0000006364,        0.6055294407],\n",
    "[-0.9573332679,        0.6955423392,        0.5916610035],\n",
    "[-0.3027660847,        0.9318160902,        0.6055287012],\n",
    "[0.3656681396,        1.1254115783,        0.5916625380],\n",
    "[0.7926501677,        0.5758937939,        0.6055314964],\n",
    "[1.1833279992,       -0.0000006311,        0.5916664660],\n",
    "[0.6770051458,       -0.9318186223,        0.0000033028],\n",
    "[0.0000006771,       -1.1517907207,        0.0000025175],\n",
    "[-0.6770037988,       -0.9318186442,        0.0000007900],\n",
    "[-1.0954155825,       -0.3559242494,       -0.0000012200],\n",
    "[-1.0954155940,        0.3559203788,       -0.0000027447],\n",
    "[-0.6770038290,        0.9318147872,       -0.0000032017],\n",
    "[0.0000006397,        1.1517868856,       -0.0000024165],\n",
    "[0.6770051155,        0.9318148091,       -0.0000006889],\n",
    "[1.0954168993,        0.3559204143,        0.0000013211],\n",
    "[1.0954169108,       -0.3559242139,        0.0000028458],\n",
    "[0.3027674014,       -0.9318199253,       -0.6055286002],\n",
    "[-0.3656668229,       -1.1254154134,       -0.5916624370],\n",
    "[-0.7926488510,       -0.5758976290,       -0.6055313954],\n",
    "[-1.1833266824,       -0.0000032040,       -0.5916663649],\n",
    "[-0.7926488697,        0.5758911742,       -0.6055338624],\n",
    "[-0.3656668594,        1.1254090319,       -0.5916672580],\n",
    "[0.3027673712,        0.9318135061,       -0.6055325919],\n",
    "[0.9573345621,        0.6955398357,       -0.5916638820],\n",
    "[0.9797718586,       -0.0000031986,       -0.6055293396],\n",
    "[0.9573345846,       -0.6955461743,       -0.5916609025],\n",
    "[-0.1871169480,       -0.5758984207,       -0.9797691397],\n",
    "[-0.6055287318,       -0.0000040259,       -0.9797711497],\n",
    "[-0.1871169667,        0.5758903824,       -0.9797716067],\n",
    "[0.4898875091,        0.3559183059,       -0.9797698792],\n",
    "[0.4898875207,       -0.3559263223,       -0.9797683545],\n",
    "[0.0000031136,       -0.0000047513,       -1.3230013639]]*18.8973*0.36258\n",
    "\n",
    "positions = [SVector{3}(p[i] for i in 1:3) for p in atoms]\n",
    "dis2mat = get_distance2_mat(positions)\n",
    "X = [ 1    1              0.001   0.000  11.338\n",
    " 1    0              0.001   0.000  11.338\n",
    " 1    1              0.020   0.000  11.338\n",
    " 1    0              0.020   0.000  11.338\n",
    " 1    1              0.035   0.000  11.338\n",
    " 1    0              0.035   0.000  11.338\n",
    " 1    1              0.100   0.000  11.338\n",
    " 1    0              0.100   0.000  11.338\n",
    " 1    1              0.400   0.000  11.338\n",
    " 1    0              0.400   0.000  11.338]\n",
    "\n",
    "radsymmvec = []\n",
    "\n",
    "for row in eachrow(X)\n",
    "    symmfunc = RadialType2{Float64}(row[3],row[5],[row[1],row[2]])\n",
    "    push!(radsymmvec,symmfunc)\n",
    "end\n",
    "\n",
    "V = [[0.0001,1,1,11.338],[0.0001,-1,2,11.338],[0.003,-1,1,11.338],[0.003,-1,2,11.338],[0.008,-1,1,11.338],[0.008,-1,2,11.228],[0.008,1,2,11.338],[0.015,1,1,11.338],[0.015,-1,2,11.338],[0.015,-1,4,11.338],[0.015,-1,16,11.338],[0.025,-1,1,11.338],[0.025,1,1,11.338],[0.025,1,2,11.338],[0.025,-1,4,11.338],[0.025,-1,16,11.338],[0.025,1,16,11.338],[0.045,1,1,11.338],[0.045,-1,2,11.338],[0.045,-1,4,11.338],[0.045,1,4,11.338],[0.045,1,16,11.338],[0.08,1,1,11.338],[0.08,-1,2,11.338],[0.08,-1,4,11.338],[0.08,1,4,11.338]]\n",
    "\n",
    "T = [[1.,1.,1.],[1.,1.,0.],[1.,0.,0.]]\n",
    "\n",
    "angularsymmvec = []\n",
    "\n",
    "for element in V \n",
    "    for types in T\n",
    "        symmfunc = AngularType3{Float64}(element[1],element[2],element[3],11.338,types)\n",
    "        push!(angularsymmvec,symmfunc)\n",
    "    end\n",
    "end\n",
    "\n",
    "total_symm_vec = vcat(radsymmvec,angularsymmvec)"
   ]
  },
  {
   "attachments": {},
   "cell_type": "markdown",
   "metadata": {},
   "source": [
    "Ready to start workshopping:\n",
    "\n",
    "Considering the cutoff radius of every symmetry function is identical, we can calculate an f_cut matrix. "
   ]
  },
  {
   "cell_type": "code",
   "execution_count": 3,
   "metadata": {},
   "outputs": [
    {
     "data": {
      "text/plain": [
       "55×55 Matrix{Float64}:\n",
       " 1.0        0.649134    0.649134    …  0.21115     0.21115     0.0959383\n",
       " 0.649134   1.0         0.617699       0.0         0.0         0.0\n",
       " 0.649134   0.617699    1.0            0.00208061  0.0912928   0.0\n",
       " 0.649134   0.617699    0.617699       0.0         0.00208061  0.0\n",
       " 0.649134   0.617699    0.223352       0.00208061  0.0         0.0\n",
       " 0.649134   0.617699    0.223352    …  0.0912928   0.00208061  0.0\n",
       " 0.649134   0.617699    0.617699       0.0912928   0.0912928   0.0\n",
       " 0.649134   0.223352    0.617699       0.0912928   0.355548    0.185434\n",
       " 0.649134   0.223352    0.223352       0.0912928   0.0912928   0.185434\n",
       " 0.649134   0.223352    0.0889637      0.355548    0.0912928   0.185434\n",
       " ⋮                                  ⋱                          \n",
       " 0.0959383  0.0         0.0            0.623382    0.164805    0.0613471\n",
       " 0.21115    0.00208061  0.0912928      0.608792    0.608792    0.164805\n",
       " 0.0959383  0.0         0.185434       0.164805    0.623382    0.0613471\n",
       " 0.21115    0.0         0.0912928      0.21115     0.608792    0.623382\n",
       " 0.21115    0.0         0.00208061  …  0.21115     0.21115     0.623382\n",
       " 0.21115    0.0         0.0            0.608792    0.21115     0.623382\n",
       " 0.21115    0.0         0.00208061     1.0         0.608792    0.623382\n",
       " 0.21115    0.0         0.0912928      0.608792    1.0         0.623382\n",
       " 0.0959383  0.0         0.0            0.623382    0.623382    1.0"
      ]
     },
     "metadata": {},
     "output_type": "display_data"
    }
   ],
   "source": [
    "f_mat = cutoff_function.(sqrt.(dis2mat),Ref(total_symm_vec[1].r_cut))"
   ]
  },
  {
   "cell_type": "code",
   "execution_count": 4,
   "metadata": {},
   "outputs": [],
   "source": [
    "@everywhere calc_one_symm_val(r2_ij,fc_ij,eta) = ifelse(fc_ij!=0. && fc_ij!=1., fc_ij*exp(-eta*r2_ij), 0.)\n",
    "\n",
    "@everywhere function calc_symm_function(positions,dist2_matrix,fc_matrix,index,symmfunc::RadialType2)\n",
    "    \n",
    "    eta=symmfunc.eta\n",
    "    g_vec = calc_one_symm_val.(dist2_matrix[:,index],fc_matrix[:,index],eta)\n",
    "    return sum(g_vec)\n",
    "end\n"
   ]
  },
  {
   "cell_type": "code",
   "execution_count": 5,
   "metadata": {},
   "outputs": [],
   "source": [
    "@everywhere function calc_one_symm_val(position1,position2,position3,r2_ij,r2_ik,r2_jk,f_ij,f_ik,f_jk,η,λ,ζ)\n",
    "        θ = angular_measure(position1,position2,position3,r2_ij,r2_ik)\n",
    "    \n",
    "        g= (1+λ*θ)^ζ * exp(-η*(r2_ij+r2_ik+r2_jk)) * f_ij * f_ik * f_jk\n",
    "        \n",
    "    return g\n",
    "end\n",
    "\n",
    "@everywhere function calc_symm_function(positions,dis2_mat,fc_mat,index,symmfunc::AngularType3)\n",
    "    N = length(positions)\n",
    "    g = 0.\n",
    "    η,λ,ζ = symmfunc.eta,symmfunc.lambda,symmfunc.zeta\n",
    "    if symmfunc.type_vec == [1.,1.,1.]\n",
    "        for j=(1:N)\n",
    "            if j != index\n",
    "                for k  = (1:j-1)\n",
    "                    if k!= index\n",
    "                        g+= calc_one_symm_val(\n",
    "                            positions[index],positions[j],positions[k],dis2_mat[index,j],dis2_mat[index,k],dis2_mat[j,k],fc_mat[index,j],fc_mat[index,k],fc_mat[j,k] ,η,λ,ζ\n",
    "                            ) \n",
    "                    end            \n",
    "                end\n",
    "            end\n",
    "        end\n",
    "    end\n",
    "\n",
    "    return symmfunc.tpz*g\n",
    "end"
   ]
  },
  {
   "cell_type": "code",
   "execution_count": 6,
   "metadata": {},
   "outputs": [
    {
     "data": {
      "text/plain": [
       "BenchmarkTools.Trial: 5428 samples with 1 evaluation.\n",
       " Range \u001b[90m(\u001b[39m\u001b[36m\u001b[1mmin\u001b[22m\u001b[39m … \u001b[35mmax\u001b[39m\u001b[90m):  \u001b[39m\u001b[36m\u001b[1m886.096 μs\u001b[22m\u001b[39m … \u001b[35m 2.678 ms\u001b[39m  \u001b[90m┊\u001b[39m GC \u001b[90m(\u001b[39mmin … max\u001b[90m): \u001b[39m0.00% … 65.36%\n",
       " Time  \u001b[90m(\u001b[39m\u001b[34m\u001b[1mmedian\u001b[22m\u001b[39m\u001b[90m):     \u001b[39m\u001b[34m\u001b[1m924.061 μs              \u001b[22m\u001b[39m\u001b[90m┊\u001b[39m GC \u001b[90m(\u001b[39mmedian\u001b[90m):    \u001b[39m0.00%\n",
       " Time  \u001b[90m(\u001b[39m\u001b[32m\u001b[1mmean\u001b[22m\u001b[39m ± \u001b[32mσ\u001b[39m\u001b[90m):   \u001b[39m\u001b[32m\u001b[1m920.368 μs\u001b[22m\u001b[39m ± \u001b[32m36.641 μs\u001b[39m  \u001b[90m┊\u001b[39m GC \u001b[90m(\u001b[39mmean ± σ\u001b[90m):  \u001b[39m0.07% ±  1.24%\n",
       "\n",
       "  \u001b[39m \u001b[39m \u001b[39m \u001b[39m \u001b[39m \u001b[39m \u001b[39m \u001b[39m \u001b[39m \u001b[39m \u001b[39m \u001b[39m \u001b[39m \u001b[39m \u001b[39m \u001b[39m \u001b[39m \u001b[39m \u001b[39m \u001b[39m \u001b[39m▁\u001b[39m▁\u001b[39m \u001b[39m \u001b[39m \u001b[39m \u001b[39m \u001b[39m \u001b[39m \u001b[39m \u001b[39m \u001b[32m \u001b[39m\u001b[39m \u001b[39m \u001b[34m \u001b[39m\u001b[39m█\u001b[39m▄\u001b[39m \u001b[39m▁\u001b[39m \u001b[39m \u001b[39m \u001b[39m \u001b[39m \u001b[39m \u001b[39m \u001b[39m \u001b[39m \u001b[39m \u001b[39m \u001b[39m \u001b[39m \u001b[39m \u001b[39m \u001b[39m \u001b[39m \u001b[39m \u001b[39m \u001b[39m \u001b[39m \u001b[39m \u001b[39m \n",
       "  \u001b[39m▂\u001b[39m▂\u001b[39m▂\u001b[39m▄\u001b[39m▄\u001b[39m▃\u001b[39m▃\u001b[39m▂\u001b[39m▂\u001b[39m▂\u001b[39m▂\u001b[39m▂\u001b[39m▂\u001b[39m▂\u001b[39m▂\u001b[39m▂\u001b[39m▂\u001b[39m▅\u001b[39m▆\u001b[39m▆\u001b[39m█\u001b[39m█\u001b[39m▆\u001b[39m▅\u001b[39m▄\u001b[39m▄\u001b[39m▃\u001b[39m▄\u001b[39m▄\u001b[39m▃\u001b[39m▃\u001b[32m▃\u001b[39m\u001b[39m▃\u001b[39m▃\u001b[34m█\u001b[39m\u001b[39m█\u001b[39m█\u001b[39m▇\u001b[39m█\u001b[39m▅\u001b[39m▅\u001b[39m▄\u001b[39m▃\u001b[39m▃\u001b[39m▃\u001b[39m▃\u001b[39m▃\u001b[39m▂\u001b[39m▂\u001b[39m▂\u001b[39m▂\u001b[39m▂\u001b[39m▂\u001b[39m▃\u001b[39m▃\u001b[39m▂\u001b[39m▂\u001b[39m▂\u001b[39m▁\u001b[39m▁\u001b[39m \u001b[39m▃\n",
       "  886 μs\u001b[90m          Histogram: frequency by time\u001b[39m          953 μs \u001b[0m\u001b[1m<\u001b[22m\n",
       "\n",
       " Memory estimate\u001b[90m: \u001b[39m\u001b[33m23.25 KiB\u001b[39m, allocs estimate\u001b[90m: \u001b[39m\u001b[33m209\u001b[39m."
      ]
     },
     "metadata": {},
     "output_type": "display_data"
    }
   ],
   "source": [
    "function symm_functions(positions,dis2_mat,fc_mat,index,symm_func_vec)\n",
    "    G_vec = calc_symm_function.(Ref(positions),Ref(dis2_mat),Ref(fc_mat),Ref(index),symm_func_vec)\n",
    "    return G_vec\n",
    "end\n",
    "@benchmark symm_functions($positions,$dis2mat,$f_mat,rand(1:55),$total_symm_vec)"
   ]
  },
  {
   "cell_type": "code",
   "execution_count": 7,
   "metadata": {},
   "outputs": [
    {
     "data": {
      "text/plain": [
       "BenchmarkTools.Trial: 10000 samples with 1 evaluation.\n",
       " Range \u001b[90m(\u001b[39m\u001b[36m\u001b[1mmin\u001b[22m\u001b[39m … \u001b[35mmax\u001b[39m\u001b[90m):  \u001b[39m\u001b[36m\u001b[1m31.239 μs\u001b[22m\u001b[39m … \u001b[35m 57.219 μs\u001b[39m  \u001b[90m┊\u001b[39m GC \u001b[90m(\u001b[39mmin … max\u001b[90m): \u001b[39m0.00% … 0.00%\n",
       " Time  \u001b[90m(\u001b[39m\u001b[34m\u001b[1mmedian\u001b[22m\u001b[39m\u001b[90m):     \u001b[39m\u001b[34m\u001b[1m32.024 μs               \u001b[22m\u001b[39m\u001b[90m┊\u001b[39m GC \u001b[90m(\u001b[39mmedian\u001b[90m):    \u001b[39m0.00%\n",
       " Time  \u001b[90m(\u001b[39m\u001b[32m\u001b[1mmean\u001b[22m\u001b[39m ± \u001b[32mσ\u001b[39m\u001b[90m):   \u001b[39m\u001b[32m\u001b[1m32.059 μs\u001b[22m\u001b[39m ± \u001b[32m584.578 ns\u001b[39m  \u001b[90m┊\u001b[39m GC \u001b[90m(\u001b[39mmean ± σ\u001b[90m):  \u001b[39m0.00% ± 0.00%\n",
       "\n",
       "  \u001b[39m▃\u001b[39m▄\u001b[39m▅\u001b[39m▅\u001b[39m▄\u001b[39m▂\u001b[39m \u001b[39m \u001b[39m \u001b[39m \u001b[39m \u001b[39m \u001b[39m \u001b[39m \u001b[39m \u001b[39m \u001b[39m▂\u001b[39m▇\u001b[39m▇\u001b[39m█\u001b[34m▇\u001b[39m\u001b[39m▆\u001b[39m▅\u001b[39m▂\u001b[39m \u001b[39m \u001b[39m \u001b[39m \u001b[39m \u001b[39m \u001b[39m \u001b[39m \u001b[39m \u001b[39m \u001b[39m▂\u001b[39m▃\u001b[39m▃\u001b[39m▃\u001b[39m▃\u001b[39m▂\u001b[39m▁\u001b[39m \u001b[39m \u001b[39m \u001b[39m \u001b[39m \u001b[39m \u001b[39m \u001b[39m \u001b[39m \u001b[39m \u001b[39m \u001b[39m \u001b[39m \u001b[39m \u001b[39m \u001b[39m \u001b[39m \u001b[39m \u001b[39m \u001b[39m \u001b[39m▂\n",
       "  \u001b[39m█\u001b[39m█\u001b[39m█\u001b[39m█\u001b[39m█\u001b[39m█\u001b[39m▇\u001b[39m▅\u001b[39m▄\u001b[39m▄\u001b[39m▄\u001b[39m▂\u001b[39m▄\u001b[39m▄\u001b[39m▃\u001b[39m▄\u001b[39m█\u001b[39m█\u001b[39m█\u001b[39m█\u001b[34m█\u001b[39m\u001b[39m█\u001b[39m█\u001b[39m█\u001b[39m█\u001b[39m▇\u001b[39m▇\u001b[39m▆\u001b[39m▆\u001b[39m▆\u001b[39m▇\u001b[39m▆\u001b[39m▆\u001b[39m▇\u001b[39m█\u001b[39m█\u001b[39m█\u001b[39m█\u001b[39m█\u001b[39m█\u001b[39m█\u001b[39m▇\u001b[39m█\u001b[39m█\u001b[39m▇\u001b[39m▇\u001b[39m▇\u001b[39m▇\u001b[39m▇\u001b[39m▇\u001b[39m▆\u001b[39m▇\u001b[39m▇\u001b[39m▇\u001b[39m▇\u001b[39m▆\u001b[39m▆\u001b[39m▇\u001b[39m▆\u001b[39m▆\u001b[39m \u001b[39m█\n",
       "  31.2 μs\u001b[90m       \u001b[39m\u001b[90mHistogram: \u001b[39m\u001b[90m\u001b[1mlog(\u001b[22m\u001b[39m\u001b[90mfrequency\u001b[39m\u001b[90m\u001b[1m)\u001b[22m\u001b[39m\u001b[90m by time\u001b[39m      33.6 μs \u001b[0m\u001b[1m<\u001b[22m\n",
       "\n",
       " Memory estimate\u001b[90m: \u001b[39m\u001b[33m96 bytes\u001b[39m, allocs estimate\u001b[90m: \u001b[39m\u001b[33m2\u001b[39m."
      ]
     },
     "metadata": {},
     "output_type": "display_data"
    }
   ],
   "source": [
    "@benchmark calc_symm_function($positions,$dis2mat,$f_mat,rand(1:55),$total_symm_vec[11])"
   ]
  },
  {
   "cell_type": "code",
   "execution_count": 8,
   "metadata": {},
   "outputs": [
    {
     "data": {
      "text/plain": [
       "BenchmarkTools.Trial: 10000 samples with 1 evaluation.\n",
       " Range \u001b[90m(\u001b[39m\u001b[36m\u001b[1mmin\u001b[22m\u001b[39m … \u001b[35mmax\u001b[39m\u001b[90m):  \u001b[39m\u001b[36m\u001b[1m21.627 μs\u001b[22m\u001b[39m … \u001b[35m846.359 μs\u001b[39m  \u001b[90m┊\u001b[39m GC \u001b[90m(\u001b[39mmin … max\u001b[90m): \u001b[39m0.00% … 94.40%\n",
       " Time  \u001b[90m(\u001b[39m\u001b[34m\u001b[1mmedian\u001b[22m\u001b[39m\u001b[90m):     \u001b[39m\u001b[34m\u001b[1m27.104 μs               \u001b[22m\u001b[39m\u001b[90m┊\u001b[39m GC \u001b[90m(\u001b[39mmedian\u001b[90m):    \u001b[39m0.00%\n",
       " Time  \u001b[90m(\u001b[39m\u001b[32m\u001b[1mmean\u001b[22m\u001b[39m ± \u001b[32mσ\u001b[39m\u001b[90m):   \u001b[39m\u001b[32m\u001b[1m28.510 μs\u001b[22m\u001b[39m ± \u001b[32m 16.823 μs\u001b[39m  \u001b[90m┊\u001b[39m GC \u001b[90m(\u001b[39mmean ± σ\u001b[90m):  \u001b[39m1.25% ±  2.11%\n",
       "\n",
       "  \u001b[39m \u001b[39m \u001b[39m \u001b[39m \u001b[39m \u001b[39m \u001b[39m \u001b[39m \u001b[39m \u001b[39m \u001b[39m \u001b[39m \u001b[39m \u001b[39m▁\u001b[39m▅\u001b[39m█\u001b[39m▇\u001b[39m▇\u001b[34m▃\u001b[39m\u001b[39m \u001b[39m \u001b[39m \u001b[32m \u001b[39m\u001b[39m \u001b[39m \u001b[39m \u001b[39m \u001b[39m \u001b[39m \u001b[39m \u001b[39m \u001b[39m \u001b[39m \u001b[39m \u001b[39m \u001b[39m \u001b[39m \u001b[39m \u001b[39m \u001b[39m \u001b[39m \u001b[39m \u001b[39m \u001b[39m \u001b[39m \u001b[39m \u001b[39m \u001b[39m \u001b[39m \u001b[39m \u001b[39m \u001b[39m \u001b[39m \u001b[39m \u001b[39m \u001b[39m \u001b[39m \u001b[39m \u001b[39m \u001b[39m \u001b[39m \u001b[39m \n",
       "  \u001b[39m▂\u001b[39m▅\u001b[39m█\u001b[39m█\u001b[39m▇\u001b[39m▅\u001b[39m▃\u001b[39m▁\u001b[39m▁\u001b[39m▁\u001b[39m▂\u001b[39m▂\u001b[39m▄\u001b[39m█\u001b[39m█\u001b[39m█\u001b[39m█\u001b[39m█\u001b[34m█\u001b[39m\u001b[39m▇\u001b[39m▄\u001b[39m▂\u001b[32m▂\u001b[39m\u001b[39m▂\u001b[39m▂\u001b[39m▃\u001b[39m▃\u001b[39m▄\u001b[39m▅\u001b[39m▇\u001b[39m▇\u001b[39m█\u001b[39m▇\u001b[39m▆\u001b[39m▄\u001b[39m▄\u001b[39m▃\u001b[39m▂\u001b[39m▂\u001b[39m▂\u001b[39m▂\u001b[39m▂\u001b[39m▂\u001b[39m▃\u001b[39m▃\u001b[39m▂\u001b[39m▂\u001b[39m▂\u001b[39m▂\u001b[39m▂\u001b[39m▁\u001b[39m▁\u001b[39m▁\u001b[39m▁\u001b[39m▁\u001b[39m▁\u001b[39m▁\u001b[39m▁\u001b[39m▁\u001b[39m▁\u001b[39m \u001b[39m▃\n",
       "  21.6 μs\u001b[90m         Histogram: frequency by time\u001b[39m         40.4 μs \u001b[0m\u001b[1m<\u001b[22m\n",
       "\n",
       " Memory estimate\u001b[90m: \u001b[39m\u001b[33m23.39 KiB\u001b[39m, allocs estimate\u001b[90m: \u001b[39m\u001b[33m4\u001b[39m."
      ]
     },
     "metadata": {},
     "output_type": "display_data"
    }
   ],
   "source": [
    "@benchmark calc_symmetry_function($positions,$dis2mat,rand(1:55),$total_symm_vec[11])"
   ]
  },
  {
   "attachments": {},
   "cell_type": "markdown",
   "metadata": {},
   "source": [
    "More important here is to gauge how slow it is to calculate the total symmetry vector for each atom"
   ]
  },
  {
   "cell_type": "code",
   "execution_count": 9,
   "metadata": {},
   "outputs": [
    {
     "data": {
      "text/plain": [
       "BenchmarkTools.Trial: 100 samples with 1 evaluation.\n",
       " Range \u001b[90m(\u001b[39m\u001b[36m\u001b[1mmin\u001b[22m\u001b[39m … \u001b[35mmax\u001b[39m\u001b[90m):  \u001b[39m\u001b[36m\u001b[1m49.555 ms\u001b[22m\u001b[39m … \u001b[35m 52.960 ms\u001b[39m  \u001b[90m┊\u001b[39m GC \u001b[90m(\u001b[39mmin … max\u001b[90m): \u001b[39m0.00% … 3.57%\n",
       " Time  \u001b[90m(\u001b[39m\u001b[34m\u001b[1mmedian\u001b[22m\u001b[39m\u001b[90m):     \u001b[39m\u001b[34m\u001b[1m50.059 ms               \u001b[22m\u001b[39m\u001b[90m┊\u001b[39m GC \u001b[90m(\u001b[39mmedian\u001b[90m):    \u001b[39m0.00%\n",
       " Time  \u001b[90m(\u001b[39m\u001b[32m\u001b[1mmean\u001b[22m\u001b[39m ± \u001b[32mσ\u001b[39m\u001b[90m):   \u001b[39m\u001b[32m\u001b[1m50.216 ms\u001b[22m\u001b[39m ± \u001b[32m565.401 μs\u001b[39m  \u001b[90m┊\u001b[39m GC \u001b[90m(\u001b[39mmean ± σ\u001b[90m):  \u001b[39m0.08% ± 0.50%\n",
       "\n",
       "  \u001b[39m \u001b[39m \u001b[39m█\u001b[39m▂\u001b[39m \u001b[39m \u001b[39m▅\u001b[39m▅\u001b[39m \u001b[39m \u001b[34m▅\u001b[39m\u001b[39m \u001b[39m \u001b[39m \u001b[32m \u001b[39m\u001b[39m \u001b[39m \u001b[39m▂\u001b[39m \u001b[39m \u001b[39m \u001b[39m \u001b[39m \u001b[39m \u001b[39m \u001b[39m \u001b[39m \u001b[39m \u001b[39m \u001b[39m \u001b[39m \u001b[39m \u001b[39m \u001b[39m \u001b[39m \u001b[39m \u001b[39m \u001b[39m \u001b[39m \u001b[39m \u001b[39m \u001b[39m \u001b[39m \u001b[39m \u001b[39m \u001b[39m \u001b[39m \u001b[39m \u001b[39m \u001b[39m \u001b[39m \u001b[39m \u001b[39m \u001b[39m \u001b[39m \u001b[39m \u001b[39m \u001b[39m \u001b[39m \u001b[39m \u001b[39m \u001b[39m \n",
       "  \u001b[39m█\u001b[39m▇\u001b[39m█\u001b[39m█\u001b[39m▅\u001b[39m█\u001b[39m█\u001b[39m█\u001b[39m▄\u001b[39m█\u001b[34m█\u001b[39m\u001b[39m█\u001b[39m▄\u001b[39m█\u001b[32m▄\u001b[39m\u001b[39m▄\u001b[39m▅\u001b[39m█\u001b[39m▅\u001b[39m▅\u001b[39m█\u001b[39m▄\u001b[39m▅\u001b[39m▅\u001b[39m▁\u001b[39m▄\u001b[39m▇\u001b[39m█\u001b[39m▄\u001b[39m▁\u001b[39m▅\u001b[39m▄\u001b[39m▁\u001b[39m▅\u001b[39m▁\u001b[39m▁\u001b[39m▁\u001b[39m▁\u001b[39m▁\u001b[39m▁\u001b[39m▁\u001b[39m▁\u001b[39m▁\u001b[39m▁\u001b[39m▁\u001b[39m▁\u001b[39m▁\u001b[39m▁\u001b[39m▁\u001b[39m▁\u001b[39m▁\u001b[39m▁\u001b[39m▁\u001b[39m▁\u001b[39m▁\u001b[39m▁\u001b[39m▁\u001b[39m▁\u001b[39m▁\u001b[39m▄\u001b[39m \u001b[39m▄\n",
       "  49.6 ms\u001b[90m         Histogram: frequency by time\u001b[39m         52.5 ms \u001b[0m\u001b[1m<\u001b[22m\n",
       "\n",
       " Memory estimate\u001b[90m: \u001b[39m\u001b[33m1.25 MiB\u001b[39m, allocs estimate\u001b[90m: \u001b[39m\u001b[33m11499\u001b[39m."
      ]
     },
     "metadata": {},
     "output_type": "display_data"
    }
   ],
   "source": [
    "@everywhere function total_total_symm(positions,dis2_mat,fc_mat,symm_func_vec)\n",
    "    g_tot=[]\n",
    "    for index in eachindex(positions)\n",
    "        G_vec = symm_functions(positions,dis2mat,f_mat,rand(1:55),total_symm_vec)\n",
    "        push!(g_tot,G_vec)\n",
    "    end\n",
    "    return g_tot\n",
    "end\n",
    "@benchmark total_total_symm($positions,$dis2mat,$f_mat,$total_symm_vec)"
   ]
  },
  {
   "cell_type": "code",
   "execution_count": 10,
   "metadata": {},
   "outputs": [
    {
     "data": {
      "text/plain": [
       "55-element Vector{Any}:\n",
       " [11.966607068035858, 11.966607068035858, 6.362235447320308, 6.362235447320308, 4.143106864843472, 4.143106864843472, 0.8571680648473241, 0.8571680648473241, 0.0011760266346499328, 0.0011760266346499328  …  0.0, 0.0050020475206395435, 0.0, 0.0, 0.0005983507133783634, 0.0, 0.0, 0.021924952318636424, 0.0, 0.0]\n",
       " [7.455371452718601, 7.455371452718601, 3.928878422174356, 3.928878422174356, 2.5459605422090656, 2.5459605422090656, 0.5083986415121435, 0.5083986415121435, 0.0005285363553477341, 0.0005285363553477341  …  0.0, 0.0019216479937513502, 0.0, 0.0, 0.00018203623944911722, 0.0, 0.0, 0.010500880314053876, 0.0, 0.0]\n",
       " [5.699536974721713, 5.699536974721713, 2.9415593756155047, 2.9415593756155047, 1.9155542685388358, 1.9155542685388358, 0.41077108425551817, 0.41077108425551817, 0.0005573982216284726, 0.0005573982216284726  …  0.0, 0.0016597483675882027, 0.0, 0.0, 0.00013714023980748437, 0.0, 0.0, 0.007651868025700858, 0.0, 0.0]\n",
       " [7.4553714533080715, 7.4553714533080715, 3.9288784225468607, 3.9288784225468607, 2.545960542475668, 2.545960542475668, 0.5083986415942935, 0.5083986415942935, 0.0005285363556148955, 0.0005285363556148955  …  0.0, 0.001921647994512217, 0.0, 0.0, 0.00018203623953310467, 0.0, 0.0, 0.010500880318632368, 0.0, 0.0]\n",
       " [7.455371453376499, 7.455371453376499, 3.9288784226185904, 3.9288784226185904, 2.545960542545004, 2.545960542545004, 0.5083986416270739, 0.5083986416270739, 0.0005285363557787331, 0.0005285363557787331  …  0.0, 0.0019216479948112567, 0.0, 0.0, 0.0001820362395699304, 0.0, 0.0, 0.010500880319378318, 0.0, 0.0]\n",
       " [7.455371452562956, 7.455371452562956, 3.9288784221460307, 3.9288784221460307, 2.5459605422162777, 2.5459605422162777, 0.5083986415249713, 0.5083986415249713, 0.0005285363553554292, 0.0005285363553554292  …  0.0, 0.0019216479938806788, 0.0, 0.0, 0.0001820362394550276, 0.0, 0.0, 0.010500880316514789, 0.0, 0.0]\n",
       " [7.455371453040392, 7.455371453040392, 3.928878422426654, 3.928878422426654, 2.5459605424096514, 2.5459605424096514, 0.5083986415806511, 0.5083986415806511, 0.0005285363555057611, 0.0005285363555057611  …  0.0, 0.0019216479943882075, 0.0, 0.0, 0.00018203623951996962, 0.0, 0.0, 0.010500880317954573, 0.0, 0.0]\n",
       " [5.699536974721713, 5.699536974721713, 2.9415593756155047, 2.9415593756155047, 1.9155542685388358, 1.9155542685388358, 0.41077108425551817, 0.41077108425551817, 0.0005573982216284726, 0.0005573982216284726  …  0.0, 0.0016597483675882027, 0.0, 0.0, 0.00013714023980748437, 0.0, 0.0, 0.007651868025700858, 0.0, 0.0]\n",
       " [11.966607068035858, 11.966607068035858, 6.362235447320308, 6.362235447320308, 4.143106864843472, 4.143106864843472, 0.8571680648473241, 0.8571680648473241, 0.0011760266346499328, 0.0011760266346499328  …  0.0, 0.0050020475206395435, 0.0, 0.0, 0.0005983507133783634, 0.0, 0.0, 0.021924952318636424, 0.0, 0.0]\n",
       " [11.966607068360855, 11.966607068360855, 6.362235447278156, 6.362235447278156, 4.1431068646778435, 4.1431068646778435, 0.8571680646877369, 0.8571680646877369, 0.0011760266335611115, 0.0011760266335611115  …  0.0, 0.005002047517788341, 0.0, 0.0, 0.0005983507129522072, 0.0, 0.0, 0.021924952310260537, 0.0, 0.0]\n",
       " ⋮\n",
       " [11.966607068035858, 11.966607068035858, 6.362235447320308, 6.362235447320308, 4.143106864843472, 4.143106864843472, 0.8571680648473241, 0.8571680648473241, 0.0011760266346499328, 0.0011760266346499328  …  0.0, 0.0050020475206395435, 0.0, 0.0, 0.0005983507133783634, 0.0, 0.0, 0.021924952318636424, 0.0, 0.0]\n",
       " [5.699536975480137, 5.699536975480137, 2.941559376170291, 2.941559376170291, 1.915554268998703, 1.915554268998703, 0.4107710844603705, 0.4107710844603705, 0.000557398222670855, 0.000557398222670855  …  0.0, 0.0016597483697505639, 0.0, 0.0, 0.00013714024001271885, 0.0, 0.0, 0.00765186803356038, 0.0, 0.0]\n",
       " [7.455371452802905, 7.455371452802905, 3.92887842224486, 3.92887842224486, 2.5459605422589515, 2.5459605422589515, 0.5083986415192341, 0.5083986415192341, 0.0005285363552836505, 0.0005285363552836505  …  0.0, 0.0019216479936595132, 0.0, 0.0, 0.00018203623943284305, 0.0, 0.0, 0.010500880315827597, 0.0, 0.0]\n",
       " [5.699536975625777, 5.699536975625777, 2.9415593762705727, 2.9415593762705727, 1.915554269071795, 1.915554269071795, 0.4107710844846923, 0.4107710844846923, 0.0005573982227515188, 0.0005573982227515188  …  0.0, 0.001659748370025115, 0.0, 0.0, 0.00013714024003052926, 0.0, 0.0, 0.007651868036414171, 0.0, 0.0]\n",
       " [11.96660706776792, 11.96660706776792, 6.362235447048884, 6.362235447048884, 4.143106864582058, 4.143106864582058, 0.8571680647068806, 0.8571680647068806, 0.0011760266339584625, 0.0011760266339584625  …  0.0, 0.0050020475182880044, 0.0, 0.0, 0.0005983507130285268, 0.0, 0.0, 0.021924952310809664, 0.0, 0.0]\n",
       " [11.966607067163583, 11.966607067163583, 6.362235446694212, 6.362235446694212, 4.143106864339767, 4.143106864339767, 0.8571680646436799, 0.8571680646436799, 0.0011760266338472004, 0.0011760266338472004  …  0.0, 0.005002047517575896, 0.0, 0.0, 0.0005983507129227555, 0.0, 0.0, 0.021924952304756905, 0.0, 0.0]\n",
       " [7.4553714525833135, 7.4553714525833135, 3.9288784220377067, 3.9288784220377067, 2.545960542084282, 2.545960542084282, 0.5083986414551209, 0.5083986414551209, 0.0005285363551450121, 0.0005285363551450121  …  0.0, 0.0019216479932369563, 0.0, 0.0, 0.00018203623937751884, 0.0, 0.0, 0.010500880314012317, 0.0, 0.0]\n",
       " [5.699536975065502, 5.699536975065502, 2.9415593759311514, 2.9415593759311514, 1.9155542688278508, 1.9155542688278508, 0.41077108439926097, 0.41077108439926097, 0.0005573982224371177, 0.0005573982224371177  …  0.0, 0.001659748369209399, 0.0, 0.0, 0.0001371402399441731, 0.0, 0.0, 0.0076518680329999, 0.0, 0.0]\n",
       " [7.455371453340893, 7.455371453340893, 3.92887842260189, 3.92887842260189, 2.5459605425345253, 2.5459605425345253, 0.5083986416237588, 0.5083986416237588, 0.0005285363557352774, 0.0005285363557352774  …  0.0, 0.0019216479948845815, 0.0, 0.0, 0.00018203623956926555, 0.0, 0.0, 0.010500880321482449, 0.0, 0.0]"
      ]
     },
     "metadata": {},
     "output_type": "display_data"
    }
   ],
   "source": [
    "total_total_symm(positions,dis2mat,f_mat,total_symm_vec)"
   ]
  },
  {
   "attachments": {},
   "cell_type": "markdown",
   "metadata": {},
   "source": [
    "# Stating the obvious\n",
    "\n",
    "There are two components to this: firstly, it may be faster to implicitly remove the double calculation of triples by assigning them immediately. That is, go over symmetry functions rather than atoms and assign as we go, reducing the calculation from $55\\times \\sum_{j=1}^{54} j $ to $\\sum_{i=1}^{55} \\sum_{j=i+1}^{55}j $ This reduces the time of total calculation, but not by enough. We can further speed this up by working on the calculation of the symmetry function itself: this may require more thought. "
   ]
  },
  {
   "cell_type": "code",
   "execution_count": 11,
   "metadata": {},
   "outputs": [],
   "source": [
    "@everywhere function calc_symm_vals!(positions,dist2_mat,f_mat,g_vec,symm_func::RadialType2)\n",
    "    N=length(g_vec)\n",
    "    if symm_func.type_vec == [1.,1.]\n",
    "        \n",
    "        for atomindex in eachindex(g_vec)\n",
    "            for index2 in (atomindex+1):N\n",
    "                g_val =  calc_one_symm_val(dist2_mat[atomindex,index2],f_mat[atomindex,index2],symm_func.eta)\n",
    "                g_vec[atomindex] +=g_val \n",
    "                g_vec[index2] += g_val\n",
    "            end\n",
    "        end\n",
    "    else\n",
    "        g_vec = zeros(N)\n",
    "    end\n",
    "\n",
    "    return g_vec\n",
    "end\n",
    "\n",
    "@everywhere function update_g_vals!(g_vec,g_val,index1,index2,index3)\n",
    "    g_vec[index1] += g_val\n",
    "    g_vec[index2] += g_val\n",
    "    g_vec[index3] += g_val\n",
    "\n",
    "    return g_vec\n",
    "end\n",
    "\n",
    "@everywhere function calc_symm_vals!(positions,dist2_mat,f_mat,g_vec,symm_func::AngularType3)\n",
    "    N = length(g_vec)\n",
    "    η,λ,ζ = symm_func.eta,symm_func.lambda,symm_func.zeta\n",
    "    if symm_func.type_vec == [1.,1.,1.]\n",
    "        for atomindex in eachindex(g_vec)\n",
    "            for index2 in (atomindex+1):N\n",
    "                for index3 in (index2+1):N\n",
    "\n",
    "                    g_val=calc_one_symm_val(positions[atomindex],positions[index2],positions[index3],dist2_mat[atomindex,index2],dist2_mat[atomindex,index3],dist2_mat[index2,index3],f_mat[atomindex,index2],f_mat[atomindex,index3],f_mat[index2,index3],η,λ,ζ)\n",
    "\n",
    "                    update_g_vals!(g_vec,g_val,atomindex,index2,index3)\n",
    "                    # g_vec[atomindex] += g_val\n",
    "                    # g_vec[index2] += g_val\n",
    "                    # g_vec[index3] += g_val\n",
    "                end\n",
    "            end\n",
    "        end\n",
    "    else\n",
    "        g_vec = zeros(N)\n",
    "    end\n",
    "\n",
    "\n",
    "    return symm_func.tpz*g_vec\n",
    "end"
   ]
  },
  {
   "cell_type": "code",
   "execution_count": 12,
   "metadata": {},
   "outputs": [
    {
     "data": {
      "text/plain": [
       "total_symm_calc (generic function with 1 method)"
      ]
     },
     "metadata": {},
     "output_type": "display_data"
    }
   ],
   "source": [
    "@everywhere function init_symm_vecs(dist2_mat,total_symm_vec)\n",
    "    g_mat=zeros(length(total_symm_vec),size(dist2_mat)[1])\n",
    "    return g_mat \n",
    "end\n",
    "\n",
    "\n",
    "function total_symm_calc(positions,dist2_mat,f_mat,total_symm_vec)\n",
    "    g_mat = init_symm_vecs(dist2_mat,total_symm_vec)\n",
    "    for g_index in eachindex(total_symm_vec)\n",
    "        g_mat[g_index,:] = calc_symm_vals!(positions,dist2_mat,f_mat,g_mat[g_index,:],total_symm_vec[g_index])\n",
    "    end\n",
    "    \n",
    "    return g_mat\n",
    "end"
   ]
  },
  {
   "cell_type": "code",
   "execution_count": 13,
   "metadata": {},
   "outputs": [
    {
     "data": {
      "text/plain": [
       "BenchmarkTools.Trial: 8208 samples with 1 evaluation.\n",
       " Range \u001b[90m(\u001b[39m\u001b[36m\u001b[1mmin\u001b[22m\u001b[39m … \u001b[35mmax\u001b[39m\u001b[90m):  \u001b[39m\u001b[36m\u001b[1m585.268 μs\u001b[22m\u001b[39m … \u001b[35m641.945 μs\u001b[39m  \u001b[90m┊\u001b[39m GC \u001b[90m(\u001b[39mmin … max\u001b[90m): \u001b[39m0.00% … 0.00%\n",
       " Time  \u001b[90m(\u001b[39m\u001b[34m\u001b[1mmedian\u001b[22m\u001b[39m\u001b[90m):     \u001b[39m\u001b[34m\u001b[1m611.563 μs               \u001b[22m\u001b[39m\u001b[90m┊\u001b[39m GC \u001b[90m(\u001b[39mmedian\u001b[90m):    \u001b[39m0.00%\n",
       " Time  \u001b[90m(\u001b[39m\u001b[32m\u001b[1mmean\u001b[22m\u001b[39m ± \u001b[32mσ\u001b[39m\u001b[90m):   \u001b[39m\u001b[32m\u001b[1m608.388 μs\u001b[22m\u001b[39m ± \u001b[32m 10.711 μs\u001b[39m  \u001b[90m┊\u001b[39m GC \u001b[90m(\u001b[39mmean ± σ\u001b[90m):  \u001b[39m0.00% ± 0.00%\n",
       "\n",
       "  \u001b[39m \u001b[39m \u001b[39m \u001b[39m \u001b[39m \u001b[39m \u001b[39m \u001b[39m \u001b[39m \u001b[39m \u001b[39m \u001b[39m \u001b[39m \u001b[39m \u001b[39m \u001b[39m \u001b[39m \u001b[39m \u001b[39m \u001b[39m▁\u001b[39m▄\u001b[39m▃\u001b[39m▁\u001b[39m \u001b[39m \u001b[39m \u001b[39m \u001b[39m \u001b[39m \u001b[39m \u001b[39m \u001b[39m \u001b[32m \u001b[39m\u001b[39m \u001b[39m \u001b[39m \u001b[34m▂\u001b[39m\u001b[39m█\u001b[39m█\u001b[39m█\u001b[39m▄\u001b[39m▄\u001b[39m▁\u001b[39m \u001b[39m \u001b[39m \u001b[39m \u001b[39m \u001b[39m \u001b[39m \u001b[39m \u001b[39m \u001b[39m \u001b[39m \u001b[39m \u001b[39m \u001b[39m \u001b[39m \u001b[39m \u001b[39m \u001b[39m \u001b[39m \u001b[39m \n",
       "  \u001b[39m▁\u001b[39m▃\u001b[39m▄\u001b[39m▆\u001b[39m▅\u001b[39m▆\u001b[39m▄\u001b[39m▅\u001b[39m▅\u001b[39m▃\u001b[39m▃\u001b[39m▃\u001b[39m▃\u001b[39m▂\u001b[39m▂\u001b[39m▂\u001b[39m▂\u001b[39m▃\u001b[39m▆\u001b[39m█\u001b[39m█\u001b[39m█\u001b[39m█\u001b[39m▇\u001b[39m▇\u001b[39m▆\u001b[39m▆\u001b[39m▅\u001b[39m▄\u001b[39m▄\u001b[39m▄\u001b[39m▃\u001b[32m▄\u001b[39m\u001b[39m▃\u001b[39m▄\u001b[39m▇\u001b[34m█\u001b[39m\u001b[39m█\u001b[39m█\u001b[39m█\u001b[39m█\u001b[39m█\u001b[39m█\u001b[39m▇\u001b[39m▅\u001b[39m▆\u001b[39m▄\u001b[39m▄\u001b[39m▄\u001b[39m▄\u001b[39m▃\u001b[39m▃\u001b[39m▃\u001b[39m▃\u001b[39m▃\u001b[39m▄\u001b[39m▃\u001b[39m▃\u001b[39m▃\u001b[39m▂\u001b[39m▂\u001b[39m \u001b[39m▄\n",
       "  585 μs\u001b[90m           Histogram: frequency by time\u001b[39m          630 μs \u001b[0m\u001b[1m<\u001b[22m\n",
       "\n",
       " Memory estimate\u001b[90m: \u001b[39m\u001b[33m576 bytes\u001b[39m, allocs estimate\u001b[90m: \u001b[39m\u001b[33m2\u001b[39m."
      ]
     },
     "metadata": {},
     "output_type": "display_data"
    }
   ],
   "source": [
    "gvec = zeros(55)\n",
    "@benchmark calc_symm_vals!($positions,$dis2mat,$f_mat,$gvec,$total_symm_vec[11])"
   ]
  },
  {
   "cell_type": "code",
   "execution_count": 14,
   "metadata": {},
   "outputs": [
    {
     "data": {
      "text/plain": [
       "88×55 Matrix{Float64}:\n",
       " 14.6407       11.9666       11.9666       …  7.45537      5.69954\n",
       "  0.0           0.0           0.0             0.0          0.0\n",
       "  7.16978       6.36224       6.36224         3.92888      2.94156\n",
       "  0.0           0.0           0.0             0.0          0.0\n",
       "  4.52421       4.14311       4.14311         2.54596      1.91555\n",
       "  0.0           0.0           0.0          …  0.0          0.0\n",
       "  0.972533      0.857168      0.857168        0.508399     0.410771\n",
       "  0.0           0.0           0.0             0.0          0.0\n",
       "  0.00179489    0.00117603    0.00117603      0.000528536  0.000557398\n",
       "  0.0           0.0           0.0             0.0          0.0\n",
       "  ⋮                                        ⋱               \n",
       "  0.00742548    0.00531799    0.00531799      0.00203029   0.00164947\n",
       "  0.0           0.0           0.0          …  0.0          0.0\n",
       "  0.0           0.0           0.0             0.0          0.0\n",
       "  0.000947854   0.000650384   0.000650384     0.000176168  0.000113873\n",
       "  0.0           0.0           0.0             0.0          0.0\n",
       "  0.0           0.0           0.0             0.0          0.0\n",
       "  0.0254414     0.0209606     0.0209606    …  0.00993867   0.00760451\n",
       "  0.0           0.0           0.0             0.0          0.0\n",
       "  0.0           0.0           0.0             0.0          0.0"
      ]
     },
     "metadata": {},
     "output_type": "display_data"
    }
   ],
   "source": [
    "gmat = total_symm_calc(positions,dis2mat,f_mat,total_symm_vec)"
   ]
  },
  {
   "cell_type": "code",
   "execution_count": 15,
   "metadata": {},
   "outputs": [
    {
     "data": {
      "text/plain": [
       "BenchmarkTools.Trial: 290 samples with 1 evaluation.\n",
       " Range \u001b[90m(\u001b[39m\u001b[36m\u001b[1mmin\u001b[22m\u001b[39m … \u001b[35mmax\u001b[39m\u001b[90m):  \u001b[39m\u001b[36m\u001b[1m16.928 ms\u001b[22m\u001b[39m … \u001b[35m 18.474 ms\u001b[39m  \u001b[90m┊\u001b[39m GC \u001b[90m(\u001b[39mmin … max\u001b[90m): \u001b[39m0.00% … 5.26%\n",
       " Time  \u001b[90m(\u001b[39m\u001b[34m\u001b[1mmedian\u001b[22m\u001b[39m\u001b[90m):     \u001b[39m\u001b[34m\u001b[1m17.276 ms               \u001b[22m\u001b[39m\u001b[90m┊\u001b[39m GC \u001b[90m(\u001b[39mmedian\u001b[90m):    \u001b[39m0.00%\n",
       " Time  \u001b[90m(\u001b[39m\u001b[32m\u001b[1mmean\u001b[22m\u001b[39m ± \u001b[32mσ\u001b[39m\u001b[90m):   \u001b[39m\u001b[32m\u001b[1m17.264 ms\u001b[22m\u001b[39m ± \u001b[32m183.098 μs\u001b[39m  \u001b[90m┊\u001b[39m GC \u001b[90m(\u001b[39mmean ± σ\u001b[90m):  \u001b[39m0.02% ± 0.31%\n",
       "\n",
       "  \u001b[39m \u001b[39m \u001b[39m \u001b[39m \u001b[39m \u001b[39m \u001b[39m \u001b[39m \u001b[39m \u001b[39m▂\u001b[39m▁\u001b[39m▂\u001b[39m▄\u001b[39m▂\u001b[39m▄\u001b[39m▃\u001b[39m \u001b[39m█\u001b[39m▁\u001b[39m \u001b[39m \u001b[39m \u001b[39m \u001b[39m \u001b[39m \u001b[39m▃\u001b[39m \u001b[39m \u001b[39m \u001b[32m▂\u001b[39m\u001b[34m▁\u001b[39m\u001b[39m▆\u001b[39m▄\u001b[39m▂\u001b[39m▇\u001b[39m \u001b[39m▃\u001b[39m▂\u001b[39m \u001b[39m \u001b[39m \u001b[39m \u001b[39m \u001b[39m▆\u001b[39m \u001b[39m \u001b[39m \u001b[39m▂\u001b[39m \u001b[39m▁\u001b[39m▄\u001b[39m▁\u001b[39m \u001b[39m \u001b[39m \u001b[39m \u001b[39m \u001b[39m \u001b[39m \u001b[39m \u001b[39m \u001b[39m \n",
       "  \u001b[39m▃\u001b[39m▁\u001b[39m▄\u001b[39m▆\u001b[39m▆\u001b[39m█\u001b[39m▃\u001b[39m▆\u001b[39m▇\u001b[39m█\u001b[39m█\u001b[39m█\u001b[39m█\u001b[39m█\u001b[39m█\u001b[39m█\u001b[39m█\u001b[39m█\u001b[39m█\u001b[39m▃\u001b[39m█\u001b[39m▇\u001b[39m▄\u001b[39m▄\u001b[39m█\u001b[39m█\u001b[39m▄\u001b[39m▇\u001b[39m█\u001b[32m█\u001b[39m\u001b[34m█\u001b[39m\u001b[39m█\u001b[39m█\u001b[39m█\u001b[39m█\u001b[39m█\u001b[39m█\u001b[39m█\u001b[39m▇\u001b[39m▄\u001b[39m▇\u001b[39m▇\u001b[39m▇\u001b[39m█\u001b[39m█\u001b[39m▇\u001b[39m▄\u001b[39m█\u001b[39m▇\u001b[39m█\u001b[39m█\u001b[39m█\u001b[39m▆\u001b[39m▄\u001b[39m▁\u001b[39m▁\u001b[39m▃\u001b[39m▄\u001b[39m▃\u001b[39m▃\u001b[39m \u001b[39m▄\n",
       "  16.9 ms\u001b[90m         Histogram: frequency by time\u001b[39m         17.6 ms \u001b[0m\u001b[1m<\u001b[22m\n",
       "\n",
       " Memory estimate\u001b[90m: \u001b[39m\u001b[33m154.12 KiB\u001b[39m, allocs estimate\u001b[90m: \u001b[39m\u001b[33m401\u001b[39m."
      ]
     },
     "metadata": {},
     "output_type": "display_data"
    }
   ],
   "source": [
    "@benchmark total_symm_calc($positions,$dis2mat,$f_mat,$total_symm_vec)"
   ]
  },
  {
   "cell_type": "code",
   "execution_count": 16,
   "metadata": {},
   "outputs": [],
   "source": [
    "@everywhere function calc_symm_vals!(positions,new_pos,new_dis_vec,new_f_vec,atomindex,dist2_mat,f_mat,g_vec,symm_func::RadialType2)\n",
    "\n",
    "    N = length(g_vec)\n",
    "    if symm_func.type_vec == [1., 1.]\n",
    "        for index2 in 1:N\n",
    "            if index2 != atomindex\n",
    "                delta_val = calc_one_symm_val(new_dis_vec[index2],new_f_vec[index2],symm_func.eta) - calc_one_symm_val(dist2_mat[index2,atomindex],f_mat[index2,atomindex],symm_func.eta)\n",
    "\n",
    "                g_vec[atomindex] +=delta_val \n",
    "                g_vec[index2] += delta_val\n",
    "            else\n",
    "                g_vec = zeros(N)\n",
    "            end\n",
    "        end\n",
    "    else\n",
    "        g_vec = zeros(N)\n",
    "    end\n",
    "\n",
    "        return g_vec\n",
    "end\n",
    "\n",
    "@everywhere function calc_symm_vals!(positions,new_pos,new_dis_vec,new_f_vec,atomindex,dist2_mat,f_mat,g_vec,symm_func::AngularType3)\n",
    "\n",
    "    N = length(g_vec)\n",
    "    η,λ,ζ = symm_func.eta,symm_func.lambda,symm_func.zeta\n",
    "    if symm_func.type_vec == [1.,1.,1.]\n",
    "        for index2 = 1:N\n",
    "            if index2 != atomindex\n",
    "                for index3=index2+1:N\n",
    "                    if index3 != atomindex\n",
    "\n",
    "                        delta_val = calc_one_symm_val(new_pos,positions[index2],positions[index3],new_dis_vec[index2],new_dis_vec[index3],dist2_mat[index2,index3],new_f_vec[index2],new_f_vec[index3],f_mat[index2,index3],η,λ,ζ) - calc_one_symm_val(positions[atomindex],positions[index2],positions[index3],dist2_mat[atomindex,index2],dist2_mat[atomindex,index3],dist2_mat[index2,index3],f_mat[atomindex,index2],f_mat[atomindex,index3],f_mat[index2,index3],η,λ,ζ)\n",
    "\n",
    "                        update_g_vals!(g_vec,delta_val,atomindex,index2,index3)\n",
    "                    end\n",
    "                end\n",
    "            end\n",
    "        end\n",
    "    else\n",
    "        g_vec = zeros(N)\n",
    "    end\n",
    "\n",
    "    return symm_func.tpz*g_vec\n",
    "end"
   ]
  },
  {
   "cell_type": "code",
   "execution_count": 17,
   "metadata": {},
   "outputs": [],
   "source": [
    "@everywhere function total_symm_calc(positions,new_pos,dist2_mat,new_dist_vec,f_mat,new_f_vec,g_mat,atomindex,total_symm_vec)\n",
    "    for g_index in eachindex(total_symm_vec)\n",
    "        g_mat[g_index,:] = calc_symm_vals!(positions,new_pos,new_dist_vec,new_f_vec,atomindex,dist2_mat,f_mat,g_mat[g_index,:],total_symm_vec[g_index])\n",
    "    end\n",
    "\n",
    "    return g_mat\n",
    "end"
   ]
  },
  {
   "cell_type": "code",
   "execution_count": 18,
   "metadata": {},
   "outputs": [
    {
     "data": {
      "text/plain": [
       "BenchmarkTools.Trial: 10000 samples with 1 evaluation.\n",
       " Range \u001b[90m(\u001b[39m\u001b[36m\u001b[1mmin\u001b[22m\u001b[39m … \u001b[35mmax\u001b[39m\u001b[90m):  \u001b[39m\u001b[36m\u001b[1m59.119 μs\u001b[22m\u001b[39m … \u001b[35m80.208 μs\u001b[39m  \u001b[90m┊\u001b[39m GC \u001b[90m(\u001b[39mmin … max\u001b[90m): \u001b[39m0.00% … 0.00%\n",
       " Time  \u001b[90m(\u001b[39m\u001b[34m\u001b[1mmedian\u001b[22m\u001b[39m\u001b[90m):     \u001b[39m\u001b[34m\u001b[1m62.038 μs              \u001b[22m\u001b[39m\u001b[90m┊\u001b[39m GC \u001b[90m(\u001b[39mmedian\u001b[90m):    \u001b[39m0.00%\n",
       " Time  \u001b[90m(\u001b[39m\u001b[32m\u001b[1mmean\u001b[22m\u001b[39m ± \u001b[32mσ\u001b[39m\u001b[90m):   \u001b[39m\u001b[32m\u001b[1m61.780 μs\u001b[22m\u001b[39m ± \u001b[32m 1.363 μs\u001b[39m  \u001b[90m┊\u001b[39m GC \u001b[90m(\u001b[39mmean ± σ\u001b[90m):  \u001b[39m0.00% ± 0.00%\n",
       "\n",
       "  \u001b[39m \u001b[39m \u001b[39m▂\u001b[39m▇\u001b[39m▂\u001b[39m \u001b[39m \u001b[39m \u001b[39m \u001b[39m▁\u001b[39m▃\u001b[39m▂\u001b[39m \u001b[39m \u001b[39m \u001b[39m▂\u001b[39m▇\u001b[39m▃\u001b[39m \u001b[39m \u001b[39m \u001b[39m \u001b[39m▃\u001b[39m▄\u001b[39m▃\u001b[39m▁\u001b[39m▁\u001b[32m▁\u001b[39m\u001b[39m▁\u001b[39m█\u001b[34m█\u001b[39m\u001b[39m▂\u001b[39m \u001b[39m \u001b[39m \u001b[39m▁\u001b[39m▅\u001b[39m▅\u001b[39m▃\u001b[39m▂\u001b[39m▁\u001b[39m▂\u001b[39m▂\u001b[39m▄\u001b[39m▅\u001b[39m▁\u001b[39m \u001b[39m \u001b[39m▁\u001b[39m▁\u001b[39m▁\u001b[39m▂\u001b[39m▁\u001b[39m \u001b[39m \u001b[39m \u001b[39m \u001b[39m \u001b[39m \u001b[39m \u001b[39m▂\n",
       "  \u001b[39m▃\u001b[39m▃\u001b[39m█\u001b[39m█\u001b[39m█\u001b[39m▆\u001b[39m▁\u001b[39m▄\u001b[39m▅\u001b[39m█\u001b[39m█\u001b[39m█\u001b[39m█\u001b[39m▇\u001b[39m█\u001b[39m█\u001b[39m█\u001b[39m█\u001b[39m█\u001b[39m▇\u001b[39m█\u001b[39m▇\u001b[39m█\u001b[39m█\u001b[39m█\u001b[39m█\u001b[39m█\u001b[32m█\u001b[39m\u001b[39m█\u001b[39m█\u001b[34m█\u001b[39m\u001b[39m█\u001b[39m█\u001b[39m█\u001b[39m█\u001b[39m█\u001b[39m█\u001b[39m█\u001b[39m█\u001b[39m█\u001b[39m█\u001b[39m█\u001b[39m█\u001b[39m█\u001b[39m█\u001b[39m█\u001b[39m█\u001b[39m█\u001b[39m█\u001b[39m█\u001b[39m█\u001b[39m█\u001b[39m█\u001b[39m█\u001b[39m▇\u001b[39m▆\u001b[39m▇\u001b[39m▇\u001b[39m▇\u001b[39m \u001b[39m█\n",
       "  59.1 μs\u001b[90m      \u001b[39m\u001b[90mHistogram: \u001b[39m\u001b[90m\u001b[1mlog(\u001b[22m\u001b[39m\u001b[90mfrequency\u001b[39m\u001b[90m\u001b[1m)\u001b[22m\u001b[39m\u001b[90m by time\u001b[39m      64.9 μs \u001b[0m\u001b[1m<\u001b[22m\n",
       "\n",
       " Memory estimate\u001b[90m: \u001b[39m\u001b[33m1.08 KiB\u001b[39m, allocs estimate\u001b[90m: \u001b[39m\u001b[33m4\u001b[39m."
      ]
     },
     "metadata": {},
     "output_type": "display_data"
    }
   ],
   "source": [
    "delta_r = [0.1,-0.2,0.1]\n",
    "new_pos = positions[3]+delta_r\n",
    "new_dist_vec = [distance2(new_pos,b) for b in positions]\n",
    "new_f_vec = cutoff_function.(sqrt.(new_dist_vec),Ref(total_symm_vec[1].r_cut))\n",
    "@benchmark calc_symm_vals!($positions,$new_pos,$new_dist_vec,$new_f_vec,$3,$dis2mat,$f_mat,$zeros(55),$angularsymmvec[1])\n"
   ]
  },
  {
   "cell_type": "code",
   "execution_count": 19,
   "metadata": {},
   "outputs": [
    {
     "data": {
      "text/plain": [
       "BenchmarkTools.Trial: 2822 samples with 1 evaluation.\n",
       " Range \u001b[90m(\u001b[39m\u001b[36m\u001b[1mmin\u001b[22m\u001b[39m … \u001b[35mmax\u001b[39m\u001b[90m):  \u001b[39m\u001b[36m\u001b[1m1.695 ms\u001b[22m\u001b[39m … \u001b[35m 2.933 ms\u001b[39m  \u001b[90m┊\u001b[39m GC \u001b[90m(\u001b[39mmin … max\u001b[90m): \u001b[39m0.00% … 39.23%\n",
       " Time  \u001b[90m(\u001b[39m\u001b[34m\u001b[1mmedian\u001b[22m\u001b[39m\u001b[90m):     \u001b[39m\u001b[34m\u001b[1m1.769 ms              \u001b[22m\u001b[39m\u001b[90m┊\u001b[39m GC \u001b[90m(\u001b[39mmedian\u001b[90m):    \u001b[39m0.00%\n",
       " Time  \u001b[90m(\u001b[39m\u001b[32m\u001b[1mmean\u001b[22m\u001b[39m ± \u001b[32mσ\u001b[39m\u001b[90m):   \u001b[39m\u001b[32m\u001b[1m1.771 ms\u001b[22m\u001b[39m ± \u001b[32m59.949 μs\u001b[39m  \u001b[90m┊\u001b[39m GC \u001b[90m(\u001b[39mmean ± σ\u001b[90m):  \u001b[39m0.15% ±  1.88%\n",
       "\n",
       "  \u001b[39m \u001b[39m \u001b[39m \u001b[39m \u001b[39m \u001b[39m \u001b[39m \u001b[39m \u001b[39m \u001b[39m \u001b[39m \u001b[39m \u001b[39m \u001b[39m \u001b[39m \u001b[39m \u001b[39m \u001b[39m \u001b[39m \u001b[39m \u001b[39m \u001b[39m \u001b[39m \u001b[39m \u001b[39m \u001b[39m \u001b[39m \u001b[39m \u001b[39m \u001b[39m \u001b[34m█\u001b[39m\u001b[32m \u001b[39m\u001b[39m \u001b[39m \u001b[39m \u001b[39m \u001b[39m \u001b[39m \u001b[39m \u001b[39m \u001b[39m \u001b[39m \u001b[39m \u001b[39m \u001b[39m \u001b[39m \u001b[39m \u001b[39m \u001b[39m \u001b[39m \u001b[39m \u001b[39m \u001b[39m \u001b[39m \u001b[39m \u001b[39m \u001b[39m \u001b[39m \u001b[39m \u001b[39m \n",
       "  \u001b[39m▁\u001b[39m▁\u001b[39m▁\u001b[39m▁\u001b[39m▁\u001b[39m▁\u001b[39m▁\u001b[39m▁\u001b[39m▁\u001b[39m▁\u001b[39m▁\u001b[39m▁\u001b[39m▁\u001b[39m▁\u001b[39m▂\u001b[39m▃\u001b[39m▂\u001b[39m▃\u001b[39m▂\u001b[39m▂\u001b[39m▂\u001b[39m▂\u001b[39m▃\u001b[39m▂\u001b[39m▂\u001b[39m▂\u001b[39m▂\u001b[39m▂\u001b[39m▂\u001b[39m▅\u001b[34m█\u001b[39m\u001b[32m▄\u001b[39m\u001b[39m▃\u001b[39m▃\u001b[39m▃\u001b[39m▂\u001b[39m▂\u001b[39m▂\u001b[39m▃\u001b[39m▃\u001b[39m▃\u001b[39m▂\u001b[39m▂\u001b[39m▂\u001b[39m▂\u001b[39m▂\u001b[39m▁\u001b[39m▂\u001b[39m▁\u001b[39m▁\u001b[39m▁\u001b[39m▁\u001b[39m▁\u001b[39m▁\u001b[39m▁\u001b[39m▁\u001b[39m▁\u001b[39m▁\u001b[39m \u001b[39m▂\n",
       "  1.69 ms\u001b[90m        Histogram: frequency by time\u001b[39m        1.84 ms \u001b[0m\u001b[1m<\u001b[22m\n",
       "\n",
       " Memory estimate\u001b[90m: \u001b[39m\u001b[33m121.44 KiB\u001b[39m, allocs estimate\u001b[90m: \u001b[39m\u001b[33m492\u001b[39m."
      ]
     },
     "metadata": {},
     "output_type": "display_data"
    }
   ],
   "source": [
    "g_mat = total_symm_calc(positions,dis2mat,f_mat,total_symm_vec)\n",
    "\n",
    "@benchmark total_symm_calc($positions,$new_pos,$dis2mat,$new_dist_vec,$f_mat,$new_f_vec,$g_mat,$3,$total_symm_vec)"
   ]
  },
  {
   "cell_type": "code",
   "execution_count": 20,
   "metadata": {},
   "outputs": [
    {
     "data": {
      "text/plain": [
       "88-element Vector{Vector{Float64}}:\n",
       " [0.0, 0.0, -0.2190537307241303, -0.022132771780947413, -0.02418285886968563, -0.02204166861876014, -0.014884211021116589, -0.01954729827461066, -0.02426680395979866, -0.017021815753457445  …  0.0, 0.0, -0.007073538261540488, 0.0008184984536820372, -0.009138205270856514, -0.0015615253964638264, 0.0, -0.0014495225056633419, -0.007885005864590025, 0.0]\n",
       " [0.0, 0.0, 0.0, 0.0, 0.0, 0.0, 0.0, 0.0, 0.0, 0.0  …  0.0, 0.0, 0.0, 0.0, 0.0, 0.0, 0.0, 0.0, 0.0, 0.0]\n",
       " [0.0, 0.0, -0.051458625503653856, -0.025262912170049334, -0.011423785225819563, -0.010450321135117402, -0.017087187112375224, -0.022357650986468136, -0.011461799283959143, -0.004547399528379242  …  0.0, 0.0, -0.001977624726511088, 0.00035482760707045147, -0.002538594854819007, -0.0001584316781119373, 0.0, -0.00014777706150619, -0.0021989818098522938, 0.0]\n",
       " [0.0, 0.0, 0.0, 0.0, 0.0, 0.0, 0.0, 0.0, 0.0, 0.0  …  0.0, 0.0, 0.0, 0.0, 0.0, 0.0, 0.0, 0.0, 0.0, 0.0]\n",
       " [0.0, 0.0, 0.004683069984775188, -0.023829912303382772, -0.005734862356622444, -0.005259511404282276, -0.01618407070360156, -0.02112027311579945, -0.005753372653825153, -0.0015196567300616568  …  0.0, 0.0, -0.0006824162232042397, 0.00016748201747307165, -0.000872047760869207, -2.5996551376057757e-5, 0.0, -2.4334350823247447e-5, -0.0007574579185653275, 0.0]\n",
       " [0.0, 0.0, 0.0, 0.0, 0.0, 0.0, 0.0, 0.0, 0.0, 0.0  …  0.0, 0.0, 0.0, 0.0, 0.0, 0.0, 0.0, 0.0, 0.0, 0.0]\n",
       " [0.0, 0.0, 0.03505792165715225, -0.010697331491901226, -0.00019479619192947883, -0.00018040319460369046, -0.0073868885426081055, -0.009537224490608183, -0.00019535028575216754, -1.0099395890829321e-5  …  0.0, 0.0, -5.129958886866889e-6, 4.420779827917453e-6, -6.442368151423982e-6, -1.02331472162256e-8, 0.0, -9.705980439729961e-9, -5.65520722066495e-6, 0.0]\n",
       " [0.0, 0.0, 0.0, 0.0, 0.0, 0.0, 0.0, 0.0, 0.0, 0.0  …  0.0, 0.0, 0.0, 0.0, 0.0, 0.0, 0.0, 0.0, 0.0, 0.0]\n",
       " [0.0, 0.0, 0.0004744187848917453, -2.8516511155451458e-5, -5.163651953739856e-12, -4.946611314360767e-12, -2.1094926017052696e-5, -2.6046842711719662e-5, -5.1715912007140605e-12, -2.1778474176567107e-16  …  0.0, 0.0, -1.7458740391340646e-16, 3.6314032097652705e-14, -2.053973734897664e-16, -1.7943172496689844e-24, 0.0, -1.7598320053833847e-24, -1.875204092741997e-16, 0.0]\n",
       " [0.0, 0.0, 0.0, 0.0, 0.0, 0.0, 0.0, 0.0, 0.0, 0.0  …  0.0, 0.0, 0.0, 0.0, 0.0, 0.0, 0.0, 0.0, 0.0, 0.0]\n",
       " ⋮\n",
       " [0.0033664081794223867, 0.0024941936877141873, 0.0030272702479483653, 0.0024727178858827423, 0.002651540037835865, 0.0026515437234699035, 0.002528388453794796, 0.0024782276033743712, 0.002637708202341297, 0.0026313470571885924  …  0.0010724771789673653, 0.0008532602373141355, 0.0010663389139072622, 0.0008419482673650338, 0.0010746367180478919, 0.001047328688158181, 0.0010422824568189744, 0.0010422137705513221, 0.0010151430278572012, 0.0008247373623004571]\n",
       " [0.0, 0.0, 0.0, 0.0, 0.0, 0.0, 0.0, 0.0, 0.0, 0.0  …  0.0, 0.0, 0.0, 0.0, 0.0, 0.0, 0.0, 0.0, 0.0, 0.0]\n",
       " [0.0, 0.0, 0.0, 0.0, 0.0, 0.0, 0.0, 0.0, 0.0, 0.0  …  0.0, 0.0, 0.0, 0.0, 0.0, 0.0, 0.0, 0.0, 0.0, 0.0]\n",
       " [8.362575590061712e-5, 6.493565691834115e-5, 0.00013816283110605921, 6.20364417813895e-5, 8.052604255630236e-5, 8.052602828245574e-5, 6.955429278871594e-5, 6.313400916096112e-5, 7.901591741307194e-5, 7.827732142346056e-5  …  2.5802436814569018e-5, 1.7442663841779036e-5, 2.501764094583591e-5, 1.6728918435277148e-5, 2.602388339725351e-5, 2.392784390687711e-5, 2.3376536088085613e-5, 2.337141362434198e-5, 2.2020762907072567e-5, 1.4234074783023422e-5]\n",
       " [0.0, 0.0, 0.0, 0.0, 0.0, 0.0, 0.0, 0.0, 0.0, 0.0  …  0.0, 0.0, 0.0, 0.0, 0.0, 0.0, 0.0, 0.0, 0.0, 0.0]\n",
       " [0.0, 0.0, 0.0, 0.0, 0.0, 0.0, 0.0, 0.0, 0.0, 0.0  …  0.0, 0.0, 0.0, 0.0, 0.0, 0.0, 0.0, 0.0, 0.0, 0.0]\n",
       " [0.0019281318339693344, 0.0020881676235199893, 0.001944711776225883, 0.002022121135825812, 0.002587138606265922, 0.0025895617527904513, 0.0021909750260456743, 0.002086955823182807, 0.0025924741941417647, 0.0026289696179688854  …  0.0012103692488316716, 0.0009369303318259372, 0.0012118801539531012, 0.0009454099804069995, 0.0012086045711260937, 0.0012231591720484039, 0.001225130848276685, 0.0012251732353968996, 0.0012415223033026852, 0.0009505639798670343]\n",
       " [0.0, 0.0, 0.0, 0.0, 0.0, 0.0, 0.0, 0.0, 0.0, 0.0  …  0.0, 0.0, 0.0, 0.0, 0.0, 0.0, 0.0, 0.0, 0.0, 0.0]\n",
       " [0.0, 0.0, 0.0, 0.0, 0.0, 0.0, 0.0, 0.0, 0.0, 0.0  …  0.0, 0.0, 0.0, 0.0, 0.0, 0.0, 0.0, 0.0, 0.0, 0.0]"
      ]
     },
     "metadata": {},
     "output_type": "display_data"
    }
   ],
   "source": [
    "# vec = map( calc_symm_vals!,Ref(positions),Ref(new_pos),Ref(new_dist_vec),Ref(new_f_vec),Ref(3),Ref(dis2mat),Ref(f_mat), eachrow(g_mat) , total_symm_vec )\n",
    "\n",
    "\n",
    "g_mat = total_symm_calc(positions,dis2mat,f_mat,total_symm_vec)\n",
    "\n",
    "vec = map((gvector,symmfuncs) -> calc_symm_vals!(positions,new_pos,new_dist_vec,new_f_vec,3,dis2mat,f_mat, gvector , symmfuncs ) ,eachrow(g_mat),total_symm_vec  )\n",
    "\n",
    "g_mat = total_symm_calc(positions,dis2mat,f_mat,total_symm_vec)\n",
    "\n",
    "vec2 = pmap((gvector,symmfuncs) -> calc_symm_vals!(positions,new_pos,new_dist_vec,new_f_vec,3,dis2mat,f_mat, gvector , symmfuncs ) ,eachrow(g_mat),total_symm_vec  )\n",
    "\n",
    "g_mat = total_symm_calc(positions,dis2mat,f_mat,total_symm_vec)\n",
    "\n",
    "xvec = calc_symm_vals!.(Ref(positions),Ref(new_pos),Ref(new_dist_vec),Ref(new_f_vec),Ref(3),Ref(dis2mat),Ref(f_mat), eachrow(g_mat) , total_symm_vec)"
   ]
  },
  {
   "cell_type": "code",
   "execution_count": 21,
   "metadata": {},
   "outputs": [
    {
     "data": {
      "text/plain": [
       "88-element Vector{Vector{Float64}}:\n",
       " [0.0, 0.0, -0.2190537307241303, -0.022132771780947413, -0.02418285886968563, -0.02204166861876014, -0.014884211021116589, -0.01954729827461066, -0.02426680395979866, -0.017021815753457445  …  0.0, 0.0, -0.007073538261540488, 0.0008184984536820372, -0.009138205270856514, -0.0015615253964638264, 0.0, -0.0014495225056633419, -0.007885005864590025, 0.0]\n",
       " [0.0, 0.0, 0.0, 0.0, 0.0, 0.0, 0.0, 0.0, 0.0, 0.0  …  0.0, 0.0, 0.0, 0.0, 0.0, 0.0, 0.0, 0.0, 0.0, 0.0]\n",
       " [0.0, 0.0, -0.051458625503653856, -0.025262912170049334, -0.011423785225819563, -0.010450321135117402, -0.017087187112375224, -0.022357650986468136, -0.011461799283959143, -0.004547399528379242  …  0.0, 0.0, -0.001977624726511088, 0.00035482760707045147, -0.002538594854819007, -0.0001584316781119373, 0.0, -0.00014777706150619, -0.0021989818098522938, 0.0]\n",
       " [0.0, 0.0, 0.0, 0.0, 0.0, 0.0, 0.0, 0.0, 0.0, 0.0  …  0.0, 0.0, 0.0, 0.0, 0.0, 0.0, 0.0, 0.0, 0.0, 0.0]\n",
       " [0.0, 0.0, 0.004683069984775188, -0.023829912303382772, -0.005734862356622444, -0.005259511404282276, -0.01618407070360156, -0.02112027311579945, -0.005753372653825153, -0.0015196567300616568  …  0.0, 0.0, -0.0006824162232042397, 0.00016748201747307165, -0.000872047760869207, -2.5996551376057757e-5, 0.0, -2.4334350823247447e-5, -0.0007574579185653275, 0.0]\n",
       " [0.0, 0.0, 0.0, 0.0, 0.0, 0.0, 0.0, 0.0, 0.0, 0.0  …  0.0, 0.0, 0.0, 0.0, 0.0, 0.0, 0.0, 0.0, 0.0, 0.0]\n",
       " [0.0, 0.0, 0.03505792165715225, -0.010697331491901226, -0.00019479619192947883, -0.00018040319460369046, -0.0073868885426081055, -0.009537224490608183, -0.00019535028575216754, -1.0099395890829321e-5  …  0.0, 0.0, -5.129958886866889e-6, 4.420779827917453e-6, -6.442368151423982e-6, -1.02331472162256e-8, 0.0, -9.705980439729961e-9, -5.65520722066495e-6, 0.0]\n",
       " [0.0, 0.0, 0.0, 0.0, 0.0, 0.0, 0.0, 0.0, 0.0, 0.0  …  0.0, 0.0, 0.0, 0.0, 0.0, 0.0, 0.0, 0.0, 0.0, 0.0]\n",
       " [0.0, 0.0, 0.0004744187848917453, -2.8516511155451458e-5, -5.163651953739856e-12, -4.946611314360767e-12, -2.1094926017052696e-5, -2.6046842711719662e-5, -5.1715912007140605e-12, -2.1778474176567107e-16  …  0.0, 0.0, -1.7458740391340646e-16, 3.6314032097652705e-14, -2.053973734897664e-16, -1.7943172496689844e-24, 0.0, -1.7598320053833847e-24, -1.875204092741997e-16, 0.0]\n",
       " [0.0, 0.0, 0.0, 0.0, 0.0, 0.0, 0.0, 0.0, 0.0, 0.0  …  0.0, 0.0, 0.0, 0.0, 0.0, 0.0, 0.0, 0.0, 0.0, 0.0]\n",
       " ⋮\n",
       " [0.0033664081794223867, 0.0024941936877141873, 0.0030272702479483653, 0.0024727178858827423, 0.002651540037835865, 0.0026515437234699035, 0.002528388453794796, 0.0024782276033743712, 0.002637708202341297, 0.0026313470571885924  …  0.0010724771789673653, 0.0008532602373141355, 0.0010663389139072622, 0.0008419482673650338, 0.0010746367180478919, 0.001047328688158181, 0.0010422824568189744, 0.0010422137705513221, 0.0010151430278572012, 0.0008247373623004571]\n",
       " [0.0, 0.0, 0.0, 0.0, 0.0, 0.0, 0.0, 0.0, 0.0, 0.0  …  0.0, 0.0, 0.0, 0.0, 0.0, 0.0, 0.0, 0.0, 0.0, 0.0]\n",
       " [0.0, 0.0, 0.0, 0.0, 0.0, 0.0, 0.0, 0.0, 0.0, 0.0  …  0.0, 0.0, 0.0, 0.0, 0.0, 0.0, 0.0, 0.0, 0.0, 0.0]\n",
       " [8.362575590061712e-5, 6.493565691834115e-5, 0.00013816283110605921, 6.20364417813895e-5, 8.052604255630236e-5, 8.052602828245574e-5, 6.955429278871594e-5, 6.313400916096112e-5, 7.901591741307194e-5, 7.827732142346056e-5  …  2.5802436814569018e-5, 1.7442663841779036e-5, 2.501764094583591e-5, 1.6728918435277148e-5, 2.602388339725351e-5, 2.392784390687711e-5, 2.3376536088085613e-5, 2.337141362434198e-5, 2.2020762907072567e-5, 1.4234074783023422e-5]\n",
       " [0.0, 0.0, 0.0, 0.0, 0.0, 0.0, 0.0, 0.0, 0.0, 0.0  …  0.0, 0.0, 0.0, 0.0, 0.0, 0.0, 0.0, 0.0, 0.0, 0.0]\n",
       " [0.0, 0.0, 0.0, 0.0, 0.0, 0.0, 0.0, 0.0, 0.0, 0.0  …  0.0, 0.0, 0.0, 0.0, 0.0, 0.0, 0.0, 0.0, 0.0, 0.0]\n",
       " [0.0019281318339693344, 0.0020881676235199893, 0.001944711776225883, 0.002022121135825812, 0.002587138606265922, 0.0025895617527904513, 0.0021909750260456743, 0.002086955823182807, 0.0025924741941417647, 0.0026289696179688854  …  0.0012103692488316716, 0.0009369303318259372, 0.0012118801539531012, 0.0009454099804069995, 0.0012086045711260937, 0.0012231591720484039, 0.001225130848276685, 0.0012251732353968996, 0.0012415223033026852, 0.0009505639798670343]\n",
       " [0.0, 0.0, 0.0, 0.0, 0.0, 0.0, 0.0, 0.0, 0.0, 0.0  …  0.0, 0.0, 0.0, 0.0, 0.0, 0.0, 0.0, 0.0, 0.0, 0.0]\n",
       " [0.0, 0.0, 0.0, 0.0, 0.0, 0.0, 0.0, 0.0, 0.0, 0.0  …  0.0, 0.0, 0.0, 0.0, 0.0, 0.0, 0.0, 0.0, 0.0, 0.0]"
      ]
     },
     "metadata": {},
     "output_type": "display_data"
    }
   ],
   "source": [
    "@everywhere function parversion(positions,new_pos,dist2_mat,new_dist_vec,f_mat,new_f_vec,g_mat,atomindex,total_symm_vec)\n",
    "\n",
    "    delta_mat = pmap((gvector,symmfuncs) -> calc_symm_vals!(positions,new_pos,new_dist_vec,new_f_vec,3,dis2mat,f_mat, gvector , symmfuncs ) ,eachrow(g_mat),total_symm_vec  )\n",
    "\n",
    "    return delta_mat\n",
    "\n",
    "end\n",
    "g_mat = total_symm_calc(positions,dis2mat,f_mat,total_symm_vec)\n",
    "parversion(positions,new_pos,dis2mat,new_dist_vec,f_mat,new_f_vec,g_mat,3,total_symm_vec)"
   ]
  },
  {
   "cell_type": "code",
   "execution_count": 22,
   "metadata": {},
   "outputs": [
    {
     "data": {
      "text/plain": [
       "BenchmarkTools.Trial: 2639 samples with 1 evaluation.\n",
       " Range \u001b[90m(\u001b[39m\u001b[36m\u001b[1mmin\u001b[22m\u001b[39m … \u001b[35mmax\u001b[39m\u001b[90m):  \u001b[39m\u001b[36m\u001b[1m1.801 ms\u001b[22m\u001b[39m … \u001b[35m  4.096 ms\u001b[39m  \u001b[90m┊\u001b[39m GC \u001b[90m(\u001b[39mmin … max\u001b[90m): \u001b[39m0.00% … 52.35%\n",
       " Time  \u001b[90m(\u001b[39m\u001b[34m\u001b[1mmedian\u001b[22m\u001b[39m\u001b[90m):     \u001b[39m\u001b[34m\u001b[1m1.883 ms               \u001b[22m\u001b[39m\u001b[90m┊\u001b[39m GC \u001b[90m(\u001b[39mmedian\u001b[90m):    \u001b[39m0.00%\n",
       " Time  \u001b[90m(\u001b[39m\u001b[32m\u001b[1mmean\u001b[22m\u001b[39m ± \u001b[32mσ\u001b[39m\u001b[90m):   \u001b[39m\u001b[32m\u001b[1m1.894 ms\u001b[22m\u001b[39m ± \u001b[32m124.985 μs\u001b[39m  \u001b[90m┊\u001b[39m GC \u001b[90m(\u001b[39mmean ± σ\u001b[90m):  \u001b[39m0.37% ±  3.02%\n",
       "\n",
       "  \u001b[39m \u001b[39m \u001b[39m \u001b[39m \u001b[39m \u001b[39m \u001b[39m \u001b[39m \u001b[39m \u001b[39m \u001b[39m \u001b[39m \u001b[39m \u001b[39m \u001b[39m \u001b[39m \u001b[39m \u001b[39m \u001b[39m \u001b[39m \u001b[39m \u001b[39m \u001b[39m \u001b[39m \u001b[39m \u001b[39m \u001b[39m \u001b[39m \u001b[39m \u001b[39m█\u001b[39m▂\u001b[39m \u001b[34m \u001b[39m\u001b[39m \u001b[39m \u001b[39m \u001b[32m \u001b[39m\u001b[39m \u001b[39m \u001b[39m \u001b[39m \u001b[39m \u001b[39m \u001b[39m \u001b[39m \u001b[39m \u001b[39m \u001b[39m \u001b[39m \u001b[39m \u001b[39m \u001b[39m \u001b[39m \u001b[39m \u001b[39m \u001b[39m \u001b[39m \u001b[39m \u001b[39m \u001b[39m \u001b[39m \n",
       "  \u001b[39m▁\u001b[39m▁\u001b[39m▁\u001b[39m▁\u001b[39m▁\u001b[39m▁\u001b[39m▁\u001b[39m▁\u001b[39m▁\u001b[39m▁\u001b[39m▁\u001b[39m▁\u001b[39m▁\u001b[39m▁\u001b[39m▂\u001b[39m▂\u001b[39m▃\u001b[39m▄\u001b[39m▃\u001b[39m▂\u001b[39m▃\u001b[39m▂\u001b[39m▃\u001b[39m▂\u001b[39m▂\u001b[39m▂\u001b[39m▃\u001b[39m▂\u001b[39m▃\u001b[39m█\u001b[39m█\u001b[39m▇\u001b[34m▇\u001b[39m\u001b[39m▄\u001b[39m▄\u001b[39m▅\u001b[32m▄\u001b[39m\u001b[39m▄\u001b[39m▅\u001b[39m▃\u001b[39m▄\u001b[39m▃\u001b[39m▃\u001b[39m▃\u001b[39m▃\u001b[39m▄\u001b[39m▃\u001b[39m▃\u001b[39m▂\u001b[39m▂\u001b[39m▂\u001b[39m▂\u001b[39m▂\u001b[39m▂\u001b[39m▁\u001b[39m▁\u001b[39m▁\u001b[39m▁\u001b[39m▁\u001b[39m \u001b[39m▂\n",
       "  1.8 ms\u001b[90m          Histogram: frequency by time\u001b[39m        1.95 ms \u001b[0m\u001b[1m<\u001b[22m\n",
       "\n",
       " Memory estimate\u001b[90m: \u001b[39m\u001b[33m155.20 KiB\u001b[39m, allocs estimate\u001b[90m: \u001b[39m\u001b[33m1356\u001b[39m."
      ]
     },
     "metadata": {},
     "output_type": "display_data"
    }
   ],
   "source": [
    "@benchmark parversion($positions,$new_pos,$dis2mat,$new_dist_vec,$f_mat,$new_f_vec,$g_mat,$3,$total_symm_vec)"
   ]
  },
  {
   "cell_type": "code",
   "execution_count": 23,
   "metadata": {},
   "outputs": [],
   "source": [
    "@everywhere function threadversion(positions,new_pos,dist2_mat,new_dist_vec,f_mat,new_f_vec,g_mat,atomindex,total_symm_vec)\n",
    "    Threads.@threads for g_index in eachindex(total_symm_vec)\n",
    "        g_mat[g_index,:] = calc_symm_vals!(positions,new_pos,new_dist_vec,new_f_vec,atomindex,dist2_mat,f_mat,g_mat[g_index,:],total_symm_vec[g_index])\n",
    "    end\n",
    "    return g_mat\n",
    "end"
   ]
  },
  {
   "cell_type": "code",
   "execution_count": 24,
   "metadata": {},
   "outputs": [
    {
     "data": {
      "text/plain": [
       "88×55 Matrix{Float64}:\n",
       "  0.0        0.0        -0.219054     …  -0.00788501   0.0\n",
       "  0.0        0.0         0.0              0.0          0.0\n",
       "  0.0        0.0        -0.0514586       -0.00219898   0.0\n",
       "  0.0        0.0         0.0              0.0          0.0\n",
       "  0.0        0.0         0.00468307      -0.000757458  0.0\n",
       "  0.0        0.0         0.0          …   0.0          0.0\n",
       "  0.0        0.0         0.0350579       -5.65521e-6   0.0\n",
       "  0.0        0.0         0.0              0.0          0.0\n",
       "  0.0        0.0         0.000474419     -1.8752e-16   0.0\n",
       "  0.0        0.0         0.0              0.0          0.0\n",
       "  ⋮                                   ⋱                \n",
       " -1.84708   -0.878052    1.97071          0.000991639  0.000824737\n",
       "  0.0        0.0         0.0          …   0.0          0.0\n",
       "  0.0        0.0         0.0              0.0          0.0\n",
       " -0.186152  -0.0873587   0.303967         2.09925e-5   1.42341e-5\n",
       "  0.0        0.0         0.0              0.0          0.0\n",
       "  0.0        0.0         0.0              0.0          0.0\n",
       " -6.68774   -2.83987    -3.6065       …  -0.00309388   0.000950564\n",
       "  0.0        0.0         0.0              0.0          0.0\n",
       "  0.0        0.0         0.0              0.0          0.0"
      ]
     },
     "metadata": {},
     "output_type": "display_data"
    }
   ],
   "source": [
    "threadversion(positions,new_pos,dis2mat,new_dist_vec,f_mat,new_f_vec,g_mat,3,total_symm_vec)"
   ]
  },
  {
   "cell_type": "code",
   "execution_count": 25,
   "metadata": {},
   "outputs": [
    {
     "data": {
      "text/plain": [
       "BenchmarkTools.Trial: 8687 samples with 1 evaluation.\n",
       " Range \u001b[90m(\u001b[39m\u001b[36m\u001b[1mmin\u001b[22m\u001b[39m … \u001b[35mmax\u001b[39m\u001b[90m):  \u001b[39m\u001b[36m\u001b[1m302.870 μs\u001b[22m\u001b[39m … \u001b[35m 50.073 ms\u001b[39m  \u001b[90m┊\u001b[39m GC \u001b[90m(\u001b[39mmin … max\u001b[90m): \u001b[39m0.00% … 98.53%\n",
       " Time  \u001b[90m(\u001b[39m\u001b[34m\u001b[1mmedian\u001b[22m\u001b[39m\u001b[90m):     \u001b[39m\u001b[34m\u001b[1m447.135 μs               \u001b[22m\u001b[39m\u001b[90m┊\u001b[39m GC \u001b[90m(\u001b[39mmedian\u001b[90m):    \u001b[39m0.00%\n",
       " Time  \u001b[90m(\u001b[39m\u001b[32m\u001b[1mmean\u001b[22m\u001b[39m ± \u001b[32mσ\u001b[39m\u001b[90m):   \u001b[39m\u001b[32m\u001b[1m573.054 μs\u001b[22m\u001b[39m ± \u001b[32m826.503 μs\u001b[39m  \u001b[90m┊\u001b[39m GC \u001b[90m(\u001b[39mmean ± σ\u001b[90m):  \u001b[39m2.81% ±  2.11%\n",
       "\n",
       "  \u001b[39m█\u001b[39m \u001b[39m█\u001b[39m▇\u001b[39m▇\u001b[39m▇\u001b[39m▂\u001b[34m▄\u001b[39m\u001b[39m▂\u001b[39m \u001b[39m \u001b[39m \u001b[39m \u001b[32m \u001b[39m\u001b[39m \u001b[39m \u001b[39m \u001b[39m \u001b[39m \u001b[39m \u001b[39m \u001b[39m \u001b[39m \u001b[39m \u001b[39m \u001b[39m \u001b[39m \u001b[39m \u001b[39m \u001b[39m \u001b[39m \u001b[39m \u001b[39m \u001b[39m \u001b[39m \u001b[39m \u001b[39m \u001b[39m \u001b[39m \u001b[39m \u001b[39m \u001b[39m \u001b[39m \u001b[39m \u001b[39m \u001b[39m \u001b[39m \u001b[39m \u001b[39m \u001b[39m \u001b[39m \u001b[39m \u001b[39m \u001b[39m \u001b[39m \u001b[39m \u001b[39m \u001b[39m \u001b[39m \u001b[39m \u001b[39m \u001b[39m \u001b[39m \n",
       "  \u001b[39m█\u001b[39m▃\u001b[39m█\u001b[39m█\u001b[39m█\u001b[39m█\u001b[39m█\u001b[34m█\u001b[39m\u001b[39m█\u001b[39m█\u001b[39m▆\u001b[39m▅\u001b[39m▄\u001b[32m▃\u001b[39m\u001b[39m▃\u001b[39m▃\u001b[39m▂\u001b[39m▂\u001b[39m▂\u001b[39m▂\u001b[39m▂\u001b[39m▂\u001b[39m▂\u001b[39m▂\u001b[39m▂\u001b[39m▂\u001b[39m▂\u001b[39m▂\u001b[39m▂\u001b[39m▂\u001b[39m▂\u001b[39m▂\u001b[39m▂\u001b[39m▂\u001b[39m▂\u001b[39m▂\u001b[39m▂\u001b[39m▂\u001b[39m▂\u001b[39m▂\u001b[39m▂\u001b[39m▁\u001b[39m▂\u001b[39m▂\u001b[39m▂\u001b[39m▁\u001b[39m▂\u001b[39m▁\u001b[39m▁\u001b[39m▂\u001b[39m▁\u001b[39m▁\u001b[39m▁\u001b[39m▂\u001b[39m▁\u001b[39m▁\u001b[39m▁\u001b[39m▁\u001b[39m▁\u001b[39m▁\u001b[39m▁\u001b[39m \u001b[39m▃\n",
       "  303 μs\u001b[90m           Histogram: frequency by time\u001b[39m          1.6 ms \u001b[0m\u001b[1m<\u001b[22m\n",
       "\n",
       " Memory estimate\u001b[90m: \u001b[39m\u001b[33m126.17 KiB\u001b[39m, allocs estimate\u001b[90m: \u001b[39m\u001b[33m541\u001b[39m."
      ]
     },
     "metadata": {},
     "output_type": "display_data"
    }
   ],
   "source": [
    "@benchmark threadversion($positions,$new_pos,$dis2mat,$new_dist_vec,$f_mat,$new_f_vec,$g_mat,$3,$total_symm_vec)"
   ]
  },
  {
   "cell_type": "code",
   "execution_count": 26,
   "metadata": {},
   "outputs": [
    {
     "data": {
      "text/plain": [
       "BenchmarkTools.Trial: 9 samples with 1 evaluation.\n",
       " Range \u001b[90m(\u001b[39m\u001b[36m\u001b[1mmin\u001b[22m\u001b[39m … \u001b[35mmax\u001b[39m\u001b[90m):  \u001b[39m\u001b[36m\u001b[1m479.593 ms\u001b[22m\u001b[39m … \u001b[35m694.839 ms\u001b[39m  \u001b[90m┊\u001b[39m GC \u001b[90m(\u001b[39mmin … max\u001b[90m): \u001b[39m0.00% … 0.00%\n",
       " Time  \u001b[90m(\u001b[39m\u001b[34m\u001b[1mmedian\u001b[22m\u001b[39m\u001b[90m):     \u001b[39m\u001b[34m\u001b[1m569.631 ms               \u001b[22m\u001b[39m\u001b[90m┊\u001b[39m GC \u001b[90m(\u001b[39mmedian\u001b[90m):    \u001b[39m0.00%\n",
       " Time  \u001b[90m(\u001b[39m\u001b[32m\u001b[1mmean\u001b[22m\u001b[39m ± \u001b[32mσ\u001b[39m\u001b[90m):   \u001b[39m\u001b[32m\u001b[1m571.593 ms\u001b[22m\u001b[39m ± \u001b[32m 62.629 ms\u001b[39m  \u001b[90m┊\u001b[39m GC \u001b[90m(\u001b[39mmean ± σ\u001b[90m):  \u001b[39m2.44% ± 2.93%\n",
       "\n",
       "  \u001b[39m█\u001b[39m \u001b[39m \u001b[39m \u001b[39m \u001b[39m \u001b[39m \u001b[39m \u001b[39m█\u001b[39m \u001b[39m \u001b[39m \u001b[39m \u001b[39m \u001b[39m \u001b[39m \u001b[39m \u001b[39m█\u001b[39m \u001b[39m \u001b[34m█\u001b[39m\u001b[39m \u001b[39m \u001b[39m \u001b[39m \u001b[39m█\u001b[32m \u001b[39m\u001b[39m \u001b[39m \u001b[39m█\u001b[39m \u001b[39m \u001b[39m█\u001b[39m \u001b[39m \u001b[39m \u001b[39m \u001b[39m \u001b[39m \u001b[39m█\u001b[39m \u001b[39m \u001b[39m \u001b[39m \u001b[39m \u001b[39m \u001b[39m \u001b[39m \u001b[39m \u001b[39m \u001b[39m \u001b[39m \u001b[39m \u001b[39m \u001b[39m \u001b[39m \u001b[39m \u001b[39m \u001b[39m \u001b[39m \u001b[39m█\u001b[39m \u001b[39m \n",
       "  \u001b[39m█\u001b[39m▁\u001b[39m▁\u001b[39m▁\u001b[39m▁\u001b[39m▁\u001b[39m▁\u001b[39m▁\u001b[39m█\u001b[39m▁\u001b[39m▁\u001b[39m▁\u001b[39m▁\u001b[39m▁\u001b[39m▁\u001b[39m▁\u001b[39m▁\u001b[39m█\u001b[39m▁\u001b[39m▁\u001b[34m█\u001b[39m\u001b[39m▁\u001b[39m▁\u001b[39m▁\u001b[39m▁\u001b[39m█\u001b[32m▁\u001b[39m\u001b[39m▁\u001b[39m▁\u001b[39m█\u001b[39m▁\u001b[39m▁\u001b[39m█\u001b[39m▁\u001b[39m▁\u001b[39m▁\u001b[39m▁\u001b[39m▁\u001b[39m▁\u001b[39m█\u001b[39m▁\u001b[39m▁\u001b[39m▁\u001b[39m▁\u001b[39m▁\u001b[39m▁\u001b[39m▁\u001b[39m▁\u001b[39m▁\u001b[39m▁\u001b[39m▁\u001b[39m▁\u001b[39m▁\u001b[39m▁\u001b[39m▁\u001b[39m▁\u001b[39m▁\u001b[39m▁\u001b[39m▁\u001b[39m▁\u001b[39m█\u001b[39m \u001b[39m▁\n",
       "  480 ms\u001b[90m           Histogram: frequency by time\u001b[39m          695 ms \u001b[0m\u001b[1m<\u001b[22m\n",
       "\n",
       " Memory estimate\u001b[90m: \u001b[39m\u001b[33m123.31 MiB\u001b[39m, allocs estimate\u001b[90m: \u001b[39m\u001b[33m542957\u001b[39m."
      ]
     },
     "metadata": {},
     "output_type": "display_data"
    }
   ],
   "source": [
    "@everywhere function testingtime(positions,new_pos,dist2_mat,new_dist_vec,f_mat,new_f_vec,g_mat,atomindex,total_symm_vec)\n",
    "    newmat = copy(g_mat)\n",
    "    for j = 1:1000\n",
    "        newmat = threadversion(positions,new_pos,dist2_mat,new_dist_vec,f_mat,new_f_vec,g_mat,atomindex,total_symm_vec)\n",
    "    end\n",
    "    return newmat\n",
    "end\n",
    "@benchmark testingtime($positions,$new_pos,$dis2mat,$new_dist_vec,$f_mat,$new_f_vec,$g_mat,$3,$total_symm_vec)"
   ]
  },
  {
   "cell_type": "code",
   "execution_count": null,
   "metadata": {},
   "outputs": [],
   "source": []
  }
 ],
 "metadata": {
  "kernelspec": {
   "display_name": "Julia 1.8.5",
   "language": "julia",
   "name": "julia-1.8"
  },
  "language_info": {
   "file_extension": ".jl",
   "mimetype": "application/julia",
   "name": "julia",
   "version": "1.8.5"
  },
  "orig_nbformat": 4
 },
 "nbformat": 4,
 "nbformat_minor": 2
}
