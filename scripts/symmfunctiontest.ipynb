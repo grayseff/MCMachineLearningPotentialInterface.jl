{
 "cells": [
  {
   "attachments": {},
   "cell_type": "markdown",
   "metadata": {},
   "source": [
    "# Symmetry function testing\n",
    "In an effort to reduce the number of allocations and memory overhead, a rewrite of the essential program with benchmarks is here. "
   ]
  },
  {
   "cell_type": "code",
   "execution_count": 1,
   "metadata": {},
   "outputs": [
    {
     "name": "stderr",
     "output_type": "stream",
     "text": [
      "\u001b[91m\u001b[1mERROR: \u001b[22m\u001b[39mLoadError: "
     ]
    },
    {
     "name": "stderr",
     "output_type": "stream",
     "text": [
      "UndefVarError: T not defined\n",
      "Stacktrace:\n",
      " [1] top-level scope\n",
      "\u001b[90m   @ \u001b[39m\u001b[90m~/.julia/dev/MachineLearningPotential/src/\u001b[39m\u001b[90m\u001b[4mSymmFunc.jl:55\u001b[24m\u001b[39m\n",
      " [2] \u001b[0m\u001b[1minclude\u001b[22m\u001b[0m\u001b[1m(\u001b[22m\u001b[90mmod\u001b[39m::\u001b[0mModule, \u001b[90m_path\u001b[39m::\u001b[0mString\u001b[0m\u001b[1m)\u001b[22m\n",
      "\u001b[90m   @ \u001b[39m\u001b[90mBase\u001b[39m \u001b[90m./\u001b[39m\u001b[90m\u001b[4mBase.jl:419\u001b[24m\u001b[39m\n",
      " [3] \u001b[0m\u001b[1minclude\u001b[22m\u001b[0m\u001b[1m(\u001b[22m\u001b[90mx\u001b[39m::\u001b[0mString\u001b[0m\u001b[1m)\u001b[22m\n",
      "\u001b[90m   @ \u001b[39m\u001b[35mMachineLearningPotential\u001b[39m \u001b[90m~/.julia/dev/MachineLearningPotential/src/\u001b[39m\u001b[90m\u001b[4mMachineLearningPotential.jl:1\u001b[24m\u001b[39m\n",
      " [4] top-level scope\n",
      "\u001b[90m   @ \u001b[39m\u001b[90m~/.julia/dev/MachineLearningPotential/src/\u001b[39m\u001b[90m\u001b[4mMachineLearningPotential.jl:6\u001b[24m\u001b[39m\n",
      " [5] \u001b[0m\u001b[1minclude\u001b[22m\n",
      "\u001b[90m   @ \u001b[39m\u001b[90m./\u001b[39m\u001b[90m\u001b[4mBase.jl:419\u001b[24m\u001b[39m\u001b[90m [inlined]\u001b[39m\n",
      " [6] \u001b[0m\u001b[1minclude_package_for_output\u001b[22m\u001b[0m\u001b[1m(\u001b[22m\u001b[90mpkg\u001b[39m::\u001b[0mBase.PkgId, \u001b[90minput\u001b[39m::\u001b[0mString, \u001b[90mdepot_path\u001b[39m::\u001b[0mVector\u001b[90m{String}\u001b[39m, \u001b[90mdl_load_path\u001b[39m::\u001b[0mVector\u001b[90m{String}\u001b[39m, \u001b[90mload_path\u001b[39m::\u001b[0mVector\u001b[90m{String}\u001b[39m, \u001b[90mconcrete_deps\u001b[39m::\u001b[0mVector\u001b[90m{Pair{Base.PkgId, UInt64}}\u001b[39m, \u001b[90msource\u001b[39m::\u001b[0mString\u001b[0m\u001b[1m)\u001b[22m\n",
      "\u001b[90m   @ \u001b[39m\u001b[90mBase\u001b[39m \u001b[90m./\u001b[39m\u001b[90m\u001b[4mloading.jl:1554\u001b[24m\u001b[39m\n",
      " [7] top-level scope\n",
      "\u001b[90m   @ \u001b[39m\u001b[90m\u001b[4mstdin:1\u001b[24m\u001b[39m\n",
      "in expression starting at /home/ghunter/.julia/dev/MachineLearningPotential/src/SymmFunc.jl:1\n",
      "in expression starting at /home/ghunter/.julia/dev/MachineLearningPotential/src/MachineLearningPotential.jl:1\n",
      "in expression starting at stdin:1\n"
     ]
    },
    {
     "ename": "ErrorException",
     "evalue": "Failed to precompile MachineLearningPotential [3c6de921-4f95-4537-8999-82f6d8a5f170] to /home/ghunter/.julia/compiled/v1.8/MachineLearningPotential/jl_1daTcW.",
     "output_type": "error",
     "traceback": [
      "Failed to precompile MachineLearningPotential [3c6de921-4f95-4537-8999-82f6d8a5f170] to /home/ghunter/.julia/compiled/v1.8/MachineLearningPotential/jl_1daTcW.\n",
      "\n",
      "Stacktrace:\n",
      " [1] error(s::String)\n",
      "   @ Base ./error.jl:35\n",
      " [2] compilecache(pkg::Base.PkgId, path::String, internal_stderr::IO, internal_stdout::IO, keep_loaded_modules::Bool)\n",
      "   @ Base ./loading.jl:1707\n",
      " [3] compilecache\n",
      "   @ ./loading.jl:1651 [inlined]\n",
      " [4] _require(pkg::Base.PkgId)\n",
      "   @ Base ./loading.jl:1337\n",
      " [5] _require_prelocked(uuidkey::Base.PkgId)\n",
      "   @ Base ./loading.jl:1200\n",
      " [6] macro expansion\n",
      "   @ ./loading.jl:1180 [inlined]\n",
      " [7] macro expansion\n",
      "   @ ./lock.jl:223 [inlined]\n",
      " [8] require(into::Module, mod::Symbol)\n",
      "   @ Base ./loading.jl:1144\n",
      " [9] top-level scope\n",
      "   @ /opt/software/julia/julia-1.8.5/share/julia/stdlib/v1.8/Distributed/src/macros.jl:200"
     ]
    }
   ],
   "source": [
    "using Distributed\n",
    "@everywhere using StaticArrays,BenchmarkTools,Random,Flux,DelimitedFiles,LinearAlgebra\n",
    "@everywhere using InvertedIndices\n",
    "@everywhere using MachineLearningPotential"
   ]
  },
  {
   "attachments": {},
   "cell_type": "markdown",
   "metadata": {},
   "source": [
    "First we initialise the positions, symmetry functions, distance squared matrix and cutoff functions"
   ]
  },
  {
   "cell_type": "code",
   "execution_count": 2,
   "metadata": {},
   "outputs": [
    {
     "ename": "UndefVarError",
     "evalue": "UndefVarError: get_distance2_mat not defined",
     "output_type": "error",
     "traceback": [
      "UndefVarError: get_distance2_mat not defined\n",
      "\n",
      "Stacktrace:\n",
      " [1] top-level scope\n",
      "   @ ~/.julia/dev/MachineLearningPotential/scripts/symmfunctiontest.ipynb:58"
     ]
    }
   ],
   "source": [
    "atoms = [[0.0000006584,       -0.0000019175,        0.0000000505],\n",
    "[-0.0000005810,       -0.0000004871,        0.6678432175],\n",
    "[0.1845874248,       -0.5681026047,        0.2986701538],\n",
    "[-0.4832557457,       -0.3511072166,        0.2986684497],\n",
    "[-0.4832557570,        0.3511046452,        0.2986669456],\n",
    "[0.1845874064,        0.5681000550,        0.2986677202],\n",
    "[0.5973371920,       -0.0000012681,        0.2986697030],\n",
    "[-0.1845860897,       -0.5681038901,       -0.2986676192],\n",
    "[-0.5973358752,       -0.0000025669,       -0.2986696020],\n",
    "[-0.1845861081,        0.5680987696,       -0.2986700528],\n",
    "[0.4832570624,        0.3511033815,       -0.2986683486],\n",
    "[0.4832570738,       -0.3511084803,       -0.2986668445],\n",
    "[0.0000018978,       -0.0000033480,       -0.6678431165],\n",
    "[-0.0000017969,        0.0000009162,        1.3230014650],\n",
    "[0.1871182835,       -0.5758942175,        0.9797717078],\n",
    "[-0.4898861924,       -0.3559221410,       0.9797699802],\n",
    "[-0.4898862039,        0.3559224872,        0.9797684555],\n",
    "[0.1871182648,        0.5758945856,        0.9797692407],\n",
    "[0.6055300485,        0.0000001908,        0.9797712507],\n",
    "[0.7926501864,       -0.5758950093,        0.6055339635],\n",
    "[0.3656681761,       -1.1254128670,        0.5916673591],\n",
    "[-0.3027660545,       -0.9318173412,        0.6055326929],\n",
    "[-0.9573332453,       -0.6955436707,        0.5916639831],\n",
    "[-0.9797705418,       -0.0000006364,        0.6055294407],\n",
    "[-0.9573332679,        0.6955423392,        0.5916610035],\n",
    "[-0.3027660847,        0.9318160902,        0.6055287012],\n",
    "[0.3656681396,        1.1254115783,        0.5916625380],\n",
    "[0.7926501677,        0.5758937939,        0.6055314964],\n",
    "[1.1833279992,       -0.0000006311,        0.5916664660],\n",
    "[0.6770051458,       -0.9318186223,        0.0000033028],\n",
    "[0.0000006771,       -1.1517907207,        0.0000025175],\n",
    "[-0.6770037988,       -0.9318186442,        0.0000007900],\n",
    "[-1.0954155825,       -0.3559242494,       -0.0000012200],\n",
    "[-1.0954155940,        0.3559203788,       -0.0000027447],\n",
    "[-0.6770038290,        0.9318147872,       -0.0000032017],\n",
    "[0.0000006397,        1.1517868856,       -0.0000024165],\n",
    "[0.6770051155,        0.9318148091,       -0.0000006889],\n",
    "[1.0954168993,        0.3559204143,        0.0000013211],\n",
    "[1.0954169108,       -0.3559242139,        0.0000028458],\n",
    "[0.3027674014,       -0.9318199253,       -0.6055286002],\n",
    "[-0.3656668229,       -1.1254154134,       -0.5916624370],\n",
    "[-0.7926488510,       -0.5758976290,       -0.6055313954],\n",
    "[-1.1833266824,       -0.0000032040,       -0.5916663649],\n",
    "[-0.7926488697,        0.5758911742,       -0.6055338624],\n",
    "[-0.3656668594,        1.1254090319,       -0.5916672580],\n",
    "[0.3027673712,        0.9318135061,       -0.6055325919],\n",
    "[0.9573345621,        0.6955398357,       -0.5916638820],\n",
    "[0.9797718586,       -0.0000031986,       -0.6055293396],\n",
    "[0.9573345846,       -0.6955461743,       -0.5916609025],\n",
    "[-0.1871169480,       -0.5758984207,       -0.9797691397],\n",
    "[-0.6055287318,       -0.0000040259,       -0.9797711497],\n",
    "[-0.1871169667,        0.5758903824,       -0.9797716067],\n",
    "[0.4898875091,        0.3559183059,       -0.9797698792],\n",
    "[0.4898875207,       -0.3559263223,       -0.9797683545],\n",
    "[0.0000031136,       -0.0000047513,       -1.3230013639]]*18.8973*0.36258\n",
    "\n",
    "positions = [SVector{3}(p[i] for i in 1:3) for p in atoms]\n",
    "dis2mat = get_distance2_mat(positions)\n",
    "rad_function = RadialType2{Float64}(0.001,11.338,[1.,1.])\n",
    "ang_func = AngularType3{Float64}(0.0001,1.0,1.0,11.338,[1.,1.,1.])\n",
    "ang_func2 = AngularType3{Float64}(0.0001,-1.0,2.0,11.338,[1.,1.,1.])\n",
    "X = [ 1    1              0.001   0.000  11.338\n",
    " 1    0              0.001   0.000  11.338\n",
    " 1    1              0.020   0.000  11.338\n",
    " 1    0              0.020   0.000  11.338\n",
    " 1    1              0.035   0.000  11.338\n",
    " 1    0              0.035   0.000  11.338\n",
    " 1    1              0.100   0.000  11.338\n",
    " 1    0              0.100   0.000  11.338\n",
    " 1    1              0.400   0.000  11.338\n",
    " 1    0              0.400   0.000  11.338]\n",
    "\n",
    "radsymmvec = []\n",
    "\n",
    "for row in eachrow(X)\n",
    "    symmfunc = RadialType2{Float64}(row[3],row[5],[row[1],row[2]])\n",
    "    push!(radsymmvec,symmfunc)\n",
    "end\n",
    "\n",
    "V = [[0.0001,1,1,11.338],[0.0001,-1,2,11.338],[0.003,-1,1,11.338],[0.003,-1,2,11.338],[0.008,-1,1,11.338],[0.008,-1,2,11.338],[0.008,1,2,11.338],[0.015,1,1,11.338],[0.015,-1,2,11.338],[0.015,-1,4,11.338],[0.015,-1,16,11.338],[0.025,-1,1,11.338],[0.025,1,1,11.338],[0.025,1,2,11.338],[0.025,-1,4,11.338],[0.025,-1,16,11.338],[0.025,1,16,11.338],[0.045,1,1,11.338],[0.045,-1,2,11.338],[0.045,-1,4,11.338],[0.045,1,4,11.338],[0.045,1,16,11.338],[0.08,1,1,11.338],[0.08,-1,2,11.338],[0.08,-1,4,11.338],[0.08,1,4,11.338]]\n",
    "\n",
    "T = [[1.,1.,1.],[1.,1.,0.],[1.,0.,0.]]\n",
    "\n",
    "angularsymmvec = []\n",
    "\n",
    "for element in V \n",
    "    for types in T\n",
    "        symmfunc = AngularType3{Float64}(element[1],element[2],element[3],11.338,types)\n",
    "        push!(angularsymmvec,symmfunc)\n",
    "    end\n",
    "end\n",
    "\n",
    "total_symm_vec = vcat(radsymmvec,angularsymmvec)\n",
    "f_mat = cutoff_function.(sqrt.(dis2mat),Ref(total_symm_vec[1].r_cut))"
   ]
  },
  {
   "attachments": {},
   "cell_type": "markdown",
   "metadata": {},
   "source": [
    "We include the true symmetry values as generated by RuNNer to check consistency, as well as an arbitrary perturbation to test the \"difference matrix\" version of the symmetry function code"
   ]
  },
  {
   "cell_type": "code",
   "execution_count": 3,
   "metadata": {},
   "outputs": [
    {
     "ename": "UndefVarError",
     "evalue": "UndefVarError: distance2 not defined",
     "output_type": "error",
     "traceback": [
      "UndefVarError: distance2 not defined\n",
      "\n",
      "Stacktrace:\n",
      " [1] (::var\"#13#14\")(b::SVector{3, Float64})\n",
      "   @ Main ./none:0\n",
      " [2] iterate\n",
      "   @ ./generator.jl:47 [inlined]\n",
      " [3] collect(itr::Base.Generator{Vector{SVector{3, Float64}}, var\"#13#14\"})\n",
      "   @ Base ./array.jl:787\n",
      " [4] top-level scope\n",
      "   @ ~/.julia/dev/MachineLearningPotential/scripts/symmfunctiontest.ipynb:5"
     ]
    }
   ],
   "source": [
    "perturbation = SVector(-0.6 , 0.3, 0.2 )\n",
    "newpos = positions[3] .+ perturbation\n",
    "index = 3\n",
    "\n",
    "new_dis_vec = [distance2(newpos,b) for b in positions]\n",
    "new_dis_vec[3] = 0.\n",
    "\n",
    "new_f_vec = cutoff_function.(sqrt.(new_dis_vec),Ref(total_symm_vec[1].r_cut))\n",
    "testpos = copy(positions)\n",
    "testpos[3] = newpos\n",
    "test_dist_mat,test_f_mat = copy(dis2mat),copy(f_mat)\n",
    "test_dist_mat[3,:],test_f_mat[3,:] = new_dis_vec,new_f_vec\n",
    "test_dist_mat[:,3],test_f_mat[:,3] = new_dis_vec,new_f_vec"
   ]
  },
  {
   "cell_type": "code",
   "execution_count": 4,
   "metadata": {},
   "outputs": [
    {
     "data": {
      "text/plain": [
       "88×55 transpose(::Matrix{Any}) with eltype Any:\n",
       " 14.6407       11.9666       11.9666       …  7.45537      5.69954\n",
       "  0.0           0.0           0.0             0.0          0.0\n",
       "  7.16978       6.36224       6.36224         3.92888      2.94156\n",
       "  0.0           0.0           0.0             0.0          0.0\n",
       "  4.52421       4.14311       4.14311         2.54596      1.91555\n",
       "  0.0           0.0           0.0          …  0.0          0.0\n",
       "  0.972533      0.857168      0.857168        0.508399     0.410771\n",
       "  0.0           0.0           0.0             0.0          0.0\n",
       "  0.00179489    0.00117603    0.00117603      0.000528536  0.000557398\n",
       "  0.0           0.0           0.0             0.0          0.0\n",
       "  ⋮                                        ⋱               \n",
       "  0.00742548    0.00500205    0.00500205      0.00192165   0.00165975\n",
       "  0.0           0.0           0.0          …  0.0          0.0\n",
       "  0.0           0.0           0.0             0.0          0.0\n",
       "  0.000947854   0.000598351   0.000598351     0.000182036  0.00013714\n",
       "  0.0           0.0           0.0             0.0          0.0\n",
       "  0.0           0.0           0.0             0.0          0.0\n",
       "  0.0254414     0.021925      0.021925     …  0.0105009    0.00765187\n",
       "  0.0           0.0           0.0             0.0          0.0\n",
       "  0.0           0.0           0.0             0.0          0.0"
      ]
     },
     "metadata": {},
     "output_type": "display_data"
    }
   ],
   "source": [
    "file = open(\"$(pwd())/symfunctions.out\",\"r+\")\n",
    "truevalues = readdlm(file)\n",
    "close(file)\n",
    "truevals = transpose(truevalues[2:end,2:end])"
   ]
  },
  {
   "attachments": {},
   "cell_type": "markdown",
   "metadata": {},
   "source": [
    "Next, testing the speed and accuracy of the existing code."
   ]
  },
  {
   "cell_type": "code",
   "execution_count": 5,
   "metadata": {},
   "outputs": [
    {
     "ename": "UndefVarError",
     "evalue": "UndefVarError: total_symm_calc not defined",
     "output_type": "error",
     "traceback": [
      "UndefVarError: total_symm_calc not defined\n",
      "\n",
      "Stacktrace:\n",
      " [1] top-level scope\n",
      "   @ ~/.julia/dev/MachineLearningPotential/scripts/symmfunctiontest.ipynb:1"
     ]
    }
   ],
   "source": [
    "gmat1 = total_symm_calc(positions,dis2mat,f_mat,total_symm_vec)\n",
    "\n",
    "gmat2 = total_symm_calc(testpos,test_dist_mat,test_f_mat,total_symm_vec)\n",
    "\n",
    "truevals ≈ gmat1\n",
    "\n"
   ]
  },
  {
   "cell_type": "code",
   "execution_count": 6,
   "metadata": {},
   "outputs": [],
   "source": [
    "# testgmat1 = total_symm_calc(positions,newpos,dis2mat,new_dis_vec,f_mat,new_f_vec,gmat1,3,total_symm_vec)\n",
    "\n",
    "# testgmat1 ≈ gmat2"
   ]
  },
  {
   "attachments": {},
   "cell_type": "markdown",
   "metadata": {},
   "source": [
    "This indicates that the existing \"update g_matrix\" code is wrong"
   ]
  },
  {
   "attachments": {},
   "cell_type": "markdown",
   "metadata": {},
   "source": [
    "benchmark for generating the full and partial matrix"
   ]
  },
  {
   "cell_type": "code",
   "execution_count": 7,
   "metadata": {},
   "outputs": [
    {
     "ename": "UndefVarError",
     "evalue": "UndefVarError: dis2mat not defined",
     "output_type": "error",
     "traceback": [
      "UndefVarError: dis2mat not defined\n",
      "\n",
      "Stacktrace:\n",
      " [1] top-level scope\n",
      "   @ ~/.julia/packages/BenchmarkTools/0owsb/src/execution.jl:442"
     ]
    }
   ],
   "source": [
    "@benchmark total_symm_calc($positions,$dis2mat,$f_mat,$total_symm_vec)"
   ]
  },
  {
   "attachments": {},
   "cell_type": "markdown",
   "metadata": {},
   "source": [
    "Updating the g_matrix code below"
   ]
  },
  {
   "cell_type": "code",
   "execution_count": 8,
   "metadata": {},
   "outputs": [
    {
     "data": {
      "text/plain": [
       "theta_part (generic function with 1 method)"
      ]
     },
     "metadata": {},
     "output_type": "display_data"
    }
   ],
   "source": [
    "# these calculate the two main components of the angular symmetry function, the exp part is also written so it can be used for both types of symmetry function\n",
    "\n",
    "exponential_part(η,r2_ij,r2_ik,r2_jk,f_ij,f_ik,f_jk) = exp(-η*(r2_ij+r2_ik+r2_jk))* f_ij * f_ik * f_jk\n",
    "\n",
    "exponential_part(η,rsum,f_prod) = exp(-η*(rsum))*f_prod\n",
    "\n",
    "theta_part(θ,λ,ζ) = (1+λ*θ)^ζ\n"
   ]
  },
  {
   "cell_type": "code",
   "execution_count": 9,
   "metadata": {},
   "outputs": [
    {
     "data": {
      "text/plain": [
       "adjust_radial_symm_val! (generic function with 1 method)"
      ]
     },
     "metadata": {},
     "output_type": "display_data"
    }
   ],
   "source": [
    "\n",
    "#funtions desinged to update radial and angular symmetry values\n",
    "\n",
    "function adjust_angular_symm_val!(g_value,θ_val,exp_part,tpz)\n",
    "    g_value += exp_part*θ_val*tpz\n",
    "    return g_value\n",
    "end\n",
    "\n",
    "function adjust_symm_val!(g_value,r_sum,f_prod,η)\n",
    "    #adjusts radial type 2 symmetry function\n",
    "    g_value += exponential_part(η,r_sum,f_prod)\n",
    "    return g_value\n",
    "end\n",
    "\n",
    "\n",
    "function adjust_angular_symm_val!(g_value,θ_new,θ_old,exp_new,exp_old,tpz)\n",
    "\n",
    "    g_value += exp_new*θ_new*tpz\n",
    "    g_value -= exp_old*θ_old*tpz\n",
    "\n",
    "    return g_value\n",
    "end\n",
    "\n",
    "function adjust_angular_symm_val!(g_value,exp_old,exp_new,θ_old,θ_new,λ,ζ,tpz)\n",
    "    θ_val_old,θ_val_new = theta_part(θ_old,λ,ζ),theta_part(θ_new,λ,ζ)\n",
    "    return adjust_angular_symm_val!(g_value,θ_val_new,θ_val_old,exp_new,exp_old,tpz)\n",
    "end\n",
    "\n",
    "function adjust_radial_symm_val!(g_value1,g_value2,rnew_ij,r2_ij,fnew_ij,f2_ij,η)\n",
    " \n",
    "    g_value1,g_value2 = adjust_symm_val!(g_value1,rnew_ij,fnew_ij,η),adjust_symm_val!(g_value2,rnew_ij,fnew_ij,η)\n",
    "    g_value1,g_value2 = adjust_symm_val!(g_value1,r2_ij,-f2_ij,η),adjust_symm_val!(g_value2,r2_ij,-f2_ij,η)\n",
    "\n",
    "    return g_value1,g_value2\n",
    "end"
   ]
  },
  {
   "attachments": {},
   "cell_type": "markdown",
   "metadata": {},
   "source": [
    "Using these adjust functions we define the calc_symm functions"
   ]
  },
  {
   "cell_type": "code",
   "execution_count": 10,
   "metadata": {},
   "outputs": [
    {
     "data": {
      "text/plain": [
       "calc_new_symmetry_value! (generic function with 3 methods)"
      ]
     },
     "metadata": {},
     "output_type": "display_data"
    }
   ],
   "source": [
    "#most general definition for the angular value\n",
    "\n",
    "function calc_new_symmetry_value!(g_vector,indices,newposition,position1,position2,position3,rnew_ij,rnew_ik,r2_ij,r2_ik,r2_jk,fnew_ij,fnew_ik,f_ij,f_ik,f_jk,η,λ,ζ,tpz)\n",
    "\n",
    "    θ_new_vec,θ_old_vec = all_angular_measure(newposition,position2,position3,rnew_ij,rnew_ik,r2_jk),all_angular_measure(position1,position2,position3,r2_ij,r2_ik,r2_jk)\n",
    "\n",
    "    exp_new,exp_old = exponential_part(η,rnew_ij,rnew_ik,r2_jk,fnew_ij,fnew_ik,f_jk),exponential_part(η,r2_ij,r2_ik,r2_jk,f_ij,f_ik,f_jk)\n",
    "\n",
    "    for (θ_old,θ_new,index) in zip(θ_old_vec,θ_new_vec,indices)\n",
    "        g_vector[index] = adjust_angular_symm_val!(g_vector[index],exp_old,exp_new,θ_old,θ_new,λ,ζ,tpz)\n",
    "    end\n",
    "\n",
    "    return g_vector\n",
    "end\n",
    "function calc_new_symmetry_value!(g_vector,indexi,indexj,indexk,newposition,position,dist2_mat,new_dist2_vector,f_matrix,new_f_vector,η,λ,ζ,tpz)\n",
    "    return calc_new_symmetry_value!(g_vector,[indexi,indexj,indexk],newposition,position[indexi],position[indexj],position[indexk],new_dist2_vector[indexj],new_dist2_vector[indexk],dist2_mat[indexi,indexj],dist2_mat[indexi,indexk],dist2_mat[indexj,indexk],new_f_vector[indexj],new_f_vector[indexk],f_matrix[indexi,indexj],f_matrix[indexi,indexk],f_matrix[indexj,indexk],η,λ,ζ,tpz)\n",
    "\n",
    "end\n",
    "\n",
    "function calc_new_symmetry_value!(g_vector,indexi,indexj,dist2_mat,new_dist2_vector,f_matrix,new_f_vector,η)\n",
    "    g_vector[indexi],g_vector[indexj] = adjust_radial_symm_val!(g_vector[indexi],g_vector[indexj],new_dist2_vector[indexj],dist2_mat[indexi,indexj],new_f_vector[indexj],f_matrix[indexi,indexj],η)\n",
    "    return g_vector\n",
    "end"
   ]
  },
  {
   "attachments": {},
   "cell_type": "markdown",
   "metadata": {},
   "source": [
    "Now a function to decide between radial and angular versions of the calc_new_symm_value! function. "
   ]
  },
  {
   "cell_type": "code",
   "execution_count": 11,
   "metadata": {},
   "outputs": [
    {
     "ename": "UndefVarError",
     "evalue": "UndefVarError: RadialType2 not defined",
     "output_type": "error",
     "traceback": [
      "UndefVarError: RadialType2 not defined\n",
      "\n",
      "Stacktrace:\n",
      " [1] top-level scope\n",
      "   @ ~/.julia/dev/MachineLearningPotential/scripts/symmfunctiontest.ipynb:1"
     ]
    }
   ],
   "source": [
    "function symmetry_calculation!(g_vector,atomindex,newposition,position,dist2_mat,new_dist2_vector,f_matrix,new_f_vector,symmetry_function::RadialType2)\n",
    "    if symmetry_function.type_vec == [1.,1.]\n",
    "\n",
    "        η = symmetry_function.eta\n",
    "        for index2 in eachindex(g_vector)\n",
    "            if index2 != atomindex\n",
    "                g_vector = calc_new_symmetry_value!(g_vector,atomindex,index2,dist2_mat,new_dist2_vector,f_matrix,new_f_vector,η)\n",
    "            end\n",
    "        end\n",
    "    end\n",
    "\n",
    "    return g_vector\n",
    "end\n",
    "function symmetry_calculation!(g_vector,atomindex,newposition,position,dist2_mat,new_dis_vector,f_matrix,new_f_vector,symmetry_function::AngularType3)\n",
    "    N = length(g_vector)\n",
    "\n",
    "    if symmetry_function.type_vec == [1.,1.,1.]\n",
    "\n",
    "        η,λ,ζ,tpz = symmetry_function.eta,symmetry_function.lambda,symmetry_function.zeta,symmetry_function.tpz\n",
    "\n",
    "        for j_index in 1:N\n",
    "            if j_index != atomindex\n",
    "                for k_index in j_index+1:N\n",
    "                    if k_index != atomindex\n",
    "                        g_vector = calc_new_symmetry_value!(g_vector,atomindex,j_index,k_index,newposition,position,dist2_mat,new_dis_vector,f_matrix,new_f_vector,η,λ,ζ,tpz) \n",
    "                    end\n",
    "                end\n",
    "            end\n",
    "        end\n",
    "        \n",
    "    end\n",
    "\n",
    "    return g_vector\n",
    "end"
   ]
  },
  {
   "attachments": {},
   "cell_type": "markdown",
   "metadata": {},
   "source": [
    "As a means of testing the accuracy, we will generate a single difference vector and check whether this matches"
   ]
  },
  {
   "cell_type": "code",
   "execution_count": 12,
   "metadata": {},
   "outputs": [
    {
     "ename": "UndefVarError",
     "evalue": "UndefVarError: angularsymmvec not defined",
     "output_type": "error",
     "traceback": [
      "UndefVarError: angularsymmvec not defined\n",
      "\n",
      "Stacktrace:\n",
      " [1] top-level scope\n",
      "   @ ~/.julia/dev/MachineLearningPotential/scripts/symmfunctiontest.ipynb:3"
     ]
    }
   ],
   "source": [
    "vector_for_testing = zeros(55)\n",
    "\n",
    "vector_for_testing = symmetry_calculation!(vector_for_testing,3,newpos,positions,dis2mat,new_dis_vec,f_mat,new_f_vec,angularsymmvec[1])\n",
    "gmat2[11,:] .- gmat1[11,:] ≈ vector_for_testing"
   ]
  },
  {
   "cell_type": "code",
   "execution_count": 13,
   "metadata": {},
   "outputs": [
    {
     "ename": "UndefVarError",
     "evalue": "UndefVarError: dis2mat not defined",
     "output_type": "error",
     "traceback": [
      "UndefVarError: dis2mat not defined\n",
      "\n",
      "Stacktrace:\n",
      " [1] top-level scope\n",
      "   @ ~/.julia/packages/BenchmarkTools/0owsb/src/execution.jl:442"
     ]
    }
   ],
   "source": [
    "@benchmark symmetry_calculation!($zeros(55),$3,$newpos,$positions,$dis2mat,$new_dis_vec,$f_mat,$new_f_vec,$angularsymmvec[1])"
   ]
  },
  {
   "attachments": {},
   "cell_type": "markdown",
   "metadata": {},
   "source": [
    "Lastly, a function that handles the complete change to the symmetry matrix based on each and every vector. "
   ]
  },
  {
   "cell_type": "code",
   "execution_count": 14,
   "metadata": {},
   "outputs": [
    {
     "data": {
      "text/plain": [
       "total_symm! (generic function with 1 method)"
      ]
     },
     "metadata": {},
     "output_type": "display_data"
    }
   ],
   "source": [
    "function total_symm!(g_matrix,position,new_position,dist2_matrix,new_dist_vector,f_matrix,new_f_vector,atomindex,total_symmetry_vector)\n",
    "    for g_index in eachindex(total_symmetry_vector)\n",
    "        g_matrix[g_index,:] = symmetry_calculation!(g_matrix[g_index,:],atomindex,new_position,position,dist2_matrix,new_dist_vector,f_matrix,new_f_vector,total_symmetry_vector[g_index])\n",
    "    end\n",
    "\n",
    "    return g_matrix\n",
    "end"
   ]
  },
  {
   "attachments": {},
   "cell_type": "markdown",
   "metadata": {},
   "source": [
    "The _modified_ g_matrix should match the one we calculated above to represent the values at the new positions. "
   ]
  },
  {
   "cell_type": "code",
   "execution_count": 15,
   "metadata": {},
   "outputs": [
    {
     "ename": "UndefVarError",
     "evalue": "UndefVarError: gmat1 not defined",
     "output_type": "error",
     "traceback": [
      "UndefVarError: gmat1 not defined\n",
      "\n",
      "Stacktrace:\n",
      " [1] top-level scope\n",
      "   @ ~/.julia/dev/MachineLearningPotential/scripts/symmfunctiontest.ipynb:1"
     ]
    }
   ],
   "source": [
    "test_g_matrix = copy(gmat1)\n",
    "test_g_matrix = total_symm!(test_g_matrix,positions,newpos,dis2mat,new_dis_vec,f_mat,new_f_vec,3,total_symm_vec)\n",
    "test_g_matrix ≈ gmat2"
   ]
  },
  {
   "attachments": {},
   "cell_type": "markdown",
   "metadata": {},
   "source": [
    "This final benchmark shows a massive improvement to the calculation of the symmetry function. Down to 3.6ms "
   ]
  },
  {
   "cell_type": "code",
   "execution_count": 16,
   "metadata": {},
   "outputs": [
    {
     "ename": "UndefVarError",
     "evalue": "UndefVarError: dis2mat not defined",
     "output_type": "error",
     "traceback": [
      "UndefVarError: dis2mat not defined\n",
      "\n",
      "Stacktrace:\n",
      " [1] top-level scope\n",
      "   @ ~/.julia/packages/BenchmarkTools/0owsb/src/execution.jl:442"
     ]
    }
   ],
   "source": [
    "@benchmark total_symm!($zeros(88,55),$positions,$newpos,$dis2mat,$new_dis_vec,$f_mat,$new_f_vec,$3,$total_symm_vec)"
   ]
  },
  {
   "attachments": {},
   "cell_type": "markdown",
   "metadata": {},
   "source": [
    "# The Final Element\n",
    "\n",
    "Lastly: In the calculation of symmetry functions, there is typically a normalisation factor calculated as $G_{final} = \\frac{G - G_{min}}{G_{max} - G_{min}}$\n",
    "\n",
    "Since this separates mathematically into $\\frac{G}{G_{max} - G_{min}} - \\frac{G_{min}}{G_{max} - G_{min}}$ where $G$ is comprised of the sum of contributions, this should be purely distributive across the terms $g$ inside the respective sums, meaning we can simply inlcude the term $\\frac{1}{G_{max} - G_{min}}$ as a constant in a similar fashion to the \"two to the power of (one minus) zeta\" or tpz in the angular symmetry function. The delta terms are then individually normalised in the final calculation. Of note, the term $\\frac{ G_{min}}{G_{max} - G_{min}}$ serves as a one-time offset not relevant to the calculation of individual terms, meaning it does not slow down the delta calculation at all."
   ]
  },
  {
   "cell_type": "code",
   "execution_count": 17,
   "metadata": {},
   "outputs": [],
   "source": [
    "file = open(\"$(pwd())/scaling.data\")\n",
    "scalingvalues = readdlm(file)\n",
    "close(file)"
   ]
  },
  {
   "cell_type": "code",
   "execution_count": null,
   "metadata": {},
   "outputs": [],
   "source": []
  },
  {
   "cell_type": "code",
   "execution_count": null,
   "metadata": {},
   "outputs": [],
   "source": []
  }
 ],
 "metadata": {
  "kernelspec": {
   "display_name": "Julia 1.8.5",
   "language": "julia",
   "name": "julia-1.8"
  },
  "language_info": {
   "file_extension": ".jl",
   "mimetype": "application/julia",
   "name": "julia",
   "version": "1.8.5"
  },
  "orig_nbformat": 4
 },
 "nbformat": 4,
 "nbformat_minor": 2
}
