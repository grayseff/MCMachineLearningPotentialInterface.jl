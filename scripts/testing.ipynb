{
 "cells": [
  {
   "cell_type": "code",
   "execution_count": 1,
   "metadata": {},
   "outputs": [],
   "source": [
    "using Distributed\n",
    "@everywhere using StaticArrays,BenchmarkTools,Random,Flux,DelimitedFiles,LinearAlgebra\n",
    "@everywhere using InvertedIndices\n",
    "@everywhere using MachineLearningPotential"
   ]
  },
  {
   "attachments": {},
   "cell_type": "markdown",
   "metadata": {},
   "source": [
    "# Symmetry Functions\n",
    "\n",
    "Time to write and test the basics of SymmFunctions for ML potentials"
   ]
  },
  {
   "cell_type": "code",
   "execution_count": 2,
   "metadata": {},
   "outputs": [
    {
     "data": {
      "text/plain": [
       "55×55 Matrix{Float64}:\n",
       " 1.0        0.649134    0.649134    …  0.21115     0.21115     0.0959383\n",
       " 0.649134   1.0         0.617699       0.0         0.0         0.0\n",
       " 0.649134   0.617699    1.0            0.00208061  0.0912928   0.0\n",
       " 0.649134   0.617699    0.617699       0.0         0.00208061  0.0\n",
       " 0.649134   0.617699    0.223352       0.00208061  0.0         0.0\n",
       " 0.649134   0.617699    0.223352    …  0.0912928   0.00208061  0.0\n",
       " 0.649134   0.617699    0.617699       0.0912928   0.0912928   0.0\n",
       " 0.649134   0.223352    0.617699       0.0912928   0.355548    0.185434\n",
       " 0.649134   0.223352    0.223352       0.0912928   0.0912928   0.185434\n",
       " 0.649134   0.223352    0.0889637      0.355548    0.0912928   0.185434\n",
       " ⋮                                  ⋱                          \n",
       " 0.0959383  0.0         0.0            0.623382    0.164805    0.0613471\n",
       " 0.21115    0.00208061  0.0912928      0.608792    0.608792    0.164805\n",
       " 0.0959383  0.0         0.185434       0.164805    0.623382    0.0613471\n",
       " 0.21115    0.0         0.0912928      0.21115     0.608792    0.623382\n",
       " 0.21115    0.0         0.00208061  …  0.21115     0.21115     0.623382\n",
       " 0.21115    0.0         0.0            0.608792    0.21115     0.623382\n",
       " 0.21115    0.0         0.00208061     1.0         0.608792    0.623382\n",
       " 0.21115    0.0         0.0912928      0.608792    1.0         0.623382\n",
       " 0.0959383  0.0         0.0            0.623382    0.623382    1.0"
      ]
     },
     "metadata": {},
     "output_type": "display_data"
    }
   ],
   "source": [
    "atoms = [[0.0000006584,       -0.0000019175,        0.0000000505],\n",
    "[-0.0000005810,       -0.0000004871,        0.6678432175],\n",
    "[0.1845874248,       -0.5681026047,        0.2986701538],\n",
    "[-0.4832557457,       -0.3511072166,        0.2986684497],\n",
    "[-0.4832557570,        0.3511046452,        0.2986669456],\n",
    "[0.1845874064,        0.5681000550,        0.2986677202],\n",
    "[0.5973371920,       -0.0000012681,        0.2986697030],\n",
    "[-0.1845860897,       -0.5681038901,       -0.2986676192],\n",
    "[-0.5973358752,       -0.0000025669,       -0.2986696020],\n",
    "[-0.1845861081,        0.5680987696,       -0.2986700528],\n",
    "[0.4832570624,        0.3511033815,       -0.2986683486],\n",
    "[0.4832570738,       -0.3511084803,       -0.2986668445],\n",
    "[0.0000018978,       -0.0000033480,       -0.6678431165],\n",
    "[-0.0000017969,        0.0000009162,        1.3230014650],\n",
    "[0.1871182835,       -0.5758942175,        0.9797717078],\n",
    "[-0.4898861924,       -0.3559221410,       0.9797699802],\n",
    "[-0.4898862039,        0.3559224872,        0.9797684555],\n",
    "[0.1871182648,        0.5758945856,        0.9797692407],\n",
    "[0.6055300485,        0.0000001908,        0.9797712507],\n",
    "[0.7926501864,       -0.5758950093,        0.6055339635],\n",
    "[0.3656681761,       -1.1254128670,        0.5916673591],\n",
    "[-0.3027660545,       -0.9318173412,        0.6055326929],\n",
    "[-0.9573332453,       -0.6955436707,        0.5916639831],\n",
    "[-0.9797705418,       -0.0000006364,        0.6055294407],\n",
    "[-0.9573332679,        0.6955423392,        0.5916610035],\n",
    "[-0.3027660847,        0.9318160902,        0.6055287012],\n",
    "[0.3656681396,        1.1254115783,        0.5916625380],\n",
    "[0.7926501677,        0.5758937939,        0.6055314964],\n",
    "[1.1833279992,       -0.0000006311,        0.5916664660],\n",
    "[0.6770051458,       -0.9318186223,        0.0000033028],\n",
    "[0.0000006771,       -1.1517907207,        0.0000025175],\n",
    "[-0.6770037988,       -0.9318186442,        0.0000007900],\n",
    "[-1.0954155825,       -0.3559242494,       -0.0000012200],\n",
    "[-1.0954155940,        0.3559203788,       -0.0000027447],\n",
    "[-0.6770038290,        0.9318147872,       -0.0000032017],\n",
    "[0.0000006397,        1.1517868856,       -0.0000024165],\n",
    "[0.6770051155,        0.9318148091,       -0.0000006889],\n",
    "[1.0954168993,        0.3559204143,        0.0000013211],\n",
    "[1.0954169108,       -0.3559242139,        0.0000028458],\n",
    "[0.3027674014,       -0.9318199253,       -0.6055286002],\n",
    "[-0.3656668229,       -1.1254154134,       -0.5916624370],\n",
    "[-0.7926488510,       -0.5758976290,       -0.6055313954],\n",
    "[-1.1833266824,       -0.0000032040,       -0.5916663649],\n",
    "[-0.7926488697,        0.5758911742,       -0.6055338624],\n",
    "[-0.3656668594,        1.1254090319,       -0.5916672580],\n",
    "[0.3027673712,        0.9318135061,       -0.6055325919],\n",
    "[0.9573345621,        0.6955398357,       -0.5916638820],\n",
    "[0.9797718586,       -0.0000031986,       -0.6055293396],\n",
    "[0.9573345846,       -0.6955461743,       -0.5916609025],\n",
    "[-0.1871169480,       -0.5758984207,       -0.9797691397],\n",
    "[-0.6055287318,       -0.0000040259,       -0.9797711497],\n",
    "[-0.1871169667,        0.5758903824,       -0.9797716067],\n",
    "[0.4898875091,        0.3559183059,       -0.9797698792],\n",
    "[0.4898875207,       -0.3559263223,       -0.9797683545],\n",
    "[0.0000031136,       -0.0000047513,       -1.3230013639]]*18.8973*0.36258\n",
    "\n",
    "positions = [SVector{3}(p[i] for i in 1:3) for p in atoms]\n",
    "dis2mat = get_distance2_mat(positions)\n",
    "rad_function = RadialType2{Float64}(0.001,11.338,[1.,1.])\n",
    "ang_func = AngularType3{Float64}(0.0001,1.0,1.0,11.338,[1.,1.,1.])\n",
    "ang_func2 = AngularType3{Float64}(0.0001,-1.0,2.0,11.338,[1.,1.,1.])\n",
    "X = [ 1    1              0.001   0.000  11.338\n",
    " 1    0              0.001   0.000  11.338\n",
    " 1    1              0.020   0.000  11.338\n",
    " 1    0              0.020   0.000  11.338\n",
    " 1    1              0.035   0.000  11.338\n",
    " 1    0              0.035   0.000  11.338\n",
    " 1    1              0.100   0.000  11.338\n",
    " 1    0              0.100   0.000  11.338\n",
    " 1    1              0.400   0.000  11.338\n",
    " 1    0              0.400   0.000  11.338]\n",
    "\n",
    "radsymmvec = []\n",
    "\n",
    "for row in eachrow(X)\n",
    "    symmfunc = RadialType2{Float64}(row[3],row[5],[row[1],row[2]])\n",
    "    push!(radsymmvec,symmfunc)\n",
    "end\n",
    "\n",
    "V = [[0.0001,1,1,11.338],[0.0001,-1,2,11.338],[0.003,-1,1,11.338],[0.003,-1,2,11.338],[0.008,-1,1,11.338],[0.008,-1,2,11.338],[0.008,1,2,11.338],[0.015,1,1,11.338],[0.015,-1,2,11.338],[0.015,-1,4,11.338],[0.015,-1,16,11.338],[0.025,-1,1,11.338],[0.025,1,1,11.338],[0.025,1,2,11.338],[0.025,-1,4,11.338],[0.025,-1,16,11.338],[0.025,1,16,11.338],[0.045,1,1,11.338],[0.045,-1,2,11.338],[0.045,-1,4,11.338],[0.045,1,4,11.338],[0.045,1,16,11.338],[0.08,1,1,11.338],[0.08,-1,2,11.338],[0.08,-1,4,11.338],[0.08,1,4,11.338]]\n",
    "\n",
    "T = [[1.,1.,1.],[1.,1.,0.],[1.,0.,0.]]\n",
    "\n",
    "angularsymmvec = []\n",
    "\n",
    "for element in V \n",
    "    for types in T\n",
    "        symmfunc = AngularType3{Float64}(element[1],element[2],element[3],11.338,types)\n",
    "        push!(angularsymmvec,symmfunc)\n",
    "    end\n",
    "end\n",
    "\n",
    "total_symm_vec = vcat(radsymmvec,angularsymmvec)\n",
    "f_mat = cutoff_function.(sqrt.(dis2mat),Ref(total_symm_vec[1].r_cut))"
   ]
  },
  {
   "cell_type": "code",
   "execution_count": 3,
   "metadata": {},
   "outputs": [
    {
     "data": {
      "text/plain": [
       "BenchmarkTools.Trial: 110 samples with 1 evaluation.\n",
       " Range \u001b[90m(\u001b[39m\u001b[36m\u001b[1mmin\u001b[22m\u001b[39m … \u001b[35mmax\u001b[39m\u001b[90m):  \u001b[39m\u001b[36m\u001b[1m40.946 ms\u001b[22m\u001b[39m … \u001b[35m53.003 ms\u001b[39m  \u001b[90m┊\u001b[39m GC \u001b[90m(\u001b[39mmin … max\u001b[90m): \u001b[39m 9.18% … 7.34%\n",
       " Time  \u001b[90m(\u001b[39m\u001b[34m\u001b[1mmedian\u001b[22m\u001b[39m\u001b[90m):     \u001b[39m\u001b[34m\u001b[1m44.150 ms              \u001b[22m\u001b[39m\u001b[90m┊\u001b[39m GC \u001b[90m(\u001b[39mmedian\u001b[90m):    \u001b[39m 8.90%\n",
       " Time  \u001b[90m(\u001b[39m\u001b[32m\u001b[1mmean\u001b[22m\u001b[39m ± \u001b[32mσ\u001b[39m\u001b[90m):   \u001b[39m\u001b[32m\u001b[1m45.494 ms\u001b[22m\u001b[39m ± \u001b[32m 2.961 ms\u001b[39m  \u001b[90m┊\u001b[39m GC \u001b[90m(\u001b[39mmean ± σ\u001b[90m):  \u001b[39m10.90% ± 3.15%\n",
       "\n",
       "  \u001b[39m \u001b[39m \u001b[39m \u001b[39m \u001b[39m \u001b[39m \u001b[39m \u001b[39m \u001b[39m \u001b[39m \u001b[39m▂\u001b[39m█\u001b[39m▂\u001b[39m▄\u001b[39m \u001b[39m \u001b[34m \u001b[39m\u001b[39m \u001b[39m \u001b[39m \u001b[39m \u001b[39m \u001b[39m \u001b[32m \u001b[39m\u001b[39m \u001b[39m \u001b[39m \u001b[39m \u001b[39m \u001b[39m \u001b[39m \u001b[39m \u001b[39m \u001b[39m \u001b[39m \u001b[39m \u001b[39m \u001b[39m \u001b[39m \u001b[39m \u001b[39m \u001b[39m \u001b[39m \u001b[39m \u001b[39m \u001b[39m \u001b[39m \u001b[39m \u001b[39m \u001b[39m \u001b[39m \u001b[39m \u001b[39m \u001b[39m \u001b[39m \u001b[39m \u001b[39m \u001b[39m \u001b[39m \u001b[39m \u001b[39m \n",
       "  \u001b[39m▃\u001b[39m▁\u001b[39m▃\u001b[39m▁\u001b[39m▁\u001b[39m▃\u001b[39m▅\u001b[39m▃\u001b[39m█\u001b[39m█\u001b[39m█\u001b[39m█\u001b[39m█\u001b[39m█\u001b[39m█\u001b[39m▆\u001b[34m▃\u001b[39m\u001b[39m▆\u001b[39m▆\u001b[39m▃\u001b[39m▇\u001b[39m▁\u001b[39m▃\u001b[32m▃\u001b[39m\u001b[39m▃\u001b[39m▁\u001b[39m▅\u001b[39m▅\u001b[39m▇\u001b[39m▁\u001b[39m▁\u001b[39m▁\u001b[39m▅\u001b[39m▃\u001b[39m▃\u001b[39m▅\u001b[39m▃\u001b[39m▃\u001b[39m▃\u001b[39m▅\u001b[39m▁\u001b[39m▇\u001b[39m▅\u001b[39m▁\u001b[39m▃\u001b[39m▅\u001b[39m▁\u001b[39m▃\u001b[39m▅\u001b[39m▅\u001b[39m▃\u001b[39m▃\u001b[39m▅\u001b[39m▁\u001b[39m▁\u001b[39m▁\u001b[39m▃\u001b[39m▁\u001b[39m▃\u001b[39m \u001b[39m▃\n",
       "  40.9 ms\u001b[90m         Histogram: frequency by time\u001b[39m        52.6 ms \u001b[0m\u001b[1m<\u001b[22m\n",
       "\n",
       " Memory estimate\u001b[90m: \u001b[39m\u001b[33m104.19 MiB\u001b[39m, allocs estimate\u001b[90m: \u001b[39m\u001b[33m1364455\u001b[39m."
      ]
     },
     "metadata": {},
     "output_type": "display_data"
    }
   ],
   "source": [
    "gmat = total_symm_calc(positions,dis2mat,f_mat,total_symm_vec)\n",
    "@benchmark total_symm_calc($positions,$dis2mat,$f_mat,$total_symm_vec)"
   ]
  },
  {
   "cell_type": "code",
   "execution_count": 4,
   "metadata": {},
   "outputs": [
    {
     "data": {
      "text/plain": [
       "true"
      ]
     },
     "metadata": {},
     "output_type": "display_data"
    }
   ],
   "source": [
    "file = open(\"$(pwd())/symfunctions.out\",\"r+\")\n",
    "truevalues = readdlm(file)\n",
    "close(file)\n",
    "truevals = transpose(truevalues[2:end,2:end])\n",
    "truevals ≈ gmat\n",
    "\n",
    "# X=gmat.-truevals"
   ]
  },
  {
   "attachments": {},
   "cell_type": "markdown",
   "metadata": {},
   "source": [
    "# Testing the waters with iterating over symmetry functions"
   ]
  },
  {
   "attachments": {},
   "cell_type": "markdown",
   "metadata": {},
   "source": [
    "NB This method failed. It was significantly slower due to the iterators and memory access."
   ]
  },
  {
   "cell_type": "code",
   "execution_count": 23,
   "metadata": {},
   "outputs": [
    {
     "data": {
      "text/plain": [
       "55-element Vector{Float64}:\n",
       " 0.6729622810620872\n",
       " 0.6673537611763615\n",
       " 1.0\n",
       " 0.641313952432365\n",
       " 0.25867027813036586\n",
       " 0.25848314873322153\n",
       " 0.6407783065380429\n",
       " 0.6000753639415433\n",
       " 0.23563090780103746\n",
       " 0.1043164272069067\n",
       " ⋮\n",
       " 0.0\n",
       " 0.08540286302967126\n",
       " 0.15905660612244632\n",
       " 0.0780399503184917\n",
       " 0.0019532999653086303\n",
       " 0.0\n",
       " 0.0019323260080338356\n",
       " 0.07794636305290437\n",
       " 0.0"
      ]
     },
     "metadata": {},
     "output_type": "display_data"
    }
   ],
   "source": [
    "perturbation = [-.1 ,.3,.2 ]\n",
    "newpos = positions[3] .+ perturbation\n",
    "index = 3\n",
    "\n",
    "new_dis_vec = [distance2(newpos,b) for b in positions]\n",
    "new_dis_vec[3] = 0.\n",
    "\n",
    "new_f_vec = cutoff_function.(sqrt.(new_dis_vec),Ref(total_symm_vec[1].r_cut))\n"
   ]
  },
  {
   "cell_type": "code",
   "execution_count": 24,
   "metadata": {},
   "outputs": [
    {
     "data": {
      "text/plain": [
       "88×55 Matrix{Float64}:\n",
       " -2200.69       212.214     7147.31     …  292.602        260.957\n",
       "     0.0          0.0          0.0           0.0            0.0\n",
       " -1481.01       249.533     1454.45        104.762         52.8125\n",
       "     0.0          0.0          0.0           0.0            0.0\n",
       " -1082.52       244.036      377.893        44.0032        15.6562\n",
       "     0.0          0.0          0.0      …    0.0            0.0\n",
       "  -277.729      130.884      224.959         1.17372        0.462298\n",
       "     0.0          0.0          0.0           0.0            0.0\n",
       "    -0.519322     0.860443     3.84174       0.000528538    0.000557398\n",
       "     0.0          0.0          0.0           0.0            0.0\n",
       "     ⋮                                  ⋱                 \n",
       "   NaN            2.1881     NaN             0.00374904     0.00170206\n",
       "     0.0          0.0          0.0      …    0.0            0.0\n",
       "     0.0          0.0          0.0           0.0            0.0\n",
       "   NaN            1.62474    NaN             0.000451767    0.000147255\n",
       "     0.0          0.0          0.0           0.0            0.0\n",
       "     0.0          0.0          0.0           0.0            0.0\n",
       "   NaN         1046.78       NaN        …    0.778748       0.0710285\n",
       "     0.0          0.0          0.0           0.0            0.0\n",
       "     0.0          0.0          0.0           0.0            0.0"
      ]
     },
     "metadata": {},
     "output_type": "display_data"
    }
   ],
   "source": [
    "gmat = total_symm_calc(positions,newpos,dis2mat,new_dis_vec,f_mat,new_f_vec,gmat,3,total_symm_vec)"
   ]
  },
  {
   "cell_type": "code",
   "execution_count": 7,
   "metadata": {},
   "outputs": [
    {
     "data": {
      "text/plain": [
       "BenchmarkTools.Trial: 701 samples with 1 evaluation.\n",
       " Range \u001b[90m(\u001b[39m\u001b[36m\u001b[1mmin\u001b[22m\u001b[39m … \u001b[35mmax\u001b[39m\u001b[90m):  \u001b[39m\u001b[36m\u001b[1m1.622 ms\u001b[22m\u001b[39m … \u001b[35m88.056 ms\u001b[39m  \u001b[90m┊\u001b[39m GC \u001b[90m(\u001b[39mmin … max\u001b[90m): \u001b[39m 0.00% … 96.05%\n",
       " Time  \u001b[90m(\u001b[39m\u001b[34m\u001b[1mmedian\u001b[22m\u001b[39m\u001b[90m):     \u001b[39m\u001b[34m\u001b[1m3.508 ms              \u001b[22m\u001b[39m\u001b[90m┊\u001b[39m GC \u001b[90m(\u001b[39mmedian\u001b[90m):    \u001b[39m 0.00%\n",
       " Time  \u001b[90m(\u001b[39m\u001b[32m\u001b[1mmean\u001b[22m\u001b[39m ± \u001b[32mσ\u001b[39m\u001b[90m):   \u001b[39m\u001b[32m\u001b[1m7.122 ms\u001b[22m\u001b[39m ± \u001b[32m13.608 ms\u001b[39m  \u001b[90m┊\u001b[39m GC \u001b[90m(\u001b[39mmean ± σ\u001b[90m):  \u001b[39m43.76% ± 20.81%\n",
       "\n",
       "  \u001b[39m█\u001b[39m█\u001b[34m▆\u001b[39m\u001b[39m▅\u001b[32m▃\u001b[39m\u001b[39m▂\u001b[39m \u001b[39m \u001b[39m \u001b[39m \u001b[39m \u001b[39m \u001b[39m \u001b[39m \u001b[39m \u001b[39m \u001b[39m \u001b[39m \u001b[39m \u001b[39m \u001b[39m \u001b[39m \u001b[39m \u001b[39m \u001b[39m \u001b[39m \u001b[39m \u001b[39m \u001b[39m \u001b[39m \u001b[39m \u001b[39m \u001b[39m \u001b[39m \u001b[39m \u001b[39m \u001b[39m \u001b[39m \u001b[39m \u001b[39m \u001b[39m \u001b[39m \u001b[39m \u001b[39m \u001b[39m \u001b[39m \u001b[39m \u001b[39m \u001b[39m \u001b[39m \u001b[39m \u001b[39m \u001b[39m \u001b[39m \u001b[39m \u001b[39m \u001b[39m \u001b[39m \u001b[39m \u001b[39m \n",
       "  \u001b[39m█\u001b[39m█\u001b[34m█\u001b[39m\u001b[39m█\u001b[32m█\u001b[39m\u001b[39m█\u001b[39m█\u001b[39m▇\u001b[39m▁\u001b[39m▁\u001b[39m▁\u001b[39m▁\u001b[39m▁\u001b[39m▁\u001b[39m▁\u001b[39m▁\u001b[39m▁\u001b[39m▁\u001b[39m▁\u001b[39m▁\u001b[39m▁\u001b[39m▁\u001b[39m▁\u001b[39m▁\u001b[39m▁\u001b[39m▁\u001b[39m▁\u001b[39m▁\u001b[39m▁\u001b[39m▁\u001b[39m▁\u001b[39m▁\u001b[39m▁\u001b[39m▁\u001b[39m▁\u001b[39m▁\u001b[39m▁\u001b[39m▁\u001b[39m▁\u001b[39m▁\u001b[39m▁\u001b[39m▁\u001b[39m▄\u001b[39m▆\u001b[39m▁\u001b[39m▆\u001b[39m▅\u001b[39m▇\u001b[39m▆\u001b[39m▄\u001b[39m▆\u001b[39m▁\u001b[39m▄\u001b[39m▄\u001b[39m▄\u001b[39m▄\u001b[39m▄\u001b[39m▄\u001b[39m \u001b[39m▇\n",
       "  1.62 ms\u001b[90m      \u001b[39m\u001b[90mHistogram: \u001b[39m\u001b[90m\u001b[1mlog(\u001b[22m\u001b[39m\u001b[90mfrequency\u001b[39m\u001b[90m\u001b[1m)\u001b[22m\u001b[39m\u001b[90m by time\u001b[39m     72.8 ms \u001b[0m\u001b[1m<\u001b[22m\n",
       "\n",
       " Memory estimate\u001b[90m: \u001b[39m\u001b[33m28.46 MiB\u001b[39m, allocs estimate\u001b[90m: \u001b[39m\u001b[33m372425\u001b[39m."
      ]
     },
     "metadata": {},
     "output_type": "display_data"
    }
   ],
   "source": [
    "@benchmark total_symm_calc($positions,$newpos,$dis2mat,$new_dis_vec,$f_mat,$new_f_vec,$gmat,$3,$total_symm_vec)"
   ]
  },
  {
   "cell_type": "code",
   "execution_count": 8,
   "metadata": {},
   "outputs": [
    {
     "data": {
      "text/plain": [
       "BenchmarkTools.Trial: 8 samples with 1 evaluation.\n",
       " Range \u001b[90m(\u001b[39m\u001b[36m\u001b[1mmin\u001b[22m\u001b[39m … \u001b[35mmax\u001b[39m\u001b[90m):  \u001b[39m\u001b[36m\u001b[1m644.279 ms\u001b[22m\u001b[39m … \u001b[35m796.471 ms\u001b[39m  \u001b[90m┊\u001b[39m GC \u001b[90m(\u001b[39mmin … max\u001b[90m): \u001b[39m45.28% … 43.99%\n",
       " Time  \u001b[90m(\u001b[39m\u001b[34m\u001b[1mmedian\u001b[22m\u001b[39m\u001b[90m):     \u001b[39m\u001b[34m\u001b[1m717.085 ms               \u001b[22m\u001b[39m\u001b[90m┊\u001b[39m GC \u001b[90m(\u001b[39mmedian\u001b[90m):    \u001b[39m41.92%\n",
       " Time  \u001b[90m(\u001b[39m\u001b[32m\u001b[1mmean\u001b[22m\u001b[39m ± \u001b[32mσ\u001b[39m\u001b[90m):   \u001b[39m\u001b[32m\u001b[1m720.275 ms\u001b[22m\u001b[39m ± \u001b[32m 56.369 ms\u001b[39m  \u001b[90m┊\u001b[39m GC \u001b[90m(\u001b[39mmean ± σ\u001b[90m):  \u001b[39m42.81% ±  1.46%\n",
       "\n",
       "  \u001b[39m█\u001b[39m \u001b[39m \u001b[39m \u001b[39m \u001b[39m \u001b[39m \u001b[39m█\u001b[39m \u001b[39m \u001b[39m \u001b[39m \u001b[39m \u001b[39m \u001b[39m \u001b[39m█\u001b[39m \u001b[39m \u001b[39m \u001b[39m \u001b[39m \u001b[39m \u001b[34m█\u001b[39m\u001b[39m \u001b[39m \u001b[39m \u001b[39m \u001b[39m \u001b[39m \u001b[39m \u001b[32m \u001b[39m\u001b[39m \u001b[39m \u001b[39m \u001b[39m \u001b[39m \u001b[39m█\u001b[39m \u001b[39m \u001b[39m \u001b[39m \u001b[39m \u001b[39m \u001b[39m \u001b[39m \u001b[39m \u001b[39m \u001b[39m \u001b[39m█\u001b[39m \u001b[39m \u001b[39m \u001b[39m \u001b[39m█\u001b[39m \u001b[39m \u001b[39m \u001b[39m \u001b[39m \u001b[39m \u001b[39m█\u001b[39m \u001b[39m \n",
       "  \u001b[39m█\u001b[39m▁\u001b[39m▁\u001b[39m▁\u001b[39m▁\u001b[39m▁\u001b[39m▁\u001b[39m█\u001b[39m▁\u001b[39m▁\u001b[39m▁\u001b[39m▁\u001b[39m▁\u001b[39m▁\u001b[39m▁\u001b[39m█\u001b[39m▁\u001b[39m▁\u001b[39m▁\u001b[39m▁\u001b[39m▁\u001b[39m▁\u001b[34m█\u001b[39m\u001b[39m▁\u001b[39m▁\u001b[39m▁\u001b[39m▁\u001b[39m▁\u001b[39m▁\u001b[39m▁\u001b[32m▁\u001b[39m\u001b[39m▁\u001b[39m▁\u001b[39m▁\u001b[39m▁\u001b[39m▁\u001b[39m█\u001b[39m▁\u001b[39m▁\u001b[39m▁\u001b[39m▁\u001b[39m▁\u001b[39m▁\u001b[39m▁\u001b[39m▁\u001b[39m▁\u001b[39m▁\u001b[39m▁\u001b[39m█\u001b[39m▁\u001b[39m▁\u001b[39m▁\u001b[39m▁\u001b[39m█\u001b[39m▁\u001b[39m▁\u001b[39m▁\u001b[39m▁\u001b[39m▁\u001b[39m▁\u001b[39m█\u001b[39m \u001b[39m▁\n",
       "  644 ms\u001b[90m           Histogram: frequency by time\u001b[39m          796 ms \u001b[0m\u001b[1m<\u001b[22m\n",
       "\n",
       " Memory estimate\u001b[90m: \u001b[39m\u001b[33m2.78 GiB\u001b[39m, allocs estimate\u001b[90m: \u001b[39m\u001b[33m37242689\u001b[39m."
      ]
     },
     "metadata": {},
     "output_type": "display_data"
    }
   ],
   "source": [
    "function testspeed(positions,new_pos,dist2_mat,new_dist_vec,f_mat,new_f_vec,g_mat,atomindex,total_symm_vec)\n",
    "    for i in 1:100\n",
    "        total_symm_calc(positions,new_pos,dist2_mat,new_dist_vec,f_mat,new_f_vec,g_mat,atomindex,total_symm_vec)\n",
    "    end\n",
    "end\n",
    "@benchmark testspeed($positions,$newpos,$dis2mat,$new_dis_vec,$f_mat,$new_f_vec,$gmat,$3,$total_symm_vec)"
   ]
  },
  {
   "cell_type": "code",
   "execution_count": 9,
   "metadata": {},
   "outputs": [
    {
     "data": {
      "text/plain": [
       "BenchmarkTools.Trial: 10000 samples with 990 evaluations.\n",
       " Range \u001b[90m(\u001b[39m\u001b[36m\u001b[1mmin\u001b[22m\u001b[39m … \u001b[35mmax\u001b[39m\u001b[90m):  \u001b[39m\u001b[36m\u001b[1m42.155 ns\u001b[22m\u001b[39m … \u001b[35m  6.103 μs\u001b[39m  \u001b[90m┊\u001b[39m GC \u001b[90m(\u001b[39mmin … max\u001b[90m): \u001b[39m 0.00% … 98.99%\n",
       " Time  \u001b[90m(\u001b[39m\u001b[34m\u001b[1mmedian\u001b[22m\u001b[39m\u001b[90m):     \u001b[39m\u001b[34m\u001b[1m46.881 ns               \u001b[22m\u001b[39m\u001b[90m┊\u001b[39m GC \u001b[90m(\u001b[39mmedian\u001b[90m):    \u001b[39m 0.00%\n",
       " Time  \u001b[90m(\u001b[39m\u001b[32m\u001b[1mmean\u001b[22m\u001b[39m ± \u001b[32mσ\u001b[39m\u001b[90m):   \u001b[39m\u001b[32m\u001b[1m63.304 ns\u001b[22m\u001b[39m ± \u001b[32m274.765 ns\u001b[39m  \u001b[90m┊\u001b[39m GC \u001b[90m(\u001b[39mmean ± σ\u001b[90m):  \u001b[39m21.20% ±  4.84%\n",
       "\n",
       "  \u001b[39m▁\u001b[39m▅\u001b[39m▆\u001b[39m▇\u001b[39m█\u001b[39m█\u001b[34m█\u001b[39m\u001b[39m▇\u001b[39m▆\u001b[39m▅\u001b[39m▄\u001b[39m▄\u001b[39m▃\u001b[39m▃\u001b[39m▂\u001b[39m▂\u001b[39m▁\u001b[39m▂\u001b[39m▁\u001b[39m▁\u001b[39m▁\u001b[39m▁\u001b[39m▂\u001b[39m▂\u001b[39m▁\u001b[39m▁\u001b[39m▁\u001b[39m▁\u001b[32m▁\u001b[39m\u001b[39m▁\u001b[39m▁\u001b[39m▁\u001b[39m \u001b[39m \u001b[39m \u001b[39m \u001b[39m \u001b[39m▁\u001b[39m▁\u001b[39m \u001b[39m▁\u001b[39m▁\u001b[39m \u001b[39m \u001b[39m \u001b[39m \u001b[39m \u001b[39m \u001b[39m \u001b[39m \u001b[39m \u001b[39m \u001b[39m \u001b[39m \u001b[39m \u001b[39m \u001b[39m \u001b[39m \u001b[39m \u001b[39m \u001b[39m \u001b[39m▃\n",
       "  \u001b[39m█\u001b[39m█\u001b[39m█\u001b[39m█\u001b[39m█\u001b[39m█\u001b[34m█\u001b[39m\u001b[39m█\u001b[39m█\u001b[39m█\u001b[39m█\u001b[39m█\u001b[39m█\u001b[39m█\u001b[39m█\u001b[39m█\u001b[39m█\u001b[39m█\u001b[39m█\u001b[39m█\u001b[39m█\u001b[39m█\u001b[39m█\u001b[39m█\u001b[39m█\u001b[39m█\u001b[39m█\u001b[39m█\u001b[32m█\u001b[39m\u001b[39m█\u001b[39m█\u001b[39m█\u001b[39m█\u001b[39m█\u001b[39m█\u001b[39m▇\u001b[39m█\u001b[39m█\u001b[39m█\u001b[39m█\u001b[39m█\u001b[39m█\u001b[39m█\u001b[39m█\u001b[39m▇\u001b[39m▆\u001b[39m▇\u001b[39m▇\u001b[39m▇\u001b[39m▇\u001b[39m▆\u001b[39m▇\u001b[39m▇\u001b[39m▅\u001b[39m▄\u001b[39m▅\u001b[39m▃\u001b[39m▅\u001b[39m▂\u001b[39m▄\u001b[39m \u001b[39m█\n",
       "  42.2 ns\u001b[90m       \u001b[39m\u001b[90mHistogram: \u001b[39m\u001b[90m\u001b[1mlog(\u001b[22m\u001b[39m\u001b[90mfrequency\u001b[39m\u001b[90m\u001b[1m)\u001b[22m\u001b[39m\u001b[90m by time\u001b[39m      87.8 ns \u001b[0m\u001b[1m<\u001b[22m\n",
       "\n",
       " Memory estimate\u001b[90m: \u001b[39m\u001b[33m224 bytes\u001b[39m, allocs estimate\u001b[90m: \u001b[39m\u001b[33m7\u001b[39m."
      ]
     },
     "metadata": {},
     "output_type": "display_data"
    }
   ],
   "source": [
    "@benchmark all_angular_measure($positions[1],$positions[2],$positions[5],$dis2mat[1,2],$dis2mat[1,5],dis2mat[2,5])"
   ]
  },
  {
   "attachments": {},
   "cell_type": "markdown",
   "metadata": {},
   "source": [
    "# A new approach\n",
    "\n",
    "Given the obvious limitations of the current approach and the issues previously faced, we acknowledge that three times the original vectors are generated at each step, this causes major problems with memory allocation and garbage collection, resulting in slower calculation of symmetry funcitons overall. \n",
    "\n",
    "The aim of the next section is therefore to rewrite the code in a way that modifies existing arrays in place in an effort to reduce allocation overheads. "
   ]
  },
  {
   "cell_type": "code",
   "execution_count": 10,
   "metadata": {},
   "outputs": [
    {
     "data": {
      "text/plain": [
       "theta_part (generic function with 1 method)"
      ]
     },
     "metadata": {},
     "output_type": "display_data"
    }
   ],
   "source": [
    "exponential_part(η,r2_ij,r2_ik,r2_jk,f_ij,f_ik,f_jk) = exp(-η*(r2_ij+r2_ik+r2_jk))* f_ij * f_ik * f_jk\n",
    "theta_part(θ,λ,ζ) = (1+λ*θ)^ζ"
   ]
  },
  {
   "cell_type": "code",
   "execution_count": 19,
   "metadata": {},
   "outputs": [
    {
     "data": {
      "text/plain": [
       "78-element Vector{Any}:\n",
       " [0.0001, 1.0, 1.0, 1.0]\n",
       " [0.0001, 1.0, 1.0, 1.0]\n",
       " [0.0001, 1.0, 1.0, 1.0]\n",
       " [0.0001, -1.0, 2.0, 0.5]\n",
       " [0.0001, -1.0, 2.0, 0.5]\n",
       " [0.0001, -1.0, 2.0, 0.5]\n",
       " [0.003, -1.0, 1.0, 1.0]\n",
       " [0.003, -1.0, 1.0, 1.0]\n",
       " [0.003, -1.0, 1.0, 1.0]\n",
       " [0.003, -1.0, 2.0, 0.5]\n",
       " ⋮\n",
       " [0.08, -1.0, 2.0, 0.5]\n",
       " [0.08, -1.0, 2.0, 0.5]\n",
       " [0.08, -1.0, 2.0, 0.5]\n",
       " [0.08, -1.0, 4.0, 0.125]\n",
       " [0.08, -1.0, 4.0, 0.125]\n",
       " [0.08, -1.0, 4.0, 0.125]\n",
       " [0.08, 1.0, 4.0, 0.125]\n",
       " [0.08, 1.0, 4.0, 0.125]\n",
       " [0.08, 1.0, 4.0, 0.125]"
      ]
     },
     "metadata": {},
     "output_type": "display_data"
    }
   ],
   "source": [
    "angsymmvec = []\n",
    "for symmfunc in angularsymmvec\n",
    "    values = [symmfunc.eta,symmfunc.lambda,symmfunc.zeta,symmfunc.tpz]\n",
    "    push!(angsymmvec,values)\n",
    "end\n",
    "angsymmvec"
   ]
  },
  {
   "cell_type": "code",
   "execution_count": 20,
   "metadata": {},
   "outputs": [
    {
     "data": {
      "text/plain": [
       "calc_symmetry_value (generic function with 1 method)"
      ]
     },
     "metadata": {},
     "output_type": "display_data"
    }
   ],
   "source": [
    "function adjust_symm_val!(g_value,θ_val,exp_part,tpz)\n",
    "    g_value +=exp_part*θ_val*tpz\n",
    "    return g_value\n",
    "end\n",
    "function adjust_symm_val!(g_value,exp_part,θ,η,λ,ζ,tpz)\n",
    "    θ_val = theta_part(θ,λ,ζ)\n",
    "\n",
    "    return adjust_symm_val!(g_value,θ_val,exp_part,tpz)\n",
    "end\n",
    "\n",
    "function calc_symmetry_val(g_vector,θ_vec,indices,exp_part,η,λ,ζ,tpz)\n",
    "\n",
    "    for atomicindex in eachindex(θ_vec)\n",
    "\n",
    "        g_vector[indices[atomicindex]] = adjust_symm_val!(g_vector[indices[atomicindex]],exp_part,θ_vec[atomicindex],η,λ,ζ,tpz)\n",
    "\n",
    "    end\n",
    "\n",
    "    return g_vector\n",
    "end\n",
    "function calc_symmetry_val(g_vector,positions,dist2_mat,f_mat,indices,η,λ,ζ,tpz)\n",
    "    \n",
    "    θ_vec = \n",
    "    exp_part=\n",
    "\n",
    "    return calc_symmetry_val(g_vector,θ_vec,indices,exp_part,η,λ,ζ,tpz)\n",
    "end"
   ]
  },
  {
   "cell_type": "code",
   "execution_count": null,
   "metadata": {},
   "outputs": [],
   "source": []
  }
 ],
 "metadata": {
  "kernelspec": {
   "display_name": "Julia 1.8.5",
   "language": "julia",
   "name": "julia-1.8"
  },
  "language_info": {
   "file_extension": ".jl",
   "mimetype": "application/julia",
   "name": "julia",
   "version": "1.8.5"
  },
  "orig_nbformat": 4
 },
 "nbformat": 4,
 "nbformat_minor": 2
}
