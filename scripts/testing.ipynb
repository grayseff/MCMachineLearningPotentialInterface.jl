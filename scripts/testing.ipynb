{
 "cells": [
  {
   "cell_type": "code",
   "execution_count": 1,
   "metadata": {},
   "outputs": [],
   "source": [
    "using StaticArrays,BenchmarkTools,Random,Flux,DelimitedFiles,LinearAlgebra\n",
    "using InvertedIndices\n",
    "using MachineLearningPotential"
   ]
  },
  {
   "attachments": {},
   "cell_type": "markdown",
   "metadata": {},
   "source": [
    "# Symmetry Functions\n",
    "\n",
    "Time to write and test the basics of SymmFunctions for ML potentials"
   ]
  },
  {
   "cell_type": "code",
   "execution_count": 2,
   "metadata": {},
   "outputs": [],
   "source": [
    "struct RadialType2{T} <: RadialSymmFunction{T}\n",
    "    eta::T\n",
    "    r_cut::T\n",
    "end"
   ]
  },
  {
   "cell_type": "code",
   "execution_count": 3,
   "metadata": {},
   "outputs": [
    {
     "data": {
      "text/plain": [
       "RadialType2{Float64}(0.001, 11.338)"
      ]
     },
     "metadata": {},
     "output_type": "display_data"
    }
   ],
   "source": [
    "atoms = [[0.0000006584,       -0.0000019175,        0.0000000505],\n",
    "[-0.0000005810,       -0.0000004871,        0.6678432175],\n",
    "[0.1845874248,       -0.5681026047,        0.2986701538],\n",
    "[-0.4832557457,       -0.3511072166,        0.2986684497],\n",
    "[-0.4832557570,        0.3511046452,        0.2986669456],\n",
    "[0.1845874064,        0.5681000550,        0.2986677202],\n",
    "[0.5973371920,       -0.0000012681,        0.2986697030],\n",
    "[-0.1845860897,       -0.5681038901,       -0.2986676192],\n",
    "[-0.5973358752,       -0.0000025669,       -0.2986696020],\n",
    "[-0.1845861081,        0.5680987696,       -0.2986700528],\n",
    "[0.4832570624,        0.3511033815,       -0.2986683486],\n",
    "[0.4832570738,       -0.3511084803,       -0.2986668445],\n",
    "[0.0000018978,       -0.0000033480,       -0.6678431165],\n",
    "[-0.0000017969,        0.0000009162,        1.3230014650],\n",
    "[0.1871182835,       -0.5758942175,        0.9797717078],\n",
    "[-0.4898861924,       -0.3559221410,       0.9797699802],\n",
    "[-0.4898862039,        0.3559224872,        0.9797684555],\n",
    "[0.1871182648,        0.5758945856,        0.9797692407],\n",
    "[0.6055300485,        0.0000001908,        0.9797712507],\n",
    "[0.7926501864,       -0.5758950093,        0.6055339635],\n",
    "[0.3656681761,       -1.1254128670,        0.5916673591],\n",
    "[-0.3027660545,       -0.9318173412,        0.6055326929],\n",
    "[-0.9573332453,       -0.6955436707,        0.5916639831],\n",
    "[-0.9797705418,       -0.0000006364,        0.6055294407],\n",
    "[-0.9573332679,        0.6955423392,        0.5916610035],\n",
    "[-0.3027660847,        0.9318160902,        0.6055287012],\n",
    "[0.3656681396,        1.1254115783,        0.5916625380],\n",
    "[0.7926501677,        0.5758937939,        0.6055314964],\n",
    "[1.1833279992,       -0.0000006311,        0.5916664660],\n",
    "[0.6770051458,       -0.9318186223,        0.0000033028],\n",
    "[0.0000006771,       -1.1517907207,        0.0000025175],\n",
    "[-0.6770037988,       -0.9318186442,        0.0000007900],\n",
    "[-1.0954155825,       -0.3559242494,       -0.0000012200],\n",
    "[-1.0954155940,        0.3559203788,       -0.0000027447],\n",
    "[-0.6770038290,        0.9318147872,       -0.0000032017],\n",
    "[0.0000006397,        1.1517868856,       -0.0000024165],\n",
    "[0.6770051155,        0.9318148091,       -0.0000006889],\n",
    "[1.0954168993,        0.3559204143,        0.0000013211],\n",
    "[1.0954169108,       -0.3559242139,        0.0000028458],\n",
    "[0.3027674014,       -0.9318199253,       -0.6055286002],\n",
    "[-0.3656668229,       -1.1254154134,       -0.5916624370],\n",
    "[-0.7926488510,       -0.5758976290,       -0.6055313954],\n",
    "[-1.1833266824,       -0.0000032040,       -0.5916663649],\n",
    "[-0.7926488697,        0.5758911742,       -0.6055338624],\n",
    "[-0.3656668594,        1.1254090319,       -0.5916672580],\n",
    "[0.3027673712,        0.9318135061,       -0.6055325919],\n",
    "[0.9573345621,        0.6955398357,       -0.5916638820],\n",
    "[0.9797718586,       -0.0000031986,       -0.6055293396],\n",
    "[0.9573345846,       -0.6955461743,       -0.5916609025],\n",
    "[-0.1871169480,       -0.5758984207,       -0.9797691397],\n",
    "[-0.6055287318,       -0.0000040259,       -0.9797711497],\n",
    "[-0.1871169667,        0.5758903824,       -0.9797716067],\n",
    "[0.4898875091,        0.3559183059,       -0.9797698792],\n",
    "[0.4898875207,       -0.3559263223,       -0.9797683545],\n",
    "[0.0000031136,       -0.0000047513,       -1.3230013639]]*18.8973*0.36258\n",
    "\n",
    "positions = [SVector{3}(p[i] for i in 1:3) for p in atoms]\n",
    "dis2mat = get_distance2_mat(positions)\n",
    "test_symm_func = RadialType2{Float64}(0.001,11.338)"
   ]
  },
  {
   "cell_type": "code",
   "execution_count": 4,
   "metadata": {},
   "outputs": [
    {
     "data": {
      "text/plain": [
       "calc_symm_functions (generic function with 2 methods)"
      ]
     },
     "metadata": {},
     "output_type": "display_data"
    }
   ],
   "source": [
    "function calc_one_symm_function(r2_ij,eta,r_cut)\n",
    "    if r2_ij != 0 && r2_ij < r_cut^2 \n",
    "        g_ij = exp(-eta*(r2_ij)) * cutoff_function( sqrt(r2_ij)/r_cut )\n",
    "\n",
    "        return g_ij\n",
    "    else\n",
    "        return 0.\n",
    "    end\n",
    "end\n",
    "function calc_symm_functions(dist2_matrix,index,symmfunc::RadialType2)\n",
    "    eta = symmfunc.eta\n",
    "    r_cut = symmfunc.r_cut\n",
    "    \n",
    "    gvec = calc_one_symm_function.(dist2_matrix[index,:],eta,r_cut)\n",
    "    return sum(gvec)   \n",
    "end\n",
    "function calc_symm_functions(dist2_matrix,index,symmfunc::RadialType2,g_min,g_max)\n",
    "    eta = symmfunc.eta\n",
    "    r_cut = symmfunc.r_cut\n",
    "    gvec = calc_one_symm_function.(dist2_matrix[index,:],eta,r_cut)\n",
    "    g_unscaled = sum(gvec)\n",
    "\n",
    "    return (g_unscaled - g_min)/(g_max - g_min)   \n",
    "end"
   ]
  },
  {
   "cell_type": "code",
   "execution_count": 5,
   "metadata": {},
   "outputs": [
    {
     "data": {
      "text/plain": [
       "55-element Vector{Float64}:\n",
       " 14.640666117305633\n",
       " 11.966607067855739\n",
       " 11.966607067541357\n",
       " 11.966607067163583\n",
       " 11.966607068360855\n",
       " 11.966607068035858\n",
       " 11.96660706756069\n",
       " 11.966607067316641\n",
       " 11.966607067815215\n",
       " 11.96660706776792\n",
       "  ⋮\n",
       "  5.6995369746290425\n",
       "  7.455371452799304\n",
       "  5.699536974721713\n",
       "  7.455371453127722\n",
       "  7.455371452781338\n",
       "  7.455371453231261\n",
       "  7.455371452614264\n",
       "  7.455371452215095\n",
       "  5.699536975557825"
      ]
     },
     "metadata": {},
     "output_type": "display_data"
    }
   ],
   "source": [
    "[calc_symm_functions(dis2mat,i,test_symm_func) for i in 1:55]"
   ]
  },
  {
   "cell_type": "code",
   "execution_count": 6,
   "metadata": {},
   "outputs": [
    {
     "data": {
      "text/plain": [
       "55-element Vector{Float64}:\n",
       " 0.9414388269065572\n",
       " 0.7640290266879376\n",
       " 0.76402902666708\n",
       " 0.7640290266420167\n",
       " 0.7640290267214493\n",
       " 0.7640290266998875\n",
       " 0.7640290266683626\n",
       " 0.7640290266521712\n",
       " 0.764029026685249\n",
       " 0.7640290266821113\n",
       " ⋮\n",
       " 0.34824177867478656\n",
       " 0.4647321920234493\n",
       " 0.34824177868093475\n",
       " 0.46473219204523813\n",
       " 0.46473219202225735\n",
       " 0.46473219205210736\n",
       " 0.46473219201117283\n",
       " 0.46473219198469007\n",
       " 0.3482417787364064"
      ]
     },
     "metadata": {},
     "output_type": "display_data"
    }
   ],
   "source": [
    "[calc_symm_functions(dis2mat,i,test_symm_func,0.450564942,15.523345849) for i in 1:55]"
   ]
  },
  {
   "attachments": {},
   "cell_type": "markdown",
   "metadata": {},
   "source": [
    "Require benchmarking concerning the use of Not(i) vs if ||"
   ]
  },
  {
   "cell_type": "code",
   "execution_count": 7,
   "metadata": {},
   "outputs": [
    {
     "data": {
      "text/plain": [
       "BenchmarkTools.Trial: 10000 samples with 192 evaluations.\n",
       " Range \u001b[90m(\u001b[39m\u001b[36m\u001b[1mmin\u001b[22m\u001b[39m … \u001b[35mmax\u001b[39m\u001b[90m):  \u001b[39m\u001b[36m\u001b[1m516.333 ns\u001b[22m\u001b[39m … \u001b[35m 24.017 μs\u001b[39m  \u001b[90m┊\u001b[39m GC \u001b[90m(\u001b[39mmin … max\u001b[90m): \u001b[39m0.00% … 96.31%\n",
       " Time  \u001b[90m(\u001b[39m\u001b[34m\u001b[1mmedian\u001b[22m\u001b[39m\u001b[90m):     \u001b[39m\u001b[34m\u001b[1m641.701 ns               \u001b[22m\u001b[39m\u001b[90m┊\u001b[39m GC \u001b[90m(\u001b[39mmedian\u001b[90m):    \u001b[39m0.00%\n",
       " Time  \u001b[90m(\u001b[39m\u001b[32m\u001b[1mmean\u001b[22m\u001b[39m ± \u001b[32mσ\u001b[39m\u001b[90m):   \u001b[39m\u001b[32m\u001b[1m677.533 ns\u001b[22m\u001b[39m ± \u001b[32m717.712 ns\u001b[39m  \u001b[90m┊\u001b[39m GC \u001b[90m(\u001b[39mmean ± σ\u001b[90m):  \u001b[39m4.83% ±  4.46%\n",
       "\n",
       "  \u001b[39m \u001b[39m \u001b[39m█\u001b[39m▄\u001b[39m▅\u001b[39m▁\u001b[39m \u001b[39m \u001b[39m \u001b[39m \u001b[39m \u001b[39m \u001b[39m \u001b[39m \u001b[39m \u001b[39m \u001b[39m \u001b[39m \u001b[34m \u001b[39m\u001b[39m \u001b[39m \u001b[39m \u001b[39m \u001b[32m \u001b[39m\u001b[39m \u001b[39m \u001b[39m▂\u001b[39m▃\u001b[39m▂\u001b[39m \u001b[39m \u001b[39m \u001b[39m \u001b[39m \u001b[39m \u001b[39m \u001b[39m \u001b[39m \u001b[39m \u001b[39m \u001b[39m \u001b[39m \u001b[39m \u001b[39m \u001b[39m \u001b[39m \u001b[39m \u001b[39m \u001b[39m \u001b[39m \u001b[39m \u001b[39m \u001b[39m \u001b[39m \u001b[39m \u001b[39m \u001b[39m \u001b[39m \u001b[39m \u001b[39m \u001b[39m \u001b[39m \u001b[39m \n",
       "  \u001b[39m█\u001b[39m█\u001b[39m█\u001b[39m█\u001b[39m█\u001b[39m█\u001b[39m▇\u001b[39m▄\u001b[39m▃\u001b[39m▂\u001b[39m▂\u001b[39m▂\u001b[39m▂\u001b[39m▂\u001b[39m▂\u001b[39m▂\u001b[39m▂\u001b[39m▂\u001b[34m▁\u001b[39m\u001b[39m▁\u001b[39m▁\u001b[39m▁\u001b[39m▂\u001b[32m▃\u001b[39m\u001b[39m▅\u001b[39m▇\u001b[39m█\u001b[39m█\u001b[39m█\u001b[39m▇\u001b[39m▇\u001b[39m▅\u001b[39m▄\u001b[39m▃\u001b[39m▃\u001b[39m▂\u001b[39m▂\u001b[39m▂\u001b[39m▃\u001b[39m▂\u001b[39m▂\u001b[39m▂\u001b[39m▂\u001b[39m▁\u001b[39m▂\u001b[39m▁\u001b[39m▁\u001b[39m▁\u001b[39m▁\u001b[39m▁\u001b[39m▁\u001b[39m▁\u001b[39m▁\u001b[39m▁\u001b[39m▁\u001b[39m▁\u001b[39m▁\u001b[39m▁\u001b[39m▁\u001b[39m▁\u001b[39m▁\u001b[39m \u001b[39m▃\n",
       "  516 ns\u001b[90m           Histogram: frequency by time\u001b[39m          951 ns \u001b[0m\u001b[1m<\u001b[22m\n",
       "\n",
       " Memory estimate\u001b[90m: \u001b[39m\u001b[33m1008 bytes\u001b[39m, allocs estimate\u001b[90m: \u001b[39m\u001b[33m3\u001b[39m."
      ]
     },
     "metadata": {},
     "output_type": "display_data"
    }
   ],
   "source": [
    "@benchmark calc_symm_functions($dis2mat,1,test_symm_func)"
   ]
  },
  {
   "cell_type": "code",
   "execution_count": 8,
   "metadata": {},
   "outputs": [
    {
     "data": {
      "text/plain": [
       "test_calc_symm_functions (generic function with 1 method)"
      ]
     },
     "metadata": {},
     "output_type": "display_data"
    }
   ],
   "source": [
    "function test_calc_one_symm_func(r2_ij,eta,r_cut)\n",
    "    if r2_ij < r_cut^2\n",
    "        g_ij = exp(-eta*(r2_ij)) * cutoff_function( sqrt(r2_ij)/r_cut )\n",
    "    else\n",
    "        g_ij = 0\n",
    "    end\n",
    "    return g_ij\n",
    "end\n",
    "function test_calc_one_symm_func(r2_ij,symmfunc)\n",
    "    if r2_ij < symmfunc.r_cut^2\n",
    "        g_ij = exp(-symmfunc.eta*(r2_ij)) * cutoff_function( sqrt(r2_ij)/r_cut )\n",
    "    else\n",
    "        g_ij = 0\n",
    "    end\n",
    "    return g_ij\n",
    "end\n",
    "function test_calc_symm_functions(dist2_mat,index,symmfunc)\n",
    "    eta = symmfunc.eta\n",
    "    r_cut = symmfunc.r_cut\n",
    "    g_tot = 0\n",
    "    for j in (1:55)[Not(index)]\n",
    "        g_tot += calc_one_symm_function(dist2_mat[index,j],eta,r_cut)\n",
    "    end\n",
    "    return g_tot\n",
    "end"
   ]
  },
  {
   "cell_type": "code",
   "execution_count": 9,
   "metadata": {},
   "outputs": [
    {
     "data": {
      "text/plain": [
       "BenchmarkTools.Trial: 10000 samples with 7 evaluations.\n",
       " Range \u001b[90m(\u001b[39m\u001b[36m\u001b[1mmin\u001b[22m\u001b[39m … \u001b[35mmax\u001b[39m\u001b[90m):  \u001b[39m\u001b[36m\u001b[1m4.462 μs\u001b[22m\u001b[39m … \u001b[35m589.226 μs\u001b[39m  \u001b[90m┊\u001b[39m GC \u001b[90m(\u001b[39mmin … max\u001b[90m): \u001b[39m0.00% … 98.95%\n",
       " Time  \u001b[90m(\u001b[39m\u001b[34m\u001b[1mmedian\u001b[22m\u001b[39m\u001b[90m):     \u001b[39m\u001b[34m\u001b[1m4.879 μs               \u001b[22m\u001b[39m\u001b[90m┊\u001b[39m GC \u001b[90m(\u001b[39mmedian\u001b[90m):    \u001b[39m0.00%\n",
       " Time  \u001b[90m(\u001b[39m\u001b[32m\u001b[1mmean\u001b[22m\u001b[39m ± \u001b[32mσ\u001b[39m\u001b[90m):   \u001b[39m\u001b[32m\u001b[1m5.928 μs\u001b[22m\u001b[39m ± \u001b[32m 14.681 μs\u001b[39m  \u001b[90m┊\u001b[39m GC \u001b[90m(\u001b[39mmean ± σ\u001b[90m):  \u001b[39m6.52% ±  2.61%\n",
       "\n",
       "  \u001b[39m \u001b[39m \u001b[39m▃\u001b[39m█\u001b[39m▇\u001b[39m \u001b[34m \u001b[39m\u001b[39m \u001b[39m \u001b[39m \u001b[39m \u001b[39m \u001b[39m \u001b[39m \u001b[39m \u001b[39m \u001b[39m \u001b[39m \u001b[39m \u001b[39m \u001b[32m \u001b[39m\u001b[39m \u001b[39m \u001b[39m \u001b[39m \u001b[39m \u001b[39m \u001b[39m \u001b[39m \u001b[39m \u001b[39m \u001b[39m \u001b[39m \u001b[39m \u001b[39m \u001b[39m \u001b[39m \u001b[39m \u001b[39m \u001b[39m \u001b[39m \u001b[39m \u001b[39m \u001b[39m \u001b[39m \u001b[39m \u001b[39m \u001b[39m \u001b[39m \u001b[39m \u001b[39m \u001b[39m \u001b[39m \u001b[39m \u001b[39m \u001b[39m \u001b[39m \u001b[39m \u001b[39m \u001b[39m \u001b[39m \n",
       "  \u001b[39m▂\u001b[39m▄\u001b[39m█\u001b[39m█\u001b[39m█\u001b[39m█\u001b[34m▄\u001b[39m\u001b[39m▃\u001b[39m▂\u001b[39m▂\u001b[39m▂\u001b[39m▂\u001b[39m▁\u001b[39m▁\u001b[39m▁\u001b[39m▁\u001b[39m▁\u001b[39m▁\u001b[39m▁\u001b[39m▁\u001b[32m▁\u001b[39m\u001b[39m▁\u001b[39m▁\u001b[39m▂\u001b[39m▃\u001b[39m▄\u001b[39m▅\u001b[39m▆\u001b[39m▆\u001b[39m▅\u001b[39m▄\u001b[39m▃\u001b[39m▃\u001b[39m▂\u001b[39m▂\u001b[39m▂\u001b[39m▁\u001b[39m▁\u001b[39m▁\u001b[39m▁\u001b[39m▁\u001b[39m▁\u001b[39m▁\u001b[39m▁\u001b[39m▁\u001b[39m▁\u001b[39m▁\u001b[39m▁\u001b[39m▁\u001b[39m▁\u001b[39m▁\u001b[39m▁\u001b[39m▁\u001b[39m▁\u001b[39m▁\u001b[39m▁\u001b[39m▁\u001b[39m▁\u001b[39m▁\u001b[39m \u001b[39m▂\n",
       "  4.46 μs\u001b[90m         Histogram: frequency by time\u001b[39m        8.77 μs \u001b[0m\u001b[1m<\u001b[22m\n",
       "\n",
       " Memory estimate\u001b[90m: \u001b[39m\u001b[33m8.94 KiB\u001b[39m, allocs estimate\u001b[90m: \u001b[39m\u001b[33m273\u001b[39m."
      ]
     },
     "metadata": {},
     "output_type": "display_data"
    }
   ],
   "source": [
    "@benchmark test_calc_symm_functions($dis2mat,1,test_symm_func)"
   ]
  },
  {
   "attachments": {},
   "cell_type": "markdown",
   "metadata": {},
   "source": [
    "# Angular Symmetry Function"
   ]
  },
  {
   "cell_type": "code",
   "execution_count": 42,
   "metadata": {},
   "outputs": [
    {
     "data": {
      "text/plain": [
       "angular_measure (generic function with 2 methods)"
      ]
     },
     "metadata": {},
     "output_type": "display_data"
    }
   ],
   "source": [
    "function angular_measure(a,b,c,r2ij,r2ik)\n",
    "    θ = (a - b)⋅(a - c)/sqrt(r2ij*r2ik) \n",
    "    return θ\n",
    "end\n",
    "function angular_measure(a,b,c)\n",
    "    r2_ab,r2_ac,r2_bc = distance2(a,b),distance2(a,c),distance2(b,c)\n",
    "\n",
    "    θ = angular_measure(a,b,c,r2_ab,r2_ac)\n",
    "    \n",
    "    return θ,r2_ab,r2_ac,r2_bc\n",
    "end\n"
   ]
  },
  {
   "cell_type": "code",
   "execution_count": 11,
   "metadata": {},
   "outputs": [
    {
     "data": {
      "text/plain": [
       "(0.4472135955245632, 4.575916481041805, 4.575916481145328, 4.811403321032106)"
      ]
     },
     "metadata": {},
     "output_type": "display_data"
    }
   ],
   "source": [
    "θ,r_ab,r_bc,r_bc = angular_measure(positions[1:3]...)"
   ]
  },
  {
   "cell_type": "code",
   "execution_count": 15,
   "metadata": {},
   "outputs": [
    {
     "data": {
      "text/plain": [
       "calc_one_symm_function2 (generic function with 1 method)"
      ]
     },
     "metadata": {},
     "output_type": "display_data"
    }
   ],
   "source": [
    "function calc_one_symm_function1(θ,r2_ij,r2_ik,r2_jk,r_cut,η,λ,ζ)\n",
    "    d_cut=r_cut^2\n",
    "    if r2_ij == 0. || r2_ik == 0 || r2_jk == 0 || r2_ij<d_cut || r_ik<d_cut || r_jk < d_cut \n",
    "        g = 0\n",
    "    else\n",
    "        g = (1+λ*cos(θ))^ζ*exp(-η*(r2_ij+r2_ik+r2_jk))*cutoff_function(sqrt(r2_ij))*cutoff_function(sqrt(r2_ik))*cutoff_function(sqrt(r2_jk))\n",
    "    end\n",
    "    return g\n",
    "end\n",
    "#second version designed for use with the Not function to prevent zeros\n",
    "function calc_one_symm_function2(θ,r2_ij,r2_ik,r2_jk,r_cut,η,λ,ζ)\n",
    "    d_cut=r_cut^2\n",
    "    if r2_ij<d_cut || r2_ik<d_cut || r2_jk < d_cut \n",
    "        g = 0\n",
    "    else\n",
    "        g = (1+λ*cos(θ))^ζ*exp(-η*(r2_ij+r2_ik+r2_jk))*cutoff_function(sqrt(r2_ij),r_cut)*cutoff_function(sqrt(r2_ik),r_cut)*cutoff_function(sqrt(r2_jk),r_cut)\n",
    "    end\n",
    "    return g\n",
    "end"
   ]
  },
  {
   "cell_type": "code",
   "execution_count": 45,
   "metadata": {},
   "outputs": [
    {
     "data": {
      "text/plain": [
       "calc_one_symm_func (generic function with 2 methods)"
      ]
     },
     "metadata": {},
     "output_type": "display_data"
    }
   ],
   "source": [
    "function calc_one_symm_func(position1,position2,position3,symmfunc)\n",
    "    θ,r2_ij,r2_ik,r2_jk = angular_measure(position1,position2,position3)\n",
    "    g = calc_one_symm_function2(θ,r2_ij,r2_ik,r2_jk,symmfunc.r_cut,symmfunc.eta,symmfunc,lambda,symmfunc.zeta)\n",
    "    return g\n",
    "end\n",
    "\n",
    "function calc_one_symm_func(position1,position2,position3,r2_ij,r2_ik,r2_jk,symmfunc)\n",
    "    θ = angular_measure(position1,position2,position3,r2_ij,r2_ik)\n",
    "    g = calc_one_symm_function2(θ,r2_ij,r2_ik,r2_jk,symmfunc.r_cut,symmfunc.eta,symmfunc,lambda,symmfunc.zeta)\n",
    "    return g\n",
    "end"
   ]
  },
  {
   "attachments": {},
   "cell_type": "markdown",
   "metadata": {},
   "source": [
    "Different methods for the creation of our inputs theta r_ijk"
   ]
  },
  {
   "cell_type": "code",
   "execution_count": 33,
   "metadata": {},
   "outputs": [
    {
     "data": {
      "text/plain": [
       "54×54 Matrix{NTuple{4, Float64}}:\n",
       " (1.0, 4.57592, 4.57592, 0.0)            …  (-1.0, 4.57592, 9.06492, 13.6408)\n",
       " (0.447214, 4.57592, 4.57592, 4.8114)       (-0.447214, 4.57592, 9.06492, 11.8412)\n",
       " (0.447214, 4.57592, 4.57592, 4.8114)       (-0.447214, 4.57592, 9.06492, 11.8412)\n",
       " (0.447214, 4.57592, 4.57592, 4.8114)       (-0.447214, 4.57592, 9.06492, 11.8412)\n",
       " (0.447214, 4.57592, 4.57592, 4.8114)       (-0.447214, 4.57592, 9.06492, 11.8412)\n",
       " (0.447214, 4.57592, 4.57592, 4.8114)    …  (-0.447214, 4.57592, 9.06492, 11.8412)\n",
       " (-0.447214, 4.57592, 4.57592, 7.78501)     (0.447214, 4.57592, 9.06492, 8.12469)\n",
       " (-0.447214, 4.57592, 4.57592, 7.78501)     (0.447214, 4.57592, 9.06492, 8.12469)\n",
       " (-0.447214, 4.57592, 4.57592, 7.78501)     (0.447214, 4.57592, 9.06492, 8.12469)\n",
       " (-0.447214, 4.57592, 4.57592, 7.78501)     (0.447214, 4.57592, 9.06492, 8.12469)\n",
       " ⋮                                       ⋱  \n",
       " (-0.447214, 9.06492, 4.57592, 11.8412)  …  (0.447214, 9.06492, 9.06492, 9.53142)\n",
       " (-0.525731, 7.89181, 4.57592, 11.0086)     (0.525731, 7.89181, 9.06492, 8.32065)\n",
       " (-0.447214, 9.06492, 4.57592, 11.8412)     (0.447214, 9.06492, 9.06492, 9.53142)\n",
       " (-0.850651, 7.89181, 4.57592, 12.0274)     (0.850651, 7.89181, 9.06492, 4.76914)\n",
       " (-0.850651, 7.89181, 4.57592, 12.0274)     (0.850651, 7.89181, 9.06492, 4.76914)\n",
       " (-0.850651, 7.89181, 4.57592, 12.0274)  …  (0.850651, 7.89181, 9.06492, 4.76914)\n",
       " (-0.850651, 7.89181, 4.57592, 12.0274)     (0.850651, 7.89181, 9.06492, 4.76914)\n",
       " (-0.850651, 7.89181, 4.57592, 12.0274)     (0.850651, 7.89181, 9.06492, 4.76914)\n",
       " (-1.0, 9.06492, 4.57592, 13.6408)          (1.0, 9.06492, 9.06492, 0.0)"
      ]
     },
     "metadata": {},
     "output_type": "display_data"
    }
   ],
   "source": [
    "[angular_measure(positions[1],positions[j],positions[k]) for j =(1:55)[Not(1)], k in (1:55)[Not(1)]]"
   ]
  },
  {
   "cell_type": "code",
   "execution_count": 36,
   "metadata": {},
   "outputs": [
    {
     "data": {
      "text/plain": [
       "1431-element Vector{NTuple{4, Float64}}:\n",
       " (0.4472135955245632, 4.575916481145328, 4.575916481041805, 4.811403321032106)\n",
       " (0.44721359556787066, 4.575916481699861, 4.575916481041805, 4.8114033211351686)\n",
       " (0.44721359563253704, 4.575916481699861, 4.575916481145328, 4.81140332090817)\n",
       " (0.44721359554352996, 4.575916480594328, 4.575916481041805, 4.811403320659885)\n",
       " (-0.4472135953692125, 4.575916480594328, 4.575916481145328, 7.785014106455022)\n",
       " (0.4472135955527244, 4.575916480594328, 4.575916481699861, 4.811403320965831)\n",
       " (0.4472135954940274, 4.575916480567108, 4.575916481041805, 4.811403320861007)\n",
       " (-0.4472135955566442, 4.575916480567108, 4.575916481145328, 7.785014106935995)\n",
       " (-0.4472135954422881, 4.575916480567108, 4.575916481699861, 7.785014107100129)\n",
       " (0.4472135955054501, 4.575916480567108, 4.575916480594328, 4.811403320576043)\n",
       " ⋮\n",
       " (0.525731112086319, 9.064918645180327, 7.891806980140969, 8.320651678334738)\n",
       " (0.4472135954067908, 9.064918645180327, 9.064918645493439, 9.531419522168077)\n",
       " (0.5257311120705334, 9.064918645180327, 7.891806980043933, 8.320651678434)\n",
       " (0.44721359549679773, 9.064918645180327, 9.064918645717338, 9.531419521509815)\n",
       " (0.8506508083755365, 9.064918645180327, 7.891806980252585, 4.769135312132141)\n",
       " (0.850650808344319, 9.064918645180327, 7.891806980412493, 4.769135312606471)\n",
       " (0.8506508083545801, 9.064918645180327, 7.891806979870651, 4.76913531243202)\n",
       " (0.8506508083579555, 9.064918645180327, 7.891806980163937, 4.7691353123925015)\n",
       " (0.850650808334829, 9.064918645180327, 7.891806980652943, 4.769135312757936)"
      ]
     },
     "metadata": {},
     "output_type": "display_data"
    }
   ],
   "source": [
    "X = [angular_measure(positions[1],positions[j],positions[k]) for j =(1:55)[Not(1)] for k in (1:j-1)[Not(1)]]"
   ]
  },
  {
   "cell_type": "code",
   "execution_count": 43,
   "metadata": {},
   "outputs": [
    {
     "data": {
      "text/plain": [
       "1431-element Vector{Float64}:\n",
       "  0.44721359552456313\n",
       "  0.44721359556787066\n",
       "  0.447213595632537\n",
       "  0.44721359554352996\n",
       " -0.4472135953692125\n",
       "  0.44721359555272444\n",
       "  0.4472135954940274\n",
       " -0.4472135955566442\n",
       " -0.4472135954422881\n",
       "  0.4472135955054501\n",
       "  ⋮\n",
       "  0.525731112086319\n",
       "  0.4472135954067908\n",
       "  0.5257311120705334\n",
       "  0.44721359549679773\n",
       "  0.8506508083755363\n",
       "  0.850650808344319\n",
       "  0.8506508083545801\n",
       "  0.8506508083579555\n",
       "  0.8506508083348291"
      ]
     },
     "metadata": {},
     "output_type": "display_data"
    }
   ],
   "source": [
    "[angular_measure(positions[1],positions[j],positions[k],dis2mat[1,j],dis2mat[1,k]) for j =(1:55)[Not(1)] for k in (1:j-1)[Not(1)]]"
   ]
  },
  {
   "cell_type": "code",
   "execution_count": 47,
   "metadata": {},
   "outputs": [
    {
     "data": {
      "text/plain": [
       "calc_test_symmetry_function (generic function with 1 method)"
      ]
     },
     "metadata": {},
     "output_type": "display_data"
    }
   ],
   "source": [
    "function calc_test_symmetry_function(positions,dis2_mat,index,symmfunc)\n",
    "\n",
    "    g_vec = [calc_one_symm_func(positions[index],positions[j],positions[k],dis2_mat[index,j],dis2_mat[index,k],dis2_mat[j,k],symmfunc) for j=(1:55)[Not(index)] for k=(1:j-1)[Not(index)]]\n",
    "    g = 2^(1-symmfunc.zeta)*sum(g_vec)\n",
    "    return \n",
    "end"
   ]
  },
  {
   "cell_type": "code",
   "execution_count": 50,
   "metadata": {},
   "outputs": [
    {
     "ename": "UndefVarError",
     "evalue": "UndefVarError: AngularType3 not defined",
     "output_type": "error",
     "traceback": [
      "UndefVarError: AngularType3 not defined\n",
      "\n",
      "Stacktrace:\n",
      " [1] top-level scope\n",
      "   @ ~/.julia/dev/MachineLearningPotential/scripts/testing.ipynb:1"
     ]
    }
   ],
   "source": [
    "test_symm_funtion = AngularType3{Float64}(0.0001,1.,1.,11.338)"
   ]
  },
  {
   "cell_type": "code",
   "execution_count": null,
   "metadata": {},
   "outputs": [],
   "source": [
    "calc_test_symmetry_function(positions,dis2mat,1,)"
   ]
  }
 ],
 "metadata": {
  "kernelspec": {
   "display_name": "Julia 1.8.5",
   "language": "julia",
   "name": "julia-1.8"
  },
  "language_info": {
   "file_extension": ".jl",
   "mimetype": "application/julia",
   "name": "julia",
   "version": "1.8.5"
  },
  "orig_nbformat": 4
 },
 "nbformat": 4,
 "nbformat_minor": 2
}
