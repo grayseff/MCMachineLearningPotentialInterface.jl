{
 "cells": [
  {
   "cell_type": "code",
   "execution_count": 1,
   "metadata": {},
   "outputs": [],
   "source": [
    "using Pkg\n",
    "\n",
    "using StaticArrays,BenchmarkTools,Random,Flux,DelimitedFiles,LinearAlgebra"
   ]
  },
  {
   "attachments": {},
   "cell_type": "markdown",
   "metadata": {},
   "source": [
    "# Symmetry Functions\n",
    "\n",
    "Time to write and test the basics of SymmFunctions for ML potentials"
   ]
  },
  {
   "cell_type": "code",
   "execution_count": 2,
   "metadata": {},
   "outputs": [],
   "source": [
    "distance2(a,b) = (a-b)⋅(a-b)\n",
    "get_distance2_mat(pos) = [distance2(a,b) for a in pos, b in pos]\n",
    "\n",
    "abstract type AbstractSymmFunction{T} end \n",
    "abstract type RadialSymmFunction{T} <: AbstractSymmFunction{T} end\n",
    "abstract type AngularSymmFunction{T} <: AbstractSymmFunction{T} end\n",
    "\n"
   ]
  },
  {
   "cell_type": "code",
   "execution_count": 3,
   "metadata": {},
   "outputs": [
    {
     "data": {
      "text/plain": [
       "cutoff_function (generic function with 1 method)"
      ]
     },
     "metadata": {},
     "output_type": "display_data"
    }
   ],
   "source": [
    "struct RadialType2{T} <: RadialSymmFunction{T}\n",
    "    eta::T\n",
    "    r_cut::T\n",
    "end\n",
    "\n",
    "function cutoff_function(r_ij,r_c)\n",
    "    if r_ij>r_c\n",
    "        cutoff=0\n",
    "    else\n",
    "        cutoff= 0.5*(cos(π*r_ij) + 1)\n",
    "    end\n",
    "\n",
    "    return cutoff\n",
    "end\n"
   ]
  },
  {
   "cell_type": "code",
   "execution_count": 31,
   "metadata": {},
   "outputs": [
    {
     "data": {
      "text/plain": [
       "RadialType2{Float64}(0.001, 11.338)"
      ]
     },
     "metadata": {},
     "output_type": "display_data"
    }
   ],
   "source": [
    "atoms = [[0.0000006584,       -0.0000019175,        0.0000000505],\n",
    "[-0.0000005810,       -0.0000004871,        0.6678432175],\n",
    "[0.1845874248,       -0.5681026047,        0.2986701538],\n",
    "[-0.4832557457,       -0.3511072166,        0.2986684497],\n",
    "[-0.4832557570,        0.3511046452,        0.2986669456],\n",
    "[0.1845874064,        0.5681000550,        0.2986677202],\n",
    "[0.5973371920,       -0.0000012681,        0.2986697030],\n",
    "[-0.1845860897,       -0.5681038901,       -0.2986676192],\n",
    "[-0.5973358752,       -0.0000025669,       -0.2986696020],\n",
    "[-0.1845861081,        0.5680987696,       -0.2986700528],\n",
    "[0.4832570624,        0.3511033815,       -0.2986683486],\n",
    "[0.4832570738,       -0.3511084803,       -0.2986668445],\n",
    "[0.0000018978,       -0.0000033480,       -0.6678431165],\n",
    "[-0.0000017969,        0.0000009162,        1.3230014650],\n",
    "[0.1871182835,       -0.5758942175,        0.9797717078],\n",
    "[-0.4898861924,       -0.3559221410,       0.9797699802],\n",
    "[-0.4898862039,        0.3559224872,        0.9797684555],\n",
    "[0.1871182648,        0.5758945856,        0.9797692407],\n",
    "[0.6055300485,        0.0000001908,        0.9797712507],\n",
    "[0.7926501864,       -0.5758950093,        0.6055339635],\n",
    "[0.3656681761,       -1.1254128670,        0.5916673591],\n",
    "[-0.3027660545,       -0.9318173412,        0.6055326929],\n",
    "[-0.9573332453,       -0.6955436707,        0.5916639831],\n",
    "[-0.9797705418,       -0.0000006364,        0.6055294407],\n",
    "[-0.9573332679,        0.6955423392,        0.5916610035],\n",
    "[-0.3027660847,        0.9318160902,        0.6055287012],\n",
    "[0.3656681396,        1.1254115783,        0.5916625380],\n",
    "[0.7926501677,        0.5758937939,        0.6055314964],\n",
    "[1.1833279992,       -0.0000006311,        0.5916664660],\n",
    "[0.6770051458,       -0.9318186223,        0.0000033028],\n",
    "[0.0000006771,       -1.1517907207,        0.0000025175],\n",
    "[-0.6770037988,       -0.9318186442,        0.0000007900],\n",
    "[-1.0954155825,       -0.3559242494,       -0.0000012200],\n",
    "[-1.0954155940,        0.3559203788,       -0.0000027447],\n",
    "[-0.6770038290,        0.9318147872,       -0.0000032017],\n",
    "[0.0000006397,        1.1517868856,       -0.0000024165],\n",
    "[0.6770051155,        0.9318148091,       -0.0000006889],\n",
    "[1.0954168993,        0.3559204143,        0.0000013211],\n",
    "[1.0954169108,       -0.3559242139,        0.0000028458],\n",
    "[0.3027674014,       -0.9318199253,       -0.6055286002],\n",
    "[-0.3656668229,       -1.1254154134,       -0.5916624370],\n",
    "[-0.7926488510,       -0.5758976290,       -0.6055313954],\n",
    "[-1.1833266824,       -0.0000032040,       -0.5916663649],\n",
    "[-0.7926488697,        0.5758911742,       -0.6055338624],\n",
    "[-0.3656668594,        1.1254090319,       -0.5916672580],\n",
    "[0.3027673712,        0.9318135061,       -0.6055325919],\n",
    "[0.9573345621,        0.6955398357,       -0.5916638820],\n",
    "[0.9797718586,       -0.0000031986,       -0.6055293396],\n",
    "[0.9573345846,       -0.6955461743,       -0.5916609025],\n",
    "[-0.1871169480,       -0.5758984207,       -0.9797691397],\n",
    "[-0.6055287318,       -0.0000040259,       -0.9797711497],\n",
    "[-0.1871169667,        0.5758903824,       -0.9797716067],\n",
    "[0.4898875091,        0.3559183059,       -0.9797698792],\n",
    "[0.4898875207,       -0.3559263223,       -0.9797683545],\n",
    "[0.0000031136,       -0.0000047513,       -1.3230013639]]*18.8973*0.36258\n",
    "\n",
    "positions = [SVector{3}(p[i] for i in 1:3) for p in atoms]\n",
    "dis2mat = get_distance2_mat(positions)\n",
    "test_symm_func = RadialType2{Float64}(0.001,11.338)"
   ]
  },
  {
   "cell_type": "code",
   "execution_count": 34,
   "metadata": {},
   "outputs": [
    {
     "data": {
      "text/plain": [
       "55-element Vector{Float64}:\n",
       " 3105.759662745963\n",
       " 4257.405302945296\n",
       " 4257.405302938711\n",
       " 4257.405303178946\n",
       " 4257.405302780715\n",
       " 4257.405302903702\n",
       " 4257.405303032689\n",
       " 4257.405303060748\n",
       " 4257.405302948559\n",
       " 4257.405303021082\n",
       "    ⋮\n",
       " 7625.260915818566\n",
       " 6531.193620513525\n",
       " 7625.260915728348\n",
       " 6531.193620457171\n",
       " 6531.193620670761\n",
       " 6531.193620385166\n",
       " 6531.193620679188\n",
       " 6531.193620943284\n",
       " 7625.260915313037"
      ]
     },
     "metadata": {},
     "output_type": "display_data"
    }
   ],
   "source": [
    "[sum(col) for col in eachcol(dis2mat)]"
   ]
  },
  {
   "cell_type": "code",
   "execution_count": 25,
   "metadata": {},
   "outputs": [
    {
     "data": {
      "text/plain": [
       "calc_symm_functions (generic function with 1 method)"
      ]
     },
     "metadata": {},
     "output_type": "display_data"
    }
   ],
   "source": [
    "function calc_one_symm_function(r2_ij,eta,r_cut)\n",
    "    if r2_ij != 0\n",
    "        g_ij = exp(-eta*(r2_ij)) * cutoff_function(sqrt(r2_ij),r_cut)\n",
    "        return g_ij\n",
    "    else\n",
    "        return 0.\n",
    "    end\n",
    "end\n",
    "\n",
    "function calc_symm_functions(dist2_matrix,index,symmfunc::RadialType2)\n",
    "    eta = symmfunc.eta\n",
    "    r_cut = symmfunc.r_cut\n",
    "    \n",
    "    gvec = calc_one_symm_function.(dist2_matrix[index,:],eta,r_cut)\n",
    "    return sum(gvec)   \n",
    "end"
   ]
  },
  {
   "cell_type": "code",
   "execution_count": 40,
   "metadata": {},
   "outputs": [
    {
     "data": {
      "text/plain": [
       "55-element Vector{Float64}:\n",
       " 0.3739649622425344\n",
       " 0.0\n",
       " 0.08327446025989471\n",
       " 0.0832744601714764\n",
       " 0.08327446057922704\n",
       " 0.08327446040668199\n",
       " 0.083274460289102\n",
       " 0.8378778732228551\n",
       " 0.8378778731635398\n",
       " 0.8378778731215365\n",
       " ⋮\n",
       " 0.0\n",
       " 0.0001633994253229838\n",
       " 0.0\n",
       " 0.0\n",
       " 0.0\n",
       " 0.0\n",
       " 0.0\n",
       " 0.0\n",
       " 0.0"
      ]
     },
     "metadata": {},
     "output_type": "display_data"
    }
   ],
   "source": [
    "g_vec = calc_one_symm_function.(dis2mat[2,:],test_symm_func.eta,test_symm_func.r_cut)"
   ]
  },
  {
   "cell_type": "code",
   "execution_count": 41,
   "metadata": {},
   "outputs": [
    {
     "data": {
      "text/plain": [
       "12.426475016599209"
      ]
     },
     "metadata": {},
     "output_type": "display_data"
    }
   ],
   "source": [
    "sum(g_vec)"
   ]
  },
  {
   "cell_type": "code",
   "execution_count": 32,
   "metadata": {},
   "outputs": [
    {
     "data": {
      "text/plain": [
       "55-element Vector{Float64}:\n",
       " 31.984342673795283\n",
       " 12.426475016599209\n",
       " 12.426475013537145\n",
       " 12.426475019098064\n",
       " 12.426475015237209\n",
       " 12.426475017648329\n",
       " 12.426475018993258\n",
       " 12.426475016326904\n",
       " 12.42647501577247\n",
       " 12.426475018423305\n",
       "  ⋮\n",
       " 11.721452629851537\n",
       "  8.212357594999437\n",
       " 11.721452630657085\n",
       "  8.212357598032238\n",
       "  8.212357598277782\n",
       "  8.212357596699082\n",
       "  8.212357596548063\n",
       "  8.212357598052336\n",
       " 11.72145263415914"
      ]
     },
     "metadata": {},
     "output_type": "display_data"
    }
   ],
   "source": [
    "[calc_symm_functions(dis2mat,i,test_symm_func) for i in 1:55]"
   ]
  },
  {
   "cell_type": "code",
   "execution_count": 29,
   "metadata": {},
   "outputs": [
    {
     "data": {
      "text/plain": [
       "calc_symm_functions (generic function with 2 methods)"
      ]
     },
     "metadata": {},
     "output_type": "display_data"
    }
   ],
   "source": [
    "function calc_symm_functions(dist2_matrix,index,symmfunc::RadialType2,g_min,g_max)\n",
    "    eta = symmfunc.eta\n",
    "    r_cut = symmfunc.r_cut\n",
    "    gvec = calc_one_symm_function.(dist2_matrix[index,:],eta,r_cut)\n",
    "    g_unscaled = sum(gvec)\n",
    "\n",
    "    return (g_unscaled - g_min)/(g_max - g_min)   \n",
    "end"
   ]
  },
  {
   "cell_type": "code",
   "execution_count": 30,
   "metadata": {},
   "outputs": [
    {
     "data": {
      "text/plain": [
       "55-element Vector{Float64}:\n",
       " 2.0921008489648103\n",
       " 0.7945388544085742\n",
       " 0.7945388542054223\n",
       " 0.79453885457436\n",
       " 0.7945388543182126\n",
       " 0.7945388544781777\n",
       " 0.7945388545674068\n",
       " 0.7945388543905081\n",
       " 0.7945388543537243\n",
       " 0.7945388545295934\n",
       " ⋮\n",
       " 0.7477643148529537\n",
       " 0.5149542543536049\n",
       " 0.7477643149063976\n",
       " 0.5149542545548154\n",
       " 0.5149542545711059\n",
       " 0.5149542544663674\n",
       " 0.5149542544563481\n",
       " 0.5149542545561487\n",
       " 0.7477643151387406"
      ]
     },
     "metadata": {},
     "output_type": "display_data"
    }
   ],
   "source": [
    "[calc_symm_functions(dis2mat,i,test_symm_func,0.450564942,15.523345849) for i in 1:55]"
   ]
  },
  {
   "cell_type": "code",
   "execution_count": null,
   "metadata": {},
   "outputs": [],
   "source": []
  }
 ],
 "metadata": {
  "kernelspec": {
   "display_name": "Julia 1.8.5",
   "language": "julia",
   "name": "julia-1.8"
  },
  "language_info": {
   "file_extension": ".jl",
   "mimetype": "application/julia",
   "name": "julia",
   "version": "1.8.5"
  },
  "orig_nbformat": 4
 },
 "nbformat": 4,
 "nbformat_minor": 2
}
