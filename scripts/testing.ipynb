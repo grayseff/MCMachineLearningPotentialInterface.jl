{
 "cells": [
  {
   "cell_type": "code",
   "execution_count": 1,
   "metadata": {},
   "outputs": [],
   "source": [
    "using StaticArrays,BenchmarkTools,Random,Flux,DelimitedFiles,LinearAlgebra\n",
    "using InvertedIndices\n",
    "using MachineLearningPotential"
   ]
  },
  {
   "attachments": {},
   "cell_type": "markdown",
   "metadata": {},
   "source": [
    "# Symmetry Functions\n",
    "\n",
    "Time to write and test the basics of SymmFunctions for ML potentials"
   ]
  },
  {
   "cell_type": "code",
   "execution_count": 2,
   "metadata": {},
   "outputs": [
    {
     "data": {
      "text/plain": [
       "AngularType3{Float64}(0.0001, -1.0, 2.0, 11.338, [1, 1, 1])"
      ]
     },
     "metadata": {},
     "output_type": "display_data"
    }
   ],
   "source": [
    "atoms = [[0.0000006584,       -0.0000019175,        0.0000000505],\n",
    "[-0.0000005810,       -0.0000004871,        0.6678432175],\n",
    "[0.1845874248,       -0.5681026047,        0.2986701538],\n",
    "[-0.4832557457,       -0.3511072166,        0.2986684497],\n",
    "[-0.4832557570,        0.3511046452,        0.2986669456],\n",
    "[0.1845874064,        0.5681000550,        0.2986677202],\n",
    "[0.5973371920,       -0.0000012681,        0.2986697030],\n",
    "[-0.1845860897,       -0.5681038901,       -0.2986676192],\n",
    "[-0.5973358752,       -0.0000025669,       -0.2986696020],\n",
    "[-0.1845861081,        0.5680987696,       -0.2986700528],\n",
    "[0.4832570624,        0.3511033815,       -0.2986683486],\n",
    "[0.4832570738,       -0.3511084803,       -0.2986668445],\n",
    "[0.0000018978,       -0.0000033480,       -0.6678431165],\n",
    "[-0.0000017969,        0.0000009162,        1.3230014650],\n",
    "[0.1871182835,       -0.5758942175,        0.9797717078],\n",
    "[-0.4898861924,       -0.3559221410,       0.9797699802],\n",
    "[-0.4898862039,        0.3559224872,        0.9797684555],\n",
    "[0.1871182648,        0.5758945856,        0.9797692407],\n",
    "[0.6055300485,        0.0000001908,        0.9797712507],\n",
    "[0.7926501864,       -0.5758950093,        0.6055339635],\n",
    "[0.3656681761,       -1.1254128670,        0.5916673591],\n",
    "[-0.3027660545,       -0.9318173412,        0.6055326929],\n",
    "[-0.9573332453,       -0.6955436707,        0.5916639831],\n",
    "[-0.9797705418,       -0.0000006364,        0.6055294407],\n",
    "[-0.9573332679,        0.6955423392,        0.5916610035],\n",
    "[-0.3027660847,        0.9318160902,        0.6055287012],\n",
    "[0.3656681396,        1.1254115783,        0.5916625380],\n",
    "[0.7926501677,        0.5758937939,        0.6055314964],\n",
    "[1.1833279992,       -0.0000006311,        0.5916664660],\n",
    "[0.6770051458,       -0.9318186223,        0.0000033028],\n",
    "[0.0000006771,       -1.1517907207,        0.0000025175],\n",
    "[-0.6770037988,       -0.9318186442,        0.0000007900],\n",
    "[-1.0954155825,       -0.3559242494,       -0.0000012200],\n",
    "[-1.0954155940,        0.3559203788,       -0.0000027447],\n",
    "[-0.6770038290,        0.9318147872,       -0.0000032017],\n",
    "[0.0000006397,        1.1517868856,       -0.0000024165],\n",
    "[0.6770051155,        0.9318148091,       -0.0000006889],\n",
    "[1.0954168993,        0.3559204143,        0.0000013211],\n",
    "[1.0954169108,       -0.3559242139,        0.0000028458],\n",
    "[0.3027674014,       -0.9318199253,       -0.6055286002],\n",
    "[-0.3656668229,       -1.1254154134,       -0.5916624370],\n",
    "[-0.7926488510,       -0.5758976290,       -0.6055313954],\n",
    "[-1.1833266824,       -0.0000032040,       -0.5916663649],\n",
    "[-0.7926488697,        0.5758911742,       -0.6055338624],\n",
    "[-0.3656668594,        1.1254090319,       -0.5916672580],\n",
    "[0.3027673712,        0.9318135061,       -0.6055325919],\n",
    "[0.9573345621,        0.6955398357,       -0.5916638820],\n",
    "[0.9797718586,       -0.0000031986,       -0.6055293396],\n",
    "[0.9573345846,       -0.6955461743,       -0.5916609025],\n",
    "[-0.1871169480,       -0.5758984207,       -0.9797691397],\n",
    "[-0.6055287318,       -0.0000040259,       -0.9797711497],\n",
    "[-0.1871169667,        0.5758903824,       -0.9797716067],\n",
    "[0.4898875091,        0.3559183059,       -0.9797698792],\n",
    "[0.4898875207,       -0.3559263223,       -0.9797683545],\n",
    "[0.0000031136,       -0.0000047513,       -1.3230013639]]*18.8973*0.36258\n",
    "\n",
    "positions = [SVector{3}(p[i] for i in 1:3) for p in atoms]\n",
    "dis2mat = get_distance2_mat(positions)\n",
    "rad_function = RadialType2{Float64}(0.001,11.338,[1.,1.])\n",
    "ang_func = AngularType3{Float64}(0.0001,1.0,1.0,11.338,[1.,1.,1.])\n",
    "ang_func2 = AngularType3{Float64}(0.0001,-1.0,2.0,11.338,[1.,1.,1.])"
   ]
  },
  {
   "attachments": {},
   "cell_type": "markdown",
   "metadata": {},
   "source": [
    "Demonstrates the difference between [:,index] and [index,:]"
   ]
  },
  {
   "attachments": {},
   "cell_type": "markdown",
   "metadata": {},
   "source": [
    "# Angular Symmetry Function"
   ]
  },
  {
   "attachments": {},
   "cell_type": "markdown",
   "metadata": {},
   "source": [
    "Testing prior to type system"
   ]
  },
  {
   "cell_type": "code",
   "execution_count": 3,
   "metadata": {},
   "outputs": [
    {
     "data": {
      "text/plain": [
       "BenchmarkTools.Trial: 10000 samples with 186 evaluations.\n",
       " Range \u001b[90m(\u001b[39m\u001b[36m\u001b[1mmin\u001b[22m\u001b[39m … \u001b[35mmax\u001b[39m\u001b[90m):  \u001b[39m\u001b[36m\u001b[1m541.177 ns\u001b[22m\u001b[39m … \u001b[35m 19.166 μs\u001b[39m  \u001b[90m┊\u001b[39m GC \u001b[90m(\u001b[39mmin … max\u001b[90m): \u001b[39m0.00% … 95.96%\n",
       " Time  \u001b[90m(\u001b[39m\u001b[34m\u001b[1mmedian\u001b[22m\u001b[39m\u001b[90m):     \u001b[39m\u001b[34m\u001b[1m644.059 ns               \u001b[22m\u001b[39m\u001b[90m┊\u001b[39m GC \u001b[90m(\u001b[39mmedian\u001b[90m):    \u001b[39m0.00%\n",
       " Time  \u001b[90m(\u001b[39m\u001b[32m\u001b[1mmean\u001b[22m\u001b[39m ± \u001b[32mσ\u001b[39m\u001b[90m):   \u001b[39m\u001b[32m\u001b[1m712.187 ns\u001b[22m\u001b[39m ± \u001b[32m817.921 ns\u001b[39m  \u001b[90m┊\u001b[39m GC \u001b[90m(\u001b[39mmean ± σ\u001b[90m):  \u001b[39m5.43% ±  4.58%\n",
       "\n",
       "  \u001b[39m▁\u001b[39m▃\u001b[39m▄\u001b[39m▆\u001b[39m▇\u001b[39m█\u001b[39m▇\u001b[39m▇\u001b[39m▅\u001b[39m▄\u001b[39m▃\u001b[39m▁\u001b[39m \u001b[39m \u001b[39m▁\u001b[39m▂\u001b[34m▂\u001b[39m\u001b[39m▂\u001b[39m▃\u001b[39m▂\u001b[39m▁\u001b[39m▁\u001b[39m \u001b[39m \u001b[39m \u001b[39m▁\u001b[32m▂\u001b[39m\u001b[39m▂\u001b[39m▄\u001b[39m▄\u001b[39m▅\u001b[39m▆\u001b[39m▆\u001b[39m▆\u001b[39m▆\u001b[39m▆\u001b[39m▅\u001b[39m▄\u001b[39m▃\u001b[39m▂\u001b[39m▂\u001b[39m▁\u001b[39m▂\u001b[39m▁\u001b[39m▂\u001b[39m▁\u001b[39m▁\u001b[39m▁\u001b[39m▁\u001b[39m▁\u001b[39m \u001b[39m \u001b[39m \u001b[39m \u001b[39m \u001b[39m \u001b[39m▁\u001b[39m \u001b[39m \u001b[39m \u001b[39m \u001b[39m \u001b[39m▃\n",
       "  \u001b[39m█\u001b[39m█\u001b[39m█\u001b[39m█\u001b[39m█\u001b[39m█\u001b[39m█\u001b[39m█\u001b[39m█\u001b[39m█\u001b[39m█\u001b[39m█\u001b[39m█\u001b[39m█\u001b[39m█\u001b[39m█\u001b[34m█\u001b[39m\u001b[39m█\u001b[39m█\u001b[39m█\u001b[39m█\u001b[39m█\u001b[39m█\u001b[39m▇\u001b[39m█\u001b[39m█\u001b[32m█\u001b[39m\u001b[39m█\u001b[39m█\u001b[39m█\u001b[39m█\u001b[39m█\u001b[39m█\u001b[39m█\u001b[39m█\u001b[39m█\u001b[39m█\u001b[39m█\u001b[39m█\u001b[39m█\u001b[39m█\u001b[39m█\u001b[39m█\u001b[39m█\u001b[39m█\u001b[39m█\u001b[39m█\u001b[39m█\u001b[39m█\u001b[39m█\u001b[39m█\u001b[39m▇\u001b[39m█\u001b[39m█\u001b[39m█\u001b[39m█\u001b[39m█\u001b[39m█\u001b[39m█\u001b[39m▆\u001b[39m▆\u001b[39m \u001b[39m█\n",
       "  541 ns\u001b[90m        \u001b[39m\u001b[90mHistogram: \u001b[39m\u001b[90m\u001b[1mlog(\u001b[22m\u001b[39m\u001b[90mfrequency\u001b[39m\u001b[90m\u001b[1m)\u001b[22m\u001b[39m\u001b[90m by time\u001b[39m        935 ns \u001b[0m\u001b[1m<\u001b[22m\n",
       "\n",
       " Memory estimate\u001b[90m: \u001b[39m\u001b[33m1.06 KiB\u001b[39m, allocs estimate\u001b[90m: \u001b[39m\u001b[33m4\u001b[39m."
      ]
     },
     "metadata": {},
     "output_type": "display_data"
    }
   ],
   "source": [
    "@benchmark calc_symmetry_function(positions,dis2mat,1,rad_function)"
   ]
  },
  {
   "cell_type": "code",
   "execution_count": 4,
   "metadata": {},
   "outputs": [
    {
     "data": {
      "text/plain": [
       "BenchmarkTools.Trial: 10000 samples with 1 evaluation.\n",
       " Range \u001b[90m(\u001b[39m\u001b[36m\u001b[1mmin\u001b[22m\u001b[39m … \u001b[35mmax\u001b[39m\u001b[90m):  \u001b[39m\u001b[36m\u001b[1m35.496 μs\u001b[22m\u001b[39m … \u001b[35m 3.380 ms\u001b[39m  \u001b[90m┊\u001b[39m GC \u001b[90m(\u001b[39mmin … max\u001b[90m): \u001b[39m0.00% … 98.83%\n",
       " Time  \u001b[90m(\u001b[39m\u001b[34m\u001b[1mmedian\u001b[22m\u001b[39m\u001b[90m):     \u001b[39m\u001b[34m\u001b[1m39.753 μs              \u001b[22m\u001b[39m\u001b[90m┊\u001b[39m GC \u001b[90m(\u001b[39mmedian\u001b[90m):    \u001b[39m0.00%\n",
       " Time  \u001b[90m(\u001b[39m\u001b[32m\u001b[1mmean\u001b[22m\u001b[39m ± \u001b[32mσ\u001b[39m\u001b[90m):   \u001b[39m\u001b[32m\u001b[1m40.777 μs\u001b[22m\u001b[39m ± \u001b[32m41.873 μs\u001b[39m  \u001b[90m┊\u001b[39m GC \u001b[90m(\u001b[39mmean ± σ\u001b[90m):  \u001b[39m1.43% ±  1.39%\n",
       "\n",
       "  \u001b[39m \u001b[39m \u001b[39m \u001b[39m \u001b[39m \u001b[39m▆\u001b[39m \u001b[39m▄\u001b[39m▁\u001b[39m \u001b[39m▂\u001b[39m▂\u001b[39m█\u001b[34m█\u001b[39m\u001b[39m▇\u001b[39m▅\u001b[32m▂\u001b[39m\u001b[39m \u001b[39m \u001b[39m \u001b[39m \u001b[39m \u001b[39m \u001b[39m \u001b[39m \u001b[39m \u001b[39m \u001b[39m \u001b[39m \u001b[39m \u001b[39m \u001b[39m \u001b[39m \u001b[39m \u001b[39m \u001b[39m \u001b[39m \u001b[39m \u001b[39m \u001b[39m \u001b[39m \u001b[39m \u001b[39m \u001b[39m \u001b[39m \u001b[39m \u001b[39m \u001b[39m \u001b[39m \u001b[39m \u001b[39m \u001b[39m \u001b[39m \u001b[39m \u001b[39m \u001b[39m \u001b[39m \u001b[39m \u001b[39m \u001b[39m \u001b[39m \n",
       "  \u001b[39m▂\u001b[39m▂\u001b[39m▄\u001b[39m▄\u001b[39m▅\u001b[39m█\u001b[39m▇\u001b[39m█\u001b[39m█\u001b[39m▇\u001b[39m█\u001b[39m█\u001b[39m█\u001b[34m█\u001b[39m\u001b[39m█\u001b[39m█\u001b[32m█\u001b[39m\u001b[39m█\u001b[39m▆\u001b[39m▅\u001b[39m▄\u001b[39m▃\u001b[39m▃\u001b[39m▂\u001b[39m▂\u001b[39m▂\u001b[39m▂\u001b[39m▂\u001b[39m▂\u001b[39m▂\u001b[39m▁\u001b[39m▁\u001b[39m▁\u001b[39m▁\u001b[39m▁\u001b[39m▁\u001b[39m▁\u001b[39m▁\u001b[39m▁\u001b[39m▁\u001b[39m▁\u001b[39m▁\u001b[39m▁\u001b[39m▁\u001b[39m▁\u001b[39m▁\u001b[39m▁\u001b[39m▁\u001b[39m▁\u001b[39m▁\u001b[39m▁\u001b[39m▁\u001b[39m▁\u001b[39m▁\u001b[39m▁\u001b[39m▁\u001b[39m▁\u001b[39m▁\u001b[39m▁\u001b[39m \u001b[39m▃\n",
       "  35.5 μs\u001b[90m         Histogram: frequency by time\u001b[39m        54.7 μs \u001b[0m\u001b[1m<\u001b[22m\n",
       "\n",
       " Memory estimate\u001b[90m: \u001b[39m\u001b[33m22.02 KiB\u001b[39m, allocs estimate\u001b[90m: \u001b[39m\u001b[33m9\u001b[39m."
      ]
     },
     "metadata": {},
     "output_type": "display_data"
    }
   ],
   "source": [
    "@benchmark calc_symmetry_function(positions,dis2mat,1,ang_func)"
   ]
  },
  {
   "cell_type": "code",
   "execution_count": 5,
   "metadata": {},
   "outputs": [
    {
     "data": {
      "text/plain": [
       "5.982413095508253"
      ]
     },
     "metadata": {},
     "output_type": "display_data"
    }
   ],
   "source": [
    "calc_symmetry_function(positions,dis2mat,1,ang_func2)"
   ]
  },
  {
   "attachments": {},
   "cell_type": "markdown",
   "metadata": {},
   "source": [
    "With this all functioning we can now generate a vector __G__ of all the necessary symmetry functions, with zero for the Cu-Zn ones."
   ]
  },
  {
   "cell_type": "code",
   "execution_count": 21,
   "metadata": {},
   "outputs": [
    {
     "data": {
      "text/plain": [
       "10×5 Matrix{Float64}:\n",
       " 1.0  1.0  0.001  0.0  11.338\n",
       " 1.0  0.0  0.001  0.0  11.338\n",
       " 1.0  1.0  0.02   0.0  11.338\n",
       " 1.0  0.0  0.02   0.0  11.338\n",
       " 1.0  1.0  0.035  0.0  11.338\n",
       " 1.0  0.0  0.035  0.0  11.338\n",
       " 1.0  1.0  0.1    0.0  11.338\n",
       " 1.0  0.0  0.1    0.0  11.338\n",
       " 1.0  1.0  0.4    0.0  11.338\n",
       " 1.0  0.0  0.4    0.0  11.338"
      ]
     },
     "metadata": {},
     "output_type": "display_data"
    }
   ],
   "source": [
    "X = [ 1    1              0.001   0.000  11.338\n",
    " 1    0              0.001   0.000  11.338\n",
    " 1    1              0.020   0.000  11.338\n",
    " 1    0              0.020   0.000  11.338\n",
    " 1    1              0.035   0.000  11.338\n",
    " 1    0              0.035   0.000  11.338\n",
    " 1    1              0.100   0.000  11.338\n",
    " 1    0              0.100   0.000  11.338\n",
    " 1    1              0.400   0.000  11.338\n",
    " 1    0              0.400   0.000  11.338]\n",
    "radsymmvec = []\n",
    "for row in eachrow(X)\n",
    "    symmfunc = RadialType2{Float64}(row[3],row[5],[row[1],row[2]])\n",
    "    push!(radsymmvec,symmfunc)\n",
    "end\n",
    "G = calc_symmetry_function.(Ref(positions),Ref(dis2mat),Ref(1),radsymmvec)"
   ]
  },
  {
   "cell_type": "code",
   "execution_count": 25,
   "metadata": {},
   "outputs": [
    {
     "data": {
      "text/plain": [
       "88-element Vector{Any}:\n",
       " RadialType2{Float64}(0.001, 11.338, [1.0, 1.0])\n",
       " RadialType2{Float64}(0.001, 11.338, [1.0, 0.0])\n",
       " RadialType2{Float64}(0.02, 11.338, [1.0, 1.0])\n",
       " RadialType2{Float64}(0.02, 11.338, [1.0, 0.0])\n",
       " RadialType2{Float64}(0.035, 11.338, [1.0, 1.0])\n",
       " RadialType2{Float64}(0.035, 11.338, [1.0, 0.0])\n",
       " RadialType2{Float64}(0.1, 11.338, [1.0, 1.0])\n",
       " RadialType2{Float64}(0.1, 11.338, [1.0, 0.0])\n",
       " RadialType2{Float64}(0.4, 11.338, [1.0, 1.0])\n",
       " RadialType2{Float64}(0.4, 11.338, [1.0, 0.0])\n",
       " ⋮\n",
       " AngularType3{Float64}(0.08, -1.0, 2.0, 11.338, [1.0, 1.0, 1.0])\n",
       " AngularType3{Float64}(0.08, -1.0, 2.0, 11.338, [1.0, 1.0, 0.0])\n",
       " AngularType3{Float64}(0.08, -1.0, 2.0, 11.338, [1.0, 0.0, 0.0])\n",
       " AngularType3{Float64}(0.08, -1.0, 4.0, 11.338, [1.0, 1.0, 1.0])\n",
       " AngularType3{Float64}(0.08, -1.0, 4.0, 11.338, [1.0, 1.0, 0.0])\n",
       " AngularType3{Float64}(0.08, -1.0, 4.0, 11.338, [1.0, 0.0, 0.0])\n",
       " AngularType3{Float64}(0.08, 1.0, 4.0, 11.338, [1.0, 1.0, 1.0])\n",
       " AngularType3{Float64}(0.08, 1.0, 4.0, 11.338, [1.0, 1.0, 0.0])\n",
       " AngularType3{Float64}(0.08, 1.0, 4.0, 11.338, [1.0, 0.0, 0.0])"
      ]
     },
     "metadata": {},
     "output_type": "display_data"
    }
   ],
   "source": [
    "V = [[0.0001,1,1,11.338],[0.0001,-1,2,11.338],[0.003,-1,1,11.338],[0.003,-1,2,11.338],[0.008,-1,1,11.338],[0.008,-1,2,11.228],[0.008,1,2,11.338],[0.015,1,1,11.338],[0.015,-1,2,11.338],[0.015,-1,4,11.338],[0.015,-1,16,11.338],[0.025,-1,1,11.338],[0.025,1,1,11.338],[0.025,1,2,11.338],[0.025,-1,4,11.338],[0.025,-1,16,11.338],[0.025,1,16,11.338],[0.045,1,1,11.338],[0.045,-1,2,11.338],[0.045,-1,4,11.338],[0.045,1,4,11.338],[0.045,1,16,11.338],[0.08,1,1,11.338],[0.08,-1,2,11.338],[0.08,-1,4,11.338],[0.08,1,4,11.338]]\n",
    "T = [[1.,1.,1.],[1.,1.,0.],[1.,0.,0.]]\n",
    "angularsymmvec = []\n",
    "for element in V \n",
    "    for types in T\n",
    "        symmfunc = AngularType3{Float64}(element[1],element[2],element[3],11.338,types)\n",
    "        push!(angularsymmvec,symmfunc)\n",
    "    end\n",
    "end\n",
    "\n",
    "total_symm_vec = vcat(radsymmvec,angularsymmvec)"
   ]
  },
  {
   "cell_type": "code",
   "execution_count": 36,
   "metadata": {},
   "outputs": [
    {
     "data": {
      "text/plain": [
       "calc_symmetry_functions (generic function with 2 methods)"
      ]
     },
     "metadata": {},
     "output_type": "display_data"
    }
   ],
   "source": [
    "#G = calc_symmetry_function.(Ref(positions),Ref(dis2mat),Ref(1),total_symm_vec)\n",
    "function calc_symmetry_functions(positions,dis2mat,index,total_symm_vec)\n",
    "   G = calc_symmetry_function.(Ref(positions),Ref(dis2mat),Ref(index),total_symm_vec)\n",
    "   return G\n",
    "end"
   ]
  },
  {
   "cell_type": "code",
   "execution_count": 37,
   "metadata": {},
   "outputs": [
    {
     "data": {
      "text/plain": [
       "BenchmarkTools.Trial: 5991 samples with 1 evaluation.\n",
       " Range \u001b[90m(\u001b[39m\u001b[36m\u001b[1mmin\u001b[22m\u001b[39m … \u001b[35mmax\u001b[39m\u001b[90m):  \u001b[39m\u001b[36m\u001b[1m644.773 μs\u001b[22m\u001b[39m … \u001b[35m  4.091 ms\u001b[39m  \u001b[90m┊\u001b[39m GC \u001b[90m(\u001b[39mmin … max\u001b[90m): \u001b[39m0.00% … 63.08%\n",
       " Time  \u001b[90m(\u001b[39m\u001b[34m\u001b[1mmedian\u001b[22m\u001b[39m\u001b[90m):     \u001b[39m\u001b[34m\u001b[1m800.098 μs               \u001b[22m\u001b[39m\u001b[90m┊\u001b[39m GC \u001b[90m(\u001b[39mmedian\u001b[90m):    \u001b[39m0.00%\n",
       " Time  \u001b[90m(\u001b[39m\u001b[32m\u001b[1mmean\u001b[22m\u001b[39m ± \u001b[32mσ\u001b[39m\u001b[90m):   \u001b[39m\u001b[32m\u001b[1m833.430 μs\u001b[22m\u001b[39m ± \u001b[32m191.777 μs\u001b[39m  \u001b[90m┊\u001b[39m GC \u001b[90m(\u001b[39mmean ± σ\u001b[90m):  \u001b[39m1.47% ±  5.34%\n",
       "\n",
       "  \u001b[39m \u001b[39m \u001b[39m \u001b[39m \u001b[39m▁\u001b[39m \u001b[39m \u001b[39m \u001b[39m \u001b[39m \u001b[39m \u001b[39m \u001b[39m \u001b[39m \u001b[39m \u001b[39m \u001b[39m \u001b[39m \u001b[39m█\u001b[39m▆\u001b[39m▂\u001b[34m▂\u001b[39m\u001b[39m \u001b[39m \u001b[39m \u001b[32m \u001b[39m\u001b[39m \u001b[39m \u001b[39m \u001b[39m \u001b[39m \u001b[39m \u001b[39m \u001b[39m \u001b[39m \u001b[39m \u001b[39m \u001b[39m \u001b[39m \u001b[39m \u001b[39m \u001b[39m \u001b[39m \u001b[39m \u001b[39m \u001b[39m \u001b[39m \u001b[39m \u001b[39m \u001b[39m \u001b[39m \u001b[39m \u001b[39m \u001b[39m \u001b[39m \u001b[39m \u001b[39m \u001b[39m \u001b[39m \u001b[39m \u001b[39m \u001b[39m \u001b[39m \n",
       "  \u001b[39m▂\u001b[39m▂\u001b[39m▄\u001b[39m▅\u001b[39m█\u001b[39m▅\u001b[39m▅\u001b[39m▃\u001b[39m▃\u001b[39m▂\u001b[39m▂\u001b[39m▂\u001b[39m▂\u001b[39m▂\u001b[39m▃\u001b[39m▃\u001b[39m▆\u001b[39m▇\u001b[39m█\u001b[39m█\u001b[39m█\u001b[34m█\u001b[39m\u001b[39m▇\u001b[39m▅\u001b[39m▅\u001b[32m▄\u001b[39m\u001b[39m▃\u001b[39m▃\u001b[39m▃\u001b[39m▃\u001b[39m▃\u001b[39m▂\u001b[39m▂\u001b[39m▂\u001b[39m▃\u001b[39m▃\u001b[39m▃\u001b[39m▃\u001b[39m▄\u001b[39m▆\u001b[39m▅\u001b[39m▄\u001b[39m▃\u001b[39m▄\u001b[39m▂\u001b[39m▂\u001b[39m▂\u001b[39m▂\u001b[39m▂\u001b[39m▂\u001b[39m▂\u001b[39m▂\u001b[39m▁\u001b[39m▁\u001b[39m▂\u001b[39m▁\u001b[39m▁\u001b[39m▁\u001b[39m▁\u001b[39m▁\u001b[39m▁\u001b[39m \u001b[39m▃\n",
       "  645 μs\u001b[90m           Histogram: frequency by time\u001b[39m          1.1 ms \u001b[0m\u001b[1m<\u001b[22m\n",
       "\n",
       " Memory estimate\u001b[90m: \u001b[39m\u001b[33m584.27 KiB\u001b[39m, allocs estimate\u001b[90m: \u001b[39m\u001b[33m380\u001b[39m."
      ]
     },
     "metadata": {},
     "output_type": "display_data"
    }
   ],
   "source": [
    "@benchmark calc_symmetry_functions($positions,$dis2mat,$rand(1:55),$total_symm_vec)"
   ]
  },
  {
   "cell_type": "code",
   "execution_count": 31,
   "metadata": {},
   "outputs": [
    {
     "data": {
      "text/plain": [
       "88×5 Matrix{Float64}:\n",
       " 1.0   1.0  0.450565     15.5233       9.29897\n",
       " 1.0   2.0  0.0          10.1749       1.4389\n",
       " 1.0   3.0  0.100819      7.6075       4.56417\n",
       " 1.0   4.0  0.0           5.37091      0.70981\n",
       " 1.0   5.0  0.0320307     4.80867      2.84208\n",
       " 1.0   6.0  0.0           3.50005      0.442888\n",
       " 1.0   7.0  0.000282276   1.06809      0.518436\n",
       " 1.0   8.0  0.0           0.723935     0.0805106\n",
       " 1.0   9.0  0.0           0.0088168    0.00050498\n",
       " 1.0  10.0  0.0           0.00550892   8.2833e-5\n",
       " ⋮                                     \n",
       " 1.0  80.0  0.0           0.0114509    0.00174939\n",
       " 1.0  81.0  0.0           0.00659602   0.00040509\n",
       " 1.0  82.0  0.0           0.00516076   6.433e-5\n",
       " 1.0  83.0  0.0           0.00203431   0.000193585\n",
       " 1.0  84.0  0.0           0.00115905   4.4987e-5\n",
       " 1.0  85.0  0.0           0.000808883  8.699e-6\n",
       " 1.0  86.0  1.0e-9        0.0395573    0.00828455\n",
       " 1.0  87.0  0.0           0.0260925    0.00190869\n",
       " 1.0  88.0  0.0           0.0137062    0.000248299"
      ]
     },
     "metadata": {},
     "output_type": "display_data"
    }
   ],
   "source": [
    "scaledata = [1    1        0.450564942      15.523345849       9.298968199\n",
    "   1    2        0.000000000      10.174902869       1.438899770\n",
    "   1    3        0.100819173       7.607500154       4.564166627\n",
    "   1    4        0.000000000       5.370905097       0.709810315\n",
    "   1    5        0.032030703       4.808672275       2.842081607\n",
    "   1    6        0.000000000       3.500046942       0.442888382\n",
    "   1    7        0.000282276       1.068088052       0.518435876\n",
    "   1    8        0.000000000       0.723935150       0.080510621\n",
    "   1    9        0.000000000       0.008816804       0.000504980\n",
    "   1   10        0.000000000       0.005508918       0.000082833\n",
    "   1   11        0.019761299      40.773943091      16.211040424\n",
    "   1   12        0.000000000      16.964164093       3.744682565\n",
    "   1   13        0.000000000      17.681976100       0.630049442\n",
    "   1   14        0.000298798       6.702709001       2.432733865\n",
    "   1   15        0.000000000       3.416558145       0.575011527\n",
    "   1   16        0.000000000       3.612414431       0.111869881\n",
    "   1   17        0.001119279      11.348120314       4.318878188\n",
    "   1   18        0.000000000       5.371376879       1.013577855\n",
    "   1   19        0.000000000       5.908457969       0.188441258\n",
    "   1   20        0.000150913       4.878271436       1.744170918\n",
    "   1   21        0.000000000       2.554335099       0.412016771\n",
    "   1   22        0.000000000       2.632922947       0.079981481\n",
    "   1   23        0.000364749       6.849544568       2.557278109\n",
    "   1   24        0.000000000       3.376636349       0.600469545\n",
    "   1   25        0.000000000       3.607340627       0.110124966\n",
    "   1   26        0.000046825       2.878786940       1.002024127\n",
    "   1   27        0.000000000       1.573280329       0.236379102\n",
    "   1   28        0.000000000       1.549897102       0.045670938\n",
    "   1   29        0.003303832      14.200032632       5.513995416\n",
    "   1   30        0.000000000       6.079408958       1.276308770\n",
    "   1   31        0.000000000       6.178264992       0.203162950\n",
    "   1   32        0.000816090       9.462506627       3.580829495\n",
    "   1   33        0.000000000       4.381367884       0.832942042\n",
    "   1   34        0.000000000       4.394339232       0.132458384\n",
    "   1   35        0.000009239       1.435395759       0.478597502\n",
    "   1   36        0.000000000       0.823661273       0.112636004\n",
    "   1   37        0.000000000       0.760317722       0.021568547\n",
    "   1   38        0.000000299       0.522720116       0.142634346\n",
    "   1   39        0.000000000       0.309832127       0.033912440\n",
    "   1   40        0.000000000       0.247575657       0.006668426\n",
    "   1   41        0.000000000       0.090079385       0.016825229\n",
    "   1   42        0.000000000       0.067772519       0.003835361\n",
    "   1   43        0.000000000       0.046858786       0.000900378\n",
    "   1   44        0.000008636       1.489259864       0.510144983\n",
    "   1   45        0.000000000       0.807465898       0.119579453\n",
    "   1   46        0.000000000       0.775663890       0.020777351\n",
    "   1   47        0.000098860       4.035065427       1.447333466\n",
    "   1   48        0.000000000       2.043154521       0.337146607\n",
    "   1   49        0.000000000       1.896211614       0.051856333\n",
    "   1   50        0.000091162       3.111755187       1.114760290\n",
    "   1   51        0.000000000       1.537135560       0.259209885\n",
    "   1   52        0.000000000       1.410305086       0.038908445\n",
    "   1   53        0.000000027       0.194292865       0.045843998\n",
    "   1   54        0.000000000       0.118433712       0.010830701\n",
    "   1   55        0.000000000       0.080832326       0.002142876\n",
    "   1   56        0.000000000       0.029633261       0.004300851\n",
    "   1   57        0.000000000       0.021227057       0.000989535\n",
    "   1   58        0.000000000       0.017849188       0.000230949\n",
    "   1   59        0.000018308       0.364425483       0.106768740\n",
    "   1   60        0.000000000       0.159351076       0.024046248\n",
    "   1   61        0.000000000       0.104539311       0.003308901\n",
    "   1   62        0.000001524       0.868360269       0.274262961\n",
    "   1   63        0.000000000       0.518086542       0.063787099\n",
    "   1   64        0.000000000       0.398922421       0.009272786\n",
    "   1   65        0.000000011       0.118377361       0.029123321\n",
    "   1   66        0.000000000       0.070159835       0.006789985\n",
    "   1   67        0.000000000       0.053143804       0.001209256\n",
    "   1   68        0.000000000       0.029992692       0.005394701\n",
    "   1   69        0.000000000       0.019314966       0.001261105\n",
    "   1   70        0.000000000       0.012884418       0.000252201\n",
    "   1   71        0.000001229       0.403860766       0.126159974\n",
    "   1   72        0.000000000       0.232066020       0.029222441\n",
    "   1   73        0.000000000       0.169061121       0.004042407\n",
    "   1   74        0.000000476       0.049633542       0.012792920\n",
    "   1   75        0.000000000       0.026386759       0.002898889\n",
    "   1   76        0.000000000       0.012642249       0.000383883\n",
    "   1   77        0.000000001       0.091764438       0.018943889\n",
    "   1   78        0.000000000       0.059877724       0.004369334\n",
    "   1   79        0.000000000       0.035476065       0.000590275\n",
    "   1   80        0.000000000       0.011450928       0.001749395\n",
    "   1   81        0.000000000       0.006596024       0.000405090\n",
    "   1   82        0.000000000       0.005160759       0.000064330\n",
    "   1   83        0.000000000       0.002034305       0.000193585\n",
    "   1   84        0.000000000       0.001159051       0.000044987\n",
    "   1   85        0.000000000       0.000808883       0.000008699\n",
    "   1   86        0.000000001       0.039557348       0.008284551\n",
    "   1   87        0.000000000       0.026092508       0.001908692\n",
    "   1   88        0.000000000       0.013706197       0.000248299]"
   ]
  },
  {
   "cell_type": "code",
   "execution_count": 32,
   "metadata": {},
   "outputs": [
    {
     "data": {
      "text/plain": [
       "88-element Vector{Any}:\n",
       " (0.450564942, 15.523345849)\n",
       " (0.0, 10.174902869)\n",
       " (0.100819173, 7.607500154)\n",
       " (0.0, 5.370905097)\n",
       " (0.032030703, 4.808672275)\n",
       " (0.0, 3.500046942)\n",
       " (0.000282276, 1.068088052)\n",
       " (0.0, 0.72393515)\n",
       " (0.0, 0.008816804)\n",
       " (0.0, 0.005508918)\n",
       " ⋮\n",
       " (0.0, 0.011450928)\n",
       " (0.0, 0.006596024)\n",
       " (0.0, 0.005160759)\n",
       " (0.0, 0.002034305)\n",
       " (0.0, 0.001159051)\n",
       " (0.0, 0.000808883)\n",
       " (1.0e-9, 0.039557348)\n",
       " (0.0, 0.026092508)\n",
       " (0.0, 0.013706197)"
      ]
     },
     "metadata": {},
     "output_type": "display_data"
    }
   ],
   "source": [
    "scales = []\n",
    "for row in eachrow(scaledata)\n",
    "    g_min,g_max = row[3],row[4]\n",
    "    push!(scales,(g_min,g_max))\n",
    "end\n",
    "scales"
   ]
  },
  {
   "cell_type": "code",
   "execution_count": 35,
   "metadata": {},
   "outputs": [
    {
     "ename": "DimensionMismatch",
     "evalue": "DimensionMismatch: arrays could not be broadcast to a common size; got a dimension with lengths 88 and 2",
     "output_type": "error",
     "traceback": [
      "DimensionMismatch: arrays could not be broadcast to a common size; got a dimension with lengths 88 and 2\n",
      "\n",
      "Stacktrace:\n",
      "  [1] _bcs1\n",
      "    @ ./broadcast.jl:516 [inlined]\n",
      "  [2] _bcs\n",
      "    @ ./broadcast.jl:510 [inlined]\n",
      "  [3] broadcast_shape\n",
      "    @ ./broadcast.jl:504 [inlined]\n",
      "  [4] combine_axes(::Vector{Any}, ::Tuple{Float64, Float64}, ::Tuple{Float64, Float64}, ::Vararg{Tuple{Float64, Float64}}) (repeats 4 times)\n",
      "    @ Base.Broadcast ./broadcast.jl:498\n",
      "  [5] instantiate\n",
      "    @ ./broadcast.jl:281 [inlined]\n",
      "  [6] materialize(bc::Base.Broadcast.Broadcasted{Base.Broadcast.DefaultArrayStyle{1}, Nothing, typeof(calc_symmetry_function), Tuple{Base.RefValue{Vector{SVector{3, Float64}}}, Base.RefValue{Matrix{Float64}}, Base.RefValue{Int64}, Vector{Any}, Tuple{Float64, Float64}, Tuple{Float64, Float64}, Tuple{Float64, Float64}, Tuple{Float64, Float64}, Tuple{Float64, Float64}, Tuple{Float64, Float64}, Tuple{Float64, Float64}, Tuple{Float64, Float64}, Tuple{Float64, Float64}, Tuple{Float64, Float64}, Tuple{Float64, Float64}, Tuple{Float64, Float64}, Tuple{Float64, Float64}, Tuple{Float64, Float64}, Tuple{Float64, Float64}, Tuple{Float64, Float64}, Tuple{Float64, Float64}, Tuple{Float64, Float64}, Tuple{Float64, Float64}, Tuple{Float64, Float64}, Tuple{Float64, Float64}, Tuple{Float64, Float64}, Tuple{Float64, Float64}, Tuple{Float64, Float64}, Tuple{Float64, Float64}, Tuple{Float64, Float64}, Tuple{Float64, Float64}, Tuple{Float64, Float64}, Tuple{Float64, Float64}, Tuple{Float64, Float64}, Tuple{Float64, Float64}, Tuple{Float64, Float64}, Tuple{Float64, Float64}, Tuple{Float64, Float64}, Tuple{Float64, Float64}, Tuple{Float64, Float64}, Tuple{Float64, Float64}, Tuple{Float64, Float64}, Tuple{Float64, Float64}, Tuple{Float64, Float64}, Tuple{Float64, Float64}, Tuple{Float64, Float64}, Tuple{Float64, Float64}, Tuple{Float64, Float64}, Tuple{Float64, Float64}, Tuple{Float64, Float64}, Tuple{Float64, Float64}, Tuple{Float64, Float64}, Tuple{Float64, Float64}, Tuple{Float64, Float64}, Tuple{Float64, Float64}, Tuple{Float64, Float64}, Tuple{Float64, Float64}, Tuple{Float64, Float64}, Tuple{Float64, Float64}, Tuple{Float64, Float64}, Tuple{Float64, Float64}, Tuple{Float64, Float64}, Tuple{Float64, Float64}, Tuple{Float64, Float64}, Tuple{Float64, Float64}, Tuple{Float64, Float64}, Tuple{Float64, Float64}, Tuple{Float64, Float64}, Tuple{Float64, Float64}, Tuple{Float64, Float64}, Tuple{Float64, Float64}, Tuple{Float64, Float64}, Tuple{Float64, Float64}, Tuple{Float64, Float64}, Tuple{Float64, Float64}, Tuple{Float64, Float64}, Tuple{Float64, Float64}, Tuple{Float64, Float64}, Tuple{Float64, Float64}, Tuple{Float64, Float64}, Tuple{Float64, Float64}, Tuple{Float64, Float64}, Tuple{Float64, Float64}, Tuple{Float64, Float64}, Tuple{Float64, Float64}, Tuple{Float64, Float64}, Tuple{Float64, Float64}, Tuple{Float64, Float64}, Tuple{Float64, Float64}, Tuple{Float64, Float64}, Tuple{Float64, Float64}, Tuple{Float64, Float64}}})\n",
      "    @ Base.Broadcast ./broadcast.jl:860\n",
      "  [7] calc_symmetry_functions(positions::Vector{SVector{3, Float64}}, dis2mat::Matrix{Float64}, index::Int64, total_symm_vec::Vector{Any}, scalefactor::Vector{Any})\n",
      "    @ Main ~/.julia/dev/MachineLearningPotential/scripts/testing.ipynb:3\n",
      "  [8] var\"##core#356\"(positions#352::Vector{SVector{3, Float64}}, dis2mat#353::Matrix{Float64}, rand#354::typeof(rand), total_symm_vec#355::Vector{Any})\n",
      "    @ Main ~/.julia/packages/BenchmarkTools/0owsb/src/execution.jl:489\n",
      "  [9] var\"##sample#357\"(::Tuple{Vector{SVector{3, Float64}}, Matrix{Float64}, typeof(rand), Vector{Any}}, __params::BenchmarkTools.Parameters)\n",
      "    @ Main ~/.julia/packages/BenchmarkTools/0owsb/src/execution.jl:495\n",
      " [10] _run(b::BenchmarkTools.Benchmark, p::BenchmarkTools.Parameters; verbose::Bool, pad::String, kwargs::Base.Pairs{Symbol, Integer, NTuple{4, Symbol}, NamedTuple{(:samples, :evals, :gctrial, :gcsample), Tuple{Int64, Int64, Bool, Bool}}})\n",
      "    @ BenchmarkTools ~/.julia/packages/BenchmarkTools/0owsb/src/execution.jl:99\n",
      " [11] #invokelatest#2\n",
      "    @ ./essentials.jl:731 [inlined]\n",
      " [12] #run_result#45\n",
      "    @ ~/.julia/packages/BenchmarkTools/0owsb/src/execution.jl:34 [inlined]\n",
      " [13] run(b::BenchmarkTools.Benchmark, p::BenchmarkTools.Parameters; progressid::Nothing, nleaves::Float64, ndone::Float64, kwargs::Base.Pairs{Symbol, Integer, NTuple{5, Symbol}, NamedTuple{(:verbose, :samples, :evals, :gctrial, :gcsample), Tuple{Bool, Int64, Int64, Bool, Bool}}})\n",
      "    @ BenchmarkTools ~/.julia/packages/BenchmarkTools/0owsb/src/execution.jl:117\n",
      " [14] #warmup#54\n",
      "    @ ~/.julia/packages/BenchmarkTools/0owsb/src/execution.jl:169 [inlined]\n",
      " [15] warmup(item::BenchmarkTools.Benchmark)\n",
      "    @ BenchmarkTools ~/.julia/packages/BenchmarkTools/0owsb/src/execution.jl:168\n",
      " [16] top-level scope\n",
      "    @ ~/.julia/packages/BenchmarkTools/0owsb/src/execution.jl:393"
     ]
    }
   ],
   "source": [
    "#@benchmark calc_symmetry_functions($positions,$dis2mat,$rand(1:55),$total_symm_vec,scales)"
   ]
  },
  {
   "cell_type": "code",
   "execution_count": null,
   "metadata": {},
   "outputs": [],
   "source": []
  }
 ],
 "metadata": {
  "kernelspec": {
   "display_name": "Julia 1.8.5",
   "language": "julia",
   "name": "julia-1.8"
  },
  "language_info": {
   "file_extension": ".jl",
   "mimetype": "application/julia",
   "name": "julia",
   "version": "1.8.5"
  },
  "orig_nbformat": 4
 },
 "nbformat": 4,
 "nbformat_minor": 2
}
