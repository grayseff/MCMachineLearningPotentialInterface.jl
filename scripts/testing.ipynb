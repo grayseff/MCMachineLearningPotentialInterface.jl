{
 "cells": [
  {
   "cell_type": "code",
   "execution_count": 1,
   "metadata": {},
   "outputs": [],
   "source": [
    "using StaticArrays,BenchmarkTools,Random,Flux,DelimitedFiles,LinearAlgebra\n",
    "using InvertedIndices\n",
    "using MachineLearningPotential"
   ]
  },
  {
   "attachments": {},
   "cell_type": "markdown",
   "metadata": {},
   "source": [
    "# Symmetry Functions\n",
    "\n",
    "Time to write and test the basics of SymmFunctions for ML potentials"
   ]
  },
  {
   "cell_type": "code",
   "execution_count": 2,
   "metadata": {},
   "outputs": [
    {
     "data": {
      "text/plain": [
       "AngularType3{Float64}(0.0001, -1.0, 2.0, 11.338, [1.0, 1.0, 1.0])"
      ]
     },
     "metadata": {},
     "output_type": "display_data"
    }
   ],
   "source": [
    "atoms = [[0.0000006584,       -0.0000019175,        0.0000000505],\n",
    "[-0.0000005810,       -0.0000004871,        0.6678432175],\n",
    "[0.1845874248,       -0.5681026047,        0.2986701538],\n",
    "[-0.4832557457,       -0.3511072166,        0.2986684497],\n",
    "[-0.4832557570,        0.3511046452,        0.2986669456],\n",
    "[0.1845874064,        0.5681000550,        0.2986677202],\n",
    "[0.5973371920,       -0.0000012681,        0.2986697030],\n",
    "[-0.1845860897,       -0.5681038901,       -0.2986676192],\n",
    "[-0.5973358752,       -0.0000025669,       -0.2986696020],\n",
    "[-0.1845861081,        0.5680987696,       -0.2986700528],\n",
    "[0.4832570624,        0.3511033815,       -0.2986683486],\n",
    "[0.4832570738,       -0.3511084803,       -0.2986668445],\n",
    "[0.0000018978,       -0.0000033480,       -0.6678431165],\n",
    "[-0.0000017969,        0.0000009162,        1.3230014650],\n",
    "[0.1871182835,       -0.5758942175,        0.9797717078],\n",
    "[-0.4898861924,       -0.3559221410,       0.9797699802],\n",
    "[-0.4898862039,        0.3559224872,        0.9797684555],\n",
    "[0.1871182648,        0.5758945856,        0.9797692407],\n",
    "[0.6055300485,        0.0000001908,        0.9797712507],\n",
    "[0.7926501864,       -0.5758950093,        0.6055339635],\n",
    "[0.3656681761,       -1.1254128670,        0.5916673591],\n",
    "[-0.3027660545,       -0.9318173412,        0.6055326929],\n",
    "[-0.9573332453,       -0.6955436707,        0.5916639831],\n",
    "[-0.9797705418,       -0.0000006364,        0.6055294407],\n",
    "[-0.9573332679,        0.6955423392,        0.5916610035],\n",
    "[-0.3027660847,        0.9318160902,        0.6055287012],\n",
    "[0.3656681396,        1.1254115783,        0.5916625380],\n",
    "[0.7926501677,        0.5758937939,        0.6055314964],\n",
    "[1.1833279992,       -0.0000006311,        0.5916664660],\n",
    "[0.6770051458,       -0.9318186223,        0.0000033028],\n",
    "[0.0000006771,       -1.1517907207,        0.0000025175],\n",
    "[-0.6770037988,       -0.9318186442,        0.0000007900],\n",
    "[-1.0954155825,       -0.3559242494,       -0.0000012200],\n",
    "[-1.0954155940,        0.3559203788,       -0.0000027447],\n",
    "[-0.6770038290,        0.9318147872,       -0.0000032017],\n",
    "[0.0000006397,        1.1517868856,       -0.0000024165],\n",
    "[0.6770051155,        0.9318148091,       -0.0000006889],\n",
    "[1.0954168993,        0.3559204143,        0.0000013211],\n",
    "[1.0954169108,       -0.3559242139,        0.0000028458],\n",
    "[0.3027674014,       -0.9318199253,       -0.6055286002],\n",
    "[-0.3656668229,       -1.1254154134,       -0.5916624370],\n",
    "[-0.7926488510,       -0.5758976290,       -0.6055313954],\n",
    "[-1.1833266824,       -0.0000032040,       -0.5916663649],\n",
    "[-0.7926488697,        0.5758911742,       -0.6055338624],\n",
    "[-0.3656668594,        1.1254090319,       -0.5916672580],\n",
    "[0.3027673712,        0.9318135061,       -0.6055325919],\n",
    "[0.9573345621,        0.6955398357,       -0.5916638820],\n",
    "[0.9797718586,       -0.0000031986,       -0.6055293396],\n",
    "[0.9573345846,       -0.6955461743,       -0.5916609025],\n",
    "[-0.1871169480,       -0.5758984207,       -0.9797691397],\n",
    "[-0.6055287318,       -0.0000040259,       -0.9797711497],\n",
    "[-0.1871169667,        0.5758903824,       -0.9797716067],\n",
    "[0.4898875091,        0.3559183059,       -0.9797698792],\n",
    "[0.4898875207,       -0.3559263223,       -0.9797683545],\n",
    "[0.0000031136,       -0.0000047513,       -1.3230013639]]*18.8973*0.36258\n",
    "\n",
    "positions = [SVector{3}(p[i] for i in 1:3) for p in atoms]\n",
    "dis2mat = get_distance2_mat(positions)\n",
    "rad_function = RadialType2{Float64}(0.001,11.338,[1.,1.])\n",
    "ang_func = AngularType3{Float64}(0.0001,1.0,1.0,11.338,[1.,1.,1.])\n",
    "ang_func2 = AngularType3{Float64}(0.0001,-1.0,2.0,11.338,[1.,1.,1.])"
   ]
  },
  {
   "attachments": {},
   "cell_type": "markdown",
   "metadata": {},
   "source": [
    "Demonstrates the difference between [:,index] and [index,:]"
   ]
  },
  {
   "attachments": {},
   "cell_type": "markdown",
   "metadata": {},
   "source": [
    "# Angular Symmetry Function"
   ]
  },
  {
   "attachments": {},
   "cell_type": "markdown",
   "metadata": {},
   "source": [
    "Testing prior to type system"
   ]
  },
  {
   "cell_type": "code",
   "execution_count": 3,
   "metadata": {},
   "outputs": [
    {
     "data": {
      "text/plain": [
       "BenchmarkTools.Trial: 10000 samples with 187 evaluations.\n",
       " Range \u001b[90m(\u001b[39m\u001b[36m\u001b[1mmin\u001b[22m\u001b[39m … \u001b[35mmax\u001b[39m\u001b[90m):  \u001b[39m\u001b[36m\u001b[1m536.535 ns\u001b[22m\u001b[39m … \u001b[35m 16.352 μs\u001b[39m  \u001b[90m┊\u001b[39m GC \u001b[90m(\u001b[39mmin … max\u001b[90m): \u001b[39m0.00% … 95.36%\n",
       " Time  \u001b[90m(\u001b[39m\u001b[34m\u001b[1mmedian\u001b[22m\u001b[39m\u001b[90m):     \u001b[39m\u001b[34m\u001b[1m620.104 ns               \u001b[22m\u001b[39m\u001b[90m┊\u001b[39m GC \u001b[90m(\u001b[39mmedian\u001b[90m):    \u001b[39m0.00%\n",
       " Time  \u001b[90m(\u001b[39m\u001b[32m\u001b[1mmean\u001b[22m\u001b[39m ± \u001b[32mσ\u001b[39m\u001b[90m):   \u001b[39m\u001b[32m\u001b[1m695.928 ns\u001b[22m\u001b[39m ± \u001b[32m738.892 ns\u001b[39m  \u001b[90m┊\u001b[39m GC \u001b[90m(\u001b[39mmean ± σ\u001b[90m):  \u001b[39m5.02% ±  4.56%\n",
       "\n",
       "  \u001b[39m \u001b[39m▁\u001b[39m▃\u001b[39m▆\u001b[39m▆\u001b[39m█\u001b[39m▇\u001b[39m▇\u001b[39m▅\u001b[39m▄\u001b[39m▃\u001b[39m▁\u001b[39m \u001b[39m \u001b[34m \u001b[39m\u001b[39m▁\u001b[39m▁\u001b[39m▂\u001b[39m▂\u001b[39m▂\u001b[39m▁\u001b[39m▁\u001b[39m▁\u001b[39m \u001b[39m \u001b[39m \u001b[32m \u001b[39m\u001b[39m \u001b[39m▁\u001b[39m▂\u001b[39m▄\u001b[39m▅\u001b[39m▆\u001b[39m▆\u001b[39m▆\u001b[39m▆\u001b[39m▅\u001b[39m▅\u001b[39m▄\u001b[39m▃\u001b[39m▁\u001b[39m▁\u001b[39m \u001b[39m▁\u001b[39m \u001b[39m▁\u001b[39m▁\u001b[39m▂\u001b[39m▁\u001b[39m▁\u001b[39m▁\u001b[39m \u001b[39m \u001b[39m \u001b[39m \u001b[39m \u001b[39m \u001b[39m \u001b[39m \u001b[39m \u001b[39m \u001b[39m \u001b[39m▃\n",
       "  \u001b[39m▆\u001b[39m█\u001b[39m█\u001b[39m█\u001b[39m█\u001b[39m█\u001b[39m█\u001b[39m█\u001b[39m█\u001b[39m█\u001b[39m█\u001b[39m█\u001b[39m█\u001b[39m█\u001b[34m▇\u001b[39m\u001b[39m█\u001b[39m█\u001b[39m█\u001b[39m█\u001b[39m█\u001b[39m█\u001b[39m█\u001b[39m█\u001b[39m█\u001b[39m▇\u001b[39m▆\u001b[32m▅\u001b[39m\u001b[39m█\u001b[39m█\u001b[39m█\u001b[39m█\u001b[39m█\u001b[39m█\u001b[39m█\u001b[39m█\u001b[39m█\u001b[39m█\u001b[39m█\u001b[39m█\u001b[39m█\u001b[39m█\u001b[39m█\u001b[39m█\u001b[39m█\u001b[39m█\u001b[39m█\u001b[39m█\u001b[39m█\u001b[39m█\u001b[39m█\u001b[39m█\u001b[39m█\u001b[39m█\u001b[39m▇\u001b[39m▇\u001b[39m▇\u001b[39m▆\u001b[39m▇\u001b[39m▆\u001b[39m▆\u001b[39m▆\u001b[39m \u001b[39m█\n",
       "  537 ns\u001b[90m        \u001b[39m\u001b[90mHistogram: \u001b[39m\u001b[90m\u001b[1mlog(\u001b[22m\u001b[39m\u001b[90mfrequency\u001b[39m\u001b[90m\u001b[1m)\u001b[22m\u001b[39m\u001b[90m by time\u001b[39m        905 ns \u001b[0m\u001b[1m<\u001b[22m\n",
       "\n",
       " Memory estimate\u001b[90m: \u001b[39m\u001b[33m1.06 KiB\u001b[39m, allocs estimate\u001b[90m: \u001b[39m\u001b[33m4\u001b[39m."
      ]
     },
     "metadata": {},
     "output_type": "display_data"
    }
   ],
   "source": [
    "@benchmark calc_symmetry_function(positions,dis2mat,1,rad_function)"
   ]
  },
  {
   "cell_type": "code",
   "execution_count": 4,
   "metadata": {},
   "outputs": [
    {
     "data": {
      "text/plain": [
       "BenchmarkTools.Trial: 10000 samples with 1 evaluation.\n",
       " Range \u001b[90m(\u001b[39m\u001b[36m\u001b[1mmin\u001b[22m\u001b[39m … \u001b[35mmax\u001b[39m\u001b[90m):  \u001b[39m\u001b[36m\u001b[1m35.625 μs\u001b[22m\u001b[39m … \u001b[35m 2.484 ms\u001b[39m  \u001b[90m┊\u001b[39m GC \u001b[90m(\u001b[39mmin … max\u001b[90m): \u001b[39m0.00% … 98.35%\n",
       " Time  \u001b[90m(\u001b[39m\u001b[34m\u001b[1mmedian\u001b[22m\u001b[39m\u001b[90m):     \u001b[39m\u001b[34m\u001b[1m38.737 μs              \u001b[22m\u001b[39m\u001b[90m┊\u001b[39m GC \u001b[90m(\u001b[39mmedian\u001b[90m):    \u001b[39m0.00%\n",
       " Time  \u001b[90m(\u001b[39m\u001b[32m\u001b[1mmean\u001b[22m\u001b[39m ± \u001b[32mσ\u001b[39m\u001b[90m):   \u001b[39m\u001b[32m\u001b[1m39.844 μs\u001b[22m\u001b[39m ± \u001b[32m29.357 μs\u001b[39m  \u001b[90m┊\u001b[39m GC \u001b[90m(\u001b[39mmean ± σ\u001b[90m):  \u001b[39m0.99% ±  1.37%\n",
       "\n",
       "  \u001b[39m \u001b[39m \u001b[39m▄\u001b[39m \u001b[39m▅\u001b[39m█\u001b[39m \u001b[39m \u001b[39m \u001b[34m \u001b[39m\u001b[39m \u001b[39m \u001b[32m▂\u001b[39m\u001b[39m▁\u001b[39m \u001b[39m \u001b[39m \u001b[39m \u001b[39m \u001b[39m \u001b[39m \u001b[39m \u001b[39m \u001b[39m \u001b[39m \u001b[39m \u001b[39m \u001b[39m \u001b[39m \u001b[39m \u001b[39m \u001b[39m \u001b[39m \u001b[39m \u001b[39m \u001b[39m \u001b[39m \u001b[39m \u001b[39m \u001b[39m \u001b[39m \u001b[39m \u001b[39m \u001b[39m \u001b[39m \u001b[39m \u001b[39m \u001b[39m \u001b[39m \u001b[39m \u001b[39m \u001b[39m \u001b[39m \u001b[39m \u001b[39m \u001b[39m \u001b[39m \u001b[39m \u001b[39m \u001b[39m \u001b[39m \n",
       "  \u001b[39m▃\u001b[39m▂\u001b[39m█\u001b[39m▆\u001b[39m█\u001b[39m█\u001b[39m▄\u001b[39m▇\u001b[39m▅\u001b[34m▆\u001b[39m\u001b[39m▇\u001b[39m█\u001b[32m█\u001b[39m\u001b[39m█\u001b[39m▇\u001b[39m▅\u001b[39m▃\u001b[39m▂\u001b[39m▂\u001b[39m▂\u001b[39m▂\u001b[39m▂\u001b[39m▁\u001b[39m▂\u001b[39m▁\u001b[39m▁\u001b[39m▁\u001b[39m▁\u001b[39m▁\u001b[39m▁\u001b[39m▁\u001b[39m▁\u001b[39m▁\u001b[39m▁\u001b[39m▁\u001b[39m▁\u001b[39m▁\u001b[39m▁\u001b[39m▁\u001b[39m▁\u001b[39m▁\u001b[39m▁\u001b[39m▁\u001b[39m▁\u001b[39m▁\u001b[39m▁\u001b[39m▁\u001b[39m▁\u001b[39m▁\u001b[39m▁\u001b[39m▁\u001b[39m▁\u001b[39m▁\u001b[39m▁\u001b[39m▁\u001b[39m▁\u001b[39m▁\u001b[39m▁\u001b[39m▁\u001b[39m \u001b[39m▂\n",
       "  35.6 μs\u001b[90m         Histogram: frequency by time\u001b[39m        55.8 μs \u001b[0m\u001b[1m<\u001b[22m\n",
       "\n",
       " Memory estimate\u001b[90m: \u001b[39m\u001b[33m22.02 KiB\u001b[39m, allocs estimate\u001b[90m: \u001b[39m\u001b[33m9\u001b[39m."
      ]
     },
     "metadata": {},
     "output_type": "display_data"
    }
   ],
   "source": [
    "@benchmark calc_symmetry_function(positions,dis2mat,1,ang_func)"
   ]
  },
  {
   "cell_type": "code",
   "execution_count": 5,
   "metadata": {},
   "outputs": [
    {
     "data": {
      "text/plain": [
       "5.982413095508253"
      ]
     },
     "metadata": {},
     "output_type": "display_data"
    }
   ],
   "source": [
    "calc_symmetry_function(positions,dis2mat,1,ang_func2)"
   ]
  },
  {
   "cell_type": "code",
   "execution_count": null,
   "metadata": {},
   "outputs": [],
   "source": []
  }
 ],
 "metadata": {
  "kernelspec": {
   "display_name": "Julia 1.8.5",
   "language": "julia",
   "name": "julia-1.8"
  },
  "language_info": {
   "file_extension": ".jl",
   "mimetype": "application/julia",
   "name": "julia",
   "version": "1.8.5"
  },
  "orig_nbformat": 4
 },
 "nbformat": 4,
 "nbformat_minor": 2
}
