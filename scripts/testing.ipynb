{
 "cells": [
  {
   "cell_type": "code",
   "execution_count": 1,
   "metadata": {},
   "outputs": [],
   "source": [
    "using StaticArrays,BenchmarkTools,Random,Flux,DelimitedFiles,LinearAlgebra\n",
    "using InvertedIndices\n",
    "using MachineLearningPotential"
   ]
  },
  {
   "attachments": {},
   "cell_type": "markdown",
   "metadata": {},
   "source": [
    "# Symmetry Functions\n",
    "\n",
    "Time to write and test the basics of SymmFunctions for ML potentials"
   ]
  },
  {
   "cell_type": "code",
   "execution_count": 2,
   "metadata": {},
   "outputs": [],
   "source": [
    "struct RadialType2{T} <: RadialSymmFunction{T}\n",
    "    eta::T\n",
    "    r_cut::T\n",
    "end"
   ]
  },
  {
   "cell_type": "code",
   "execution_count": 3,
   "metadata": {},
   "outputs": [
    {
     "data": {
      "text/plain": [
       "RadialType2{Float64}(0.001, 11.338)"
      ]
     },
     "metadata": {},
     "output_type": "display_data"
    }
   ],
   "source": [
    "atoms = [[0.0000006584,       -0.0000019175,        0.0000000505],\n",
    "[-0.0000005810,       -0.0000004871,        0.6678432175],\n",
    "[0.1845874248,       -0.5681026047,        0.2986701538],\n",
    "[-0.4832557457,       -0.3511072166,        0.2986684497],\n",
    "[-0.4832557570,        0.3511046452,        0.2986669456],\n",
    "[0.1845874064,        0.5681000550,        0.2986677202],\n",
    "[0.5973371920,       -0.0000012681,        0.2986697030],\n",
    "[-0.1845860897,       -0.5681038901,       -0.2986676192],\n",
    "[-0.5973358752,       -0.0000025669,       -0.2986696020],\n",
    "[-0.1845861081,        0.5680987696,       -0.2986700528],\n",
    "[0.4832570624,        0.3511033815,       -0.2986683486],\n",
    "[0.4832570738,       -0.3511084803,       -0.2986668445],\n",
    "[0.0000018978,       -0.0000033480,       -0.6678431165],\n",
    "[-0.0000017969,        0.0000009162,        1.3230014650],\n",
    "[0.1871182835,       -0.5758942175,        0.9797717078],\n",
    "[-0.4898861924,       -0.3559221410,       0.9797699802],\n",
    "[-0.4898862039,        0.3559224872,        0.9797684555],\n",
    "[0.1871182648,        0.5758945856,        0.9797692407],\n",
    "[0.6055300485,        0.0000001908,        0.9797712507],\n",
    "[0.7926501864,       -0.5758950093,        0.6055339635],\n",
    "[0.3656681761,       -1.1254128670,        0.5916673591],\n",
    "[-0.3027660545,       -0.9318173412,        0.6055326929],\n",
    "[-0.9573332453,       -0.6955436707,        0.5916639831],\n",
    "[-0.9797705418,       -0.0000006364,        0.6055294407],\n",
    "[-0.9573332679,        0.6955423392,        0.5916610035],\n",
    "[-0.3027660847,        0.9318160902,        0.6055287012],\n",
    "[0.3656681396,        1.1254115783,        0.5916625380],\n",
    "[0.7926501677,        0.5758937939,        0.6055314964],\n",
    "[1.1833279992,       -0.0000006311,        0.5916664660],\n",
    "[0.6770051458,       -0.9318186223,        0.0000033028],\n",
    "[0.0000006771,       -1.1517907207,        0.0000025175],\n",
    "[-0.6770037988,       -0.9318186442,        0.0000007900],\n",
    "[-1.0954155825,       -0.3559242494,       -0.0000012200],\n",
    "[-1.0954155940,        0.3559203788,       -0.0000027447],\n",
    "[-0.6770038290,        0.9318147872,       -0.0000032017],\n",
    "[0.0000006397,        1.1517868856,       -0.0000024165],\n",
    "[0.6770051155,        0.9318148091,       -0.0000006889],\n",
    "[1.0954168993,        0.3559204143,        0.0000013211],\n",
    "[1.0954169108,       -0.3559242139,        0.0000028458],\n",
    "[0.3027674014,       -0.9318199253,       -0.6055286002],\n",
    "[-0.3656668229,       -1.1254154134,       -0.5916624370],\n",
    "[-0.7926488510,       -0.5758976290,       -0.6055313954],\n",
    "[-1.1833266824,       -0.0000032040,       -0.5916663649],\n",
    "[-0.7926488697,        0.5758911742,       -0.6055338624],\n",
    "[-0.3656668594,        1.1254090319,       -0.5916672580],\n",
    "[0.3027673712,        0.9318135061,       -0.6055325919],\n",
    "[0.9573345621,        0.6955398357,       -0.5916638820],\n",
    "[0.9797718586,       -0.0000031986,       -0.6055293396],\n",
    "[0.9573345846,       -0.6955461743,       -0.5916609025],\n",
    "[-0.1871169480,       -0.5758984207,       -0.9797691397],\n",
    "[-0.6055287318,       -0.0000040259,       -0.9797711497],\n",
    "[-0.1871169667,        0.5758903824,       -0.9797716067],\n",
    "[0.4898875091,        0.3559183059,       -0.9797698792],\n",
    "[0.4898875207,       -0.3559263223,       -0.9797683545],\n",
    "[0.0000031136,       -0.0000047513,       -1.3230013639]]*18.8973*0.36258\n",
    "\n",
    "positions = [SVector{3}(p[i] for i in 1:3) for p in atoms]\n",
    "dis2mat = get_distance2_mat(positions)\n",
    "test_symm_func = RadialType2{Float64}(0.001,11.338)"
   ]
  },
  {
   "cell_type": "code",
   "execution_count": 4,
   "metadata": {},
   "outputs": [
    {
     "data": {
      "text/plain": [
       "calc_symm_functions (generic function with 2 methods)"
      ]
     },
     "metadata": {},
     "output_type": "display_data"
    }
   ],
   "source": [
    "function calc_one_symm_function(r2_ij,eta,r_cut)\n",
    "    if r2_ij != 0 && r2_ij < r_cut^2 \n",
    "        g_ij = exp(-eta*(r2_ij)) * cutoff_function( sqrt(r2_ij)/r_cut )\n",
    "\n",
    "        return g_ij\n",
    "    else\n",
    "        return 0.\n",
    "    end\n",
    "end\n",
    "function calc_symm_functions(dist2_matrix,index,symmfunc::RadialType2)\n",
    "    eta = symmfunc.eta\n",
    "    r_cut = symmfunc.r_cut\n",
    "    \n",
    "    gvec = calc_one_symm_function.(dist2_matrix[index,:],eta,r_cut)\n",
    "    return sum(gvec)   \n",
    "end\n",
    "function calc_symm_functions(dist2_matrix,index,symmfunc::RadialType2,g_min,g_max)\n",
    "    eta = symmfunc.eta\n",
    "    r_cut = symmfunc.r_cut\n",
    "    gvec = calc_one_symm_function.(dist2_matrix[index,:],eta,r_cut)\n",
    "    g_unscaled = sum(gvec)\n",
    "\n",
    "    return (g_unscaled - g_min)/(g_max - g_min)   \n",
    "end"
   ]
  },
  {
   "cell_type": "code",
   "execution_count": 5,
   "metadata": {},
   "outputs": [
    {
     "data": {
      "text/plain": [
       "55-element Vector{Float64}:\n",
       " 14.640666117305633\n",
       " 11.966607067855739\n",
       " 11.966607067541357\n",
       " 11.966607067163583\n",
       " 11.966607068360855\n",
       " 11.966607068035858\n",
       " 11.96660706756069\n",
       " 11.966607067316641\n",
       " 11.966607067815215\n",
       " 11.96660706776792\n",
       "  ⋮\n",
       "  5.6995369746290425\n",
       "  7.455371452799304\n",
       "  5.699536974721713\n",
       "  7.455371453127722\n",
       "  7.455371452781338\n",
       "  7.455371453231261\n",
       "  7.455371452614264\n",
       "  7.455371452215095\n",
       "  5.699536975557825"
      ]
     },
     "metadata": {},
     "output_type": "display_data"
    }
   ],
   "source": [
    "[calc_symm_functions(dis2mat,i,test_symm_func) for i in 1:55]"
   ]
  },
  {
   "cell_type": "code",
   "execution_count": 6,
   "metadata": {},
   "outputs": [
    {
     "data": {
      "text/plain": [
       "55-element Vector{Float64}:\n",
       " 0.9414388269065572\n",
       " 0.7640290266879376\n",
       " 0.76402902666708\n",
       " 0.7640290266420167\n",
       " 0.7640290267214493\n",
       " 0.7640290266998875\n",
       " 0.7640290266683626\n",
       " 0.7640290266521712\n",
       " 0.764029026685249\n",
       " 0.7640290266821113\n",
       " ⋮\n",
       " 0.34824177867478656\n",
       " 0.4647321920234493\n",
       " 0.34824177868093475\n",
       " 0.46473219204523813\n",
       " 0.46473219202225735\n",
       " 0.46473219205210736\n",
       " 0.46473219201117283\n",
       " 0.46473219198469007\n",
       " 0.3482417787364064"
      ]
     },
     "metadata": {},
     "output_type": "display_data"
    }
   ],
   "source": [
    "[calc_symm_functions(dis2mat,i,test_symm_func,0.450564942,15.523345849) for i in 1:55]"
   ]
  },
  {
   "attachments": {},
   "cell_type": "markdown",
   "metadata": {},
   "source": [
    "Require benchmarking concerning the use of Not(i) vs if ||"
   ]
  },
  {
   "cell_type": "code",
   "execution_count": 7,
   "metadata": {},
   "outputs": [
    {
     "data": {
      "text/plain": [
       "BenchmarkTools.Trial: 10000 samples with 192 evaluations.\n",
       " Range \u001b[90m(\u001b[39m\u001b[36m\u001b[1mmin\u001b[22m\u001b[39m … \u001b[35mmax\u001b[39m\u001b[90m):  \u001b[39m\u001b[36m\u001b[1m514.240 ns\u001b[22m\u001b[39m … \u001b[35m 15.983 μs\u001b[39m  \u001b[90m┊\u001b[39m GC \u001b[90m(\u001b[39mmin … max\u001b[90m): \u001b[39m0.00% … 95.08%\n",
       " Time  \u001b[90m(\u001b[39m\u001b[34m\u001b[1mmedian\u001b[22m\u001b[39m\u001b[90m):     \u001b[39m\u001b[34m\u001b[1m631.432 ns               \u001b[22m\u001b[39m\u001b[90m┊\u001b[39m GC \u001b[90m(\u001b[39mmedian\u001b[90m):    \u001b[39m0.00%\n",
       " Time  \u001b[90m(\u001b[39m\u001b[32m\u001b[1mmean\u001b[22m\u001b[39m ± \u001b[32mσ\u001b[39m\u001b[90m):   \u001b[39m\u001b[32m\u001b[1m669.130 ns\u001b[22m\u001b[39m ± \u001b[32m687.927 ns\u001b[39m  \u001b[90m┊\u001b[39m GC \u001b[90m(\u001b[39mmean ± σ\u001b[90m):  \u001b[39m4.75% ±  4.46%\n",
       "\n",
       "  \u001b[39m \u001b[39m▇\u001b[39m▅\u001b[39m█\u001b[39m▄\u001b[39m▄\u001b[39m \u001b[39m \u001b[39m \u001b[39m \u001b[39m \u001b[39m \u001b[39m \u001b[39m \u001b[39m \u001b[39m \u001b[39m \u001b[39m \u001b[39m \u001b[39m \u001b[34m \u001b[39m\u001b[39m \u001b[39m \u001b[39m \u001b[39m \u001b[39m \u001b[32m \u001b[39m\u001b[39m \u001b[39m \u001b[39m \u001b[39m \u001b[39m \u001b[39m \u001b[39m▁\u001b[39m▁\u001b[39m▁\u001b[39m \u001b[39m \u001b[39m \u001b[39m \u001b[39m \u001b[39m \u001b[39m \u001b[39m \u001b[39m \u001b[39m \u001b[39m \u001b[39m \u001b[39m \u001b[39m \u001b[39m \u001b[39m \u001b[39m \u001b[39m \u001b[39m \u001b[39m \u001b[39m \u001b[39m \u001b[39m \u001b[39m \u001b[39m \u001b[39m \u001b[39m \n",
       "  \u001b[39m▅\u001b[39m█\u001b[39m█\u001b[39m█\u001b[39m█\u001b[39m█\u001b[39m▇\u001b[39m▅\u001b[39m▃\u001b[39m▂\u001b[39m▂\u001b[39m▁\u001b[39m▁\u001b[39m▁\u001b[39m▂\u001b[39m▂\u001b[39m▂\u001b[39m▂\u001b[39m▂\u001b[39m▂\u001b[34m▁\u001b[39m\u001b[39m▁\u001b[39m▁\u001b[39m▁\u001b[39m▁\u001b[39m▁\u001b[32m▂\u001b[39m\u001b[39m▁\u001b[39m▃\u001b[39m▅\u001b[39m▇\u001b[39m█\u001b[39m█\u001b[39m█\u001b[39m█\u001b[39m█\u001b[39m█\u001b[39m▆\u001b[39m▅\u001b[39m▄\u001b[39m▃\u001b[39m▂\u001b[39m▂\u001b[39m▂\u001b[39m▂\u001b[39m▂\u001b[39m▂\u001b[39m▂\u001b[39m▂\u001b[39m▂\u001b[39m▂\u001b[39m▂\u001b[39m▂\u001b[39m▂\u001b[39m▂\u001b[39m▁\u001b[39m▂\u001b[39m▁\u001b[39m▂\u001b[39m▁\u001b[39m▁\u001b[39m \u001b[39m▃\n",
       "  514 ns\u001b[90m           Histogram: frequency by time\u001b[39m          874 ns \u001b[0m\u001b[1m<\u001b[22m\n",
       "\n",
       " Memory estimate\u001b[90m: \u001b[39m\u001b[33m1008 bytes\u001b[39m, allocs estimate\u001b[90m: \u001b[39m\u001b[33m3\u001b[39m."
      ]
     },
     "metadata": {},
     "output_type": "display_data"
    }
   ],
   "source": [
    "@benchmark calc_symm_functions($dis2mat,1,test_symm_func)"
   ]
  },
  {
   "cell_type": "code",
   "execution_count": 8,
   "metadata": {},
   "outputs": [
    {
     "data": {
      "text/plain": [
       "test_calc_symm_functions (generic function with 1 method)"
      ]
     },
     "metadata": {},
     "output_type": "display_data"
    }
   ],
   "source": [
    "function test_calc_one_symm_func(r2_ij,eta,r_cut)\n",
    "    if r2_ij < r_cut^2\n",
    "        g_ij = exp(-eta*(r2_ij)) * cutoff_function( sqrt(r2_ij)/r_cut )\n",
    "    else\n",
    "        g_ij = 0\n",
    "    end\n",
    "    return g_ij\n",
    "end\n",
    "function test_calc_one_symm_func(r2_ij,symmfunc)\n",
    "    if r2_ij < symmfunc.r_cut^2\n",
    "        g_ij = exp(-symmfunc.eta*(r2_ij)) * cutoff_function( sqrt(r2_ij)/r_cut )\n",
    "    else\n",
    "        g_ij = 0\n",
    "    end\n",
    "    return g_ij\n",
    "end\n",
    "function test_calc_symm_functions(dist2_mat,index,symmfunc)\n",
    "    eta = symmfunc.eta\n",
    "    r_cut = symmfunc.r_cut\n",
    "    g_tot = 0\n",
    "    for j in (1:55)[Not(index)]\n",
    "        g_tot += calc_one_symm_function(dist2_mat[index,j],eta,r_cut)\n",
    "    end\n",
    "    return g_tot\n",
    "end"
   ]
  },
  {
   "cell_type": "code",
   "execution_count": 9,
   "metadata": {},
   "outputs": [
    {
     "data": {
      "text/plain": [
       "BenchmarkTools.Trial: 10000 samples with 7 evaluations.\n",
       " Range \u001b[90m(\u001b[39m\u001b[36m\u001b[1mmin\u001b[22m\u001b[39m … \u001b[35mmax\u001b[39m\u001b[90m):  \u001b[39m\u001b[36m\u001b[1m4.418 μs\u001b[22m\u001b[39m … \u001b[35m546.848 μs\u001b[39m  \u001b[90m┊\u001b[39m GC \u001b[90m(\u001b[39mmin … max\u001b[90m): \u001b[39m0.00% … 98.74%\n",
       " Time  \u001b[90m(\u001b[39m\u001b[34m\u001b[1mmedian\u001b[22m\u001b[39m\u001b[90m):     \u001b[39m\u001b[34m\u001b[1m4.813 μs               \u001b[22m\u001b[39m\u001b[90m┊\u001b[39m GC \u001b[90m(\u001b[39mmedian\u001b[90m):    \u001b[39m0.00%\n",
       " Time  \u001b[90m(\u001b[39m\u001b[32m\u001b[1mmean\u001b[22m\u001b[39m ± \u001b[32mσ\u001b[39m\u001b[90m):   \u001b[39m\u001b[32m\u001b[1m5.852 μs\u001b[22m\u001b[39m ± \u001b[32m 13.960 μs\u001b[39m  \u001b[90m┊\u001b[39m GC \u001b[90m(\u001b[39mmean ± σ\u001b[90m):  \u001b[39m6.27% ±  2.61%\n",
       "\n",
       "  \u001b[39m \u001b[39m▄\u001b[39m█\u001b[39m▆\u001b[39m▄\u001b[34m \u001b[39m\u001b[39m \u001b[39m \u001b[39m \u001b[39m \u001b[39m \u001b[39m \u001b[39m \u001b[39m \u001b[39m \u001b[39m \u001b[39m \u001b[39m \u001b[39m \u001b[32m \u001b[39m\u001b[39m \u001b[39m \u001b[39m \u001b[39m \u001b[39m \u001b[39m \u001b[39m \u001b[39m \u001b[39m \u001b[39m \u001b[39m \u001b[39m \u001b[39m \u001b[39m \u001b[39m \u001b[39m \u001b[39m \u001b[39m \u001b[39m \u001b[39m \u001b[39m \u001b[39m \u001b[39m \u001b[39m \u001b[39m \u001b[39m \u001b[39m \u001b[39m \u001b[39m \u001b[39m \u001b[39m \u001b[39m \u001b[39m \u001b[39m \u001b[39m \u001b[39m \u001b[39m \u001b[39m \u001b[39m \u001b[39m \u001b[39m \n",
       "  \u001b[39m▃\u001b[39m█\u001b[39m█\u001b[39m█\u001b[39m█\u001b[34m▆\u001b[39m\u001b[39m▃\u001b[39m▂\u001b[39m▂\u001b[39m▂\u001b[39m▂\u001b[39m▂\u001b[39m▁\u001b[39m▁\u001b[39m▁\u001b[39m▁\u001b[39m▁\u001b[39m▁\u001b[39m▁\u001b[32m▁\u001b[39m\u001b[39m▁\u001b[39m▁\u001b[39m▁\u001b[39m▃\u001b[39m▅\u001b[39m▅\u001b[39m▆\u001b[39m▆\u001b[39m▅\u001b[39m▄\u001b[39m▃\u001b[39m▃\u001b[39m▂\u001b[39m▂\u001b[39m▂\u001b[39m▂\u001b[39m▂\u001b[39m▂\u001b[39m▁\u001b[39m▁\u001b[39m▁\u001b[39m▁\u001b[39m▁\u001b[39m▁\u001b[39m▁\u001b[39m▁\u001b[39m▁\u001b[39m▁\u001b[39m▁\u001b[39m▁\u001b[39m▁\u001b[39m▁\u001b[39m▁\u001b[39m▁\u001b[39m▁\u001b[39m▁\u001b[39m▁\u001b[39m▁\u001b[39m▁\u001b[39m \u001b[39m▂\n",
       "  4.42 μs\u001b[90m         Histogram: frequency by time\u001b[39m        8.78 μs \u001b[0m\u001b[1m<\u001b[22m\n",
       "\n",
       " Memory estimate\u001b[90m: \u001b[39m\u001b[33m8.94 KiB\u001b[39m, allocs estimate\u001b[90m: \u001b[39m\u001b[33m273\u001b[39m."
      ]
     },
     "metadata": {},
     "output_type": "display_data"
    }
   ],
   "source": [
    "@benchmark test_calc_symm_functions($dis2mat,1,test_symm_func)"
   ]
  },
  {
   "attachments": {},
   "cell_type": "markdown",
   "metadata": {},
   "source": [
    "# Angular Symmetry Function"
   ]
  },
  {
   "cell_type": "code",
   "execution_count": 10,
   "metadata": {},
   "outputs": [
    {
     "data": {
      "text/plain": [
       "angular_measure (generic function with 2 methods)"
      ]
     },
     "metadata": {},
     "output_type": "display_data"
    }
   ],
   "source": [
    "function angular_measure(a,b,c,r2ij,r2ik)\n",
    "    θ = (a - b)⋅(a - c)/sqrt(r2ij*r2ik) \n",
    "    return θ\n",
    "end\n",
    "function angular_measure(a,b,c)\n",
    "    r2_ab,r2_ac,r2_bc = distance2(a,b),distance2(a,c),distance2(b,c)\n",
    "\n",
    "    θ = angular_measure(a,b,c,r2_ab,r2_ac)\n",
    "    \n",
    "    return θ,r2_ab,r2_ac,r2_bc\n",
    "end\n"
   ]
  },
  {
   "cell_type": "code",
   "execution_count": 11,
   "metadata": {},
   "outputs": [
    {
     "data": {
      "text/plain": [
       "(0.44721359552456313, 20.939011641470017, 20.939011642417448, 23.14960191763878)"
      ]
     },
     "metadata": {},
     "output_type": "display_data"
    }
   ],
   "source": [
    "θ,r_ab,r_bc,r_bc = angular_measure(positions[1:3]...)"
   ]
  },
  {
   "cell_type": "code",
   "execution_count": 82,
   "metadata": {},
   "outputs": [
    {
     "data": {
      "text/plain": [
       "calc_one_symm_function2 (generic function with 1 method)"
      ]
     },
     "metadata": {},
     "output_type": "display_data"
    }
   ],
   "source": [
    "function calc_one_symm_function1(θ,r2_ij,r2_ik,r2_jk,r_cut,η,λ,ζ)\n",
    "    d_cut=r_cut^2\n",
    "    if r2_ij == 0. || r2_ik == 0 || r2_jk == 0 || r2_ij<d_cut || r_ik<d_cut || r_jk < d_cut \n",
    "        g = 0\n",
    "    else\n",
    "        g = (1+λ*θ)^ζ*exp(-η*(r2_ij+r2_ik+r2_jk))*cutoff_function(sqrt(r2_ij))*cutoff_function(sqrt(r2_ik))*cutoff_function(sqrt(r2_jk))\n",
    "    end\n",
    "    return g\n",
    "end\n",
    "#second version designed for use with the Not function to prevent zeros\n",
    "function calc_one_symm_function2(θ,r2_ij,r2_ik,r2_jk,r_cut,η,λ,ζ)\n",
    "    d_cut=r_cut^2\n",
    "    if r2_ij > d_cut || r2_ik > d_cut || r2_jk > d_cut \n",
    "        g = 0.\n",
    "    else\n",
    "        g = (1+λ*θ)^ζ*exp(-η*(r2_ij+r2_ik+r2_jk))*cutoff_function(sqrt(r2_ij)/r_cut)*cutoff_function(sqrt(r2_ik)/r_cut)*cutoff_function(sqrt(r2_jk)/r_cut)\n",
    "    end\n",
    "    return g\n",
    "end\n"
   ]
  },
  {
   "cell_type": "code",
   "execution_count": 81,
   "metadata": {},
   "outputs": [
    {
     "data": {
      "text/plain": [
       "calc_one_symm_func (generic function with 2 methods)"
      ]
     },
     "metadata": {},
     "output_type": "display_data"
    }
   ],
   "source": [
    "function calc_one_symm_func(position1,position2,position3,symmfunc)\n",
    "    θ,r2_ij,r2_ik,r2_jk = angular_measure(position1,position2,position3)\n",
    "    g = calc_one_symm_function2(θ,r2_ij,r2_ik,r2_jk,symmfunc.r_cut,symmfunc.eta,symmfunc.lambda,symmfunc.zeta)\n",
    "    return g\n",
    "end\n",
    "\n",
    "function calc_one_symm_func(position1,position2,position3,r2_ij,r2_ik,r2_jk,symmfunc)\n",
    "    θ = angular_measure(position1,position2,position3,r2_ij,r2_ik)\n",
    "    g = calc_one_symm_function2(θ,r2_ij,r2_ik,r2_jk,symmfunc.r_cut,symmfunc.eta,symmfunc.lambda,symmfunc.zeta)\n",
    "    return g\n",
    "end\n",
    "\n"
   ]
  },
  {
   "attachments": {},
   "cell_type": "markdown",
   "metadata": {},
   "source": [
    "Different methods for the creation of our inputs theta r_ijk"
   ]
  },
  {
   "cell_type": "code",
   "execution_count": 14,
   "metadata": {},
   "outputs": [
    {
     "data": {
      "text/plain": [
       "54×54 Matrix{NTuple{4, Float64}}:\n",
       " (1.0, 20.939, 20.939, 0.0)             …  (-1.0, 20.939, 82.1728, 186.072)\n",
       " (0.447214, 20.939, 20.939, 23.1496)       (-0.447214, 20.939, 82.1728, 140.213)\n",
       " (0.447214, 20.939, 20.939, 23.1496)       (-0.447214, 20.939, 82.1728, 140.213)\n",
       " (0.447214, 20.939, 20.939, 23.1496)       (-0.447214, 20.939, 82.1728, 140.213)\n",
       " (0.447214, 20.939, 20.939, 23.1496)       (-0.447214, 20.939, 82.1728, 140.213)\n",
       " (0.447214, 20.939, 20.939, 23.1496)    …  (-0.447214, 20.939, 82.1728, 140.213)\n",
       " (-0.447214, 20.939, 20.939, 60.6064)      (0.447214, 20.939, 82.1728, 66.0106)\n",
       " (-0.447214, 20.939, 20.939, 60.6064)      (0.447214, 20.939, 82.1728, 66.0106)\n",
       " (-0.447214, 20.939, 20.939, 60.6064)      (0.447214, 20.939, 82.1728, 66.0106)\n",
       " (-0.447214, 20.939, 20.939, 60.6064)      (0.447214, 20.939, 82.1728, 66.0106)\n",
       " ⋮                                      ⋱  \n",
       " (-0.447214, 82.1728, 20.939, 140.213)  …  (0.447214, 82.1728, 82.1728, 90.848)\n",
       " (-0.525731, 62.2806, 20.939, 121.19)      (0.525731, 62.2806, 82.1728, 69.2332)\n",
       " (-0.447214, 82.1728, 20.939, 140.213)     (0.447214, 82.1728, 82.1728, 90.848)\n",
       " (-0.850651, 62.2806, 20.939, 144.657)     (0.850651, 62.2806, 82.1728, 22.7447)\n",
       " (-0.850651, 62.2806, 20.939, 144.657)     (0.850651, 62.2806, 82.1728, 22.7447)\n",
       " (-0.850651, 62.2806, 20.939, 144.657)  …  (0.850651, 62.2806, 82.1728, 22.7447)\n",
       " (-0.850651, 62.2806, 20.939, 144.657)     (0.850651, 62.2806, 82.1728, 22.7447)\n",
       " (-0.850651, 62.2806, 20.939, 144.657)     (0.850651, 62.2806, 82.1728, 22.7447)\n",
       " (-1.0, 82.1728, 20.939, 186.072)          (1.0, 82.1728, 82.1728, 0.0)"
      ]
     },
     "metadata": {},
     "output_type": "display_data"
    }
   ],
   "source": [
    "[angular_measure(positions[1],positions[j],positions[k]) for j =(1:55)[Not(1)], k in (1:55)[Not(1)]]"
   ]
  },
  {
   "cell_type": "code",
   "execution_count": 15,
   "metadata": {},
   "outputs": [
    {
     "data": {
      "text/plain": [
       "1431-element Vector{NTuple{4, Float64}}:\n",
       " (0.44721359552456313, 20.939011642417448, 20.939011641470017, 23.14960191763878)\n",
       " (0.44721359556787066, 20.939011647492432, 20.939011641470017, 23.149601918630534)\n",
       " (0.447213595632537, 20.939011647492432, 20.939011642417448, 23.149601916446162)\n",
       " (0.44721359554352996, 20.93901163737478, 20.939011641470017, 23.149601914056962)\n",
       " (-0.4472135953692125, 20.93901163737478, 20.939011642417448, 60.60644463770368)\n",
       " (0.44721359555272444, 20.93901163737478, 20.939011647492432, 23.149601917001032)\n",
       " (0.4472135954940274, 20.939011637125667, 20.939011641470017, 23.14960191599233)\n",
       " (-0.4472135955566442, 20.939011637125667, 20.939011642417448, 60.60644464519245)\n",
       " (-0.4472135954422881, 20.939011637125667, 20.939011647492432, 60.60644464774802)\n",
       " (0.4472135955054501, 20.939011637125667, 20.93901163737478, 23.149601913250173)\n",
       " ⋮\n",
       " (0.525731112086319, 82.17275004373793, 62.28061741180172, 69.2332443521747)\n",
       " (0.4472135954067908, 82.17275004373793, 82.1727500494146, 90.84795810756673)\n",
       " (0.5257311120705334, 82.17275004373793, 62.28061741027014, 69.23324435382655)\n",
       " (0.44721359549679773, 82.17275004373793, 82.17275005347385, 90.84795809501838)\n",
       " (0.8506508083755363, 82.17275004373793, 62.28061741356343, 22.744651625425732)\n",
       " (0.850650808344319, 82.17275004373793, 62.28061741608735, 22.744651629950017)\n",
       " (0.8506508083545801, 82.17275004373793, 62.280617407535125, 22.744651628286064)\n",
       " (0.8506508083579555, 82.17275004373793, 62.28061741216423, 22.744651627909125)\n",
       " (0.8506508083348291, 82.17275004373793, 62.28061741988252, 22.74465163139474)"
      ]
     },
     "metadata": {},
     "output_type": "display_data"
    }
   ],
   "source": [
    "X = [angular_measure(positions[1],positions[j],positions[k]) for j =(1:55)[Not(1)] for k in (1:j-1)[Not(1)]]"
   ]
  },
  {
   "cell_type": "code",
   "execution_count": 83,
   "metadata": {},
   "outputs": [
    {
     "data": {
      "text/plain": [
       "2862-element Vector{Float64}:\n",
       "  0.44721359552456313\n",
       "  0.44721359556787066\n",
       "  0.44721359554352996\n",
       "  0.4472135954940274\n",
       "  0.4472135955111943\n",
       " -0.4472135954185562\n",
       " -0.4472135955111942\n",
       " -0.44721359556301754\n",
       " -0.4472135955317425\n",
       " -0.44721359538853644\n",
       "  ⋮\n",
       "  0.525731112086319\n",
       "  0.4472135954067908\n",
       "  0.5257311120705334\n",
       "  0.44721359549679773\n",
       "  0.8506508083755363\n",
       "  0.850650808344319\n",
       "  0.8506508083545801\n",
       "  0.8506508083579555\n",
       "  0.8506508083348291"
      ]
     },
     "metadata": {},
     "output_type": "display_data"
    }
   ],
   "source": [
    "thetavec = [angular_measure(positions[1],positions[j],positions[k],dis2mat[1,j],dis2mat[1,k]) for j =(1:55)[Not(1)] for k in (1:55)[Not(1,j)]]"
   ]
  },
  {
   "cell_type": "code",
   "execution_count": 159,
   "metadata": {},
   "outputs": [
    {
     "data": {
      "text/plain": [
       "calc_test_symmetry_function (generic function with 1 method)"
      ]
     },
     "metadata": {},
     "output_type": "display_data"
    }
   ],
   "source": [
    "function calc_test_symmetry_function(positions,dis2_mat,index,symmfunc)\n",
    "\n",
    "    g_vec = [calc_one_symm_func(positions[index],positions[j],positions[k],dis2_mat[index,j],dis2_mat[index,k],dis2_mat[j,k],symmfunc) for j=(1:55) if j !=index for k= 1:j-1 if k != index]\n",
    "    g = 2^(1-symmfunc.zeta)*sum(g_vec)\n",
    "    return g_vec\n",
    "end\n"
   ]
  },
  {
   "cell_type": "code",
   "execution_count": 160,
   "metadata": {},
   "outputs": [
    {
     "data": {
      "text/plain": [
       "AngularType3{Float64}(0.0001, 11.338, 1.0, 1.0)"
      ]
     },
     "metadata": {},
     "output_type": "display_data"
    }
   ],
   "source": [
    "test_symm_funtion = AngularType3{Float64}(0.0001,11.338,1.,1.)"
   ]
  },
  {
   "cell_type": "code",
   "execution_count": 161,
   "metadata": {},
   "outputs": [
    {
     "data": {
      "text/plain": [
       "1431-element Vector{Float64}:\n",
       " 0.37424307343045743\n",
       " 0.37424307339074536\n",
       " 0.3742430734181402\n",
       " 0.3742430735080577\n",
       " 0.05149494652903834\n",
       " 0.37424307343497204\n",
       " 0.37424307348086117\n",
       " 0.0514949464990291\n",
       " 0.051494946499458474\n",
       " 0.3742430735414329\n",
       " ⋮\n",
       " 0.004986007195418177\n",
       " 0.0007965771436781896\n",
       " 0.004986007195316935\n",
       " 0.0007965771441450275\n",
       " 0.022982721794237975\n",
       " 0.02298272178951796\n",
       " 0.022982721797201816\n",
       " 0.022982721793819567\n",
       " 0.0229827217856787"
      ]
     },
     "metadata": {},
     "output_type": "display_data"
    }
   ],
   "source": [
    "g = calc_test_symmetry_function(positions,dis2mat,1,test_symm_funtion)"
   ]
  },
  {
   "cell_type": "code",
   "execution_count": 162,
   "metadata": {},
   "outputs": [
    {
     "data": {
      "text/plain": [
       "35.92620108172107"
      ]
     },
     "metadata": {},
     "output_type": "display_data"
    }
   ],
   "source": [
    "sum(g)"
   ]
  },
  {
   "cell_type": "code",
   "execution_count": 163,
   "metadata": {},
   "outputs": [
    {
     "data": {
      "text/plain": [
       "42"
      ]
     },
     "metadata": {},
     "output_type": "display_data"
    }
   ],
   "source": [
    "testindex = rand(1:55)"
   ]
  },
  {
   "cell_type": "code",
   "execution_count": 164,
   "metadata": {},
   "outputs": [
    {
     "data": {
      "text/plain": [
       "1431-element Vector{Float64}:\n",
       " 0.3945473580289051\n",
       " 0.3945473579483398\n",
       " 0.3510792449328997\n",
       " 0.3945473581246414\n",
       " 0.05825958460258176\n",
       " 0.35107924494522086\n",
       " 0.3945473581166109\n",
       " 0.058259584576470284\n",
       " 0.05825958456791025\n",
       " 0.3510792450085504\n",
       " ⋮\n",
       " 0.0\n",
       " 0.0\n",
       " 0.0\n",
       " 0.0\n",
       " 0.0\n",
       " 0.0\n",
       " 0.0\n",
       " 0.0\n",
       " 0.0"
      ]
     },
     "metadata": {},
     "output_type": "display_data"
    }
   ],
   "source": [
    "g2 = calc_test_symmetry_function(positions,dis2mat,2,test_symm_funtion)"
   ]
  },
  {
   "cell_type": "code",
   "execution_count": 165,
   "metadata": {},
   "outputs": [
    {
     "data": {
      "text/plain": [
       "26.73978507341531"
      ]
     },
     "metadata": {},
     "output_type": "display_data"
    }
   ],
   "source": [
    "sum(g2)"
   ]
  }
 ],
 "metadata": {
  "kernelspec": {
   "display_name": "Julia 1.8.5",
   "language": "julia",
   "name": "julia-1.8"
  },
  "language_info": {
   "file_extension": ".jl",
   "mimetype": "application/julia",
   "name": "julia",
   "version": "1.8.5"
  },
  "orig_nbformat": 4
 },
 "nbformat": 4,
 "nbformat_minor": 2
}
