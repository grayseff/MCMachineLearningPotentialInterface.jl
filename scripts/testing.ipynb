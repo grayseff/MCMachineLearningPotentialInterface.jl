{
 "cells": [
  {
   "cell_type": "code",
   "execution_count": 1,
   "metadata": {},
   "outputs": [],
   "source": [
    "using Distributed\n",
    "@everywhere using StaticArrays,BenchmarkTools,Random,Flux,DelimitedFiles,LinearAlgebra\n",
    "@everywhere using InvertedIndices\n",
    "@everywhere using MachineLearningPotential"
   ]
  },
  {
   "attachments": {},
   "cell_type": "markdown",
   "metadata": {},
   "source": [
    "# Symmetry Functions\n",
    "\n",
    "Time to write and test the basics of SymmFunctions for ML potentials"
   ]
  },
  {
   "cell_type": "code",
   "execution_count": 2,
   "metadata": {},
   "outputs": [
    {
     "data": {
      "text/plain": [
       "55×55 Matrix{Float64}:\n",
       " 1.0        0.649134    0.649134    …  0.21115     0.21115     0.0959383\n",
       " 0.649134   1.0         0.617699       0.0         0.0         0.0\n",
       " 0.649134   0.617699    1.0            0.00208061  0.0912928   0.0\n",
       " 0.649134   0.617699    0.617699       0.0         0.00208061  0.0\n",
       " 0.649134   0.617699    0.223352       0.00208061  0.0         0.0\n",
       " 0.649134   0.617699    0.223352    …  0.0912928   0.00208061  0.0\n",
       " 0.649134   0.617699    0.617699       0.0912928   0.0912928   0.0\n",
       " 0.649134   0.223352    0.617699       0.0912928   0.355548    0.185434\n",
       " 0.649134   0.223352    0.223352       0.0912928   0.0912928   0.185434\n",
       " 0.649134   0.223352    0.0889637      0.355548    0.0912928   0.185434\n",
       " ⋮                                  ⋱                          \n",
       " 0.0959383  0.0         0.0            0.623382    0.164805    0.0613471\n",
       " 0.21115    0.00208061  0.0912928      0.608792    0.608792    0.164805\n",
       " 0.0959383  0.0         0.185434       0.164805    0.623382    0.0613471\n",
       " 0.21115    0.0         0.0912928      0.21115     0.608792    0.623382\n",
       " 0.21115    0.0         0.00208061  …  0.21115     0.21115     0.623382\n",
       " 0.21115    0.0         0.0            0.608792    0.21115     0.623382\n",
       " 0.21115    0.0         0.00208061     1.0         0.608792    0.623382\n",
       " 0.21115    0.0         0.0912928      0.608792    1.0         0.623382\n",
       " 0.0959383  0.0         0.0            0.623382    0.623382    1.0"
      ]
     },
     "metadata": {},
     "output_type": "display_data"
    }
   ],
   "source": [
    "atoms = [[0.0000006584,       -0.0000019175,        0.0000000505],\n",
    "[-0.0000005810,       -0.0000004871,        0.6678432175],\n",
    "[0.1845874248,       -0.5681026047,        0.2986701538],\n",
    "[-0.4832557457,       -0.3511072166,        0.2986684497],\n",
    "[-0.4832557570,        0.3511046452,        0.2986669456],\n",
    "[0.1845874064,        0.5681000550,        0.2986677202],\n",
    "[0.5973371920,       -0.0000012681,        0.2986697030],\n",
    "[-0.1845860897,       -0.5681038901,       -0.2986676192],\n",
    "[-0.5973358752,       -0.0000025669,       -0.2986696020],\n",
    "[-0.1845861081,        0.5680987696,       -0.2986700528],\n",
    "[0.4832570624,        0.3511033815,       -0.2986683486],\n",
    "[0.4832570738,       -0.3511084803,       -0.2986668445],\n",
    "[0.0000018978,       -0.0000033480,       -0.6678431165],\n",
    "[-0.0000017969,        0.0000009162,        1.3230014650],\n",
    "[0.1871182835,       -0.5758942175,        0.9797717078],\n",
    "[-0.4898861924,       -0.3559221410,       0.9797699802],\n",
    "[-0.4898862039,        0.3559224872,        0.9797684555],\n",
    "[0.1871182648,        0.5758945856,        0.9797692407],\n",
    "[0.6055300485,        0.0000001908,        0.9797712507],\n",
    "[0.7926501864,       -0.5758950093,        0.6055339635],\n",
    "[0.3656681761,       -1.1254128670,        0.5916673591],\n",
    "[-0.3027660545,       -0.9318173412,        0.6055326929],\n",
    "[-0.9573332453,       -0.6955436707,        0.5916639831],\n",
    "[-0.9797705418,       -0.0000006364,        0.6055294407],\n",
    "[-0.9573332679,        0.6955423392,        0.5916610035],\n",
    "[-0.3027660847,        0.9318160902,        0.6055287012],\n",
    "[0.3656681396,        1.1254115783,        0.5916625380],\n",
    "[0.7926501677,        0.5758937939,        0.6055314964],\n",
    "[1.1833279992,       -0.0000006311,        0.5916664660],\n",
    "[0.6770051458,       -0.9318186223,        0.0000033028],\n",
    "[0.0000006771,       -1.1517907207,        0.0000025175],\n",
    "[-0.6770037988,       -0.9318186442,        0.0000007900],\n",
    "[-1.0954155825,       -0.3559242494,       -0.0000012200],\n",
    "[-1.0954155940,        0.3559203788,       -0.0000027447],\n",
    "[-0.6770038290,        0.9318147872,       -0.0000032017],\n",
    "[0.0000006397,        1.1517868856,       -0.0000024165],\n",
    "[0.6770051155,        0.9318148091,       -0.0000006889],\n",
    "[1.0954168993,        0.3559204143,        0.0000013211],\n",
    "[1.0954169108,       -0.3559242139,        0.0000028458],\n",
    "[0.3027674014,       -0.9318199253,       -0.6055286002],\n",
    "[-0.3656668229,       -1.1254154134,       -0.5916624370],\n",
    "[-0.7926488510,       -0.5758976290,       -0.6055313954],\n",
    "[-1.1833266824,       -0.0000032040,       -0.5916663649],\n",
    "[-0.7926488697,        0.5758911742,       -0.6055338624],\n",
    "[-0.3656668594,        1.1254090319,       -0.5916672580],\n",
    "[0.3027673712,        0.9318135061,       -0.6055325919],\n",
    "[0.9573345621,        0.6955398357,       -0.5916638820],\n",
    "[0.9797718586,       -0.0000031986,       -0.6055293396],\n",
    "[0.9573345846,       -0.6955461743,       -0.5916609025],\n",
    "[-0.1871169480,       -0.5758984207,       -0.9797691397],\n",
    "[-0.6055287318,       -0.0000040259,       -0.9797711497],\n",
    "[-0.1871169667,        0.5758903824,       -0.9797716067],\n",
    "[0.4898875091,        0.3559183059,       -0.9797698792],\n",
    "[0.4898875207,       -0.3559263223,       -0.9797683545],\n",
    "[0.0000031136,       -0.0000047513,       -1.3230013639]]*18.8973*0.36258\n",
    "\n",
    "positions = [SVector{3}(p[i] for i in 1:3) for p in atoms]\n",
    "dis2mat = get_distance2_mat(positions)\n",
    "rad_function = RadialType2{Float64}(0.001,11.338,[1.,1.])\n",
    "ang_func = AngularType3{Float64}(0.0001,1.0,1.0,11.338,[1.,1.,1.])\n",
    "ang_func2 = AngularType3{Float64}(0.0001,-1.0,2.0,11.338,[1.,1.,1.])\n",
    "X = [ 1    1              0.001   0.000  11.338\n",
    " 1    0              0.001   0.000  11.338\n",
    " 1    1              0.020   0.000  11.338\n",
    " 1    0              0.020   0.000  11.338\n",
    " 1    1              0.035   0.000  11.338\n",
    " 1    0              0.035   0.000  11.338\n",
    " 1    1              0.100   0.000  11.338\n",
    " 1    0              0.100   0.000  11.338\n",
    " 1    1              0.400   0.000  11.338\n",
    " 1    0              0.400   0.000  11.338]\n",
    "\n",
    "radsymmvec = []\n",
    "\n",
    "for row in eachrow(X)\n",
    "    symmfunc = RadialType2{Float64}(row[3],row[5],[row[1],row[2]])\n",
    "    push!(radsymmvec,symmfunc)\n",
    "end\n",
    "\n",
    "V = [[0.0001,1,1,11.338],[0.0001,-1,2,11.338],[0.003,-1,1,11.338],[0.003,-1,2,11.338],[0.008,-1,1,11.338],[0.008,-1,2,11.338],[0.008,1,2,11.338],[0.015,1,1,11.338],[0.015,-1,2,11.338],[0.015,-1,4,11.338],[0.015,-1,16,11.338],[0.025,-1,1,11.338],[0.025,1,1,11.338],[0.025,1,2,11.338],[0.025,-1,4,11.338],[0.025,-1,16,11.338],[0.025,1,16,11.338],[0.045,1,1,11.338],[0.045,-1,2,11.338],[0.045,-1,4,11.338],[0.045,1,4,11.338],[0.045,1,16,11.338],[0.08,1,1,11.338],[0.08,-1,2,11.338],[0.08,-1,4,11.338],[0.08,1,4,11.338]]\n",
    "\n",
    "T = [[1.,1.,1.],[1.,1.,0.],[1.,0.,0.]]\n",
    "\n",
    "angularsymmvec = []\n",
    "\n",
    "for element in V \n",
    "    for types in T\n",
    "        symmfunc = AngularType3{Float64}(element[1],element[2],element[3],11.338,types)\n",
    "        push!(angularsymmvec,symmfunc)\n",
    "    end\n",
    "end\n",
    "\n",
    "total_symm_vec = vcat(radsymmvec,angularsymmvec)\n",
    "f_mat = cutoff_function.(sqrt.(dis2mat),Ref(total_symm_vec[1].r_cut))"
   ]
  },
  {
   "cell_type": "code",
   "execution_count": 3,
   "metadata": {},
   "outputs": [
    {
     "data": {
      "text/plain": [
       "BenchmarkTools.Trial: 117 samples with 1 evaluation.\n",
       " Range \u001b[90m(\u001b[39m\u001b[36m\u001b[1mmin\u001b[22m\u001b[39m … \u001b[35mmax\u001b[39m\u001b[90m):  \u001b[39m\u001b[36m\u001b[1m39.893 ms\u001b[22m\u001b[39m … \u001b[35m50.842 ms\u001b[39m  \u001b[90m┊\u001b[39m GC \u001b[90m(\u001b[39mmin … max\u001b[90m): \u001b[39m10.06% … 7.67%\n",
       " Time  \u001b[90m(\u001b[39m\u001b[34m\u001b[1mmedian\u001b[22m\u001b[39m\u001b[90m):     \u001b[39m\u001b[34m\u001b[1m41.112 ms              \u001b[22m\u001b[39m\u001b[90m┊\u001b[39m GC \u001b[90m(\u001b[39mmedian\u001b[90m):    \u001b[39m 9.66%\n",
       " Time  \u001b[90m(\u001b[39m\u001b[32m\u001b[1mmean\u001b[22m\u001b[39m ± \u001b[32mσ\u001b[39m\u001b[90m):   \u001b[39m\u001b[32m\u001b[1m42.813 ms\u001b[22m\u001b[39m ± \u001b[32m 2.880 ms\u001b[39m  \u001b[90m┊\u001b[39m GC \u001b[90m(\u001b[39mmean ± σ\u001b[90m):  \u001b[39m11.76% ± 3.31%\n",
       "\n",
       "  \u001b[39m \u001b[39m \u001b[39m▁\u001b[39m█\u001b[39m▃\u001b[39m█\u001b[39m▁\u001b[34m \u001b[39m\u001b[39m \u001b[39m \u001b[39m \u001b[39m \u001b[39m \u001b[39m \u001b[39m \u001b[39m \u001b[39m \u001b[39m \u001b[32m \u001b[39m\u001b[39m \u001b[39m \u001b[39m \u001b[39m \u001b[39m \u001b[39m \u001b[39m \u001b[39m \u001b[39m \u001b[39m \u001b[39m \u001b[39m \u001b[39m \u001b[39m \u001b[39m \u001b[39m \u001b[39m \u001b[39m \u001b[39m \u001b[39m \u001b[39m \u001b[39m \u001b[39m \u001b[39m \u001b[39m \u001b[39m \u001b[39m \u001b[39m \u001b[39m \u001b[39m \u001b[39m \u001b[39m \u001b[39m \u001b[39m \u001b[39m \u001b[39m \u001b[39m \u001b[39m \u001b[39m \u001b[39m \u001b[39m \u001b[39m \n",
       "  \u001b[39m▅\u001b[39m▄\u001b[39m█\u001b[39m█\u001b[39m█\u001b[39m█\u001b[39m█\u001b[34m▅\u001b[39m\u001b[39m▅\u001b[39m▅\u001b[39m▄\u001b[39m▃\u001b[39m▃\u001b[39m▁\u001b[39m▃\u001b[39m▄\u001b[39m▁\u001b[39m▄\u001b[32m▄\u001b[39m\u001b[39m▃\u001b[39m▃\u001b[39m▄\u001b[39m▃\u001b[39m▄\u001b[39m▁\u001b[39m▃\u001b[39m▁\u001b[39m▁\u001b[39m▁\u001b[39m▁\u001b[39m▁\u001b[39m▅\u001b[39m▃\u001b[39m▃\u001b[39m▃\u001b[39m▃\u001b[39m▃\u001b[39m▃\u001b[39m▃\u001b[39m▄\u001b[39m▃\u001b[39m▄\u001b[39m▃\u001b[39m▃\u001b[39m▅\u001b[39m▁\u001b[39m▃\u001b[39m▃\u001b[39m▃\u001b[39m▅\u001b[39m▃\u001b[39m▄\u001b[39m▄\u001b[39m▁\u001b[39m▁\u001b[39m▁\u001b[39m▁\u001b[39m▁\u001b[39m▃\u001b[39m \u001b[39m▃\n",
       "  39.9 ms\u001b[90m         Histogram: frequency by time\u001b[39m        49.5 ms \u001b[0m\u001b[1m<\u001b[22m\n",
       "\n",
       " Memory estimate\u001b[90m: \u001b[39m\u001b[33m104.19 MiB\u001b[39m, allocs estimate\u001b[90m: \u001b[39m\u001b[33m1364455\u001b[39m."
      ]
     },
     "metadata": {},
     "output_type": "display_data"
    }
   ],
   "source": [
    "gmat = total_symm_calc(positions,dis2mat,f_mat,total_symm_vec)\n",
    "@benchmark total_symm_calc($positions,$dis2mat,$f_mat,$total_symm_vec)"
   ]
  },
  {
   "cell_type": "code",
   "execution_count": 4,
   "metadata": {},
   "outputs": [
    {
     "data": {
      "text/plain": [
       "true"
      ]
     },
     "metadata": {},
     "output_type": "display_data"
    }
   ],
   "source": [
    "file = open(\"$(pwd())/symfunctions.out\",\"r+\")\n",
    "truevalues = readdlm(file)\n",
    "close(file)\n",
    "truevals = transpose(truevalues[2:end,2:end])\n",
    "truevals ≈ gmat\n",
    "\n",
    "# X=gmat.-truevals"
   ]
  },
  {
   "attachments": {},
   "cell_type": "markdown",
   "metadata": {},
   "source": [
    "# Testing the waters with iterating over symmetry functions"
   ]
  },
  {
   "attachments": {},
   "cell_type": "markdown",
   "metadata": {},
   "source": [
    "NB This method failed. It was significantly slower due to the iterators and memory access."
   ]
  },
  {
   "cell_type": "code",
   "execution_count": 5,
   "metadata": {},
   "outputs": [
    {
     "data": {
      "text/plain": [
       "55-element Vector{Float64}:\n",
       " 0.6729622810620872\n",
       " 0.6673537611763615\n",
       " 1.0\n",
       " 0.641313952432365\n",
       " 0.25867027813036586\n",
       " 0.25848314873322153\n",
       " 0.6407783065380429\n",
       " 0.6000753639415433\n",
       " 0.23563090780103746\n",
       " 0.1043164272069067\n",
       " ⋮\n",
       " 0.0\n",
       " 0.08540286302967126\n",
       " 0.15905660612244632\n",
       " 0.0780399503184917\n",
       " 0.0019532999653086303\n",
       " 0.0\n",
       " 0.0019323260080338356\n",
       " 0.07794636305290437\n",
       " 0.0"
      ]
     },
     "metadata": {},
     "output_type": "display_data"
    }
   ],
   "source": [
    "perturbation = [-.1 , .3, .2 ]\n",
    "newpos = positions[3] .+ perturbation\n",
    "index = 3\n",
    "\n",
    "new_dis_vec = [distance2(newpos,b) for b in positions]\n",
    "new_dis_vec[3] = 0.\n",
    "\n",
    "new_f_vec = cutoff_function.(sqrt.(new_dis_vec),Ref(total_symm_vec[1].r_cut))\n"
   ]
  },
  {
   "cell_type": "code",
   "execution_count": 6,
   "metadata": {},
   "outputs": [
    {
     "data": {
      "text/plain": [
       "88×55 Matrix{Float64}:\n",
       " 14.6651      12.0174      12.1633      …  7.44286      5.69954\n",
       "  0.0          0.0          0.0            0.0          0.0\n",
       "  7.20013      6.42359      6.44734        3.92544      2.94156\n",
       "  0.0          0.0          0.0            0.0          0.0\n",
       "  4.55465      4.2034       4.18932        2.54479      1.91555\n",
       "  0.0          0.0          0.0         …  0.0          0.0\n",
       "  0.990147     0.889324     0.869478       0.50839      0.410771\n",
       "  0.0          0.0          0.0            0.0          0.0\n",
       "  0.00194292   0.00137073   0.00141713     0.000528536  0.000557398\n",
       "  0.0          0.0          0.0            0.0          0.0\n",
       "  ⋮                                     ⋱               \n",
       "  0.00820484   0.00610573   0.00565103     0.00192164   0.00165975\n",
       "  0.0          0.0          0.0         …  0.0          0.0\n",
       "  0.0          0.0          0.0            0.0          0.0\n",
       "  0.00147572   0.00130362   0.00101334     0.000182034  0.00013714\n",
       "  0.0          0.0          0.0            0.0          0.0\n",
       "  0.0          0.0          0.0            0.0          0.0\n",
       "  0.0364247    0.0390387    0.0289159   …  0.0104918    0.00765187\n",
       "  0.0          0.0          0.0            0.0          0.0\n",
       "  0.0          0.0          0.0            0.0          0.0"
      ]
     },
     "metadata": {},
     "output_type": "display_data"
    }
   ],
   "source": [
    "gmat = total_symm_calc(positions,newpos,dis2mat,new_dis_vec,f_mat,new_f_vec,gmat,3,total_symm_vec)\n"
   ]
  },
  {
   "cell_type": "code",
   "execution_count": 7,
   "metadata": {},
   "outputs": [
    {
     "data": {
      "text/plain": [
       "BenchmarkTools.Trial: 544 samples with 1 evaluation.\n",
       " Range \u001b[90m(\u001b[39m\u001b[36m\u001b[1mmin\u001b[22m\u001b[39m … \u001b[35mmax\u001b[39m\u001b[90m):  \u001b[39m\u001b[36m\u001b[1m6.318 ms\u001b[22m\u001b[39m … \u001b[35m16.957 ms\u001b[39m  \u001b[90m┊\u001b[39m GC \u001b[90m(\u001b[39mmin … max\u001b[90m): \u001b[39m 0.00% … 26.30%\n",
       " Time  \u001b[90m(\u001b[39m\u001b[34m\u001b[1mmedian\u001b[22m\u001b[39m\u001b[90m):     \u001b[39m\u001b[34m\u001b[1m7.306 ms              \u001b[22m\u001b[39m\u001b[90m┊\u001b[39m GC \u001b[90m(\u001b[39mmedian\u001b[90m):    \u001b[39m 0.00%\n",
       " Time  \u001b[90m(\u001b[39m\u001b[32m\u001b[1mmean\u001b[22m\u001b[39m ± \u001b[32mσ\u001b[39m\u001b[90m):   \u001b[39m\u001b[32m\u001b[1m9.189 ms\u001b[22m\u001b[39m ± \u001b[32m 2.883 ms\u001b[39m  \u001b[90m┊\u001b[39m GC \u001b[90m(\u001b[39mmean ± σ\u001b[90m):  \u001b[39m16.44% ± 16.18%\n",
       "\n",
       "  \u001b[39m \u001b[39m \u001b[39m▃\u001b[39m▂\u001b[39m \u001b[39m▂\u001b[39m█\u001b[34m▆\u001b[39m\u001b[39m \u001b[39m \u001b[39m \u001b[39m \u001b[39m \u001b[39m \u001b[39m \u001b[39m \u001b[39m \u001b[39m \u001b[39m \u001b[39m \u001b[39m \u001b[39m \u001b[32m \u001b[39m\u001b[39m \u001b[39m \u001b[39m \u001b[39m \u001b[39m \u001b[39m \u001b[39m \u001b[39m \u001b[39m \u001b[39m \u001b[39m \u001b[39m \u001b[39m \u001b[39m \u001b[39m \u001b[39m \u001b[39m \u001b[39m \u001b[39m \u001b[39m \u001b[39m \u001b[39m \u001b[39m \u001b[39m \u001b[39m \u001b[39m \u001b[39m \u001b[39m \u001b[39m \u001b[39m▁\u001b[39m▃\u001b[39m \u001b[39m \u001b[39m \u001b[39m \u001b[39m \u001b[39m \n",
       "  \u001b[39m▃\u001b[39m▅\u001b[39m█\u001b[39m█\u001b[39m█\u001b[39m█\u001b[39m█\u001b[34m█\u001b[39m\u001b[39m▆\u001b[39m▃\u001b[39m▂\u001b[39m▃\u001b[39m▃\u001b[39m▂\u001b[39m▃\u001b[39m▃\u001b[39m▃\u001b[39m▂\u001b[39m▂\u001b[39m▃\u001b[39m▂\u001b[39m▁\u001b[32m▁\u001b[39m\u001b[39m▁\u001b[39m▁\u001b[39m▁\u001b[39m▁\u001b[39m▁\u001b[39m▁\u001b[39m▁\u001b[39m▁\u001b[39m▁\u001b[39m▁\u001b[39m▁\u001b[39m▁\u001b[39m▁\u001b[39m▁\u001b[39m▁\u001b[39m▁\u001b[39m▃\u001b[39m▃\u001b[39m▃\u001b[39m▃\u001b[39m▃\u001b[39m▃\u001b[39m▃\u001b[39m▃\u001b[39m▃\u001b[39m▃\u001b[39m▃\u001b[39m▃\u001b[39m▅\u001b[39m█\u001b[39m█\u001b[39m▅\u001b[39m▄\u001b[39m▃\u001b[39m▃\u001b[39m \u001b[39m▃\n",
       "  6.32 ms\u001b[90m        Histogram: frequency by time\u001b[39m          14 ms \u001b[0m\u001b[1m<\u001b[22m\n",
       "\n",
       " Memory estimate\u001b[90m: \u001b[39m\u001b[33m28.46 MiB\u001b[39m, allocs estimate\u001b[90m: \u001b[39m\u001b[33m372376\u001b[39m."
      ]
     },
     "metadata": {},
     "output_type": "display_data"
    }
   ],
   "source": [
    "@benchmark total_symm_calc($positions,$newpos,$dis2mat,$new_dis_vec,$f_mat,$new_f_vec,$gmat,$3,$total_symm_vec)"
   ]
  },
  {
   "cell_type": "code",
   "execution_count": 8,
   "metadata": {},
   "outputs": [
    {
     "data": {
      "text/plain": [
       "BenchmarkTools.Trial: 6 samples with 1 evaluation.\n",
       " Range \u001b[90m(\u001b[39m\u001b[36m\u001b[1mmin\u001b[22m\u001b[39m … \u001b[35mmax\u001b[39m\u001b[90m):  \u001b[39m\u001b[36m\u001b[1m904.334 ms\u001b[22m\u001b[39m … \u001b[35m924.005 ms\u001b[39m  \u001b[90m┊\u001b[39m GC \u001b[90m(\u001b[39mmin … max\u001b[90m): \u001b[39m16.11% … 16.21%\n",
       " Time  \u001b[90m(\u001b[39m\u001b[34m\u001b[1mmedian\u001b[22m\u001b[39m\u001b[90m):     \u001b[39m\u001b[34m\u001b[1m913.814 ms               \u001b[22m\u001b[39m\u001b[90m┊\u001b[39m GC \u001b[90m(\u001b[39mmedian\u001b[90m):    \u001b[39m16.51%\n",
       " Time  \u001b[90m(\u001b[39m\u001b[32m\u001b[1mmean\u001b[22m\u001b[39m ± \u001b[32mσ\u001b[39m\u001b[90m):   \u001b[39m\u001b[32m\u001b[1m913.941 ms\u001b[22m\u001b[39m ± \u001b[32m  6.432 ms\u001b[39m  \u001b[90m┊\u001b[39m GC \u001b[90m(\u001b[39mmean ± σ\u001b[90m):  \u001b[39m16.46% ±  0.25%\n",
       "\n",
       "  \u001b[39m█\u001b[39m \u001b[39m \u001b[39m \u001b[39m \u001b[39m \u001b[39m \u001b[39m \u001b[39m \u001b[39m \u001b[39m \u001b[39m \u001b[39m \u001b[39m \u001b[39m \u001b[39m \u001b[39m \u001b[39m \u001b[39m \u001b[39m \u001b[39m \u001b[39m█\u001b[39m \u001b[39m \u001b[39m \u001b[39m \u001b[39m \u001b[39m \u001b[39m█\u001b[34m \u001b[39m\u001b[32m█\u001b[39m\u001b[39m \u001b[39m \u001b[39m \u001b[39m \u001b[39m \u001b[39m \u001b[39m█\u001b[39m \u001b[39m \u001b[39m \u001b[39m \u001b[39m \u001b[39m \u001b[39m \u001b[39m \u001b[39m \u001b[39m \u001b[39m \u001b[39m \u001b[39m \u001b[39m \u001b[39m \u001b[39m \u001b[39m \u001b[39m \u001b[39m \u001b[39m \u001b[39m \u001b[39m \u001b[39m█\u001b[39m \u001b[39m \n",
       "  \u001b[39m█\u001b[39m▁\u001b[39m▁\u001b[39m▁\u001b[39m▁\u001b[39m▁\u001b[39m▁\u001b[39m▁\u001b[39m▁\u001b[39m▁\u001b[39m▁\u001b[39m▁\u001b[39m▁\u001b[39m▁\u001b[39m▁\u001b[39m▁\u001b[39m▁\u001b[39m▁\u001b[39m▁\u001b[39m▁\u001b[39m▁\u001b[39m█\u001b[39m▁\u001b[39m▁\u001b[39m▁\u001b[39m▁\u001b[39m▁\u001b[39m▁\u001b[39m█\u001b[34m▁\u001b[39m\u001b[32m█\u001b[39m\u001b[39m▁\u001b[39m▁\u001b[39m▁\u001b[39m▁\u001b[39m▁\u001b[39m▁\u001b[39m█\u001b[39m▁\u001b[39m▁\u001b[39m▁\u001b[39m▁\u001b[39m▁\u001b[39m▁\u001b[39m▁\u001b[39m▁\u001b[39m▁\u001b[39m▁\u001b[39m▁\u001b[39m▁\u001b[39m▁\u001b[39m▁\u001b[39m▁\u001b[39m▁\u001b[39m▁\u001b[39m▁\u001b[39m▁\u001b[39m▁\u001b[39m▁\u001b[39m▁\u001b[39m█\u001b[39m \u001b[39m▁\n",
       "  904 ms\u001b[90m           Histogram: frequency by time\u001b[39m          924 ms \u001b[0m\u001b[1m<\u001b[22m\n",
       "\n",
       " Memory estimate\u001b[90m: \u001b[39m\u001b[33m2.78 GiB\u001b[39m, allocs estimate\u001b[90m: \u001b[39m\u001b[33m37237600\u001b[39m."
      ]
     },
     "metadata": {},
     "output_type": "display_data"
    }
   ],
   "source": [
    "function testspeed(positions,new_pos,dist2_mat,new_dist_vec,f_mat,new_f_vec,g_mat,atomindex,total_symm_vec)\n",
    "    for i in 1:100\n",
    "        total_symm_calc(positions,new_pos,dist2_mat,new_dist_vec,f_mat,new_f_vec,g_mat,atomindex,total_symm_vec)\n",
    "    end\n",
    "end\n",
    "@benchmark testspeed($positions,$newpos,$dis2mat,$new_dis_vec,$f_mat,$new_f_vec,$gmat,$3,$total_symm_vec)"
   ]
  },
  {
   "cell_type": "code",
   "execution_count": 9,
   "metadata": {},
   "outputs": [
    {
     "data": {
      "text/plain": [
       "BenchmarkTools.Trial: 10000 samples with 990 evaluations.\n",
       " Range \u001b[90m(\u001b[39m\u001b[36m\u001b[1mmin\u001b[22m\u001b[39m … \u001b[35mmax\u001b[39m\u001b[90m):  \u001b[39m\u001b[36m\u001b[1m42.328 ns\u001b[22m\u001b[39m … \u001b[35m  6.146 μs\u001b[39m  \u001b[90m┊\u001b[39m GC \u001b[90m(\u001b[39mmin … max\u001b[90m): \u001b[39m 0.00% … 98.72%\n",
       " Time  \u001b[90m(\u001b[39m\u001b[34m\u001b[1mmedian\u001b[22m\u001b[39m\u001b[90m):     \u001b[39m\u001b[34m\u001b[1m47.034 ns               \u001b[22m\u001b[39m\u001b[90m┊\u001b[39m GC \u001b[90m(\u001b[39mmedian\u001b[90m):    \u001b[39m 0.00%\n",
       " Time  \u001b[90m(\u001b[39m\u001b[32m\u001b[1mmean\u001b[22m\u001b[39m ± \u001b[32mσ\u001b[39m\u001b[90m):   \u001b[39m\u001b[32m\u001b[1m63.630 ns\u001b[22m\u001b[39m ± \u001b[32m282.810 ns\u001b[39m  \u001b[90m┊\u001b[39m GC \u001b[90m(\u001b[39mmean ± σ\u001b[90m):  \u001b[39m22.17% ±  4.94%\n",
       "\n",
       "  \u001b[39m \u001b[39m▄\u001b[39m▆\u001b[39m▇\u001b[39m█\u001b[39m█\u001b[39m█\u001b[34m█\u001b[39m\u001b[39m▇\u001b[39m▆\u001b[39m▆\u001b[39m▅\u001b[39m▄\u001b[39m▄\u001b[39m▃\u001b[39m▂\u001b[39m▂\u001b[39m▂\u001b[39m▂\u001b[39m▂\u001b[39m▁\u001b[39m▁\u001b[39m▂\u001b[39m▁\u001b[39m▁\u001b[39m▂\u001b[39m▂\u001b[39m▂\u001b[39m▂\u001b[39m▂\u001b[39m▂\u001b[39m▁\u001b[39m▁\u001b[32m▁\u001b[39m\u001b[39m▁\u001b[39m \u001b[39m▁\u001b[39m \u001b[39m \u001b[39m \u001b[39m \u001b[39m \u001b[39m \u001b[39m \u001b[39m \u001b[39m \u001b[39m \u001b[39m \u001b[39m \u001b[39m \u001b[39m \u001b[39m \u001b[39m \u001b[39m \u001b[39m \u001b[39m \u001b[39m \u001b[39m \u001b[39m \u001b[39m \u001b[39m \u001b[39m▃\n",
       "  \u001b[39m█\u001b[39m█\u001b[39m█\u001b[39m█\u001b[39m█\u001b[39m█\u001b[39m█\u001b[34m█\u001b[39m\u001b[39m█\u001b[39m█\u001b[39m█\u001b[39m█\u001b[39m█\u001b[39m█\u001b[39m█\u001b[39m█\u001b[39m█\u001b[39m█\u001b[39m█\u001b[39m█\u001b[39m█\u001b[39m█\u001b[39m█\u001b[39m█\u001b[39m█\u001b[39m█\u001b[39m█\u001b[39m█\u001b[39m█\u001b[39m█\u001b[39m█\u001b[39m█\u001b[39m█\u001b[32m█\u001b[39m\u001b[39m█\u001b[39m█\u001b[39m█\u001b[39m█\u001b[39m█\u001b[39m█\u001b[39m▇\u001b[39m▇\u001b[39m▇\u001b[39m▇\u001b[39m█\u001b[39m▇\u001b[39m▇\u001b[39m▇\u001b[39m█\u001b[39m▆\u001b[39m▇\u001b[39m▆\u001b[39m▅\u001b[39m▅\u001b[39m▆\u001b[39m▆\u001b[39m▇\u001b[39m▆\u001b[39m▇\u001b[39m▇\u001b[39m \u001b[39m█\n",
       "  42.3 ns\u001b[90m       \u001b[39m\u001b[90mHistogram: \u001b[39m\u001b[90m\u001b[1mlog(\u001b[22m\u001b[39m\u001b[90mfrequency\u001b[39m\u001b[90m\u001b[1m)\u001b[22m\u001b[39m\u001b[90m by time\u001b[39m        81 ns \u001b[0m\u001b[1m<\u001b[22m\n",
       "\n",
       " Memory estimate\u001b[90m: \u001b[39m\u001b[33m224 bytes\u001b[39m, allocs estimate\u001b[90m: \u001b[39m\u001b[33m7\u001b[39m."
      ]
     },
     "metadata": {},
     "output_type": "display_data"
    }
   ],
   "source": [
    "@benchmark all_angular_measure($positions[1],$positions[2],$positions[5],$dis2mat[1,2],$dis2mat[1,5],dis2mat[2,5])"
   ]
  },
  {
   "attachments": {},
   "cell_type": "markdown",
   "metadata": {},
   "source": [
    "# A new approach\n",
    "\n",
    "Given the obvious limitations of the current approach and the issues previously faced, we acknowledge that three times the original vectors are generated at each step, this causes major problems with memory allocation and garbage collection, resulting in slower calculation of symmetry funcitons overall. \n",
    "\n",
    "The aim of the next section is therefore to rewrite the code in a way that modifies existing arrays in place in an effort to reduce allocation overheads. "
   ]
  },
  {
   "cell_type": "code",
   "execution_count": 10,
   "metadata": {},
   "outputs": [
    {
     "data": {
      "text/plain": [
       "theta_part (generic function with 1 method)"
      ]
     },
     "metadata": {},
     "output_type": "display_data"
    }
   ],
   "source": [
    "exponential_part(η,r2_ij,r2_ik,r2_jk,f_ij,f_ik,f_jk) = exp(-η*(r2_ij+r2_ik+r2_jk))* f_ij * f_ik * f_jk\n",
    "theta_part(θ,λ,ζ) = (1+λ*θ)^ζ"
   ]
  },
  {
   "cell_type": "code",
   "execution_count": 11,
   "metadata": {},
   "outputs": [
    {
     "data": {
      "text/plain": [
       "78-element Vector{Any}:\n",
       " [0.0001, 1.0, 1.0, 1.0]\n",
       " [0.0001, 1.0, 1.0, 1.0]\n",
       " [0.0001, 1.0, 1.0, 1.0]\n",
       " [0.0001, -1.0, 2.0, 0.5]\n",
       " [0.0001, -1.0, 2.0, 0.5]\n",
       " [0.0001, -1.0, 2.0, 0.5]\n",
       " [0.003, -1.0, 1.0, 1.0]\n",
       " [0.003, -1.0, 1.0, 1.0]\n",
       " [0.003, -1.0, 1.0, 1.0]\n",
       " [0.003, -1.0, 2.0, 0.5]\n",
       " ⋮\n",
       " [0.08, -1.0, 2.0, 0.5]\n",
       " [0.08, -1.0, 2.0, 0.5]\n",
       " [0.08, -1.0, 2.0, 0.5]\n",
       " [0.08, -1.0, 4.0, 0.125]\n",
       " [0.08, -1.0, 4.0, 0.125]\n",
       " [0.08, -1.0, 4.0, 0.125]\n",
       " [0.08, 1.0, 4.0, 0.125]\n",
       " [0.08, 1.0, 4.0, 0.125]\n",
       " [0.08, 1.0, 4.0, 0.125]"
      ]
     },
     "metadata": {},
     "output_type": "display_data"
    }
   ],
   "source": [
    "angsymmvec = []\n",
    "for symmfunc in angularsymmvec\n",
    "    values = [symmfunc.eta,symmfunc.lambda,symmfunc.zeta,symmfunc.tpz]\n",
    "    push!(angsymmvec,values)\n",
    "end\n",
    "angsymmvec"
   ]
  },
  {
   "cell_type": "code",
   "execution_count": 27,
   "metadata": {},
   "outputs": [
    {
     "data": {
      "text/plain": [
       "total_calculation (generic function with 1 method)"
      ]
     },
     "metadata": {},
     "output_type": "display_data"
    }
   ],
   "source": [
    "function adjust_symm_val!(g_value,θ_val,exp_part,tpz)\n",
    "    g_value +=exp_part*θ_val*tpz\n",
    "    return g_value\n",
    "end\n",
    "function adjust_symm_val!(g_value,exp_part,θ,λ,ζ,tpz)\n",
    "    θ_val = theta_part(θ,λ,ζ)\n",
    "    return adjust_symm_val!(g_value,θ_val,exp_part,tpz)\n",
    "end\n",
    "\n",
    "function calc_symmetry_value(g_vec,positions,dist2_mat,f_mat,indices,η,λ,ζ,tpz)\n",
    "\n",
    "    θ_vector = all_angular_measure(positions[indices[1]],positions[indices[2]],positions[indices[3]],dist2_mat[indices[1],indices[2]],dist2_mat[indices[1],indices[3]],dist2_mat[indices[2],indices[3]])\n",
    "\n",
    "    exp_val = exponential_part(η,dist2_mat[indices[1],indices[2]],dist2_mat[indices[1],indices[3]],dist2_mat[indices[2],indices[3]],f_mat[indices[1],indices[2]],f_mat[indices[1],indices[3]],f_mat[indices[2],indices[3]])\n",
    "\n",
    "    for (θ,index) in zip(θ_vector,indices)\n",
    "        g_vec[index] = adjust_symm_val!(g_vec[index],exp_val,θ,λ,ζ,tpz)\n",
    "    end\n",
    "\n",
    "    return g_vec\n",
    "end\n",
    "function calc_symmetry_values(positions,dist2_mat,f_mat,g_vec,symmetry_function::AngularType3)\n",
    "    N = length(g_vec)  \n",
    "    if symmetry_function.type_vec == [1.,1.,1.]\n",
    "        η,λ,ζ,tpz = symmetry_function.eta,symmetry_function.lambda,symmetry_function.zeta,symmetry_function.tpz\n",
    "        for atomindex in eachindex(g_vec)\n",
    "            for index2 in (atomindex+1):N\n",
    "                for index3 in (index2+1):N\n",
    "                    g_vec = calc_symmetry_value(g_vec,positions,dist2_mat,f_mat,[atomindex,index2,index3],η,λ,ζ,tpz )\n",
    "                end\n",
    "            end\n",
    "        end\n",
    "    else\n",
    "        g_vec = zeros(N)\n",
    "    end\n",
    "\n",
    "\n",
    "    return g_vec\n",
    "end\n",
    "function calc_symmetry_values(positions,dist2_mat,f_mat,g_vec,symmetry_function::RadialType2)\n",
    "    return calc_symm_vals!(positions,dist2_mat,f_mat,g_vec,symmetry_function)\n",
    "end\n",
    "\n",
    "function total_calculation(positions,dist2_mat,f_mat,total_symm_vec)\n",
    "    \n",
    "    g_mat = zeros(88,55)\n",
    "\n",
    "    for g_index in eachindex(total_symm_vec)\n",
    "\n",
    "        g_mat[g_index,:] = calc_symmetry_values(positions,dist2_mat,f_mat,g_mat[g_index,:],total_symm_vec[g_index])\n",
    "\n",
    "    end\n",
    "    return g_mat\n",
    "end"
   ]
  },
  {
   "cell_type": "code",
   "execution_count": 28,
   "metadata": {},
   "outputs": [
    {
     "data": {
      "text/plain": [
       "true"
      ]
     },
     "metadata": {},
     "output_type": "display_data"
    }
   ],
   "source": [
    "g_vec_test = calc_symmetry_values(positions,dis2mat,f_mat,zeros(55),angularsymmvec[1]) \n",
    "\n",
    "g_vec_test ≈ truevals[11,:]"
   ]
  },
  {
   "cell_type": "code",
   "execution_count": 29,
   "metadata": {},
   "outputs": [
    {
     "data": {
      "text/plain": [
       "BenchmarkTools.Trial: 3142 samples with 1 evaluation.\n",
       " Range \u001b[90m(\u001b[39m\u001b[36m\u001b[1mmin\u001b[22m\u001b[39m … \u001b[35mmax\u001b[39m\u001b[90m):  \u001b[39m\u001b[36m\u001b[1m1.165 ms\u001b[22m\u001b[39m … \u001b[35m7.224 ms\u001b[39m  \u001b[90m┊\u001b[39m GC \u001b[90m(\u001b[39mmin … max\u001b[90m): \u001b[39m 0.00% … 72.08%\n",
       " Time  \u001b[90m(\u001b[39m\u001b[34m\u001b[1mmedian\u001b[22m\u001b[39m\u001b[90m):     \u001b[39m\u001b[34m\u001b[1m1.278 ms             \u001b[22m\u001b[39m\u001b[90m┊\u001b[39m GC \u001b[90m(\u001b[39mmedian\u001b[90m):    \u001b[39m 0.00%\n",
       " Time  \u001b[90m(\u001b[39m\u001b[32m\u001b[1mmean\u001b[22m\u001b[39m ± \u001b[32mσ\u001b[39m\u001b[90m):   \u001b[39m\u001b[32m\u001b[1m1.588 ms\u001b[22m\u001b[39m ± \u001b[32m1.092 ms\u001b[39m  \u001b[90m┊\u001b[39m GC \u001b[90m(\u001b[39mmean ± σ\u001b[90m):  \u001b[39m13.82% ± 15.49%\n",
       "\n",
       "  \u001b[39m█\u001b[34m█\u001b[39m\u001b[39m▄\u001b[39m▃\u001b[32m▂\u001b[39m\u001b[39m \u001b[39m \u001b[39m \u001b[39m▂\u001b[39m▄\u001b[39m \u001b[39m \u001b[39m \u001b[39m \u001b[39m \u001b[39m \u001b[39m \u001b[39m \u001b[39m \u001b[39m \u001b[39m \u001b[39m \u001b[39m \u001b[39m \u001b[39m \u001b[39m \u001b[39m \u001b[39m \u001b[39m \u001b[39m \u001b[39m \u001b[39m \u001b[39m \u001b[39m \u001b[39m \u001b[39m \u001b[39m \u001b[39m \u001b[39m \u001b[39m \u001b[39m \u001b[39m \u001b[39m \u001b[39m \u001b[39m \u001b[39m \u001b[39m \u001b[39m \u001b[39m \u001b[39m \u001b[39m \u001b[39m \u001b[39m \u001b[39m \u001b[39m \u001b[39m \u001b[39m \u001b[39m \u001b[39m▁\n",
       "  \u001b[39m█\u001b[34m█\u001b[39m\u001b[39m█\u001b[39m█\u001b[32m█\u001b[39m\u001b[39m█\u001b[39m█\u001b[39m▇\u001b[39m█\u001b[39m█\u001b[39m▇\u001b[39m▃\u001b[39m▁\u001b[39m▁\u001b[39m▁\u001b[39m▁\u001b[39m▁\u001b[39m▁\u001b[39m▁\u001b[39m▁\u001b[39m▁\u001b[39m▁\u001b[39m▁\u001b[39m▁\u001b[39m▁\u001b[39m▁\u001b[39m▁\u001b[39m▁\u001b[39m▁\u001b[39m▁\u001b[39m▁\u001b[39m▁\u001b[39m▁\u001b[39m▁\u001b[39m▁\u001b[39m▁\u001b[39m▁\u001b[39m▁\u001b[39m▁\u001b[39m▁\u001b[39m▁\u001b[39m▁\u001b[39m▁\u001b[39m▁\u001b[39m▁\u001b[39m▁\u001b[39m▁\u001b[39m▁\u001b[39m▁\u001b[39m▆\u001b[39m█\u001b[39m▇\u001b[39m█\u001b[39m█\u001b[39m█\u001b[39m█\u001b[39m▇\u001b[39m \u001b[39m█\n",
       "  1.17 ms\u001b[90m     \u001b[39m\u001b[90mHistogram: \u001b[39m\u001b[90m\u001b[1mlog(\u001b[22m\u001b[39m\u001b[90mfrequency\u001b[39m\u001b[90m\u001b[1m)\u001b[22m\u001b[39m\u001b[90m by time\u001b[39m     6.66 ms \u001b[0m\u001b[1m<\u001b[22m\n",
       "\n",
       " Memory estimate\u001b[90m: \u001b[39m\u001b[33m4.00 MiB\u001b[39m, allocs estimate\u001b[90m: \u001b[39m\u001b[33m52472\u001b[39m."
      ]
     },
     "metadata": {},
     "output_type": "display_data"
    }
   ],
   "source": [
    "@benchmark calc_symmetry_values($positions,$dis2mat,$f_mat,$zeros(55),$angularsymmvec[1])"
   ]
  },
  {
   "cell_type": "code",
   "execution_count": 30,
   "metadata": {},
   "outputs": [
    {
     "data": {
      "text/plain": [
       "true"
      ]
     },
     "metadata": {},
     "output_type": "display_data"
    }
   ],
   "source": [
    "total_calculation(positions,dis2mat,f_mat,total_symm_vec) ≈ truevals"
   ]
  },
  {
   "cell_type": "code",
   "execution_count": 31,
   "metadata": {},
   "outputs": [
    {
     "data": {
      "text/plain": [
       "BenchmarkTools.Trial: 118 samples with 1 evaluation.\n",
       " Range \u001b[90m(\u001b[39m\u001b[36m\u001b[1mmin\u001b[22m\u001b[39m … \u001b[35mmax\u001b[39m\u001b[90m):  \u001b[39m\u001b[36m\u001b[1m40.144 ms\u001b[22m\u001b[39m … \u001b[35m50.542 ms\u001b[39m  \u001b[90m┊\u001b[39m GC \u001b[90m(\u001b[39mmin … max\u001b[90m): \u001b[39m11.43% … 9.09%\n",
       " Time  \u001b[90m(\u001b[39m\u001b[34m\u001b[1mmedian\u001b[22m\u001b[39m\u001b[90m):     \u001b[39m\u001b[34m\u001b[1m41.290 ms              \u001b[22m\u001b[39m\u001b[90m┊\u001b[39m GC \u001b[90m(\u001b[39mmedian\u001b[90m):    \u001b[39m11.35%\n",
       " Time  \u001b[90m(\u001b[39m\u001b[32m\u001b[1mmean\u001b[22m\u001b[39m ± \u001b[32mσ\u001b[39m\u001b[90m):   \u001b[39m\u001b[32m\u001b[1m42.550 ms\u001b[22m\u001b[39m ± \u001b[32m 2.641 ms\u001b[39m  \u001b[90m┊\u001b[39m GC \u001b[90m(\u001b[39mmean ± σ\u001b[90m):  \u001b[39m13.42% ± 3.57%\n",
       "\n",
       "  \u001b[39m \u001b[39m \u001b[39m \u001b[39m▄\u001b[39m \u001b[39m▄\u001b[39m█\u001b[39m▂\u001b[34m▃\u001b[39m\u001b[39m▁\u001b[39m \u001b[39m \u001b[39m \u001b[39m \u001b[39m \u001b[39m \u001b[39m \u001b[32m \u001b[39m\u001b[39m \u001b[39m \u001b[39m \u001b[39m \u001b[39m \u001b[39m \u001b[39m \u001b[39m \u001b[39m \u001b[39m \u001b[39m \u001b[39m \u001b[39m \u001b[39m \u001b[39m \u001b[39m \u001b[39m \u001b[39m \u001b[39m \u001b[39m \u001b[39m \u001b[39m \u001b[39m \u001b[39m \u001b[39m \u001b[39m \u001b[39m \u001b[39m \u001b[39m \u001b[39m \u001b[39m \u001b[39m \u001b[39m \u001b[39m \u001b[39m \u001b[39m \u001b[39m \u001b[39m \u001b[39m \u001b[39m \u001b[39m \u001b[39m \u001b[39m \n",
       "  \u001b[39m▅\u001b[39m▃\u001b[39m▅\u001b[39m█\u001b[39m▆\u001b[39m█\u001b[39m█\u001b[39m█\u001b[34m█\u001b[39m\u001b[39m█\u001b[39m▃\u001b[39m▅\u001b[39m▅\u001b[39m▄\u001b[39m▃\u001b[39m▃\u001b[39m▁\u001b[32m▁\u001b[39m\u001b[39m▁\u001b[39m▁\u001b[39m▃\u001b[39m▁\u001b[39m▁\u001b[39m▁\u001b[39m▁\u001b[39m▁\u001b[39m▁\u001b[39m▁\u001b[39m▁\u001b[39m▁\u001b[39m▁\u001b[39m▁\u001b[39m▁\u001b[39m▁\u001b[39m▁\u001b[39m▃\u001b[39m▁\u001b[39m▁\u001b[39m▁\u001b[39m▁\u001b[39m▄\u001b[39m▁\u001b[39m▁\u001b[39m▃\u001b[39m▅\u001b[39m▅\u001b[39m▁\u001b[39m▃\u001b[39m▆\u001b[39m▃\u001b[39m▆\u001b[39m▃\u001b[39m▃\u001b[39m▃\u001b[39m▁\u001b[39m▁\u001b[39m▁\u001b[39m▁\u001b[39m▄\u001b[39m \u001b[39m▃\n",
       "  40.1 ms\u001b[90m         Histogram: frequency by time\u001b[39m        48.7 ms \u001b[0m\u001b[1m<\u001b[22m\n",
       "\n",
       " Memory estimate\u001b[90m: \u001b[39m\u001b[33m104.19 MiB\u001b[39m, allocs estimate\u001b[90m: \u001b[39m\u001b[33m1364455\u001b[39m."
      ]
     },
     "metadata": {},
     "output_type": "display_data"
    }
   ],
   "source": [
    "@benchmark total_calculation($positions,$dis2mat,$f_mat,$total_symm_vec)"
   ]
  },
  {
   "attachments": {},
   "cell_type": "markdown",
   "metadata": {},
   "source": [
    "# The delta version"
   ]
  },
  {
   "cell_type": "code",
   "execution_count": 32,
   "metadata": {},
   "outputs": [
    {
     "data": {
      "text/plain": [
       "calc_new_symmetry_value (generic function with 3 methods)"
      ]
     },
     "metadata": {},
     "output_type": "display_data"
    }
   ],
   "source": [
    "function adjust_symm_val!(g_value,θ_new,θ_old,exp_new,exp_old,tpz)\n",
    "    g_value = adjust_symm_val!(g_value,θ_new,exp_new,tpz)\n",
    "    g_value = adjust_symm_val!(g_value,θ_old,-exp_old,tpz)\n",
    "    return g_value\n",
    "end\n",
    "function adjust_symm_val!(g_value,exp_old,exp_new,θ_old,θ_new,λ,ζ,tpz)\n",
    "    θ_val_old,θ_val_new = theta_part(θ_old,λ,ζ),theta_part(θ_new,λ,ζ)\n",
    "    return adjust_symm_val!(g_value,θ_val_new,θ_val_old,exp_new,exp_old,tpz)\n",
    "end\n",
    "function adjust_radial_symm_val(g_value1,g_value2,rnew_ij,r2_ij,fnew_ij,f2_ij,η)\n",
    "    \n",
    "    delta_g = calc_one_symm_val(rnew_ij,fnew_ij,η) - calc_one_symm_val(r2_ij,f2_ij,η)\n",
    "    \n",
    "    g_value1 += delta_g\n",
    "    g_value2 += delta_g\n",
    "    return g_value1,g_value2\n",
    "end\n",
    "\n",
    "function calc_new_symmetry_value(g_vector,indices,newpos,position1,position2,position3,rnew_ij,rnew_ik,r2_ij,r2_ik,r2_jk,fnew_ij,fnew_ik,f_ij,f_ik,f_jk,η,λ,ζ,tpz)\n",
    "\n",
    "    θ_old_vec,θ_new_vec = all_angular_measure(newpos,position2,position3,rnew_ij,rnew_ik,r2_jk),all_angular_measure(position1,position2,position3,r2_ij,r2_ik,r2_jk)\n",
    "    exp_old,exp_new = exponential_part(η,rnew_ij,rnew_ik,r2_jk,fnew_ij,fnew_ik,f_jk),exponential_part(η,r2_ij,r2_ik,r2_jk,f_ij,f_ik,f_jk)\n",
    "\n",
    "    for (θ_old,θ_new,index) in zip(θ_old_vec,θ_new_vec,indices)\n",
    "        g_vector[index] = adjust_symm_val!(g_vector[index],exp_old,exp_new,θ_old,θ_new,λ,ζ,tpz)\n",
    "    end\n",
    "\n",
    "    return g_vector\n",
    "end\n",
    "function calc_new_symmetry_value(g_vector,indexi,indexj,indexk,newpos,positions,dist2_mat,new_dist2_vec,f_mat,new_f_vec,η,λ,ζ,tpz )\n",
    "\n",
    "    return calc_new_symmetry_value(g_vector,[indexi,indexj,indexk],newpos,positions[indexi],positions[indexj],positions[indexk],new_dist2_vec[indexj],new_dist2_vec[indexk], dist2_mat[indexi,indexj],dist2_mat[indexi,indexk],dist2_mat[indexj,indexk],new_f_vec[indexj],new_f_vec[indexk],f_mat[indexi,indexj],f_mat[indexi,indexk],f_mat[indexj,indexk],η,λ,ζ,tpz)\n",
    "end\n",
    "function calc_new_symmetry_value(g_vector,indexi,indexj,positions,newpos,dist2_mat,new_dist_vec,f_mat,new_f_vec,η)\n",
    "    g_vector[indexi],g_vector[indexj] = adjust_radial_symm_val(g_vector[indexi],g_vector[indexj],new_dist_vec[indexj],dist2_mat[indexi,indexj],new_f_vec[indexj],f_mat[indexi,indexj],η)\n",
    "    \n",
    "    return g_vector\n",
    "end"
   ]
  },
  {
   "cell_type": "code",
   "execution_count": 33,
   "metadata": {},
   "outputs": [
    {
     "data": {
      "text/plain": [
       "55-element Vector{Float64}:\n",
       " -0.06368813970058035\n",
       " -0.04737292664180842\n",
       " -0.029440145758675762\n",
       "  0.0\n",
       "  0.0\n",
       "  0.0\n",
       "  0.0\n",
       "  0.0\n",
       "  0.0\n",
       "  0.0\n",
       "  ⋮\n",
       "  0.0\n",
       "  0.0\n",
       "  0.0\n",
       "  0.0\n",
       "  0.0\n",
       "  0.0\n",
       "  0.0\n",
       "  0.0\n",
       "  0.0"
      ]
     },
     "metadata": {},
     "output_type": "display_data"
    }
   ],
   "source": [
    "calc_new_symmetry_value(zeros(55),3,2,1,newpos,positions,dis2mat,new_dis_vec,f_mat,new_f_vec,angularsymmvec[1].eta,angularsymmvec[1].lambda,angularsymmvec[1].zeta,angularsymmvec[1].tpz )"
   ]
  },
  {
   "cell_type": "code",
   "execution_count": 34,
   "metadata": {},
   "outputs": [
    {
     "data": {
      "text/plain": [
       "BenchmarkTools.Trial: 10000 samples with 1 evaluation.\n",
       " Range \u001b[90m(\u001b[39m\u001b[36m\u001b[1mmin\u001b[22m\u001b[39m … \u001b[35mmax\u001b[39m\u001b[90m):  \u001b[39m\u001b[36m\u001b[1m174.910 μs\u001b[22m\u001b[39m … \u001b[35m  5.361 ms\u001b[39m  \u001b[90m┊\u001b[39m GC \u001b[90m(\u001b[39mmin … max\u001b[90m): \u001b[39m 0.00% … 94.12%\n",
       " Time  \u001b[90m(\u001b[39m\u001b[34m\u001b[1mmedian\u001b[22m\u001b[39m\u001b[90m):     \u001b[39m\u001b[34m\u001b[1m191.976 μs               \u001b[22m\u001b[39m\u001b[90m┊\u001b[39m GC \u001b[90m(\u001b[39mmedian\u001b[90m):    \u001b[39m 0.00%\n",
       " Time  \u001b[90m(\u001b[39m\u001b[32m\u001b[1mmean\u001b[22m\u001b[39m ± \u001b[32mσ\u001b[39m\u001b[90m):   \u001b[39m\u001b[32m\u001b[1m253.710 μs\u001b[22m\u001b[39m ± \u001b[32m446.937 μs\u001b[39m  \u001b[90m┊\u001b[39m GC \u001b[90m(\u001b[39mmean ± σ\u001b[90m):  \u001b[39m16.26% ±  8.81%\n",
       "\n",
       "  \u001b[39m▅\u001b[39m▇\u001b[39m█\u001b[39m█\u001b[39m▇\u001b[34m▆\u001b[39m\u001b[39m▆\u001b[39m▆\u001b[39m▅\u001b[39m▅\u001b[39m▄\u001b[39m▄\u001b[39m▃\u001b[39m▂\u001b[39m▂\u001b[39m▁\u001b[39m▁\u001b[39m \u001b[39m \u001b[39m \u001b[39m \u001b[39m \u001b[32m \u001b[39m\u001b[39m \u001b[39m \u001b[39m \u001b[39m \u001b[39m \u001b[39m \u001b[39m \u001b[39m \u001b[39m \u001b[39m \u001b[39m \u001b[39m \u001b[39m \u001b[39m \u001b[39m \u001b[39m \u001b[39m \u001b[39m▁\u001b[39m▂\u001b[39m▂\u001b[39m▃\u001b[39m▂\u001b[39m▃\u001b[39m▂\u001b[39m▂\u001b[39m▁\u001b[39m▁\u001b[39m▁\u001b[39m \u001b[39m \u001b[39m \u001b[39m \u001b[39m \u001b[39m \u001b[39m \u001b[39m \u001b[39m \u001b[39m \u001b[39m \u001b[39m▂\n",
       "  \u001b[39m█\u001b[39m█\u001b[39m█\u001b[39m█\u001b[39m█\u001b[34m█\u001b[39m\u001b[39m█\u001b[39m█\u001b[39m█\u001b[39m█\u001b[39m█\u001b[39m█\u001b[39m█\u001b[39m█\u001b[39m█\u001b[39m█\u001b[39m█\u001b[39m█\u001b[39m█\u001b[39m█\u001b[39m█\u001b[39m█\u001b[32m█\u001b[39m\u001b[39m█\u001b[39m█\u001b[39m▇\u001b[39m▇\u001b[39m▇\u001b[39m▇\u001b[39m█\u001b[39m▇\u001b[39m▆\u001b[39m▆\u001b[39m▆\u001b[39m▇\u001b[39m▇\u001b[39m▇\u001b[39m▆\u001b[39m▆\u001b[39m▇\u001b[39m█\u001b[39m█\u001b[39m█\u001b[39m█\u001b[39m█\u001b[39m█\u001b[39m█\u001b[39m█\u001b[39m█\u001b[39m█\u001b[39m█\u001b[39m█\u001b[39m▇\u001b[39m█\u001b[39m▆\u001b[39m▅\u001b[39m▇\u001b[39m▆\u001b[39m▅\u001b[39m▅\u001b[39m▄\u001b[39m \u001b[39m█\n",
       "  175 μs\u001b[90m        \u001b[39m\u001b[90mHistogram: \u001b[39m\u001b[90m\u001b[1mlog(\u001b[22m\u001b[39m\u001b[90mfrequency\u001b[39m\u001b[90m\u001b[1m)\u001b[22m\u001b[39m\u001b[90m by time\u001b[39m        393 μs \u001b[0m\u001b[1m<\u001b[22m\n",
       "\n",
       " Memory estimate\u001b[90m: \u001b[39m\u001b[33m783.16 KiB\u001b[39m, allocs estimate\u001b[90m: \u001b[39m\u001b[33m10020\u001b[39m."
      ]
     },
     "metadata": {},
     "output_type": "display_data"
    }
   ],
   "source": [
    "function symm_calculation(g_vector,atomindex,newpos,positions,dist2_mat,new_dis_vec,f_mat,new_f_vec,symmetry_function::RadialType2)\n",
    "\n",
    "    if symmetry_function.type_vec == [1.,1.]\n",
    "        η = symmetry_function.eta\n",
    "        for index2 in eachindex(g_vector)\n",
    "            if index2 != atomindex\n",
    "                g_vector = calc_new_symmetry_value(g_vector,atomindex,index2,positions,newpos,dist2_mat,new_dis_vec,f_mat,new_f_vec,η)\n",
    "            end\n",
    "        end\n",
    "    end\n",
    "    return g_vector\n",
    "end\n",
    "function symm_calculation(g_vector,atomindex,newpos,positions,dist2_mat,new_dis_vec,f_mat,new_f_vec,symmetry_function::AngularType3)\n",
    "\n",
    "    N = length(g_vector)  \n",
    "    if symmetry_function.type_vec == [1.,1.,1.]\n",
    "        η,λ,ζ,tpz = symmetry_function.eta,symmetry_function.lambda,symmetry_function.zeta,symmetry_function.tpz\n",
    "        for j_index in 1:N \n",
    "            if j_index != atomindex\n",
    "                for k_index in j_index+1:N\n",
    "                    if k_index != atomindex\n",
    "                        g_vector = calc_new_symmetry_value(g_vector,atomindex,j_index,k_index,newpos,positions,dist2_mat,new_dis_vec,f_mat,new_f_vec,η,λ,ζ,tpz)\n",
    "                    end\n",
    "                end\n",
    "            end\n",
    "        end\n",
    "    end\n",
    "\n",
    "    return g_vector\n",
    "end\n",
    "\n",
    "symm_calculation(zeros(55),3,newpos,positions,dis2mat,new_dis_vec,f_mat,new_f_vec,angularsymmvec[1])\n",
    "\n",
    "@benchmark symm_calculation($zeros(55),$3,$newpos,$positions,$dis2mat,$new_dis_vec,$f_mat,$new_f_vec,$angularsymmvec[1])"
   ]
  },
  {
   "cell_type": "code",
   "execution_count": 35,
   "metadata": {},
   "outputs": [
    {
     "data": {
      "text/plain": [
       "total_symm_ (generic function with 1 method)"
      ]
     },
     "metadata": {},
     "output_type": "display_data"
    }
   ],
   "source": [
    "function total_symm_(g_mat,positions,new_pos,dist2_mat,new_dist_vec,f_mat,new_f_vec,atomindex,total_symm_vec)\n",
    "    for g_index in eachindex(total_symm_vec)\n",
    "        g_mat[g_index,:] = symm_calculation(g_mat[g_index,:],atomindex,newpos,positions,dist2_mat,new_dis_vec,f_mat,new_f_vec,total_symm_vec[g_index])\n",
    "    end\n",
    "    return g_mat\n",
    "end"
   ]
  },
  {
   "cell_type": "code",
   "execution_count": 36,
   "metadata": {},
   "outputs": [
    {
     "data": {
      "text/plain": [
       "88×55 transpose(::Matrix{Any}) with eltype Any:\n",
       " 14.6407       11.9666       11.9666       …  7.45537      5.69954\n",
       "  0.0           0.0           0.0             0.0          0.0\n",
       "  7.16978       6.36224       6.36224         3.92888      2.94156\n",
       "  0.0           0.0           0.0             0.0          0.0\n",
       "  4.52421       4.14311       4.14311         2.54596      1.91555\n",
       "  0.0           0.0           0.0          …  0.0          0.0\n",
       "  0.972533      0.857168      0.857168        0.508399     0.410771\n",
       "  0.0           0.0           0.0             0.0          0.0\n",
       "  0.00179489    0.00117603    0.00117603      0.000528536  0.000557398\n",
       "  0.0           0.0           0.0             0.0          0.0\n",
       "  ⋮                                        ⋱               \n",
       "  0.00742548    0.00500205    0.00500205      0.00192165   0.00165975\n",
       "  0.0           0.0           0.0          …  0.0          0.0\n",
       "  0.0           0.0           0.0             0.0          0.0\n",
       "  0.000947854   0.000598351   0.000598351     0.000182036  0.00013714\n",
       "  0.0           0.0           0.0             0.0          0.0\n",
       "  0.0           0.0           0.0             0.0          0.0\n",
       "  0.0254414     0.021925      0.021925     …  0.0105009    0.00765187\n",
       "  0.0           0.0           0.0             0.0          0.0\n",
       "  0.0           0.0           0.0             0.0          0.0"
      ]
     },
     "metadata": {},
     "output_type": "display_data"
    }
   ],
   "source": [
    "truevals"
   ]
  },
  {
   "cell_type": "code",
   "execution_count": 40,
   "metadata": {},
   "outputs": [
    {
     "data": {
      "text/plain": [
       "88×55 Matrix{Float64}:\n",
       " 14.6407        11.9666        11.9666      …     7.45537         5.69954\n",
       "  0.0            0.0            0.0               0.0             0.0\n",
       "  7.16978        6.36224        6.36224           3.92888         2.94156\n",
       "  0.0            0.0            0.0               0.0             0.0\n",
       "  4.52421        4.14311        4.14311           2.54596         1.91555\n",
       "  0.0            0.0            0.0         …     0.0             0.0\n",
       "  0.972533       0.857168       0.857168          0.508399        0.410771\n",
       "  0.0            0.0            0.0               0.0             0.0\n",
       "  0.00179489     0.00117603     0.00117603        0.000528536     0.000557398\n",
       "  0.0            0.0            0.0               0.0             0.0\n",
       "  ⋮                                         ⋱                  \n",
       " 26.9775      -274.288       -274.288          -719.154        -861.241\n",
       "  0.0            0.0            0.0         …     0.0             0.0\n",
       "  0.0            0.0            0.0               0.0             0.0\n",
       " 13.4944      -137.14        -137.14           -359.575        -430.619\n",
       "  0.0            0.0            0.0               0.0             0.0\n",
       "  0.0            0.0            0.0               0.0             0.0\n",
       " 13.5056      -137.131       -137.131       …  -359.571        -430.616\n",
       "  0.0            0.0            0.0               0.0             0.0\n",
       "  0.0            0.0            0.0               0.0             0.0"
      ]
     },
     "metadata": {},
     "output_type": "display_data"
    }
   ],
   "source": [
    "xmat = total_calculation(positions,dis2mat,f_mat,total_symm_vec)"
   ]
  },
  {
   "cell_type": "code",
   "execution_count": 22,
   "metadata": {},
   "outputs": [
    {
     "data": {
      "text/plain": [
       "BenchmarkTools.Trial: 724 samples with 1 evaluation.\n",
       " Range \u001b[90m(\u001b[39m\u001b[36m\u001b[1mmin\u001b[22m\u001b[39m … \u001b[35mmax\u001b[39m\u001b[90m):  \u001b[39m\u001b[36m\u001b[1m4.916 ms\u001b[22m\u001b[39m … \u001b[35m12.434 ms\u001b[39m  \u001b[90m┊\u001b[39m GC \u001b[90m(\u001b[39mmin … max\u001b[90m): \u001b[39m 0.00% … 41.53%\n",
       " Time  \u001b[90m(\u001b[39m\u001b[34m\u001b[1mmedian\u001b[22m\u001b[39m\u001b[90m):     \u001b[39m\u001b[34m\u001b[1m5.594 ms              \u001b[22m\u001b[39m\u001b[90m┊\u001b[39m GC \u001b[90m(\u001b[39mmedian\u001b[90m):    \u001b[39m 0.00%\n",
       " Time  \u001b[90m(\u001b[39m\u001b[32m\u001b[1mmean\u001b[22m\u001b[39m ± \u001b[32mσ\u001b[39m\u001b[90m):   \u001b[39m\u001b[32m\u001b[1m6.907 ms\u001b[22m\u001b[39m ± \u001b[32m 2.555 ms\u001b[39m  \u001b[90m┊\u001b[39m GC \u001b[90m(\u001b[39mmean ± σ\u001b[90m):  \u001b[39m15.94% ± 17.55%\n",
       "\n",
       "  \u001b[39m \u001b[39m▃\u001b[39m█\u001b[39m▄\u001b[39m▁\u001b[34m▁\u001b[39m\u001b[39m▂\u001b[39m \u001b[39m \u001b[39m \u001b[39m \u001b[39m \u001b[39m \u001b[39m \u001b[39m \u001b[39m \u001b[32m \u001b[39m\u001b[39m \u001b[39m \u001b[39m \u001b[39m \u001b[39m \u001b[39m \u001b[39m \u001b[39m \u001b[39m \u001b[39m \u001b[39m \u001b[39m \u001b[39m \u001b[39m \u001b[39m \u001b[39m \u001b[39m \u001b[39m \u001b[39m \u001b[39m \u001b[39m \u001b[39m \u001b[39m \u001b[39m \u001b[39m \u001b[39m \u001b[39m \u001b[39m \u001b[39m \u001b[39m \u001b[39m \u001b[39m \u001b[39m \u001b[39m \u001b[39m \u001b[39m \u001b[39m \u001b[39m \u001b[39m \u001b[39m \u001b[39m \u001b[39m \u001b[39m \n",
       "  \u001b[39m▃\u001b[39m█\u001b[39m█\u001b[39m█\u001b[39m█\u001b[34m█\u001b[39m\u001b[39m█\u001b[39m▆\u001b[39m▃\u001b[39m▂\u001b[39m▃\u001b[39m▃\u001b[39m▂\u001b[39m▃\u001b[39m▃\u001b[39m▂\u001b[32m▂\u001b[39m\u001b[39m▂\u001b[39m▂\u001b[39m▂\u001b[39m▂\u001b[39m▁\u001b[39m▁\u001b[39m▁\u001b[39m▁\u001b[39m▁\u001b[39m▁\u001b[39m▁\u001b[39m▁\u001b[39m▁\u001b[39m▁\u001b[39m▁\u001b[39m▁\u001b[39m▁\u001b[39m▁\u001b[39m▁\u001b[39m▁\u001b[39m▂\u001b[39m▂\u001b[39m▂\u001b[39m▂\u001b[39m▃\u001b[39m▃\u001b[39m▃\u001b[39m▃\u001b[39m▂\u001b[39m▂\u001b[39m▂\u001b[39m▂\u001b[39m▂\u001b[39m▃\u001b[39m▃\u001b[39m▃\u001b[39m▄\u001b[39m▄\u001b[39m▅\u001b[39m▃\u001b[39m▄\u001b[39m \u001b[39m▃\n",
       "  4.92 ms\u001b[90m        Histogram: frequency by time\u001b[39m        12.2 ms \u001b[0m\u001b[1m<\u001b[22m\n",
       "\n",
       " Memory estimate\u001b[90m: \u001b[39m\u001b[33m19.92 MiB\u001b[39m, allocs estimate\u001b[90m: \u001b[39m\u001b[33m260618\u001b[39m."
      ]
     },
     "metadata": {},
     "output_type": "display_data"
    }
   ],
   "source": [
    "@benchmark total_symm_($g_mat,$positions,$newpos,$dis2mat,$new_dis_vec,$f_mat,$new_f_vec,$3,$total_symm_vec)"
   ]
  },
  {
   "cell_type": "code",
   "execution_count": 23,
   "metadata": {},
   "outputs": [],
   "source": []
  }
 ],
 "metadata": {
  "kernelspec": {
   "display_name": "Julia 1.8.5",
   "language": "julia",
   "name": "julia-1.8"
  },
  "language_info": {
   "file_extension": ".jl",
   "mimetype": "application/julia",
   "name": "julia",
   "version": "1.8.5"
  },
  "orig_nbformat": 4
 },
 "nbformat": 4,
 "nbformat_minor": 2
}
